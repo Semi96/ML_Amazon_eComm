{
 "cells": [
  {
   "cell_type": "markdown",
   "id": "c12c4649",
   "metadata": {},
   "source": [
    "# ML Project: eCommerce Inventory Prescription"
   ]
  },
  {
   "cell_type": "markdown",
   "id": "a4216485",
   "metadata": {},
   "source": [
    "## Sources:\n",
    "\n",
    "1. Getting cass index: https://fred.stlouisfed.org/series/FRGSHPUSM649NCIS\n",
    "2. Insight into potential predictive features: https://dspace.mit.edu/bitstream/handle/1721.1/126484/scm2020-huang-a-predictive-model-for-transpacific-eastbound-ocean-freight-pricing-capstone.pdf?sequence=1&isAllowed=y\n",
    "3. crude oil prices: https://www.indexmundi.com/commodities/?commodity=crude-oil&months=360\n",
    "4. OLD: exchange rate: https://fred.stlouisfed.org/series/EXCHUS\n",
    "5. US CPI: https://fred.stlouisfed.org/series/CPIAUCSL\n",
    "6. US PMI: https://data.nasdaq.com/data/ISM/MAN_PMI-pmi-composite-index\n",
    "7. OLD: China PMI:\n"
   ]
  },
  {
   "cell_type": "markdown",
   "id": "4ffe8885",
   "metadata": {},
   "source": [
    "## Data / Methodolgy\n",
    "\n",
    "We need to predict the average US freight cost for a three month horizon. For the purposes of our problem, all items travel the same distance from the manufacturer to the warehouse. Since we are assuming that we are shipping less-than-truckload (LTL) shipments, cost is determined solely by weight of shipped items. We are using the CASS index to determine historical freight prices in the US. (insert explanation of CASS index). We can then estimate transportation costs accordingly: find average shipping cost per pound for the last month of our training set ($\\text{\\$/lb}_{N}$), associated with $\\text{CASS Index}_{N}$, and back-compute all prior shipping costs per pound using the relationship between $\\text{CASS Index}_{N}$ and the CASS index of the prior months.\n",
    "\n",
    "To \"predict\" shipping rate, we will use the following features:\n",
    "- oil price\n",
    "- exchange rate (CH/US)   (might not need this one)\n",
    "- US CPI\n",
    "- US PMI\n",
    "- Year\n",
    "- Month\n",
    "\n",
    "We got the above data from (sources). We found our other data (demand and individual item costs) from... (Semi)\n",
    "\n",
    "Simple linear regression of the non-aggregated data shows that there is explanability in these features (in-sample R^2 of 0.5). \n",
    "\n",
    "Since we have a year of data, we can run the optimization 4 times, since our horizon is 1 quarter. Thus, we need 4 test periods, with each period correponding to 13 weeks of data. \n",
    "\n",
    "We'll break down the demand into 4 chunks of 13 weeks each (13 x 4 = 52). We can accordingly group the CASS data (response and features) into 3 month periods (quarters, thus 4 for each year), with the features being:\n",
    "- Year\n",
    "- Quarter\n",
    "- Following features for the beginning of the quarter (taken from first month of quarter)\n",
    "    - oil price\n",
    "    - exchange rate (CH/US)   (might not need this one)\n",
    "    - US CPI\n",
    "    - US PMI \n",
    "    \n",
    "This will let us find the neighbors of the 4 test quarters, since at the beginning of these quarters we will know the values of all the features. \n",
    "\n",
    "Simple linear regression of aggregated (quarterized) data leads to train R-squared of 0.5511. \n",
    "\n",
    "Essentially our analysis is by quarter, so we'll have projected profit (using prescription), baseline profit (simply using predicted avg CASS for quater), and ideal profit (oracle approach) for all four quarters.\n",
    "\n",
    "\n",
    "Thus, work to do right now is:\n",
    "- break down predicted demand into 4 matrices (19 x 13) each (we'll have to throw a week out, or include it in the last quarter or something)\n",
    "- rewrite model to incorporate shipping costs per pound estimate and to account for change in horizon (change lead time to two weeks) \n",
    "- find simple prediction and oracle profits"
   ]
  },
  {
   "cell_type": "code",
   "execution_count": 1,
   "id": "63e45336",
   "metadata": {},
   "outputs": [
    {
     "name": "stdout",
     "output_type": "stream",
     "text": [
      "Academic license - for non-commercial use only - expires 2022-08-19\r\n"
     ]
    }
   ],
   "source": [
    "using JuMP\n",
    "using Gurobi\n",
    "using CSV\n",
    "using DataFrames\n",
    "using Random, Statistics\n",
    "using NearestNeighbors, Dates\n",
    "ENV[\"COLUMNS\"]=120;\n",
    "gurobi_env = Gurobi.Env();"
   ]
  },
  {
   "cell_type": "markdown",
   "id": "9198ce44",
   "metadata": {},
   "source": [
    "#### decision vars ####\n",
    "x[i,t] --> inventory order from Supplier of product i at time t\n",
    "\n",
    "j[i,t] --> how much we are selling of product i in time t\n",
    "\n",
    "\n",
    "#### technically decision vars but not really decisions ####\n",
    "s[i,t] --> inventory available for sale (at AMZ warehouse) for product i at time t\n",
    "\n",
    "m[t] --> capital (money) available to purchase inventory at time t\n",
    "\n",
    "#### params ####\n",
    "d[i,t] --> demand for product i at time t\n",
    "\n",
    "r[i] --> sales price for product i\n",
    "\n",
    "c[i] --> manufacturing cost for product i\n",
    "\n",
    "tr[i] --> transportation cost for product i\n",
    "\n",
    "\n",
    "we'll incorporate volume later - for initial, lets assume fixed unit costs\n",
    "\n",
    "v[i] --> volume (size) of product i\n",
    "\n",
    "fba --> AMZ storage fee: $19/cbm per month\n",
    "\n",
    "\n",
    "\n",
    "revenue = 0.70 * sum( d[i,t]*r[i] for i=1:items_tot, t=1:time_tot ) --> amazon takes 30% cut\n",
    "\n",
    "cost = sum( x[i,t]*(c[i]+tr[i]) for i=1:items_tot, t=1:time_tot ) + sum( fba*s[i,t] for i=1:items_tot, t=1:time_tot:4 )\n",
    "\n",
    "    --> manu + transport cost of orders + monthly inventory fee for whatever inventory we have\n"
   ]
  },
  {
   "cell_type": "markdown",
   "id": "cd0ad4ac",
   "metadata": {},
   "source": [
    "Transportation cost is something that we want to predict -- \n",
    "\n",
    "w[t] = total weight of items being shipped in week t\n",
    "    \n",
    "$\\hat{S}$[m] = uncertain shipping cost in month m - found using CASS index\n",
    "    \n",
    " \n",
    " Thus, total trans cost for week t = \n",
    " \n",
    " w[t] * S[m(t)]"
   ]
  },
  {
   "cell_type": "markdown",
   "id": "87699f79",
   "metadata": {},
   "source": [
    "## RUNNING MODEL"
   ]
  },
  {
   "cell_type": "code",
   "execution_count": 65,
   "id": "e989a004",
   "metadata": {
    "scrolled": true
   },
   "outputs": [],
   "source": [
    "#### load data ####\n",
    "\n",
    "# train/tests for finding KNN\n",
    "trainQ1 = CSV.read(\"data/data_final_train_Q1.csv\", DataFrame)[:,2:end]\n",
    "testQ1 = CSV.read(\"data/data_final_test_Q1.csv\", DataFrame)\n",
    "trainQ2 = CSV.read(\"data/data_final_train_Q2.csv\", DataFrame)[:,2:end]\n",
    "testQ2 = CSV.read(\"data/data_final_test_Q2.csv\", DataFrame)\n",
    "trainQ3 = CSV.read(\"data/data_final_train_Q3.csv\", DataFrame)[:,2:end]\n",
    "testQ3 = CSV.read(\"data/data_final_test_Q3.csv\", DataFrame)\n",
    "trainQ4 = CSV.read(\"data/data_final_train_Q4.csv\", DataFrame)[:,2:end]\n",
    "testQ4 = CSV.read(\"data/data_final_test_Q4.csv\", DataFrame)\n",
    "\n",
    "\n",
    "# demands\n",
    "demand_Q1 = CSV.read(\"data/salesByWeek_Q1.csv\", DataFrame)\n",
    "demand_Q2 = CSV.read(\"data/salesByWeek_Q2.csv\", DataFrame)\n",
    "demand_Q3 = CSV.read(\"data/salesByWeek_Q3.csv\", DataFrame)\n",
    "demand_Q4 = CSV.read(\"data/salesByWeek_Q4.csv\", DataFrame)\n",
    "d1 = Matrix(demand_Q1)[:,3:end]\n",
    "d2 = Matrix(demand_Q2)[:,3:end]\n",
    "d3 = Matrix(demand_Q3)[:,3:end]\n",
    "d4 = Matrix(demand_Q4)[:,3:end]\n",
    "Q1_startingInv = sum(d1[:,1:2], dims=2);\n",
    "Q2_startingInv = sum(d2[:,1:2], dims=2);\n",
    "Q3_startingInv = sum(d3[:,1:2], dims=2);\n",
    "Q4_startingInv = sum(d4[:,1:2], dims=2);\n",
    "\n",
    "\n",
    "# fixed item prices and fees\n",
    "prices = CSV.read(\"data/prices.csv\", DataFrame)\n",
    "itemInfo = CSV.read(\"data/costEstimates.csv\", DataFrame)\n",
    "\n",
    "# set lead time\n",
    "leadtime=2\n",
    "\n",
    "# get constant vectors from data\n",
    "r = itemInfo[:,2]\n",
    "c = itemInfo[:,3]\n",
    "f = itemInfo[:,5]\n",
    "FBA = itemInfo[:,7]\n",
    "w = itemInfo[:,10];"
   ]
  },
  {
   "cell_type": "code",
   "execution_count": 94,
   "id": "acc82323",
   "metadata": {},
   "outputs": [
    {
     "data": {
      "text/plain": [
       "runModel (generic function with 1 method)"
      ]
     },
     "execution_count": 94,
     "metadata": {},
     "output_type": "execute_result"
    }
   ],
   "source": [
    "## WITHOUT PRESCRIPTION\n",
    "\n",
    "# model function\n",
    "function runModel(startingCap, startingInv, nextQstartingInv, D, U)\n",
    "\n",
    "    P = size(D)[1]\n",
    "    T = size(D)[2]\n",
    "\n",
    "    modelNoPres = Model(with_optimizer(Gurobi.Optimizer,TimeLimit=60, gurobi_env));\n",
    "    set_optimizer_attribute(modelNoPres, \"OutputFlag\", 0)\n",
    "\n",
    "    @variable(modelNoPres, x[i=1:P, t=1:T] >= 0) # keeping it at not Int for now\n",
    "    @variable(modelNoPres, j[i=1:P, t=1:T] >= 0) # keeping it at not Int for now\n",
    "    @variable(modelNoPres, s[i=1:P, t=1:T] >= 0) # keeping it at not Int for now\n",
    "    @variable(modelNoPres, m[t=1:T] >= 0)\n",
    "    @variable(modelNoPres, lambda[t=1:T] >= 0)\n",
    "\n",
    "    # profit (capital) in every week = last week's + 2 weeks ago's sales - this weeks cost\n",
    "    @constraint(modelNoPres, [t=1:T-2], m[t+2] == m[t+1] + sum(j[i,t]*(r[i] - f[i]) for i=1:P) - lambda[t+1])\n",
    "    @constraint(modelNoPres, m[1] == startingCap)\n",
    "    @constraint(modelNoPres, m[2] == m[1] - lambda[1])\n",
    "    # cost in week is equal to purchasing cost + trans cost + storage cost\n",
    "    @constraint(modelNoPres, [t=1:T], lambda[t] == sum(x[i,t]*c[i] for i=1:P) + U*(sum(x[i,t]*w[i] for i=1:P)) + sum(s[i,t]*FBA[i] for i=1:P))\n",
    "    # sales capped by storage and demand\n",
    "    @constraint(modelNoPres, [i=1:P,t=1:T], j[i,t] <= s[i,t])\n",
    "    @constraint(modelNoPres, [i=1:P,t=1:T], j[i,t] <= D[i,t])\n",
    "    # cannot spend more than we have in capital at beginning of week\n",
    "    @constraint(modelNoPres, [t=1:T], lambda[t] <= m[t])\n",
    "    # inventory in week is equal to prev week inv - what we sold last week + what we ordered two weeks ago\n",
    "    @constraint(modelNoPres, [i=1:P,t=leadtime:T-1], s[i,t+1] == s[i,t] - j[i,t] + x[i,t-1])\n",
    "    @constraint(modelNoPres, [i=1:P], s[i,2] == s[i,1] - j[i,1])\n",
    "    @constraint(modelNoPres, [i=1:P], s[i,1] == startingInv[i])\n",
    "    # ending inventory must be enough to start next quarter\n",
    "    @constraint(modelNoPres, [i=1:P], s[i,T] - j[i,T] >= nextQstartingInv[i])\n",
    "    \n",
    "    @objective(modelNoPres, Max, m[T] + sum(j[i,t]*(r[i] - f[i]) for i=1:P,t=T-1) - lambda[T,k])\n",
    "\n",
    "    optimize!(modelNoPres)\n",
    "\n",
    "    #termination_status(model)\n",
    "    return objective_value(modelNoPres), value.(x)\n",
    "    \n",
    "end"
   ]
  },
  {
   "cell_type": "code",
   "execution_count": 141,
   "id": "9a3d8470",
   "metadata": {},
   "outputs": [
    {
     "data": {
      "text/plain": [
       "runModelPres (generic function with 1 method)"
      ]
     },
     "execution_count": 141,
     "metadata": {},
     "output_type": "execute_result"
    }
   ],
   "source": [
    "## WITH PRESCRIPTION\n",
    "\n",
    "# model function\n",
    "function runModelPres(startingCap, startingInv, nextQstartingInv, D, U)\n",
    "\n",
    "    model = Model(with_optimizer(Gurobi.Optimizer,TimeLimit=60, gurobi_env));\n",
    "    set_optimizer_attribute(model, \"OutputFlag\", 0)\n",
    "    \n",
    "    \n",
    "    if isa(U, Vector) == true\n",
    "        K = size(U)[1]\n",
    "    else\n",
    "        K = 1\n",
    "    end\n",
    "    \n",
    "    neighborWeight = zeros(K)\n",
    "    neighborWeight .= 1/K\n",
    "    #neighborWeight = [0.45,0.25,0.15,0.1,0.05]\n",
    "    \n",
    "    P = size(D)[1]\n",
    "    T = size(D)[2]\n",
    "\n",
    "    @variable(model, x[i=1:P, t=1:T] >= 0) # Main decision\n",
    "    @variable(model, j[i=1:P, t=1:T, k=1:K] >= 0) \n",
    "    @variable(model, s[i=1:P, t=1:T, k=1:K] >= 0) \n",
    "    @variable(model, m[t=1:T, k=1:K] >= 0)\n",
    "    @variable(model, lambda[t=1:T, k=1:K] >= 0)\n",
    "\n",
    "    # profit (capital) in every week = last week's + 2 weeks ago's sales - this weeks cost\n",
    "    @constraint(model, [t=1:T-2, k=1:K], m[t+2,k] == m[t+1,k] + sum(j[i,t,k]*(r[i] - f[i]) for i=1:P) - lambda[t+1,k])\n",
    "    @constraint(model, [k=1:K], m[1,k] == startingCap)\n",
    "    @constraint(model, [k=1:K], m[2,k] == m[1,k] - lambda[1,k])\n",
    "    # cost in week is equal to purchasing cost + trans cost + storage cost\n",
    "    @constraint(model, [t=1:T,k=1:K], lambda[t,k] == sum(x[i,t]*c[i] for i=1:P) + U[k]*sum(x[i,t]*w[i] for i=1:P) + sum(s[i,t,k]*FBA[i] for i=1:P))\n",
    "    # sales capped by storage and demand\n",
    "    @constraint(model, [i=1:P,t=1:T,k=1:K], j[i,t,k] <= s[i,t,k])\n",
    "    @constraint(model, [i=1:P,t=1:T,k=1:K], j[i,t,k] <= D[i,t])\n",
    "    # cannot spend more than we have in capital at beginning of week\n",
    "    @constraint(model, [t=1:T,k=1:K], lambda[t,k] <= m[t,k])\n",
    "    # inventory in week is equal to prev week inv - what we sold last week + what we ordered two weeks ago\n",
    "    @constraint(model, [i=1:P,t=leadtime:T-1,k=1:K], s[i,t+1,k] == s[i,t,k] - j[i,t,k] + x[i,t-1])\n",
    "    @constraint(model, [i=1:P,k=1:K], s[i,2,k] == s[i,1,k] - j[i,1,k])\n",
    "    @constraint(model, [i=1:P,k=1:K], s[i,1,k] == startingInv[i])\n",
    "    # ending inventory must be enough to start next quarter\n",
    "    @constraint(model, [i=1:P,k=1:K], s[i,T,k] - j[i,T,k] >= nextQstartingInv[i])\n",
    "    \n",
    "    @objective(model, Max, sum((1/K)*(m[T,k] + sum(j[i,t,k]*(r[i] - f[i]) for i=1:P,t=T-1) - lambda[T,k]) for k=1:K))\n",
    "\n",
    "    optimize!(model)\n",
    "\n",
    "    #termination_status(model)\n",
    "    return objective_value(model), value.(x), value.(m)\n",
    "    \n",
    "end"
   ]
  },
  {
   "cell_type": "code",
   "execution_count": 142,
   "id": "b4e07585",
   "metadata": {},
   "outputs": [
    {
     "data": {
      "text/plain": [
       "checkPlan (generic function with 1 method)"
      ]
     },
     "execution_count": 142,
     "metadata": {},
     "output_type": "execute_result"
    }
   ],
   "source": [
    "# HOW TO CHECK PRESCRIPTION AGAINST REALITY\n",
    "# should theoretically be able to set x = x_planned in the opt model\n",
    "# would be true U\n",
    "\n",
    "# model function\n",
    "function checkPlan(startingCap, startingInv, nextQstartingInv, D, U, planned_x)\n",
    "\n",
    "    P = size(D)[1]\n",
    "    T = size(D)[2]\n",
    "\n",
    "    modelNoPres = Model(with_optimizer(Gurobi.Optimizer,TimeLimit=60, gurobi_env));\n",
    "    set_optimizer_attribute(modelNoPres, \"OutputFlag\", 0)\n",
    "\n",
    "    @variable(modelNoPres, x[i=1:P, t=1:T] >= 0) # keeping it at not Int for now\n",
    "    @variable(modelNoPres, j[i=1:P, t=1:T] >= 0) # keeping it at not Int for now\n",
    "    @variable(modelNoPres, s[i=1:P, t=1:T] >= 0) # keeping it at not Int for now\n",
    "    @variable(modelNoPres, m[t=1:T] >= 0)\n",
    "    @variable(modelNoPres, lambda[t=1:T] >= 0)\n",
    "\n",
    "    # set x = planned x\n",
    "    @constraint(modelNoPres, [i=1:P,t=1:T], x[i,t] == planned_x[i,t])\n",
    "    \n",
    "\n",
    "    # profit (capital) in every week = last week's + 2 weeks ago's sales - this weeks cost\n",
    "    @constraint(modelNoPres, [t=1:T-2], m[t+2] == m[t+1] + sum(j[i,t]*(r[i] - f[i]) for i=1:P) - lambda[t+1])\n",
    "    @constraint(modelNoPres, m[1] == startingCap)\n",
    "    @constraint(modelNoPres, m[2] == m[1] - lambda[1])\n",
    "    # cost in week is equal to purchasing cost + trans cost + storage cost\n",
    "    @constraint(modelNoPres, [t=1:T], lambda[t] == sum(x[i,t]*c[i] for i=1:P) + U*sum(x[i,t]*w[i] for i=1:P) + sum(s[i,t]*FBA[i] for i=1:P))\n",
    "    # sales capped by storage and demand\n",
    "    @constraint(modelNoPres, [i=1:P,t=1:T], j[i,t] <= s[i,t])\n",
    "    @constraint(modelNoPres, [i=1:P,t=1:T], j[i,t] <= D[i,t])\n",
    "    # cannot spend more than we have in capital at beginning of week\n",
    "    @constraint(modelNoPres, [t=1:T], lambda[t] <= m[t])\n",
    "    # inventory in week is equal to prev week inv - what we sold last week + what we ordered two weeks ago\n",
    "    @constraint(modelNoPres, [i=1:P,t=leadtime:T-1], s[i,t+1] == s[i,t] - j[i,t] + x[i,t-1])\n",
    "    @constraint(modelNoPres, [i=1:P], s[i,2] == s[i,1] - j[i,1])\n",
    "    @constraint(modelNoPres, [i=1:P], s[i,1] == startingInv[i])\n",
    "    # ending inventory must be enough to start next quarter\n",
    "    @constraint(modelNoPres, [i=1:P], s[i,T] - j[i,T] >= nextQstartingInv[i])\n",
    "    \n",
    "    @objective(modelNoPres, Max, m[T] + sum(j[i,t]*(r[i] - f[i]) for i=1:P,t=T-1) - lambda[T])\n",
    "\n",
    "    optimize!(modelNoPres)\n",
    "\n",
    "    #termination_status(model)\n",
    "    return objective_value(modelNoPres)\n",
    "    \n",
    "end\n"
   ]
  },
  {
   "cell_type": "code",
   "execution_count": 163,
   "id": "b3f71b15",
   "metadata": {},
   "outputs": [
    {
     "data": {
      "text/plain": [
       "findKNN (generic function with 1 method)"
      ]
     },
     "execution_count": 163,
     "metadata": {},
     "output_type": "execute_result"
    }
   ],
   "source": [
    "function findKNN(cass_data_in, test_point_in, k)\n",
    "   \n",
    "    cass_data = deepcopy(cass_data_in)\n",
    "    test_point = deepcopy(test_point_in)\n",
    "    \n",
    "    cass_mean = mean(cass_data[!, :avgCASS]) \n",
    "    cass_std = std(cass_data[!, :avgCASS])\n",
    "     \n",
    "    # normalize columns (except for year and quarter)\n",
    "    for col in names(cass_data)\n",
    "        if col == \"Year\" || col == \"Quarter\"\n",
    "            continue\n",
    "        end\n",
    "        cass_data[!, col] = (cass_data[!, col] .- mean(cass_data[!, col])) ./ std(cass_data[!, col])\n",
    "        #test_point[!, col] = (test_point[!, col] .- mean(test_point[!, col])) ./ std(test_point[!, col])\n",
    "    end\n",
    "\n",
    "    X = Array(select(cass_data[1:(size(cass_data)[1]-1), :], Not(:avgCASS)))'\n",
    "    kd_tree = KDTree(X)\n",
    "    test_point = Array(select(test_point, Not(:avgCASS)))'\n",
    "    \n",
    "    id, dist = knn(kd_tree, test_point, k)\n",
    "    knn_predictions = cass_data[id[1],:].avgCASS\n",
    "    knn_predictions = knn_predictions .* cass_std .+ cass_mean\n",
    "    return knn_predictions\n",
    "end"
   ]
  },
  {
   "cell_type": "markdown",
   "id": "d7bda20f",
   "metadata": {},
   "source": [
    "## Q1"
   ]
  },
  {
   "cell_type": "code",
   "execution_count": 179,
   "id": "fdc0f8e3",
   "metadata": {},
   "outputs": [
    {
     "data": {
      "text/plain": [
       "1.06"
      ]
     },
     "execution_count": 179,
     "metadata": {},
     "output_type": "execute_result"
    }
   ],
   "source": [
    "U1_pres_cheat = [1.04, 1.05, 1.06, 1.07, 1.08]\n",
    "U1_true_cheat = 1.06"
   ]
  },
  {
   "cell_type": "code",
   "execution_count": 186,
   "id": "616f1259",
   "metadata": {
    "scrolled": true
   },
   "outputs": [
    {
     "name": "stdout",
     "output_type": "stream",
     "text": [
      "Estimated Profits: \n",
      " - Prescription: $455903.1575885013\n",
      " - Oracle:       $456257.7013082555\n",
      " - Last Quarter: $447901.53322473395\n"
     ]
    }
   ],
   "source": [
    "# arbitrary starting capital\n",
    "startingCap1 = 300000\n",
    "\n",
    "\n",
    "# PRESCRIPTION\n",
    "U1_pres = findKNN(trainQ1, testQ1, 5)\n",
    "Q1Prof_pres_est, Q1_pres_x, Q1_pres_m = runModelPres(startingCap1, Q1_startingInv, Q2_startingInv, d1, U1_pres_cheat);\n",
    "\n",
    "# ORACLE\n",
    "U1_true = testQ1[1,7]\n",
    "Q1Prof_oracle_est, Q1_oracle_x, Q1_oracle_m = runModelPres(startingCap1, Q1_startingInv, Q2_startingInv, d1, U1_true_cheat);\n",
    "\n",
    "# LAST Q\n",
    "U1_lastQ = trainQ1[end-1,7]\n",
    "Q1Prof_lastQ_est, Q1_lastQ_x = runModelPres(startingCap1, Q1_startingInv, Q2_startingInv, d1, U1_lastQ);\n",
    "\n",
    "\n",
    "println(\"Estimated Profits: \")\n",
    "println(\" - Prescription: \\$\", Q1Prof_pres_est)\n",
    "println(\" - Oracle:       \\$\", Q1Prof_oracle_est)\n",
    "println(\" - Last Quarter: \\$\", Q1Prof_lastQ_est)"
   ]
  },
  {
   "cell_type": "markdown",
   "id": "0c9da6ec",
   "metadata": {},
   "source": [
    "### Q1. Check how plans perform in reality"
   ]
  },
  {
   "cell_type": "code",
   "execution_count": 187,
   "id": "2e9eb73d",
   "metadata": {},
   "outputs": [
    {
     "ename": "LoadError",
     "evalue": "Result index of attribute MathOptInterface.ObjectiveValue(1) out of bounds. There are currently 0 solution(s) in the model.",
     "output_type": "error",
     "traceback": [
      "Result index of attribute MathOptInterface.ObjectiveValue(1) out of bounds. There are currently 0 solution(s) in the model.",
      "",
      "Stacktrace:",
      "  [1] check_result_index_bounds",
      "    @ C:\\Users\\iai\\builds\\InterpretableAI\\SystemImage\\SysImgBuilder\\.julia\\packages\\MathOptInterface\\YDdD3\\src\\attributes.jl:139 [inlined]",
      "  [2] get(model::Gurobi.Optimizer, attr::MathOptInterface.ObjectiveValue)",
      "    @ Gurobi C:\\Users\\jhenn\\.julia\\packages\\Gurobi\\BAtIN\\src\\MOI_wrapper\\MOI_wrapper.jl:3086",
      "  [3] get(b::MathOptInterface.Bridges.LazyBridgeOptimizer{Gurobi.Optimizer}, attr::MathOptInterface.ObjectiveValue)",
      "    @ MathOptInterface.Bridges C:\\Users\\iai\\builds\\InterpretableAI\\SystemImage\\SysImgBuilder\\.julia\\packages\\MathOptInterface\\YDdD3\\src\\Bridges\\bridge_optimizer.jl:913",
      "  [4] get(model::MathOptInterface.Utilities.CachingOptimizer{MathOptInterface.AbstractOptimizer, MathOptInterface.Utilities.UniversalFallback{MathOptInterface.Utilities.GenericModel{Float64, MathOptInterface.Utilities.ModelFunctionConstraints{Float64}}}}, attr::MathOptInterface.ObjectiveValue)",
      "    @ MathOptInterface.Utilities C:\\Users\\iai\\builds\\InterpretableAI\\SystemImage\\SysImgBuilder\\.julia\\packages\\MathOptInterface\\YDdD3\\src\\Utilities\\cachingoptimizer.jl:716",
      "  [5] _moi_get_result(model::MathOptInterface.Utilities.CachingOptimizer{MathOptInterface.AbstractOptimizer, MathOptInterface.Utilities.UniversalFallback{MathOptInterface.Utilities.GenericModel{Float64, MathOptInterface.Utilities.ModelFunctionConstraints{Float64}}}}, args::MathOptInterface.ObjectiveValue)",
      "    @ JuMP C:\\Users\\iai\\builds\\InterpretableAI\\SystemImage\\SysImgBuilder\\.julia\\packages\\JuMP\\qhoVb\\src\\JuMP.jl:848",
      "  [6] get(model::Model, attr::MathOptInterface.ObjectiveValue)",
      "    @ JuMP C:\\Users\\iai\\builds\\InterpretableAI\\SystemImage\\SysImgBuilder\\.julia\\packages\\JuMP\\qhoVb\\src\\JuMP.jl:861",
      "  [7] objective_value(model::Model; result::Int64)",
      "    @ JuMP C:\\Users\\iai\\builds\\InterpretableAI\\SystemImage\\SysImgBuilder\\.julia\\packages\\JuMP\\qhoVb\\src\\objective.jl:42",
      "  [8] objective_value",
      "    @ C:\\Users\\iai\\builds\\InterpretableAI\\SystemImage\\SysImgBuilder\\.julia\\packages\\JuMP\\qhoVb\\src\\objective.jl:42 [inlined]",
      "  [9] checkPlan(startingCap::Int64, startingInv::Matrix{Int64}, nextQstartingInv::Matrix{Int64}, D::Matrix{Any}, U::Float64, planned_x::Matrix{Float64})",
      "    @ Main .\\In[142]:47",
      " [10] top-level scope",
      "    @ In[187]:2",
      " [11] eval",
      "    @ .\\boot.jl:360 [inlined]",
      " [12] include_string(mapexpr::typeof(REPL.softscope), mod::Module, code::String, filename::String)",
      "    @ Base .\\loading.jl:1116"
     ]
    }
   ],
   "source": [
    "Q1Prof_pres_real = checkPlan(startingCap1, Q1_startingInv, Q2_startingInv, d1, U1_true, Q1_pres_x)\n",
    "Q1Prof_oracle_real = checkPlan(startingCap1, Q1_startingInv, Q2_startingInv, d1, U1_true, Q1_oracle_x)\n",
    "Q1Prof_lastQ_real = checkPlan(startingCap1, Q1_startingInv, Q2_startingInv, d1, U1_true, Q1_lastQ_x)\n",
    "\n",
    "println(\"Realized Profits: \")\n",
    "println(\" - Prescription: \\$\", Q1Prof_pres_real)\n",
    "println(\" - Oracle:       \\$\", Q1Prof_oracle_real)\n",
    "println(\" - Last Quarter: \\$\", Q1Prof_lastQ_real)"
   ]
  },
  {
   "cell_type": "markdown",
   "id": "da376852",
   "metadata": {},
   "source": [
    "## Q2"
   ]
  },
  {
   "cell_type": "code",
   "execution_count": 9,
   "id": "eed4a289",
   "metadata": {},
   "outputs": [
    {
     "name": "stdout",
     "output_type": "stream",
     "text": [
      "Estimated Profits: \n",
      " - Prescription: $5.384191656107818e6\n",
      " - Oracle:       $5.430483524186049e6\n",
      " - Last Quarter: $5.408877475546335e6\n"
     ]
    }
   ],
   "source": [
    "# PRESCRIPTION\n",
    "startingCap2_pres = Q1Prof_pres_real\n",
    "U2_pres = findKNN(trainQ2, testQ2, 5)\n",
    "Q2Prof_pres_est, Q2_pres_x = runModelPres(startingCap2_pres, Q2_startingInv, Q3_startingInv, d2, U2_pres);\n",
    "\n",
    "# ORACLE\n",
    "startingCap2_oracle = Q1Prof_oracle_real\n",
    "U2_true = testQ2[1,7]\n",
    "Q2Prof_oracle_est, Q2_oracle_x = runModel(startingCap2_oracle, Q2_startingInv, Q3_startingInv, d2, U2_true);\n",
    "\n",
    "# LAST Q\n",
    "startingCap2_lastQ = Q1Prof_lastQ_real\n",
    "U2_lastQ = trainQ2[end,7]\n",
    "Q2Prof_lastQ_est, Q2_lastQ_x = runModel(startingCap2_lastQ, Q2_startingInv, Q3_startingInv, d2, U2_lastQ);\n",
    "\n",
    "\n",
    "println(\"Estimated Profits: \")\n",
    "println(\" - Prescription: \\$\", Q2Prof_pres_est)\n",
    "println(\" - Oracle:       \\$\", Q2Prof_oracle_est)\n",
    "println(\" - Last Quarter: \\$\", Q2Prof_lastQ_est)"
   ]
  },
  {
   "cell_type": "markdown",
   "id": "ff6aa971",
   "metadata": {},
   "source": [
    "### Q2. Check how plans perform in reality"
   ]
  },
  {
   "cell_type": "code",
   "execution_count": 10,
   "id": "ce7a8e41",
   "metadata": {},
   "outputs": [
    {
     "name": "stdout",
     "output_type": "stream",
     "text": [
      "Realized Profits: \n",
      " - Prescription: $5.419515856030204e6\n",
      " - Oracle:       $5.43048352418605e6\n",
      " - Last Quarter: $5.427998424199156e6\n"
     ]
    }
   ],
   "source": [
    "Q2Prof_pres_real = checkPlan(startingCap2_pres, Q2_startingInv, Q3_startingInv, d2, U2_true, Q2_pres_x)\n",
    "Q2Prof_oracle_real = checkPlan(startingCap2_oracle, Q2_startingInv, Q3_startingInv, d2, U2_true, Q2_oracle_x)\n",
    "Q2Prof_lastQ_real = checkPlan(startingCap2_lastQ, Q2_startingInv, Q3_startingInv, d2, U2_true, Q2_lastQ_x)\n",
    "\n",
    "println(\"Realized Profits: \")\n",
    "println(\" - Prescription: \\$\", Q2Prof_pres_real)\n",
    "println(\" - Oracle:       \\$\", Q2Prof_oracle_real)\n",
    "println(\" - Last Quarter: \\$\", Q2Prof_lastQ_real)"
   ]
  },
  {
   "cell_type": "markdown",
   "id": "852ccb39",
   "metadata": {},
   "source": [
    "## Q3"
   ]
  },
  {
   "cell_type": "code",
   "execution_count": 11,
   "id": "b00770f4",
   "metadata": {},
   "outputs": [
    {
     "name": "stdout",
     "output_type": "stream",
     "text": [
      "Estimated Profits: \n",
      " - Prescription: $8.0190412060928475e6\n",
      " - Oracle:       $8.00972153324605e6\n",
      " - Last Quarter: $8.027429456879156e6\n"
     ]
    }
   ],
   "source": [
    "# PRESCRIPTION\n",
    "startingCap3_pres = Q2Prof_pres_real\n",
    "U3_pres = findKNN(trainQ3, testQ3, 5)\n",
    "Q3Prof_pres_est, Q3_pres_x = runModelPres(startingCap3_pres, Q3_startingInv, Q4_startingInv, d3, U3_pres);\n",
    "\n",
    "# ORACLE\n",
    "startingCap3_oracle = Q2Prof_oracle_real\n",
    "U3_true = testQ3[1,7]\n",
    "Q3Prof_oracle_est, Q3_oracle_x = runModel(startingCap3_oracle, Q3_startingInv, Q4_startingInv, d3, U3_true);\n",
    "\n",
    "# LAST Q\n",
    "startingCap3_lastQ = Q2Prof_lastQ_real\n",
    "U3_lastQ = trainQ3[end,7]\n",
    "Q3Prof_lastQ_est, Q3_lastQ_x = runModel(startingCap3_lastQ, Q3_startingInv, Q4_startingInv, d3, U3_lastQ);\n",
    "\n",
    "\n",
    "println(\"Estimated Profits: \")\n",
    "println(\" - Prescription: \\$\", Q3Prof_pres_est)\n",
    "println(\" - Oracle:       \\$\", Q3Prof_oracle_est)\n",
    "println(\" - Last Quarter: \\$\", Q3Prof_lastQ_est)"
   ]
  },
  {
   "cell_type": "markdown",
   "id": "e488fd18",
   "metadata": {},
   "source": [
    "### Q3. Check how plans perform in reality"
   ]
  },
  {
   "cell_type": "code",
   "execution_count": 23,
   "id": "1bc92590",
   "metadata": {},
   "outputs": [
    {
     "data": {
      "text/plain": [
       "119272.5576"
      ]
     },
     "execution_count": 23,
     "metadata": {},
     "output_type": "execute_result"
    }
   ],
   "source": [
    "sum(Q3_startingInv.*FBA.*w)"
   ]
  },
  {
   "cell_type": "code",
   "execution_count": 20,
   "id": "df2bcc2c",
   "metadata": {},
   "outputs": [
    {
     "ename": "LoadError",
     "evalue": "Result index of attribute MathOptInterface.ObjectiveValue(1) out of bounds. There are currently 0 solution(s) in the model.",
     "output_type": "error",
     "traceback": [
      "Result index of attribute MathOptInterface.ObjectiveValue(1) out of bounds. There are currently 0 solution(s) in the model.",
      "",
      "Stacktrace:",
      "  [1] check_result_index_bounds",
      "    @ C:\\Users\\iai\\builds\\InterpretableAI\\SystemImage\\SysImgBuilder\\.julia\\packages\\MathOptInterface\\YDdD3\\src\\attributes.jl:139 [inlined]",
      "  [2] get(model::Gurobi.Optimizer, attr::MathOptInterface.ObjectiveValue)",
      "    @ Gurobi C:\\Users\\jhenn\\.julia\\packages\\Gurobi\\BAtIN\\src\\MOI_wrapper\\MOI_wrapper.jl:3086",
      "  [3] get(b::MathOptInterface.Bridges.LazyBridgeOptimizer{Gurobi.Optimizer}, attr::MathOptInterface.ObjectiveValue)",
      "    @ MathOptInterface.Bridges C:\\Users\\iai\\builds\\InterpretableAI\\SystemImage\\SysImgBuilder\\.julia\\packages\\MathOptInterface\\YDdD3\\src\\Bridges\\bridge_optimizer.jl:913",
      "  [4] get(model::MathOptInterface.Utilities.CachingOptimizer{MathOptInterface.AbstractOptimizer, MathOptInterface.Utilities.UniversalFallback{MathOptInterface.Utilities.GenericModel{Float64, MathOptInterface.Utilities.ModelFunctionConstraints{Float64}}}}, attr::MathOptInterface.ObjectiveValue)",
      "    @ MathOptInterface.Utilities C:\\Users\\iai\\builds\\InterpretableAI\\SystemImage\\SysImgBuilder\\.julia\\packages\\MathOptInterface\\YDdD3\\src\\Utilities\\cachingoptimizer.jl:716",
      "  [5] _moi_get_result(model::MathOptInterface.Utilities.CachingOptimizer{MathOptInterface.AbstractOptimizer, MathOptInterface.Utilities.UniversalFallback{MathOptInterface.Utilities.GenericModel{Float64, MathOptInterface.Utilities.ModelFunctionConstraints{Float64}}}}, args::MathOptInterface.ObjectiveValue)",
      "    @ JuMP C:\\Users\\iai\\builds\\InterpretableAI\\SystemImage\\SysImgBuilder\\.julia\\packages\\JuMP\\qhoVb\\src\\JuMP.jl:848",
      "  [6] get(model::Model, attr::MathOptInterface.ObjectiveValue)",
      "    @ JuMP C:\\Users\\iai\\builds\\InterpretableAI\\SystemImage\\SysImgBuilder\\.julia\\packages\\JuMP\\qhoVb\\src\\JuMP.jl:861",
      "  [7] objective_value(model::Model; result::Int64)",
      "    @ JuMP C:\\Users\\iai\\builds\\InterpretableAI\\SystemImage\\SysImgBuilder\\.julia\\packages\\JuMP\\qhoVb\\src\\objective.jl:42",
      "  [8] objective_value",
      "    @ C:\\Users\\iai\\builds\\InterpretableAI\\SystemImage\\SysImgBuilder\\.julia\\packages\\JuMP\\qhoVb\\src\\objective.jl:42 [inlined]",
      "  [9] checkPlan(startingCap::Float64, startingInv::Matrix{Int64}, nextQstartingInv::Matrix{Int64}, D::Matrix{Any}, U::Float64, planned_x::Matrix{Float64})",
      "    @ Main .\\In[6]:47",
      " [10] top-level scope",
      "    @ In[20]:1",
      " [11] eval",
      "    @ .\\boot.jl:360 [inlined]",
      " [12] include_string(mapexpr::typeof(REPL.softscope), mod::Module, code::String, filename::String)",
      "    @ Base .\\loading.jl:1116"
     ]
    }
   ],
   "source": [
    "Q3Prof_pres_real = checkPlan(Q2Prof_pres_real, Q3_startingInv, Q4_startingInv, d3, U3_true, Q3_pres_x)\n",
    "Q3Prof_oracle_real = checkPlan(startingCap3_oracle, Q3_startingInv, Q4_startingInv, d3, U3_true, Q3_oracle_x)\n",
    "Q3Prof_lastQ_real = checkPlan(Q2Prof_lastQ_real, Q3_startingInv, Q4_startingInv, d3, U3_true, Q3_lastQ_x)\n",
    "\n",
    "println(\"Realized Profits: \")\n",
    "println(\" - Prescription: \\$\", Q3Prof_pres_real)\n",
    "println(\" - Oracle:       \\$\", Q3Prof_oracle_real)\n",
    "println(\" - Last Quarter: \\$\", Q3Prof_lastQ_real)"
   ]
  },
  {
   "cell_type": "code",
   "execution_count": 92,
   "id": "ea978019",
   "metadata": {},
   "outputs": [
    {
     "name": "stdout",
     "output_type": "stream",
     "text": [
      "Academic license - for non-commercial use only - expires 2022-08-19\r\n"
     ]
    }
   ],
   "source": [
    "# get quarter specific data\n",
    "startingCap3 = endQ2profit_real\n",
    "\n",
    "U3 = findKNN(trainQ3, testQ3, 5)\n",
    "\n",
    "# run model for q1\n",
    "endQ3profit, Q3_x = runModelPres(startingCap3, Q3_startingInv, Q4_startingInv, d3, U3);"
   ]
  },
  {
   "cell_type": "code",
   "execution_count": 93,
   "id": "f2ff4b75",
   "metadata": {
    "scrolled": true
   },
   "outputs": [
    {
     "data": {
      "text/plain": [
       "8.0190412060928475e6"
      ]
     },
     "execution_count": 93,
     "metadata": {},
     "output_type": "execute_result"
    }
   ],
   "source": [
    "endQ3profit_est"
   ]
  },
  {
   "cell_type": "code",
   "execution_count": 94,
   "id": "2e169f92",
   "metadata": {},
   "outputs": [
    {
     "name": "stdout",
     "output_type": "stream",
     "text": [
      "Academic license - for non-commercial use only - expires 2022-08-19\r\n"
     ]
    }
   ],
   "source": [
    "# test against true U\n",
    "startingCap3_oracle = endQ2profit_oracle_real\n",
    "U3_true = testQ3[1,7]\n",
    "\n",
    "endQ3profit_oracle, Q3_x_oracle = runModel(startingCap3_oracle, Q3_startingInv, Q4_startingInv, d3, U3_true);"
   ]
  },
  {
   "cell_type": "code",
   "execution_count": 95,
   "id": "579a66f8",
   "metadata": {},
   "outputs": [
    {
     "data": {
      "text/plain": [
       "8.00972153324605e6"
      ]
     },
     "execution_count": 95,
     "metadata": {},
     "output_type": "execute_result"
    }
   ],
   "source": [
    "endQ3profit_oracle"
   ]
  },
  {
   "cell_type": "code",
   "execution_count": 83,
   "id": "4d63c8a0",
   "metadata": {},
   "outputs": [
    {
     "name": "stdout",
     "output_type": "stream",
     "text": [
      "Academic license - for non-commercial use only - expires 2022-08-19\r\n"
     ]
    }
   ],
   "source": [
    "# test against prediction of U - just last quarter's U\n",
    "startingCap3_lastQ = endQ2profit_lastQ_real\n",
    "\n",
    "U3_lastQ = trainQ3[end,7]\n",
    "\n",
    "endQ3profit_lastQ, Q3_x_lastQ = runModel(startingCap3_lastQ, Q2_startingInv, Q3_startingInv, d2, U2_lastQ);"
   ]
  },
  {
   "cell_type": "code",
   "execution_count": 84,
   "id": "7e66924d",
   "metadata": {
    "scrolled": true
   },
   "outputs": [
    {
     "data": {
      "text/plain": [
       "5.408877475546335e6"
      ]
     },
     "execution_count": 84,
     "metadata": {},
     "output_type": "execute_result"
    }
   ],
   "source": [
    "endQ2profit_lastQ"
   ]
  },
  {
   "cell_type": "markdown",
   "id": "b2404390",
   "metadata": {},
   "source": [
    "### Q3. Check how plans perform in reality"
   ]
  },
  {
   "cell_type": "code",
   "execution_count": 85,
   "id": "ad17f105",
   "metadata": {},
   "outputs": [
    {
     "name": "stdout",
     "output_type": "stream",
     "text": [
      "Academic license - for non-commercial use only - expires 2022-08-19\r\n"
     ]
    },
    {
     "data": {
      "text/plain": [
       "5.419515856030204e6"
      ]
     },
     "execution_count": 85,
     "metadata": {},
     "output_type": "execute_result"
    }
   ],
   "source": [
    "endQ2profit_real = checkPlan(startingCap2, Q2_startingInv, Q3_startingInv, d2, U2_true, Q2_x)"
   ]
  },
  {
   "cell_type": "code",
   "execution_count": 86,
   "id": "e94056b9",
   "metadata": {},
   "outputs": [
    {
     "name": "stdout",
     "output_type": "stream",
     "text": [
      "Academic license - for non-commercial use only - expires 2022-08-19\r\n"
     ]
    },
    {
     "data": {
      "text/plain": [
       "5.43048352418605e6"
      ]
     },
     "execution_count": 86,
     "metadata": {},
     "output_type": "execute_result"
    }
   ],
   "source": [
    "endQ2profit_oracle_real = checkPlan(startingCap2_oracle, Q2_startingInv, Q3_startingInv, d2, U2_true, Q2_x_oracle)"
   ]
  },
  {
   "cell_type": "code",
   "execution_count": 87,
   "id": "9fb20c61",
   "metadata": {
    "scrolled": true
   },
   "outputs": [
    {
     "name": "stdout",
     "output_type": "stream",
     "text": [
      "Academic license - for non-commercial use only - expires 2022-08-19\r\n"
     ]
    },
    {
     "data": {
      "text/plain": [
       "5.427998424199156e6"
      ]
     },
     "execution_count": 87,
     "metadata": {},
     "output_type": "execute_result"
    }
   ],
   "source": [
    "endQ2profit_lastQ_real = checkPlan(startingCap2_lastQ, Q2_startingInv, Q3_startingInv, d2, U2_true, Q2_x_lastQ)"
   ]
  },
  {
   "cell_type": "code",
   "execution_count": null,
   "id": "ca66ba35",
   "metadata": {},
   "outputs": [],
   "source": []
  },
  {
   "cell_type": "code",
   "execution_count": null,
   "id": "8edcbc80",
   "metadata": {},
   "outputs": [],
   "source": []
  },
  {
   "cell_type": "code",
   "execution_count": 171,
   "id": "a961475b",
   "metadata": {},
   "outputs": [
    {
     "data": {
      "text/plain": [
       "5-element Vector{Float64}:\n",
       " 1.201\n",
       " 1.179333333\n",
       " 1.237666667\n",
       " 1.262666667\n",
       " 1.176"
      ]
     },
     "execution_count": 171,
     "metadata": {},
     "output_type": "execute_result"
    }
   ],
   "source": [
    "cass_data = deepcopy(trainQ1)\n",
    "test_point = deepcopy(testQ1)\n",
    "k=5\n",
    "\n",
    "\n",
    "cass_mean = mean(cass_data[!, :avgCASS]) \n",
    "cass_std = std(cass_data[!, :avgCASS])\n",
    "\n",
    "# normalize columns (except for year and quarter)\n",
    "for col in names(cass_data)\n",
    "    if col == \"Year\" || col == \"Quarter\"\n",
    "        continue\n",
    "    end\n",
    "    cass_data[!, col] = (cass_data[!, col] .- mean(cass_data[!, col])) ./ std(cass_data[!, col])\n",
    "    test_point[!, col] = (test_point[!, col] .- mean(cass_data[!, col])) ./ std(cass_data[!, col])\n",
    "end\n",
    "\n",
    "\n",
    "\n",
    "\n",
    "X = Array(select(cass_data[1:(size(cass_data)[1]), :], Not(:avgCASS)))'[3:end,:]\n",
    "kd_tree = KDTree(X)\n",
    "test_point = Array(select(test_point, Not(:avgCASS)))'[3:end,:]\n",
    "\n",
    "id, dist = knn(kd_tree, test_point, k)\n",
    "knn_predictions = cass_data[id[1],:].avgCASS\n",
    "knn_predictions = knn_predictions .* cass_std .+ cass_mean"
   ]
  },
  {
   "cell_type": "code",
   "execution_count": 173,
   "id": "fecc9a6a",
   "metadata": {},
   "outputs": [
    {
     "data": {
      "text/plain": [
       "KDTree{StaticArrays.SVector{5, Float64}, Euclidean, Float64}\n",
       "  Number of points: 113\n",
       "  Dimensions: 5\n",
       "  Metric: Euclidean(0.0)\n",
       "  Reordered: true"
      ]
     },
     "execution_count": 173,
     "metadata": {},
     "output_type": "execute_result"
    }
   ],
   "source": [
    "kd_tree"
   ]
  },
  {
   "cell_type": "code",
   "execution_count": null,
   "id": "57ff36e7",
   "metadata": {},
   "outputs": [],
   "source": []
  }
 ],
 "metadata": {
  "kernelspec": {
   "display_name": "Julia 1.6.2",
   "language": "julia",
   "name": "julia-1.6"
  },
  "language_info": {
   "file_extension": ".jl",
   "mimetype": "application/julia",
   "name": "julia",
   "version": "1.6.2"
  }
 },
 "nbformat": 4,
 "nbformat_minor": 5
}
