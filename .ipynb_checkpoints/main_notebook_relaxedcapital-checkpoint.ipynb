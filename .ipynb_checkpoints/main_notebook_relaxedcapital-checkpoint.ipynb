{
 "cells": [
  {
   "cell_type": "markdown",
   "id": "c12c4649",
   "metadata": {},
   "source": [
    "# ML Project: eCommerce Inventory Prescription"
   ]
  },
  {
   "cell_type": "markdown",
   "id": "a4216485",
   "metadata": {},
   "source": [
    "## Sources:\n",
    "\n",
    "1. Getting cass index: https://fred.stlouisfed.org/series/FRGSHPUSM649NCIS\n",
    "2. Insight into potential predictive features: https://dspace.mit.edu/bitstream/handle/1721.1/126484/scm2020-huang-a-predictive-model-for-transpacific-eastbound-ocean-freight-pricing-capstone.pdf?sequence=1&isAllowed=y\n",
    "3. crude oil prices: https://www.indexmundi.com/commodities/?commodity=crude-oil&months=360\n",
    "4. OLD: exchange rate: https://fred.stlouisfed.org/series/EXCHUS\n",
    "5. US CPI: https://fred.stlouisfed.org/series/CPIAUCSL\n",
    "6. US PMI: https://data.nasdaq.com/data/ISM/MAN_PMI-pmi-composite-index\n",
    "7. OLD: China PMI:\n"
   ]
  },
  {
   "cell_type": "markdown",
   "id": "4ffe8885",
   "metadata": {},
   "source": [
    "## Data / Methodolgy\n",
    "\n",
    "We need to predict the average US freight cost for a three month horizon. For the purposes of our problem, all items travel the same distance from the manufacturer to the warehouse. Since we are assuming that we are shipping less-than-truckload (LTL) shipments, cost is determined solely by weight of shipped items. We are using the CASS index to determine historical freight prices in the US. (insert explanation of CASS index). We can then estimate transportation costs accordingly: find average shipping cost per pound for the last month of our training set ($\\text{\\$/lb}_{N}$), associated with $\\text{CASS Index}_{N}$, and back-compute all prior shipping costs per pound using the relationship between $\\text{CASS Index}_{N}$ and the CASS index of the prior months.\n",
    "\n",
    "To \"predict\" shipping rate, we will use the following features:\n",
    "- oil price\n",
    "- exchange rate (CH/US)   (might not need this one)\n",
    "- US CPI\n",
    "- US PMI\n",
    "- Year\n",
    "- Month\n",
    "\n",
    "We got the above data from (sources). We found our other data (demand and individual item costs) from... (Semi)\n",
    "\n",
    "Simple linear regression of the non-aggregated data shows that there is explanability in these features (in-sample R^2 of 0.5). \n",
    "\n",
    "Since we have a year of data, we can run the optimization 4 times, since our horizon is 1 quarter. Thus, we need 4 test periods, with each period correponding to 13 weeks of data. \n",
    "\n",
    "We'll break down the demand into 4 chunks of 13 weeks each (13 x 4 = 52). We can accordingly group the CASS data (response and features) into 3 month periods (quarters, thus 4 for each year), with the features being:\n",
    "- Year\n",
    "- Quarter\n",
    "- Following features for the beginning of the quarter (taken from first month of quarter)\n",
    "    - oil price\n",
    "    - exchange rate (CH/US)   (might not need this one)\n",
    "    - US CPI\n",
    "    - US PMI \n",
    "    \n",
    "This will let us find the neighbors of the 4 test quarters, since at the beginning of these quarters we will know the values of all the features. \n",
    "\n",
    "Simple linear regression of aggregated (quarterized) data leads to train R-squared of 0.5511. \n",
    "\n",
    "Essentially our analysis is by quarter, so we'll have projected profit (using prescription), baseline profit (simply using predicted avg CASS for quater), and ideal profit (oracle approach) for all four quarters.\n",
    "\n",
    "\n",
    "Thus, work to do right now is:\n",
    "- break down predicted demand into 4 matrices (19 x 13) each (we'll have to throw a week out, or include it in the last quarter or something)\n",
    "- rewrite model to incorporate shipping costs per pound estimate and to account for change in horizon (change lead time to two weeks) \n",
    "- find simple prediction and oracle profits"
   ]
  },
  {
   "cell_type": "code",
   "execution_count": 175,
   "id": "63e45336",
   "metadata": {},
   "outputs": [
    {
     "name": "stdout",
     "output_type": "stream",
     "text": [
      "Academic license - for non-commercial use only - expires 2022-08-19\r\n"
     ]
    }
   ],
   "source": [
    "using JuMP\n",
    "using Gurobi\n",
    "using CSV\n",
    "using DataFrames\n",
    "using Random, Statistics\n",
    "using NearestNeighbors, Dates\n",
    "ENV[\"COLUMNS\"]=120;\n",
    "gurobi_env = Gurobi.Env();"
   ]
  },
  {
   "cell_type": "markdown",
   "id": "9198ce44",
   "metadata": {},
   "source": [
    "#### decision vars ####\n",
    "x[i,t] --> inventory order from Supplier of product i at time t\n",
    "\n",
    "j[i,t] --> how much we are selling of product i in time t\n",
    "\n",
    "\n",
    "#### technically decision vars but not really decisions ####\n",
    "s[i,t] --> inventory available for sale (at AMZ warehouse) for product i at time t\n",
    "\n",
    "m[t] --> capital (money) available to purchase inventory at time t\n",
    "\n",
    "#### params ####\n",
    "d[i,t] --> demand for product i at time t\n",
    "\n",
    "r[i] --> sales price for product i\n",
    "\n",
    "c[i] --> manufacturing cost for product i\n",
    "\n",
    "tr[i] --> transportation cost for product i\n",
    "\n",
    "\n",
    "we'll incorporate volume later - for initial, lets assume fixed unit costs\n",
    "\n",
    "v[i] --> volume (size) of product i\n",
    "\n",
    "fba --> AMZ storage fee: $19/cbm per month\n",
    "\n",
    "\n",
    "\n",
    "revenue = 0.70 * sum( d[i,t]*r[i] for i=1:items_tot, t=1:time_tot ) --> amazon takes 30% cut\n",
    "\n",
    "cost = sum( x[i,t]*(c[i]+tr[i]) for i=1:items_tot, t=1:time_tot ) + sum( fba*s[i,t] for i=1:items_tot, t=1:time_tot:4 )\n",
    "\n",
    "    --> manu + transport cost of orders + monthly inventory fee for whatever inventory we have\n"
   ]
  },
  {
   "cell_type": "markdown",
   "id": "cd0ad4ac",
   "metadata": {},
   "source": [
    "Transportation cost is something that we want to predict -- \n",
    "\n",
    "w[t] = total weight of items being shipped in week t\n",
    "    \n",
    "$\\hat{S}$[m] = uncertain shipping cost in month m - found using CASS index\n",
    "    \n",
    " \n",
    " Thus, total trans cost for week t = \n",
    " \n",
    " w[t] * S[m(t)]"
   ]
  },
  {
   "cell_type": "markdown",
   "id": "87699f79",
   "metadata": {},
   "source": [
    "## RUNNING MODEL"
   ]
  },
  {
   "cell_type": "code",
   "execution_count": 176,
   "id": "e989a004",
   "metadata": {
    "scrolled": true
   },
   "outputs": [],
   "source": [
    "#### load data ####\n",
    "\n",
    "# train/tests for finding KNN\n",
    "trainQ1 = CSV.read(\"data/data_final_train_Q1.csv\", DataFrame)[:,2:end]\n",
    "testQ1 = CSV.read(\"data/data_final_test_Q1.csv\", DataFrame)\n",
    "trainQ2 = CSV.read(\"data/data_final_train_Q2.csv\", DataFrame)[:,2:end]\n",
    "testQ2 = CSV.read(\"data/data_final_test_Q2.csv\", DataFrame)\n",
    "trainQ3 = CSV.read(\"data/data_final_train_Q3.csv\", DataFrame)[:,2:end]\n",
    "testQ3 = CSV.read(\"data/data_final_test_Q3.csv\", DataFrame)\n",
    "trainQ4 = CSV.read(\"data/data_final_train_Q4.csv\", DataFrame)[:,2:end]\n",
    "testQ4 = CSV.read(\"data/data_final_test_Q4.csv\", DataFrame)\n",
    "\n",
    "\n",
    "# demands\n",
    "demand_Q1 = CSV.read(\"data/salesByWeek_Q1.csv\", DataFrame)\n",
    "demand_Q2 = CSV.read(\"data/salesByWeek_Q2.csv\", DataFrame)\n",
    "demand_Q3 = CSV.read(\"data/salesByWeek_Q3.csv\", DataFrame)\n",
    "demand_Q4 = CSV.read(\"data/salesByWeek_Q4.csv\", DataFrame)\n",
    "d1 = Matrix(demand_Q1)[:,3:end]\n",
    "d2 = Matrix(demand_Q2)[:,3:end]\n",
    "d3 = Matrix(demand_Q3)[:,3:end]\n",
    "d4 = Matrix(demand_Q4)[:,3:end]\n",
    "Q1_startingInv = sum(d1[:,1:2], dims=2);\n",
    "Q2_startingInv = sum(d2[:,1:2], dims=2);\n",
    "Q3_startingInv = sum(d3[:,1:2], dims=2);\n",
    "Q4_startingInv = sum(d4[:,1:2], dims=2);\n",
    "\n",
    "\n",
    "# fixed item prices and fees\n",
    "prices = CSV.read(\"data/prices.csv\", DataFrame)\n",
    "itemInfo = CSV.read(\"data/costEstimates.csv\", DataFrame)\n",
    "\n",
    "# set lead time\n",
    "leadtime=2\n",
    "\n",
    "# get constant vectors from data\n",
    "r = itemInfo[:,2]\n",
    "c = itemInfo[:,3]\n",
    "f = itemInfo[:,5]\n",
    "FBA = itemInfo[:,7]\n",
    "w = itemInfo[:,10];"
   ]
  },
  {
   "cell_type": "code",
   "execution_count": 180,
   "id": "e6cdbf68",
   "metadata": {},
   "outputs": [
    {
     "data": {
      "text/plain": [
       "runModel (generic function with 1 method)"
      ]
     },
     "execution_count": 180,
     "metadata": {},
     "output_type": "execute_result"
    }
   ],
   "source": [
    "## WITHOUT PRESCRIPTION\n",
    "\n",
    "# model function\n",
    "function runModel(startingCap, startingInv, nextQstartingInv, D, U)\n",
    "\n",
    "    P = size(D)[1]\n",
    "    T = size(D)[2]\n",
    "\n",
    "    modelNoPres = Model(with_optimizer(Gurobi.Optimizer,TimeLimit=60, gurobi_env));\n",
    "    set_optimizer_attribute(modelNoPres, \"OutputFlag\", 0)\n",
    "\n",
    "    @variable(modelNoPres, x[i=1:P, t=1:T] >= 0) # main decision\n",
    "    @variable(modelNoPres, j[i=1:P, t=1:T] >= 0) \n",
    "    @variable(modelNoPres, s[i=1:P, t=1:T] >= 0) \n",
    "    @variable(modelNoPres, m[t=1:T])\n",
    "    @variable(modelNoPres, lambda[t=1:T] >= 0)\n",
    "\n",
    "    # profit (capital) in every week = last week's + 2 weeks ago's sales - this weeks cost\n",
    "    @constraint(modelNoPres, [t=1:T-2], m[t+2] == m[t+1] + sum(j[i,t]*(r[i] - f[i]) for i=1:P) - lambda[t+1])\n",
    "    @constraint(modelNoPres, m[1] == startingCap)\n",
    "    @constraint(modelNoPres, m[2] == m[1] - lambda[1])\n",
    "    # cost in week is equal to purchasing cost + trans cost + storage cost\n",
    "    @constraint(modelNoPres, [t=1:T], lambda[t] == sum(x[i,t]*c[i] for i=1:P) + U*sum(x[i,t]*w[i] for i=1:P) + sum(s[i,t]*FBA[i] for i=1:P))\n",
    "    # sales capped by storage and demand\n",
    "    @constraint(modelNoPres, [i=1:P,t=1:T], j[i,t] <= s[i,t])\n",
    "    @constraint(modelNoPres, [i=1:P,t=1:T], j[i,t] <= D[i,t])\n",
    "    # cannot spend more than we have in capital at beginning of week\n",
    "    #@constraint(modelNoPres, [t=1:T], lambda[t] <= m[t])\n",
    "    # inventory in week is equal to prev week inv - what we sold last week + what we ordered two weeks ago\n",
    "    @constraint(modelNoPres, [i=1:P,t=leadtime:T-1], s[i,t+1] == s[i,t] - j[i,t] + x[i,t-1])\n",
    "    @constraint(modelNoPres, [i=1:P], s[i,2] == s[i,1] - j[i,1])\n",
    "    @constraint(modelNoPres, [i=1:P], s[i,1] == startingInv[i])\n",
    "    # ending inventory (T=14) must be enough to start next quarter (whatever is left after last week\n",
    "    # + what we ordered in the second to last week)\n",
    "    @constraint(modelNoPres, [i=1:P], s[i,T] - j[i,T] + x[i,T-1] >= nextQstartingInv[i])\n",
    "    \n",
    "    @objective(modelNoPres, Max, m[T] + sum(j[i,T-1]*(r[i] - f[i]) for i=1:P) - lambda[T])\n",
    "    #@objective(modelNoPres, Max, m[T])\n",
    "    \n",
    "    optimize!(modelNoPres)\n",
    "\n",
    "    #termination_status(model)\n",
    "    return objective_value(modelNoPres), value.(x)\n",
    "    \n",
    "end"
   ]
  },
  {
   "cell_type": "markdown",
   "id": "d7358e1a",
   "metadata": {},
   "source": [
    "# TEST SECTION"
   ]
  },
  {
   "cell_type": "code",
   "execution_count": 164,
   "id": "c054c353",
   "metadata": {},
   "outputs": [],
   "source": [
    "# testing it without constraints on capital\n",
    "# ORACLE\n",
    "Q1_startingInv = zeros(19)\n",
    "U1_true = testQ1[1,7]\n",
    "testProf, test_x, test_j, test_s, test_m, test_lambda = runModel(0, Q1_startingInv, Q2_startingInv, d1, U1_true);"
   ]
  },
  {
   "cell_type": "code",
   "execution_count": 165,
   "id": "abe5bb80",
   "metadata": {},
   "outputs": [
    {
     "data": {
      "text/plain": [
       "1.5056136948115781e6"
      ]
     },
     "execution_count": 165,
     "metadata": {},
     "output_type": "execute_result"
    }
   ],
   "source": [
    "testProf"
   ]
  },
  {
   "cell_type": "code",
   "execution_count": 166,
   "id": "c645b2d9",
   "metadata": {},
   "outputs": [
    {
     "data": {
      "text/plain": [
       "13-element Vector{Float64}:\n",
       "       0.0\n",
       " -158386.32182924214\n",
       " -334830.748491804\n",
       " -520660.0759609932\n",
       " -439952.0333377179\n",
       " -322265.9298210073\n",
       " -181579.23283077485\n",
       "   38823.180192610074\n",
       "  227058.67258879324\n",
       "  421154.2937119269\n",
       "  619434.7219212883\n",
       "       1.1367389899212883e6\n",
       "  996037.3648115781"
      ]
     },
     "execution_count": 166,
     "metadata": {},
     "output_type": "execute_result"
    }
   ],
   "source": [
    "test_m"
   ]
  },
  {
   "cell_type": "code",
   "execution_count": 167,
   "id": "d5ef50e1",
   "metadata": {},
   "outputs": [
    {
     "data": {
      "text/plain": [
       "19×13 Matrix{Float64}:\n",
       " 0.0  0.0   40.0   65.0   50.0   58.0   61.0   58.0   70.0   86.0   67.0   75.0  0.0\n",
       " 0.0  0.0   68.0   61.0   78.0  118.0  109.0   99.0   97.0  109.0  111.0  108.0  0.0\n",
       " 0.0  0.0   97.0   97.0   91.0  117.0  116.0  140.0  120.0  161.0  138.0  127.0  0.0\n",
       " 0.0  0.0   73.0   69.0   65.0  102.0  117.0  117.0   86.0   97.0  123.0  125.0  0.0\n",
       " 0.0  0.0  335.0  360.0  327.0  407.0  437.0  426.0  487.0  498.0  516.0  522.0  0.0\n",
       " 0.0  0.0  364.0  376.0  398.0  427.0  557.0  525.0  457.0  527.0  564.0  577.0  0.0\n",
       " 0.0  0.0  184.0  166.0  217.0  246.0  254.0  262.0  260.0  286.0  331.0  289.0  0.0\n",
       " 0.0  0.0  161.0  148.0  158.0  212.0  215.0  196.0  225.0  279.0  262.0  289.0  0.0\n",
       " 0.0  0.0   60.0   58.0   57.0   68.0   90.0   76.0   88.0   81.0   84.0   75.0  0.0\n",
       " 0.0  0.0   71.0   72.0   84.0   94.0   92.0   94.0  104.0  108.0   96.0  102.0  0.0\n",
       " 0.0  0.0   73.0  105.0  104.0  131.0   96.0  102.0  111.0  116.0  116.0  114.0  0.0\n",
       " 0.0  0.0   11.0    8.0    5.0   11.0   11.0    6.0    9.0   11.0    9.0   12.0  0.0\n",
       " 0.0  0.0    8.0   10.0   12.0   12.0    7.0    9.0   12.0   15.0   11.0   17.0  0.0\n",
       " 0.0  0.0  242.0  264.0  295.0  337.0  395.0  376.0  402.0  406.0  447.0  434.0  0.0\n",
       " 0.0  0.0   49.0   57.0   58.0   63.0   73.0   72.0   75.0   92.0   69.0   85.0  0.0\n",
       " 0.0  0.0   40.0   51.0   53.0   79.0   73.0   66.0   70.0   81.0   72.0   84.0  0.0\n",
       " 0.0  0.0  302.0  295.0  315.0  429.0  377.0  415.0  474.0  444.0  444.0  424.0  0.0\n",
       " 0.0  0.0   31.0   34.0   31.0   26.0   38.0   25.0   36.0   40.0   48.0   35.0  0.0\n",
       " 0.0  0.0  236.0  271.0  278.0  303.0  313.0  312.0  352.0  392.0  379.0  378.0  0.0"
      ]
     },
     "execution_count": 167,
     "metadata": {},
     "output_type": "execute_result"
    }
   ],
   "source": [
    "test_j"
   ]
  },
  {
   "cell_type": "code",
   "execution_count": 168,
   "id": "43e7ea7c",
   "metadata": {},
   "outputs": [
    {
     "data": {
      "text/plain": [
       "19×13 Matrix{Float64}:\n",
       "  40.0   65.0   50.0   58.0   61.0   58.0   70.0   86.0   67.0   75.0  0.0   185.0  0.0\n",
       "  68.0   61.0   78.0  118.0  109.0   99.0   97.0  109.0  111.0  108.0  0.0   249.0  0.0\n",
       "  97.0   97.0   91.0  117.0  116.0  140.0  120.0  161.0  138.0  127.0  0.0   330.0  0.0\n",
       "  73.0   69.0   65.0  102.0  117.0  117.0   86.0   97.0  123.0  125.0  0.0   318.0  0.0\n",
       " 335.0  360.0  327.0  407.0  437.0  426.0  487.0  498.0  516.0  522.0  0.0  1316.0  0.0\n",
       " 364.0  376.0  398.0  427.0  557.0  525.0  457.0  527.0  564.0  577.0  0.0  1307.0  0.0\n",
       " 184.0  166.0  217.0  246.0  254.0  262.0  260.0  286.0  331.0  289.0  0.0   702.0  0.0\n",
       " 161.0  148.0  158.0  212.0  215.0  196.0  225.0  279.0  262.0  289.0  0.0   607.0  0.0\n",
       "  60.0   58.0   57.0   68.0   90.0   76.0   88.0   81.0   84.0   75.0  0.0   200.0  0.0\n",
       "  71.0   72.0   84.0   94.0   92.0   94.0  104.0  108.0   96.0  102.0  0.0   266.0  0.0\n",
       "  73.0  105.0  104.0  131.0   96.0  102.0  111.0  116.0  116.0  114.0  0.0   320.0  0.0\n",
       "  11.0    8.0    5.0   11.0   11.0    6.0    9.0   11.0    9.0   12.0  0.0    33.0  0.0\n",
       "   8.0   10.0   12.0   12.0    7.0    9.0   12.0   15.0   11.0   17.0  0.0    36.0  0.0\n",
       " 242.0  264.0  295.0  337.0  395.0  376.0  402.0  406.0  447.0  434.0  0.0  1083.0  0.0\n",
       "  49.0   57.0   58.0   63.0   73.0   72.0   75.0   92.0   69.0   85.0  0.0   186.0  0.0\n",
       "  40.0   51.0   53.0   79.0   73.0   66.0   70.0   81.0   72.0   84.0  0.0   175.0  0.0\n",
       " 302.0  295.0  315.0  429.0  377.0  415.0  474.0  444.0  444.0  424.0  0.0  1072.0  0.0\n",
       "  31.0   34.0   31.0   26.0   38.0   25.0   36.0   40.0   48.0   35.0  0.0   105.0  0.0\n",
       " 236.0  271.0  278.0  303.0  313.0  312.0  352.0  392.0  379.0  378.0  0.0   982.0  0.0"
      ]
     },
     "execution_count": 168,
     "metadata": {},
     "output_type": "execute_result"
    }
   ],
   "source": [
    "test_x"
   ]
  },
  {
   "cell_type": "code",
   "execution_count": 169,
   "id": "eef86aa0",
   "metadata": {},
   "outputs": [
    {
     "data": {
      "text/plain": [
       "13-element Vector{Float64}:\n",
       " 158386.32182924214\n",
       " 176444.42666256186\n",
       " 185829.32746918921\n",
       " 231186.9673767247\n",
       " 230350.46648328935\n",
       " 224235.98300976757\n",
       " 233580.06697661508\n",
       " 264257.69760381687\n",
       " 245878.37887686642\n",
       " 260031.63179063858\n",
       "   1414.7320000000002\n",
       " 623189.3051097101\n",
       "      0.0"
      ]
     },
     "execution_count": 169,
     "metadata": {},
     "output_type": "execute_result"
    }
   ],
   "source": [
    "test_lambda"
   ]
  },
  {
   "cell_type": "code",
   "execution_count": 170,
   "id": "401e8995",
   "metadata": {},
   "outputs": [
    {
     "data": {
      "text/plain": [
       "19×13 Matrix{Float64}:\n",
       " 0.0  0.0   40.0   65.0   50.0   58.0   61.0   58.0   70.0   86.0   67.0   75.0  0.0\n",
       " 0.0  0.0   68.0   61.0   78.0  118.0  109.0   99.0   97.0  109.0  111.0  108.0  0.0\n",
       " 0.0  0.0   97.0   97.0   91.0  117.0  116.0  140.0  120.0  161.0  138.0  127.0  0.0\n",
       " 0.0  0.0   73.0   69.0   65.0  102.0  117.0  117.0   86.0   97.0  123.0  125.0  0.0\n",
       " 0.0  0.0  335.0  360.0  327.0  407.0  437.0  426.0  487.0  498.0  516.0  522.0  0.0\n",
       " 0.0  0.0  364.0  376.0  398.0  427.0  557.0  525.0  457.0  527.0  564.0  577.0  0.0\n",
       " 0.0  0.0  184.0  166.0  217.0  246.0  254.0  262.0  260.0  286.0  331.0  289.0  0.0\n",
       " 0.0  0.0  161.0  148.0  158.0  212.0  215.0  196.0  225.0  279.0  262.0  289.0  0.0\n",
       " 0.0  0.0   60.0   58.0   57.0   68.0   90.0   76.0   88.0   81.0   84.0   75.0  0.0\n",
       " 0.0  0.0   71.0   72.0   84.0   94.0   92.0   94.0  104.0  108.0   96.0  102.0  0.0\n",
       " 0.0  0.0   73.0  105.0  104.0  131.0   96.0  102.0  111.0  116.0  116.0  114.0  0.0\n",
       " 0.0  0.0   11.0    8.0    5.0   11.0   11.0    6.0    9.0   11.0    9.0   12.0  0.0\n",
       " 0.0  0.0    8.0   10.0   12.0   12.0    7.0    9.0   12.0   15.0   11.0   17.0  0.0\n",
       " 0.0  0.0  242.0  264.0  295.0  337.0  395.0  376.0  402.0  406.0  447.0  434.0  0.0\n",
       " 0.0  0.0   49.0   57.0   58.0   63.0   73.0   72.0   75.0   92.0   69.0   85.0  0.0\n",
       " 0.0  0.0   40.0   51.0   53.0   79.0   73.0   66.0   70.0   81.0   72.0   84.0  0.0\n",
       " 0.0  0.0  302.0  295.0  315.0  429.0  377.0  415.0  474.0  444.0  444.0  424.0  0.0\n",
       " 0.0  0.0   31.0   34.0   31.0   26.0   38.0   25.0   36.0   40.0   48.0   35.0  0.0\n",
       " 0.0  0.0  236.0  271.0  278.0  303.0  313.0  312.0  352.0  392.0  379.0  378.0  0.0"
      ]
     },
     "execution_count": 170,
     "metadata": {},
     "output_type": "execute_result"
    }
   ],
   "source": [
    "test_s"
   ]
  },
  {
   "cell_type": "code",
   "execution_count": 171,
   "id": "66f54f13",
   "metadata": {},
   "outputs": [
    {
     "data": {
      "text/plain": [
       "19-element Vector{Float64}:\n",
       "  185.0\n",
       "  249.0\n",
       "  330.0\n",
       "  318.0\n",
       " 1316.0\n",
       " 1307.0\n",
       "  702.0\n",
       "  607.0\n",
       "  200.0\n",
       "  266.0\n",
       "  320.0\n",
       "   33.0\n",
       "   36.0\n",
       " 1083.0\n",
       "  186.0\n",
       "  175.0\n",
       " 1072.0\n",
       "  105.0\n",
       "  982.0"
      ]
     },
     "execution_count": 171,
     "metadata": {},
     "output_type": "execute_result"
    }
   ],
   "source": [
    "nextperstartinginv = test_s[:,13] .- test_j[:,13] .+ test_x[:,13-1]"
   ]
  },
  {
   "cell_type": "code",
   "execution_count": 172,
   "id": "82ee7555",
   "metadata": {},
   "outputs": [
    {
     "data": {
      "text/plain": [
       "19×1 Matrix{Int64}:\n",
       "  185\n",
       "  249\n",
       "  330\n",
       "  318\n",
       " 1316\n",
       " 1307\n",
       "  702\n",
       "  607\n",
       "  200\n",
       "  266\n",
       "  320\n",
       "   33\n",
       "   36\n",
       " 1083\n",
       "  186\n",
       "  175\n",
       " 1072\n",
       "  105\n",
       "  982"
      ]
     },
     "execution_count": 172,
     "metadata": {},
     "output_type": "execute_result"
    }
   ],
   "source": [
    "Q2_startingInv"
   ]
  },
  {
   "cell_type": "markdown",
   "id": "21cb97f9",
   "metadata": {},
   "source": [
    "# END TEST SECTION"
   ]
  },
  {
   "cell_type": "code",
   "execution_count": 190,
   "id": "9a3d8470",
   "metadata": {},
   "outputs": [
    {
     "data": {
      "text/plain": [
       "runModelPres (generic function with 1 method)"
      ]
     },
     "execution_count": 190,
     "metadata": {},
     "output_type": "execute_result"
    }
   ],
   "source": [
    "## WITH PRESCRIPTION\n",
    "\n",
    "# model function\n",
    "function runModelPres(startingCap, startingInv, nextQstartingInv, D, U)\n",
    "\n",
    "    model = Model(with_optimizer(Gurobi.Optimizer,TimeLimit=60, gurobi_env));\n",
    "    set_optimizer_attribute(model, \"OutputFlag\", 0)\n",
    "    \n",
    "    if isa(U, Vector) == true\n",
    "        K = 1\n",
    "    else\n",
    "        K = size(U)[2]\n",
    "    end\n",
    "    \n",
    "    neighborWeight = zeros(K)\n",
    "    neighborWeight .= 1/K\n",
    "    \n",
    "    P = size(D)[1]\n",
    "    T = size(D)[2]\n",
    "\n",
    "    @variable(model, x[i=1:P, t=1:T] >= 0) # Main decision\n",
    "    @variable(model, j[i=1:P, t=1:T, k=1:K] >= 0) \n",
    "    @variable(model, s[i=1:P, t=1:T, k=1:K] >= 0) \n",
    "    @variable(model, m[t=1:T, k=1:K]) # can be in debt\n",
    "    @variable(model, lambda[t=1:T, k=1:K] >= 0)\n",
    "\n",
    "    # profit (capital) in every week = last week's + 2 weeks ago's sales - this weeks cost\n",
    "    @constraint(model, [t=1:T-2, k=1:K], m[t+2,k] == m[t+1,k] + sum(j[i,t,k]*(r[i] - f[i]) for i=1:P) - lambda[t+1,k])\n",
    "    @constraint(model, [k=1:K], m[1,k] == startingCap)\n",
    "    @constraint(model, [k=1:K], m[2,k] == m[1,k] - lambda[1,k])\n",
    "    # cost in week is equal to purchasing cost + trans cost + storage cost\n",
    "    @constraint(model, [t=1:T,k=1:K], lambda[t,k] == sum(x[i,t]*c[i] for i=1:P) + U[k]*sum(x[i,t]*w[i] for i=1:P) + sum(s[i,t,k]*FBA[i] for i=1:P))\n",
    "    # sales capped by storage and demand\n",
    "    @constraint(model, [i=1:P,t=1:T,k=1:K], j[i,t,k] <= s[i,t,k])\n",
    "    @constraint(model, [i=1:P,t=1:T,k=1:K], j[i,t,k] <= D[i,t])\n",
    "    # cannot spend more than we have in capital at beginning of week\n",
    "    #@constraint(model, [t=1:T,k=1:K], lambda[t,k] <= m[t,k])   # capital no longer constrained\n",
    "    # inventory in week is equal to prev week inv - what we sold last week + what we ordered two weeks ago\n",
    "    @constraint(model, [i=1:P,t=leadtime:T-1,k=1:K], s[i,t+1,k] == s[i,t,k] - j[i,t,k] + x[i,t-1])\n",
    "    @constraint(model, [i=1:P,k=1:K], s[i,2,k] == s[i,1,k] - j[i,1,k])\n",
    "    @constraint(model, [i=1:P,k=1:K], s[i,1,k] == startingInv[i])\n",
    "    # starting Inv (T=14) must be enough to start next quarter (whatever is left after last week\n",
    "    # + what we ordered in second to last week)\n",
    "    @constraint(model, [i=1:P,k=1:K], s[i,T,K] - j[i,T,K] + x[i,T-1] >= nextQstartingInv[i])\n",
    "    \n",
    "    @objective(model, Max, sum(neighborWeight[k]*(m[T,k] + sum(j[i,t,k]*(r[i] - f[i]) for i=1:P,t=T-1:T) - lambda[T,k]) for k=1:K))\n",
    "\n",
    "    optimize!(model)\n",
    "\n",
    "    #termination_status(model)\n",
    "    return objective_value(model), value.(x)\n",
    "    \n",
    "end"
   ]
  },
  {
   "cell_type": "code",
   "execution_count": 182,
   "id": "b3f71b15",
   "metadata": {},
   "outputs": [
    {
     "data": {
      "text/plain": [
       "findKNN (generic function with 1 method)"
      ]
     },
     "execution_count": 182,
     "metadata": {},
     "output_type": "execute_result"
    }
   ],
   "source": [
    "function findKNN(cass_data_in, test_point_in, k)\n",
    "   \n",
    "    cass_data = deepcopy(cass_data_in)\n",
    "    test_point = deepcopy(test_point_in)\n",
    "    \n",
    "    cass_mean = mean(cass_data[!, :avgCASS]) \n",
    "    cass_std = std(cass_data[!, :avgCASS])\n",
    "     \n",
    "    #select!(cass_data, Not(:Column1))\n",
    "    cass_data = append!(cass_data, test_point)\n",
    "\n",
    "    # normalize columns (except for year and quarter)\n",
    "    for col in names(cass_data)\n",
    "        if col == \"Year\" || col == \"Quarter\"\n",
    "            continue\n",
    "        end\n",
    "        cass_data[!, col] = (cass_data[!, col] .- mean(cass_data[!, col])) ./ std(cass_data[!, col])\n",
    "        #test_point[!, col] = (test_point[!, col] .- mean(test_point[!, col])) ./ std(test_point[!, col])\n",
    "    end\n",
    "    \n",
    "    test_point = DataFrame(cass_data[size(cass_data)[1], :])\n",
    "    X = Array(select(cass_data[1:(size(cass_data)[1]-1), :], Not(:avgCASS)))'\n",
    "    kd_tree = KDTree(X)\n",
    "    test_point = Array(select(test_point, Not(:avgCASS)))'\n",
    "    \n",
    "    id, dist = knn(kd_tree, test_point, k)\n",
    "    knn_predictions = cass_data[id[1],:].avgCASS\n",
    "    knn_predictions = knn_predictions .* cass_std .+ cass_mean\n",
    "    return knn_predictions\n",
    "end"
   ]
  },
  {
   "cell_type": "code",
   "execution_count": 183,
   "id": "b4142295",
   "metadata": {},
   "outputs": [
    {
     "data": {
      "text/plain": [
       "checkPlan (generic function with 1 method)"
      ]
     },
     "execution_count": 183,
     "metadata": {},
     "output_type": "execute_result"
    }
   ],
   "source": [
    "# HOW TO CHECK PRESCRIPTION AGAINST REALITY\n",
    "# should theoretically be able to set x = x_planned in the opt model\n",
    "# would be true U\n",
    "\n",
    "function checkPlan(startingCap, startingInv, nextQstartingInv, D, U, planned_x)\n",
    "\n",
    "    P = size(D)[1]\n",
    "    T = size(D)[2]\n",
    "\n",
    "    modelReality = Model(with_optimizer(Gurobi.Optimizer,TimeLimit=60, gurobi_env));\n",
    "    set_optimizer_attribute(modelReality, \"OutputFlag\", 0)\n",
    "\n",
    "    @variable(modelReality, x[i=1:P, t=1:T] >= 0) # main decision\n",
    "    @variable(modelReality, j[i=1:P, t=1:T] >= 0) \n",
    "    @variable(modelReality, s[i=1:P, t=1:T] >= 0) \n",
    "    @variable(modelReality, m[t=1:T])\n",
    "    @variable(modelReality, lambda[t=1:T] >= 0)\n",
    "\n",
    "    # set x = planned x\n",
    "    @constraint(modelReality, [i=1:P,t=1:T], x[i,t] == planned_x[i,t])\n",
    "    \n",
    "    # profit (capital) in every week = last week's + 2 weeks ago's sales - this weeks cost\n",
    "    @constraint(modelReality, [t=1:T-2], m[t+2] == m[t+1] + sum(j[i,t]*(r[i] - f[i]) for i=1:P) - lambda[t+1])\n",
    "    @constraint(modelReality, m[1] == startingCap)\n",
    "    @constraint(modelReality, m[2] == m[1] - lambda[1])\n",
    "    # cost in week is equal to purchasing cost + trans cost + storage cost\n",
    "    @constraint(modelReality, [t=1:T], lambda[t] == sum(x[i,t]*c[i] for i=1:P) + U*sum(x[i,t]*w[i] for i=1:P) + sum(s[i,t]*FBA[i] for i=1:P))\n",
    "    # sales capped by storage and demand\n",
    "    @constraint(modelReality, [i=1:P,t=1:T], j[i,t] <= s[i,t])\n",
    "    @constraint(modelReality, [i=1:P,t=1:T], j[i,t] <= D[i,t])\n",
    "    # cannot spend more than we have in capital at beginning of week\n",
    "    #@constraint(modelNoPres, [t=1:T], lambda[t] <= m[t])\n",
    "    # inventory in week is equal to prev week inv - what we sold last week + what we ordered two weeks ago\n",
    "    @constraint(modelReality, [i=1:P,t=leadtime:T-1], s[i,t+1] == s[i,t] - j[i,t] + x[i,t-1])\n",
    "    @constraint(modelReality, [i=1:P], s[i,2] == s[i,1] - j[i,1])\n",
    "    @constraint(modelReality, [i=1:P], s[i,1] == startingInv[i])\n",
    "    # ending inventory (T=14) must be enough to start next quarter (whatever is left after last week\n",
    "    # + what we ordered in the second to last week)\n",
    "    @constraint(modelReality, [i=1:P], s[i,T] - j[i,T] + x[i,T-1] >= nextQstartingInv[i])\n",
    "    \n",
    "    @objective(modelReality, Max, m[T] + sum(j[i,T-1]*(r[i] - f[i]) for i=1:P) - lambda[T])\n",
    "    #@objective(modelNoPres, Max, m[T])\n",
    "    \n",
    "    optimize!(modelReality)\n",
    "\n",
    "    #termination_status(model)\n",
    "    return objective_value(modelReality)\n",
    "    \n",
    "end"
   ]
  },
  {
   "cell_type": "markdown",
   "id": "d7bda20f",
   "metadata": {},
   "source": [
    "## Q1"
   ]
  },
  {
   "cell_type": "code",
   "execution_count": 191,
   "id": "616f1259",
   "metadata": {},
   "outputs": [
    {
     "name": "stdout",
     "output_type": "stream",
     "text": [
      "Estimated Profits: \n",
      " - Prescription: $1.7392891002851499e6\n",
      " - Oracle:       $1.5056136948115781e6\n",
      " - Last Quarter: $1.500018490948422e6\n"
     ]
    }
   ],
   "source": [
    "# starting capital and inventory are 0\n",
    "startingCap1 = 0\n",
    "Q1_startingInv = zeros(19)\n",
    "\n",
    "# PRESCRIPTION\n",
    "U1_pres = findKNN(trainQ1, testQ1, 5)\n",
    "Q1Prof_pres_est, Q1_pres_x = runModelPres(startingCap1, Q1_startingInv, Q2_startingInv, d1, U1_pres);\n",
    "\n",
    "# ORACLE\n",
    "U1_true = testQ1[1,7]\n",
    "Q1Prof_oracle_est, Q1_oracle_x = runModel(startingCap1, Q1_startingInv, Q2_startingInv, d1, U1_true);\n",
    "\n",
    "# LAST Q\n",
    "U1_lastQ = trainQ1[end,7]\n",
    "Q1Prof_lastQ_est, Q1_lastQ_x = runModel(startingCap1, Q1_startingInv, Q2_startingInv, d1, U1_lastQ);\n",
    "\n",
    "\n",
    "println(\"Estimated Profits: \")\n",
    "println(\" - Prescription: \\$\", Q1Prof_pres_est)\n",
    "println(\" - Oracle:       \\$\", Q1Prof_oracle_est)\n",
    "println(\" - Last Quarter: \\$\", Q1Prof_lastQ_est)"
   ]
  },
  {
   "cell_type": "code",
   "execution_count": 192,
   "id": "4fae02f8",
   "metadata": {
    "scrolled": true
   },
   "outputs": [
    {
     "data": {
      "text/plain": [
       "19×13 Matrix{Float64}:\n",
       "  40.0   65.0   50.0   58.0   61.0   58.0   70.0   86.0   67.0   75.0   66.0   185.0  0.0\n",
       "  68.0   61.0   78.0  118.0  109.0   99.0   97.0  109.0  111.0  108.0  107.0   249.0  0.0\n",
       "  97.0   97.0   91.0  117.0  116.0  140.0  120.0  161.0  138.0  127.0  126.0   330.0  0.0\n",
       "  73.0   69.0   65.0  102.0  117.0  117.0   86.0   97.0  123.0  125.0  133.0   318.0  0.0\n",
       " 335.0  360.0  327.0  407.0  437.0  426.0  487.0  498.0  516.0  522.0  471.0  1316.0  0.0\n",
       " 364.0  376.0  398.0  427.0  557.0  525.0  457.0  527.0  564.0  577.0  588.0  1307.0  0.0\n",
       " 184.0  166.0  217.0  246.0  254.0  262.0  260.0  286.0  331.0  289.0  303.0   702.0  0.0\n",
       " 161.0  148.0  158.0  212.0  215.0  196.0  225.0  279.0  262.0  289.0  271.0   607.0  0.0\n",
       "  60.0   58.0   57.0   68.0   90.0   76.0   88.0   81.0   84.0   75.0   86.0   200.0  0.0\n",
       "  71.0   72.0   84.0   94.0   92.0   94.0  104.0  108.0   96.0  102.0  108.0   266.0  0.0\n",
       "  73.0  105.0  104.0  131.0   96.0  102.0  111.0  116.0  116.0  114.0  134.0   320.0  0.0\n",
       "  11.0    8.0    5.0   11.0   11.0    6.0    9.0   11.0    9.0   12.0   14.0    33.0  0.0\n",
       "   8.0   10.0   12.0   12.0    7.0    9.0   12.0   15.0   11.0   17.0   14.0    36.0  0.0\n",
       " 242.0  264.0  295.0  337.0  395.0  376.0  402.0  406.0  447.0  434.0  393.0  1083.0  0.0\n",
       "  49.0   57.0   58.0   63.0   73.0   72.0   75.0   92.0   69.0   85.0   97.0   186.0  0.0\n",
       "  40.0   51.0   53.0   79.0   73.0   66.0   70.0   81.0   72.0   84.0   69.0   175.0  0.0\n",
       " 302.0  295.0  315.0  429.0  377.0  415.0  474.0  444.0  444.0  424.0  418.0  1072.0  0.0\n",
       "  31.0   34.0   31.0   26.0   38.0   25.0   36.0   40.0   48.0   35.0   36.0   105.0  0.0\n",
       " 236.0  271.0  278.0  303.0  313.0  312.0  352.0  392.0  379.0  378.0  368.0   982.0  0.0"
      ]
     },
     "execution_count": 192,
     "metadata": {},
     "output_type": "execute_result"
    }
   ],
   "source": [
    "Q1_pres_x"
   ]
  },
  {
   "cell_type": "code",
   "execution_count": 193,
   "id": "1acea0e8",
   "metadata": {},
   "outputs": [
    {
     "data": {
      "text/plain": [
       "19×13 Matrix{Float64}:\n",
       "  40.0   65.0   50.0   58.0   61.0   58.0   70.0   86.0   67.0   75.0  0.0   185.0  0.0\n",
       "  68.0   61.0   78.0  118.0  109.0   99.0   97.0  109.0  111.0  108.0  0.0   249.0  0.0\n",
       "  97.0   97.0   91.0  117.0  116.0  140.0  120.0  161.0  138.0  127.0  0.0   330.0  0.0\n",
       "  73.0   69.0   65.0  102.0  117.0  117.0   86.0   97.0  123.0  125.0  0.0   318.0  0.0\n",
       " 335.0  360.0  327.0  407.0  437.0  426.0  487.0  498.0  516.0  522.0  0.0  1316.0  0.0\n",
       " 364.0  376.0  398.0  427.0  557.0  525.0  457.0  527.0  564.0  577.0  0.0  1307.0  0.0\n",
       " 184.0  166.0  217.0  246.0  254.0  262.0  260.0  286.0  331.0  289.0  0.0   702.0  0.0\n",
       " 161.0  148.0  158.0  212.0  215.0  196.0  225.0  279.0  262.0  289.0  0.0   607.0  0.0\n",
       "  60.0   58.0   57.0   68.0   90.0   76.0   88.0   81.0   84.0   75.0  0.0   200.0  0.0\n",
       "  71.0   72.0   84.0   94.0   92.0   94.0  104.0  108.0   96.0  102.0  0.0   266.0  0.0\n",
       "  73.0  105.0  104.0  131.0   96.0  102.0  111.0  116.0  116.0  114.0  0.0   320.0  0.0\n",
       "  11.0    8.0    5.0   11.0   11.0    6.0    9.0   11.0    9.0   12.0  0.0    33.0  0.0\n",
       "   8.0   10.0   12.0   12.0    7.0    9.0   12.0   15.0   11.0   17.0  0.0    36.0  0.0\n",
       " 242.0  264.0  295.0  337.0  395.0  376.0  402.0  406.0  447.0  434.0  0.0  1083.0  0.0\n",
       "  49.0   57.0   58.0   63.0   73.0   72.0   75.0   92.0   69.0   85.0  0.0   186.0  0.0\n",
       "  40.0   51.0   53.0   79.0   73.0   66.0   70.0   81.0   72.0   84.0  0.0   175.0  0.0\n",
       " 302.0  295.0  315.0  429.0  377.0  415.0  474.0  444.0  444.0  424.0  0.0  1072.0  0.0\n",
       "  31.0   34.0   31.0   26.0   38.0   25.0   36.0   40.0   48.0   35.0  0.0   105.0  0.0\n",
       " 236.0  271.0  278.0  303.0  313.0  312.0  352.0  392.0  379.0  378.0  0.0   982.0  0.0"
      ]
     },
     "execution_count": 193,
     "metadata": {},
     "output_type": "execute_result"
    }
   ],
   "source": [
    "Q1_oracle_x"
   ]
  },
  {
   "cell_type": "markdown",
   "id": "a3588d34",
   "metadata": {},
   "source": [
    "### Q1. Check how plans perform in reality"
   ]
  },
  {
   "cell_type": "code",
   "execution_count": 187,
   "id": "1e5d2514",
   "metadata": {},
   "outputs": [
    {
     "name": "stdout",
     "output_type": "stream",
     "text": [
      "Realized Profits: \n",
      " - Prescription: $1.234046034334262e6\n",
      " - Oracle:       $1.505613694811578e6\n",
      " - Last Quarter: $1.505613694811578e6\n"
     ]
    }
   ],
   "source": [
    "Q1Prof_pres_real = checkPlan(startingCap1, Q1_startingInv, Q2_startingInv, d1, U1_true, Q1_pres_x)\n",
    "Q1Prof_oracle_real = checkPlan(startingCap1, Q1_startingInv, Q2_startingInv, d1, U1_true, Q1_oracle_x)\n",
    "Q1Prof_lastQ_real = checkPlan(startingCap1, Q1_startingInv, Q2_startingInv, d1, U1_true, Q1_lastQ_x)\n",
    "\n",
    "println(\"Realized Profits: \")\n",
    "println(\" - Prescription: \\$\", Q1Prof_pres_real)\n",
    "println(\" - Oracle:       \\$\", Q1Prof_oracle_real)\n",
    "println(\" - Last Quarter: \\$\", Q1Prof_lastQ_real)"
   ]
  },
  {
   "cell_type": "markdown",
   "id": "95a6ccb3",
   "metadata": {},
   "source": [
    "## Q2"
   ]
  },
  {
   "cell_type": "code",
   "execution_count": 118,
   "id": "e5fdf626",
   "metadata": {},
   "outputs": [
    {
     "name": "stdout",
     "output_type": "stream",
     "text": [
      "Estimated Profits: \n",
      " - Prescription: $5.384191656107818e6\n",
      " - Oracle:       $5.430483524186049e6\n",
      " - Last Quarter: $5.408877475546335e6\n"
     ]
    }
   ],
   "source": [
    "# PRESCRIPTION\n",
    "startingCap2_pres = Q1Prof_pres_real\n",
    "U2_pres = findKNN(trainQ2, testQ2, 5)\n",
    "Q2Prof_pres_est, Q2_pres_x = runModelPres(startingCap2_pres, Q2_startingInv, Q3_startingInv, d2, U2_pres);\n",
    "\n",
    "# ORACLE\n",
    "startingCap2_oracle = Q1Prof_oracle_real\n",
    "U2_true = testQ2[1,7]\n",
    "Q2Prof_oracle_est, Q2_oracle_x = runModel(startingCap2_oracle, Q2_startingInv, Q3_startingInv, d2, U2_true);\n",
    "\n",
    "# LAST Q\n",
    "startingCap2_lastQ = Q1Prof_lastQ_real\n",
    "U2_lastQ = trainQ2[end,7]\n",
    "Q2Prof_lastQ_est, Q2_lastQ_x = runModel(startingCap2_lastQ, Q2_startingInv, Q3_startingInv, d2, U2_lastQ);\n",
    "\n",
    "\n",
    "println(\"Estimated Profits: \")\n",
    "println(\" - Prescription: \\$\", Q2Prof_pres_est)\n",
    "println(\" - Oracle:       \\$\", Q2Prof_oracle_est)\n",
    "println(\" - Last Quarter: \\$\", Q2Prof_lastQ_est)"
   ]
  },
  {
   "cell_type": "markdown",
   "id": "5f90df58",
   "metadata": {},
   "source": [
    "### Q2. Check how plans perform in reality"
   ]
  },
  {
   "cell_type": "code",
   "execution_count": 119,
   "id": "e65ebb12",
   "metadata": {},
   "outputs": [
    {
     "name": "stdout",
     "output_type": "stream",
     "text": [
      "Realized Profits: \n",
      " - Prescription: $5.419515856030204e6\n",
      " - Oracle:       $5.43048352418605e6\n",
      " - Last Quarter: $5.427998424199156e6\n"
     ]
    }
   ],
   "source": [
    "Q2Prof_pres_real = checkPlan(startingCap2_pres, Q2_startingInv, Q3_startingInv, d2, U2_true, Q2_pres_x)\n",
    "Q2Prof_oracle_real = checkPlan(startingCap2_oracle, Q2_startingInv, Q3_startingInv, d2, U2_true, Q2_oracle_x)\n",
    "Q2Prof_lastQ_real = checkPlan(startingCap2_lastQ, Q2_startingInv, Q3_startingInv, d2, U2_true, Q2_lastQ_x)\n",
    "\n",
    "println(\"Realized Profits: \")\n",
    "println(\" - Prescription: \\$\", Q2Prof_pres_real)\n",
    "println(\" - Oracle:       \\$\", Q2Prof_oracle_real)\n",
    "println(\" - Last Quarter: \\$\", Q2Prof_lastQ_real)"
   ]
  },
  {
   "cell_type": "markdown",
   "id": "72341179",
   "metadata": {},
   "source": [
    "## Q3"
   ]
  },
  {
   "cell_type": "code",
   "execution_count": 120,
   "id": "b931293a",
   "metadata": {},
   "outputs": [
    {
     "name": "stdout",
     "output_type": "stream",
     "text": [
      "Estimated Profits: \n",
      " - Prescription: $8.0190412060928475e6\n",
      " - Oracle:       $8.00972153324605e6\n",
      " - Last Quarter: $8.027429456879156e6\n"
     ]
    }
   ],
   "source": [
    "# PRESCRIPTION\n",
    "startingCap3_pres = Q2Prof_pres_real\n",
    "U3_pres = findKNN(trainQ3, testQ3, 5)\n",
    "Q3Prof_pres_est, Q3_pres_x = runModelPres(startingCap3_pres, Q3_startingInv, Q4_startingInv, d3, U3_pres);\n",
    "\n",
    "# ORACLE\n",
    "startingCap3_oracle = Q2Prof_oracle_real\n",
    "U3_true = testQ3[1,7]\n",
    "Q3Prof_oracle_est, Q3_oracle_x = runModel(startingCap3_oracle, Q3_startingInv, Q4_startingInv, d3, U3_true);\n",
    "\n",
    "# LAST Q\n",
    "startingCap3_lastQ = Q2Prof_lastQ_real\n",
    "U3_lastQ = trainQ3[end,7]\n",
    "Q3Prof_lastQ_est, Q3_lastQ_x = runModel(startingCap3_lastQ, Q3_startingInv, Q4_startingInv, d3, U3_lastQ);\n",
    "\n",
    "\n",
    "println(\"Estimated Profits: \")\n",
    "println(\" - Prescription: \\$\", Q3Prof_pres_est)\n",
    "println(\" - Oracle:       \\$\", Q3Prof_oracle_est)\n",
    "println(\" - Last Quarter: \\$\", Q3Prof_lastQ_est)"
   ]
  },
  {
   "cell_type": "markdown",
   "id": "b3748115",
   "metadata": {},
   "source": [
    "### Q3. Check how plans perform in reality"
   ]
  },
  {
   "cell_type": "code",
   "execution_count": 124,
   "id": "25986db8",
   "metadata": {},
   "outputs": [
    {
     "name": "stdout",
     "output_type": "stream",
     "text": [
      "Realized Profits: \n",
      " - Oracle:       $8.00972153324605e6\n"
     ]
    }
   ],
   "source": [
    "#Q3Prof_pres_real = checkPlan(startingCap3_pres, Q3_startingInv, Q4_startingInv, d3, U3_true, Q3_pres_x)\n",
    "Q3Prof_oracle_real = checkPlan(startingCap3_oracle, Q3_startingInv, Q4_startingInv, d3, U3_true, Q3_oracle_x)\n",
    "#Q3Prof_lastQ_real = checkPlan(startingCap3_lastQ, Q3_startingInv, Q4_startingInv, d3, U3_true, Q3_lastQ_x)\n",
    "\n",
    "println(\"Realized Profits: \")\n",
    "#println(\" - Prescription: \\$\", Q3Prof_pres_real)\n",
    "println(\" - Oracle:       \\$\", Q3Prof_oracle_real)\n",
    "#println(\" - Last Quarter: \\$\", Q3Prof_lastQ_real)"
   ]
  },
  {
   "cell_type": "code",
   "execution_count": 92,
   "id": "594339ff",
   "metadata": {},
   "outputs": [
    {
     "name": "stdout",
     "output_type": "stream",
     "text": [
      "Academic license - for non-commercial use only - expires 2022-08-19\r\n"
     ]
    }
   ],
   "source": [
    "# get quarter specific data\n",
    "startingCap3 = endQ2profit_real\n",
    "\n",
    "U3 = findKNN(trainQ3, testQ3, 5)\n",
    "\n",
    "# run model for q1\n",
    "endQ3profit, Q3_x = runModelPres(startingCap3, Q3_startingInv, Q4_startingInv, d3, U3);"
   ]
  },
  {
   "cell_type": "code",
   "execution_count": 93,
   "id": "74ea635c",
   "metadata": {
    "scrolled": true
   },
   "outputs": [
    {
     "data": {
      "text/plain": [
       "8.0190412060928475e6"
      ]
     },
     "execution_count": 93,
     "metadata": {},
     "output_type": "execute_result"
    }
   ],
   "source": [
    "endQ3profit_est"
   ]
  },
  {
   "cell_type": "code",
   "execution_count": 94,
   "id": "f305b399",
   "metadata": {},
   "outputs": [
    {
     "name": "stdout",
     "output_type": "stream",
     "text": [
      "Academic license - for non-commercial use only - expires 2022-08-19\r\n"
     ]
    }
   ],
   "source": [
    "# test against true U\n",
    "startingCap3_oracle = endQ2profit_oracle_real\n",
    "U3_true = testQ3[1,7]\n",
    "\n",
    "endQ3profit_oracle, Q3_x_oracle = runModel(startingCap3_oracle, Q3_startingInv, Q4_startingInv, d3, U3_true);"
   ]
  },
  {
   "cell_type": "code",
   "execution_count": 95,
   "id": "31b77391",
   "metadata": {},
   "outputs": [
    {
     "data": {
      "text/plain": [
       "8.00972153324605e6"
      ]
     },
     "execution_count": 95,
     "metadata": {},
     "output_type": "execute_result"
    }
   ],
   "source": [
    "endQ3profit_oracle"
   ]
  },
  {
   "cell_type": "code",
   "execution_count": 83,
   "id": "7ef1251b",
   "metadata": {},
   "outputs": [
    {
     "name": "stdout",
     "output_type": "stream",
     "text": [
      "Academic license - for non-commercial use only - expires 2022-08-19\r\n"
     ]
    }
   ],
   "source": [
    "# test against prediction of U - just last quarter's U\n",
    "startingCap3_lastQ = endQ2profit_lastQ_real\n",
    "\n",
    "U3_lastQ = trainQ3[end,7]\n",
    "\n",
    "endQ3profit_lastQ, Q3_x_lastQ = runModel(startingCap3_lastQ, Q2_startingInv, Q3_startingInv, d2, U2_lastQ);"
   ]
  },
  {
   "cell_type": "code",
   "execution_count": 84,
   "id": "0450eae3",
   "metadata": {
    "scrolled": true
   },
   "outputs": [
    {
     "data": {
      "text/plain": [
       "5.408877475546335e6"
      ]
     },
     "execution_count": 84,
     "metadata": {},
     "output_type": "execute_result"
    }
   ],
   "source": [
    "endQ2profit_lastQ"
   ]
  },
  {
   "cell_type": "markdown",
   "id": "95e16c32",
   "metadata": {},
   "source": [
    "### Q3. Check how plans perform in reality"
   ]
  },
  {
   "cell_type": "code",
   "execution_count": 85,
   "id": "e6247e9e",
   "metadata": {},
   "outputs": [
    {
     "name": "stdout",
     "output_type": "stream",
     "text": [
      "Academic license - for non-commercial use only - expires 2022-08-19\r\n"
     ]
    },
    {
     "data": {
      "text/plain": [
       "5.419515856030204e6"
      ]
     },
     "execution_count": 85,
     "metadata": {},
     "output_type": "execute_result"
    }
   ],
   "source": [
    "endQ2profit_real = checkPlan(startingCap2, Q2_startingInv, Q3_startingInv, d2, U2_true, Q2_x)"
   ]
  },
  {
   "cell_type": "code",
   "execution_count": 86,
   "id": "9878307e",
   "metadata": {},
   "outputs": [
    {
     "name": "stdout",
     "output_type": "stream",
     "text": [
      "Academic license - for non-commercial use only - expires 2022-08-19\r\n"
     ]
    },
    {
     "data": {
      "text/plain": [
       "5.43048352418605e6"
      ]
     },
     "execution_count": 86,
     "metadata": {},
     "output_type": "execute_result"
    }
   ],
   "source": [
    "endQ2profit_oracle_real = checkPlan(startingCap2_oracle, Q2_startingInv, Q3_startingInv, d2, U2_true, Q2_x_oracle)"
   ]
  },
  {
   "cell_type": "code",
   "execution_count": 87,
   "id": "6b774c53",
   "metadata": {
    "scrolled": true
   },
   "outputs": [
    {
     "name": "stdout",
     "output_type": "stream",
     "text": [
      "Academic license - for non-commercial use only - expires 2022-08-19\r\n"
     ]
    },
    {
     "data": {
      "text/plain": [
       "5.427998424199156e6"
      ]
     },
     "execution_count": 87,
     "metadata": {},
     "output_type": "execute_result"
    }
   ],
   "source": [
    "endQ2profit_lastQ_real = checkPlan(startingCap2_lastQ, Q2_startingInv, Q3_startingInv, d2, U2_true, Q2_x_lastQ)"
   ]
  },
  {
   "cell_type": "code",
   "execution_count": null,
   "id": "4a48f818",
   "metadata": {},
   "outputs": [],
   "source": []
  }
 ],
 "metadata": {
  "kernelspec": {
   "display_name": "Julia 1.6.2",
   "language": "julia",
   "name": "julia-1.6"
  },
  "language_info": {
   "file_extension": ".jl",
   "mimetype": "application/julia",
   "name": "julia",
   "version": "1.6.2"
  }
 },
 "nbformat": 4,
 "nbformat_minor": 5
}
