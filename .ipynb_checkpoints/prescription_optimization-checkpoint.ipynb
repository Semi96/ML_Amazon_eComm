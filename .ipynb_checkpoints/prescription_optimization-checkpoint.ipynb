{
 "cells": [
  {
   "cell_type": "markdown",
   "id": "c12c4649",
   "metadata": {},
   "source": [
    "# ML Project: eCommerce Inventory Prescription"
   ]
  },
  {
   "cell_type": "code",
   "execution_count": null,
   "id": "63e45336",
   "metadata": {},
   "outputs": [],
   "source": [
    "using JuMP\n",
    "using Gurobi\n",
    "using CSV\n",
    "using DataFrames;"
   ]
  },
  {
   "cell_type": "code",
   "execution_count": null,
   "id": "2afe5847",
   "metadata": {},
   "outputs": [],
   "source": [
    "# placeholders\n",
    "items_tot = 20 # 20 items\n",
    "time_tot = 52 # 52 weeks in a year"
   ]
  },
  {
   "cell_type": "markdown",
   "id": "9198ce44",
   "metadata": {},
   "source": [
    "#### decision vars ####\n",
    "x[i,t] --> inventory order from Supplier of product i at time t\n",
    "\n",
    "s[i,t] --> inventory available for sale (at AMZ warehouse) for product i at time t\n",
    "\n",
    "#### params ####\n",
    "d[i,t] --> demand for product i at time t\n",
    "\n",
    "r[i] --> sales price for product i\n",
    "\n",
    "c[i] --> manufacturing cost for product i\n",
    "\n",
    "tr[i] --> transportation cost for product i\n",
    "\n",
    "\n",
    "we'll incorporate volume later - for initial, lets assume fixed unit costs\n",
    "\n",
    "v[i] --> volume (size) of product i\n",
    "\n",
    "fba --> AMZ storage fee: $19/cbm per month\n",
    "\n",
    "m[t] --> capital (money) available to purchase inventory at time t\n",
    "\n",
    "\n",
    "revenue = 0.70 * sum( d[i,t]*r[i] for i=1:items_tot, t=1:time_tot ) --> amazon takes 30% cut\n",
    "\n",
    "cost = sum( x[i,t]*(c[i]+tr[i]) for i=1:items_tot, t=1:time_tot ) + sum( fba*s[i,t] for i=1:items_tot, t=1:time_tot:4 )\n",
    "\n",
    "    --> manu + transport cost of orders + monthly inventory fee for whatever inventory we have\n"
   ]
  },
  {
   "cell_type": "code",
   "execution_count": null,
   "id": "07ae08ce",
   "metadata": {},
   "outputs": [],
   "source": [
    "starting_inv = [1, ..., 19]"
   ]
  },
  {
   "cell_type": "code",
   "execution_count": null,
   "id": "ae0536a4",
   "metadata": {},
   "outputs": [],
   "source": [
    "fba = 19\n",
    "\n",
    "model = Model(with_optimizer(Gurobi.Optimizer))\n",
    "set_optimizer_attribute(model, \"OutputFlag\", 0)\n",
    "\n",
    "@variable(model, x[i=1:items_tot, t=1:time_tot] >= 0, Int)\n",
    "@variable(model, s[i=1:items_tot, t=1:time_tot] >= 0, Int)\n",
    "@variable(model, m[t=1:time_tot] >= 0)\n",
    "\n",
    "# capital is available 2 weeks after a product's sale\n",
    "@constraint(model, [t=1:(time_tot-2)], m[t+2] == 0.7*sum(d[i,t]*r[i] for i=1:items_tot))\n",
    "# the cost of inventory orders at time t must be less than our available capital\n",
    "@constraint(model, [t=1:time_tot], sum(x[i,t]*(c[i]+tr[i]) for i=1:items_tot) <= m[t])\n",
    "# sales at time t reduce inventory at warehouse \n",
    "@constraint(model, [i=1:items_tot, t=8:(time_tot-1)], s[i,t+1] == s[i,t] - d[i,t] + x[i,t-7])\n",
    "# inventory orders at time t are available for sale (arrive at warehouse) 8 weeks later\n",
    "# @constraint(model, [i=1:items_tot, t=1:time_tot], s[i,t+8] == s[i,t+7] + x[i,t])\n",
    "\n",
    "# address the first 1-8 weeks of supply\n",
    "@constraint(model, [t=1:7], s[i,t+1] == s[i,t] - d[i,t])\n",
    "@constraint(model, s[i,1] = starting_inv[i] - d[i,1])\n",
    "\n",
    "@objective(model, Max, 0.7*sum(d[i,t]*r[i] - x[i,t]*(c[i]+tr[i]) - 0.25*fba*s[i,t] for i=1:items_tot, for t=1:time_tot))"
   ]
  },
  {
   "cell_type": "code",
   "execution_count": null,
   "id": "bb30ecd9",
   "metadata": {},
   "outputs": [],
   "source": []
  },
  {
   "cell_type": "code",
   "execution_count": null,
   "id": "107d6a77",
   "metadata": {},
   "outputs": [],
   "source": []
  }
 ],
 "metadata": {
  "kernelspec": {
   "display_name": "Julia 1.6.2",
   "language": "julia",
   "name": "julia-1.6"
  },
  "language_info": {
   "file_extension": ".jl",
   "mimetype": "application/julia",
   "name": "julia",
   "version": "1.6.2"
  }
 },
 "nbformat": 4,
 "nbformat_minor": 5
}
