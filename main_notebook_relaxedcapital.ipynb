{
 "cells": [
  {
   "cell_type": "markdown",
   "id": "c12c4649",
   "metadata": {},
   "source": [
    "# ML Project: eCommerce Inventory Prescription"
   ]
  },
  {
   "cell_type": "markdown",
   "id": "a4216485",
   "metadata": {},
   "source": [
    "## Sources:\n",
    "\n",
    "1. Getting cass index: https://fred.stlouisfed.org/series/FRGSHPUSM649NCIS\n",
    "2. Insight into potential predictive features: https://dspace.mit.edu/bitstream/handle/1721.1/126484/scm2020-huang-a-predictive-model-for-transpacific-eastbound-ocean-freight-pricing-capstone.pdf?sequence=1&isAllowed=y\n",
    "3. crude oil prices: https://www.indexmundi.com/commodities/?commodity=crude-oil&months=360\n",
    "4. OLD: exchange rate: https://fred.stlouisfed.org/series/EXCHUS\n",
    "5. US CPI: https://fred.stlouisfed.org/series/CPIAUCSL\n",
    "6. US PMI: https://data.nasdaq.com/data/ISM/MAN_PMI-pmi-composite-index\n",
    "7. OLD: China PMI:\n"
   ]
  },
  {
   "cell_type": "markdown",
   "id": "4ffe8885",
   "metadata": {},
   "source": [
    "## Data / Methodolgy\n",
    "\n",
    "We need to predict the average US freight cost for a three month horizon. For the purposes of our problem, all items travel the same distance from the manufacturer to the warehouse. Since we are assuming that we are shipping less-than-truckload (LTL) shipments, cost is determined solely by weight of shipped items. We are using the CASS index to determine historical freight prices in the US. (insert explanation of CASS index). We can then estimate transportation costs accordingly: find average shipping cost per pound for the last month of our training set ($\\text{\\$/lb}_{N}$), associated with $\\text{CASS Index}_{N}$, and back-compute all prior shipping costs per pound using the relationship between $\\text{CASS Index}_{N}$ and the CASS index of the prior months.\n",
    "\n",
    "To \"predict\" shipping rate, we will use the following features:\n",
    "- oil price\n",
    "- exchange rate (CH/US)   (might not need this one)\n",
    "- US CPI\n",
    "- US PMI\n",
    "- Year\n",
    "- Month\n",
    "\n",
    "We got the above data from (sources). We found our other data (demand and individual item costs) from... (Semi)\n",
    "\n",
    "Simple linear regression of the non-aggregated data shows that there is explanability in these features (in-sample R^2 of 0.5). \n",
    "\n",
    "Since we have a year of data, we can run the optimization 4 times, since our horizon is 1 quarter. Thus, we need 4 test periods, with each period correponding to 13 weeks of data. \n",
    "\n",
    "We'll break down the demand into 4 chunks of 13 weeks each (13 x 4 = 52). We can accordingly group the CASS data (response and features) into 3 month periods (quarters, thus 4 for each year), with the features being:\n",
    "- Year\n",
    "- Quarter\n",
    "- Following features for the beginning of the quarter (taken from first month of quarter)\n",
    "    - oil price\n",
    "    - exchange rate (CH/US)   (might not need this one)\n",
    "    - US CPI\n",
    "    - US PMI \n",
    "    \n",
    "This will let us find the neighbors of the 4 test quarters, since at the beginning of these quarters we will know the values of all the features. \n",
    "\n",
    "Simple linear regression of aggregated (quarterized) data leads to train R-squared of 0.5511. \n",
    "\n",
    "Essentially our analysis is by quarter, so we'll have projected profit (using prescription), baseline profit (simply using predicted avg CASS for quater), and ideal profit (oracle approach) for all four quarters.\n",
    "\n",
    "\n",
    "Thus, work to do right now is:\n",
    "- break down predicted demand into 4 matrices (19 x 13) each (we'll have to throw a week out, or include it in the last quarter or something)\n",
    "- rewrite model to incorporate shipping costs per pound estimate and to account for change in horizon (change lead time to two weeks) \n",
    "- find simple prediction and oracle profits"
   ]
  },
  {
   "cell_type": "code",
   "execution_count": 175,
   "id": "63e45336",
   "metadata": {},
   "outputs": [
    {
     "name": "stdout",
     "output_type": "stream",
     "text": [
      "Academic license - for non-commercial use only - expires 2022-08-19\r\n"
     ]
    }
   ],
   "source": [
    "using JuMP\n",
    "using Gurobi\n",
    "using CSV\n",
    "using DataFrames\n",
    "using Random, Statistics\n",
    "using NearestNeighbors, Dates\n",
    "ENV[\"COLUMNS\"]=120;\n",
    "gurobi_env = Gurobi.Env();"
   ]
  },
  {
   "cell_type": "markdown",
   "id": "9198ce44",
   "metadata": {},
   "source": [
    "#### decision vars ####\n",
    "x[i,t] --> inventory order from Supplier of product i at time t\n",
    "\n",
    "j[i,t] --> how much we are selling of product i in time t\n",
    "\n",
    "\n",
    "#### technically decision vars but not really decisions ####\n",
    "s[i,t] --> inventory available for sale (at AMZ warehouse) for product i at time t\n",
    "\n",
    "m[t] --> capital (money) available to purchase inventory at time t\n",
    "\n",
    "#### params ####\n",
    "d[i,t] --> demand for product i at time t\n",
    "\n",
    "r[i] --> sales price for product i\n",
    "\n",
    "c[i] --> manufacturing cost for product i\n",
    "\n",
    "tr[i] --> transportation cost for product i\n",
    "\n",
    "\n",
    "we'll incorporate volume later - for initial, lets assume fixed unit costs\n",
    "\n",
    "v[i] --> volume (size) of product i\n",
    "\n",
    "fba --> AMZ storage fee: $19/cbm per month\n",
    "\n",
    "\n",
    "\n",
    "revenue = 0.70 * sum( d[i,t]*r[i] for i=1:items_tot, t=1:time_tot ) --> amazon takes 30% cut\n",
    "\n",
    "cost = sum( x[i,t]*(c[i]+tr[i]) for i=1:items_tot, t=1:time_tot ) + sum( fba*s[i,t] for i=1:items_tot, t=1:time_tot:4 )\n",
    "\n",
    "    --> manu + transport cost of orders + monthly inventory fee for whatever inventory we have\n"
   ]
  },
  {
   "cell_type": "markdown",
   "id": "cd0ad4ac",
   "metadata": {},
   "source": [
    "Transportation cost is something that we want to predict -- \n",
    "\n",
    "w[t] = total weight of items being shipped in week t\n",
    "    \n",
    "$\\hat{S}$[m] = uncertain shipping cost in month m - found using CASS index\n",
    "    \n",
    " \n",
    " Thus, total trans cost for week t = \n",
    " \n",
    " w[t] * S[m(t)]"
   ]
  },
  {
   "cell_type": "markdown",
   "id": "87699f79",
   "metadata": {},
   "source": [
    "## RUNNING MODEL"
   ]
  },
  {
   "cell_type": "code",
   "execution_count": 176,
   "id": "e989a004",
   "metadata": {
    "scrolled": true
   },
   "outputs": [],
   "source": [
    "#### load data ####\n",
    "\n",
    "# train/tests for finding KNN\n",
    "trainQ1 = CSV.read(\"data/data_final_train_Q1.csv\", DataFrame)[:,2:end]\n",
    "testQ1 = CSV.read(\"data/data_final_test_Q1.csv\", DataFrame)\n",
    "trainQ2 = CSV.read(\"data/data_final_train_Q2.csv\", DataFrame)[:,2:end]\n",
    "testQ2 = CSV.read(\"data/data_final_test_Q2.csv\", DataFrame)\n",
    "trainQ3 = CSV.read(\"data/data_final_train_Q3.csv\", DataFrame)[:,2:end]\n",
    "testQ3 = CSV.read(\"data/data_final_test_Q3.csv\", DataFrame)\n",
    "trainQ4 = CSV.read(\"data/data_final_train_Q4.csv\", DataFrame)[:,2:end]\n",
    "testQ4 = CSV.read(\"data/data_final_test_Q4.csv\", DataFrame)\n",
    "\n",
    "\n",
    "# demands\n",
    "demand_Q1 = CSV.read(\"data/salesByWeek_Q1.csv\", DataFrame)\n",
    "demand_Q2 = CSV.read(\"data/salesByWeek_Q2.csv\", DataFrame)\n",
    "demand_Q3 = CSV.read(\"data/salesByWeek_Q3.csv\", DataFrame)\n",
    "demand_Q4 = CSV.read(\"data/salesByWeek_Q4.csv\", DataFrame)\n",
    "d1 = Matrix(demand_Q1)[:,3:end]\n",
    "d2 = Matrix(demand_Q2)[:,3:end]\n",
    "d3 = Matrix(demand_Q3)[:,3:end]\n",
    "d4 = Matrix(demand_Q4)[:,3:end]\n",
    "Q1_startingInv = sum(d1[:,1:2], dims=2);\n",
    "Q2_startingInv = sum(d2[:,1:2], dims=2);\n",
    "Q3_startingInv = sum(d3[:,1:2], dims=2);\n",
    "Q4_startingInv = sum(d4[:,1:2], dims=2);\n",
    "\n",
    "\n",
    "# fixed item prices and fees\n",
    "prices = CSV.read(\"data/prices.csv\", DataFrame)\n",
    "itemInfo = CSV.read(\"data/costEstimates.csv\", DataFrame)\n",
    "\n",
    "# set lead time\n",
    "leadtime=2\n",
    "\n",
    "# get constant vectors from data\n",
    "r = itemInfo[:,2]\n",
    "c = itemInfo[:,3]\n",
    "f = itemInfo[:,5]\n",
    "FBA = itemInfo[:,7]\n",
    "w = itemInfo[:,10];"
   ]
  },
  {
   "cell_type": "code",
   "execution_count": 180,
   "id": "3cd8eb4b",
   "metadata": {},
   "outputs": [
    {
     "data": {
      "text/plain": [
       "runModel (generic function with 1 method)"
      ]
     },
     "execution_count": 180,
     "metadata": {},
     "output_type": "execute_result"
    }
   ],
   "source": [
    "## WITHOUT PRESCRIPTION\n",
    "\n",
    "# model function\n",
    "function runModel(startingCap, startingInv, nextQstartingInv, D, U)\n",
    "\n",
    "    P = size(D)[1]\n",
    "    T = size(D)[2]\n",
    "\n",
    "    modelNoPres = Model(with_optimizer(Gurobi.Optimizer,TimeLimit=60, gurobi_env));\n",
    "    set_optimizer_attribute(modelNoPres, \"OutputFlag\", 0)\n",
    "\n",
    "    @variable(modelNoPres, x[i=1:P, t=1:T] >= 0) # main decision\n",
    "    @variable(modelNoPres, j[i=1:P, t=1:T] >= 0) \n",
    "    @variable(modelNoPres, s[i=1:P, t=1:T] >= 0) \n",
    "    @variable(modelNoPres, m[t=1:T])\n",
    "    @variable(modelNoPres, lambda[t=1:T] >= 0)\n",
    "\n",
    "    # profit (capital) in every week = last week's + 2 weeks ago's sales - this weeks cost\n",
    "    @constraint(modelNoPres, [t=1:T-2], m[t+2] == m[t+1] + sum(j[i,t]*(r[i] - f[i]) for i=1:P) - lambda[t+1])\n",
    "    @constraint(modelNoPres, m[1] == startingCap)\n",
    "    @constraint(modelNoPres, m[2] == m[1] - lambda[1])\n",
    "    # cost in week is equal to purchasing cost + trans cost + storage cost\n",
    "    @constraint(modelNoPres, [t=1:T], lambda[t] == sum(x[i,t]*c[i] for i=1:P) + U*sum(x[i,t]*w[i] for i=1:P) + sum(s[i,t]*FBA[i] for i=1:P))\n",
    "    # sales capped by storage and demand\n",
    "    @constraint(modelNoPres, [i=1:P,t=1:T], j[i,t] <= s[i,t])\n",
    "    @constraint(modelNoPres, [i=1:P,t=1:T], j[i,t] <= D[i,t])\n",
    "    # cannot spend more than we have in capital at beginning of week\n",
    "    #@constraint(modelNoPres, [t=1:T], lambda[t] <= m[t])\n",
    "    # inventory in week is equal to prev week inv - what we sold last week + what we ordered two weeks ago\n",
    "    @constraint(modelNoPres, [i=1:P,t=leadtime:T-1], s[i,t+1] == s[i,t] - j[i,t] + x[i,t-1])\n",
    "    @constraint(modelNoPres, [i=1:P], s[i,2] == s[i,1] - j[i,1])\n",
    "    @constraint(modelNoPres, [i=1:P], s[i,1] == startingInv[i])\n",
    "    # ending inventory (T=14) must be enough to start next quarter (whatever is left after last week\n",
    "    # + what we ordered in the second to last week)\n",
    "    @constraint(modelNoPres, [i=1:P], s[i,T] - j[i,T] + x[i,T-1] >= nextQstartingInv[i])\n",
    "    \n",
    "    @objective(modelNoPres, Max, m[T] + sum(j[i,T-1]*(r[i] - f[i]) for i=1:P) - lambda[T])\n",
    "    #@objective(modelNoPres, Max, m[T])\n",
    "    \n",
    "    optimize!(modelNoPres)\n",
    "\n",
    "    #termination_status(model)\n",
    "    return objective_value(modelNoPres), value.(x)\n",
    "    \n",
    "end"
   ]
  },
  {
   "cell_type": "markdown",
   "id": "d4e78334",
   "metadata": {},
   "source": [
    "# TEST SECTION"
   ]
  },
  {
   "cell_type": "code",
   "execution_count": 164,
   "id": "2ee7faba",
   "metadata": {},
   "outputs": [],
   "source": [
    "# testing it without constraints on capital\n",
    "# ORACLE\n",
    "Q1_startingInv = zeros(19)\n",
    "U1_true = testQ1[1,7]\n",
    "testProf, test_x, test_j, test_s, test_m, test_lambda = runModel(0, Q1_startingInv, Q2_startingInv, d1, U1_true);"
   ]
  },
  {
   "cell_type": "code",
   "execution_count": 165,
   "id": "a4244d83",
   "metadata": {},
   "outputs": [
    {
     "data": {
      "text/plain": [
       "1.5056136948115781e6"
      ]
     },
     "execution_count": 165,
     "metadata": {},
     "output_type": "execute_result"
    }
   ],
   "source": [
    "testProf"
   ]
  },
  {
   "cell_type": "code",
   "execution_count": 166,
   "id": "f8e496df",
   "metadata": {},
   "outputs": [
    {
     "data": {
      "text/plain": [
       "13-element Vector{Float64}:\n",
       "       0.0\n",
       " -158386.32182924214\n",
       " -334830.748491804\n",
       " -520660.0759609932\n",
       " -439952.0333377179\n",
       " -322265.9298210073\n",
       " -181579.23283077485\n",
       "   38823.180192610074\n",
       "  227058.67258879324\n",
       "  421154.2937119269\n",
       "  619434.7219212883\n",
       "       1.1367389899212883e6\n",
       "  996037.3648115781"
      ]
     },
     "execution_count": 166,
     "metadata": {},
     "output_type": "execute_result"
    }
   ],
   "source": [
    "test_m"
   ]
  },
  {
   "cell_type": "code",
   "execution_count": 167,
   "id": "7f1ed8cb",
   "metadata": {},
   "outputs": [
    {
     "data": {
      "text/plain": [
       "19×13 Matrix{Float64}:\n",
       " 0.0  0.0   40.0   65.0   50.0   58.0   61.0   58.0   70.0   86.0   67.0   75.0  0.0\n",
       " 0.0  0.0   68.0   61.0   78.0  118.0  109.0   99.0   97.0  109.0  111.0  108.0  0.0\n",
       " 0.0  0.0   97.0   97.0   91.0  117.0  116.0  140.0  120.0  161.0  138.0  127.0  0.0\n",
       " 0.0  0.0   73.0   69.0   65.0  102.0  117.0  117.0   86.0   97.0  123.0  125.0  0.0\n",
       " 0.0  0.0  335.0  360.0  327.0  407.0  437.0  426.0  487.0  498.0  516.0  522.0  0.0\n",
       " 0.0  0.0  364.0  376.0  398.0  427.0  557.0  525.0  457.0  527.0  564.0  577.0  0.0\n",
       " 0.0  0.0  184.0  166.0  217.0  246.0  254.0  262.0  260.0  286.0  331.0  289.0  0.0\n",
       " 0.0  0.0  161.0  148.0  158.0  212.0  215.0  196.0  225.0  279.0  262.0  289.0  0.0\n",
       " 0.0  0.0   60.0   58.0   57.0   68.0   90.0   76.0   88.0   81.0   84.0   75.0  0.0\n",
       " 0.0  0.0   71.0   72.0   84.0   94.0   92.0   94.0  104.0  108.0   96.0  102.0  0.0\n",
       " 0.0  0.0   73.0  105.0  104.0  131.0   96.0  102.0  111.0  116.0  116.0  114.0  0.0\n",
       " 0.0  0.0   11.0    8.0    5.0   11.0   11.0    6.0    9.0   11.0    9.0   12.0  0.0\n",
       " 0.0  0.0    8.0   10.0   12.0   12.0    7.0    9.0   12.0   15.0   11.0   17.0  0.0\n",
       " 0.0  0.0  242.0  264.0  295.0  337.0  395.0  376.0  402.0  406.0  447.0  434.0  0.0\n",
       " 0.0  0.0   49.0   57.0   58.0   63.0   73.0   72.0   75.0   92.0   69.0   85.0  0.0\n",
       " 0.0  0.0   40.0   51.0   53.0   79.0   73.0   66.0   70.0   81.0   72.0   84.0  0.0\n",
       " 0.0  0.0  302.0  295.0  315.0  429.0  377.0  415.0  474.0  444.0  444.0  424.0  0.0\n",
       " 0.0  0.0   31.0   34.0   31.0   26.0   38.0   25.0   36.0   40.0   48.0   35.0  0.0\n",
       " 0.0  0.0  236.0  271.0  278.0  303.0  313.0  312.0  352.0  392.0  379.0  378.0  0.0"
      ]
     },
     "execution_count": 167,
     "metadata": {},
     "output_type": "execute_result"
    }
   ],
   "source": [
    "test_j"
   ]
  },
  {
   "cell_type": "code",
   "execution_count": 168,
   "id": "c631bb35",
   "metadata": {},
   "outputs": [
    {
     "data": {
      "text/plain": [
       "19×13 Matrix{Float64}:\n",
       "  40.0   65.0   50.0   58.0   61.0   58.0   70.0   86.0   67.0   75.0  0.0   185.0  0.0\n",
       "  68.0   61.0   78.0  118.0  109.0   99.0   97.0  109.0  111.0  108.0  0.0   249.0  0.0\n",
       "  97.0   97.0   91.0  117.0  116.0  140.0  120.0  161.0  138.0  127.0  0.0   330.0  0.0\n",
       "  73.0   69.0   65.0  102.0  117.0  117.0   86.0   97.0  123.0  125.0  0.0   318.0  0.0\n",
       " 335.0  360.0  327.0  407.0  437.0  426.0  487.0  498.0  516.0  522.0  0.0  1316.0  0.0\n",
       " 364.0  376.0  398.0  427.0  557.0  525.0  457.0  527.0  564.0  577.0  0.0  1307.0  0.0\n",
       " 184.0  166.0  217.0  246.0  254.0  262.0  260.0  286.0  331.0  289.0  0.0   702.0  0.0\n",
       " 161.0  148.0  158.0  212.0  215.0  196.0  225.0  279.0  262.0  289.0  0.0   607.0  0.0\n",
       "  60.0   58.0   57.0   68.0   90.0   76.0   88.0   81.0   84.0   75.0  0.0   200.0  0.0\n",
       "  71.0   72.0   84.0   94.0   92.0   94.0  104.0  108.0   96.0  102.0  0.0   266.0  0.0\n",
       "  73.0  105.0  104.0  131.0   96.0  102.0  111.0  116.0  116.0  114.0  0.0   320.0  0.0\n",
       "  11.0    8.0    5.0   11.0   11.0    6.0    9.0   11.0    9.0   12.0  0.0    33.0  0.0\n",
       "   8.0   10.0   12.0   12.0    7.0    9.0   12.0   15.0   11.0   17.0  0.0    36.0  0.0\n",
       " 242.0  264.0  295.0  337.0  395.0  376.0  402.0  406.0  447.0  434.0  0.0  1083.0  0.0\n",
       "  49.0   57.0   58.0   63.0   73.0   72.0   75.0   92.0   69.0   85.0  0.0   186.0  0.0\n",
       "  40.0   51.0   53.0   79.0   73.0   66.0   70.0   81.0   72.0   84.0  0.0   175.0  0.0\n",
       " 302.0  295.0  315.0  429.0  377.0  415.0  474.0  444.0  444.0  424.0  0.0  1072.0  0.0\n",
       "  31.0   34.0   31.0   26.0   38.0   25.0   36.0   40.0   48.0   35.0  0.0   105.0  0.0\n",
       " 236.0  271.0  278.0  303.0  313.0  312.0  352.0  392.0  379.0  378.0  0.0   982.0  0.0"
      ]
     },
     "execution_count": 168,
     "metadata": {},
     "output_type": "execute_result"
    }
   ],
   "source": [
    "test_x"
   ]
  },
  {
   "cell_type": "code",
   "execution_count": 169,
   "id": "86901ffd",
   "metadata": {},
   "outputs": [
    {
     "data": {
      "text/plain": [
       "13-element Vector{Float64}:\n",
       " 158386.32182924214\n",
       " 176444.42666256186\n",
       " 185829.32746918921\n",
       " 231186.9673767247\n",
       " 230350.46648328935\n",
       " 224235.98300976757\n",
       " 233580.06697661508\n",
       " 264257.69760381687\n",
       " 245878.37887686642\n",
       " 260031.63179063858\n",
       "   1414.7320000000002\n",
       " 623189.3051097101\n",
       "      0.0"
      ]
     },
     "execution_count": 169,
     "metadata": {},
     "output_type": "execute_result"
    }
   ],
   "source": [
    "test_lambda"
   ]
  },
  {
   "cell_type": "code",
   "execution_count": 170,
   "id": "78573ced",
   "metadata": {},
   "outputs": [
    {
     "data": {
      "text/plain": [
       "19×13 Matrix{Float64}:\n",
       " 0.0  0.0   40.0   65.0   50.0   58.0   61.0   58.0   70.0   86.0   67.0   75.0  0.0\n",
       " 0.0  0.0   68.0   61.0   78.0  118.0  109.0   99.0   97.0  109.0  111.0  108.0  0.0\n",
       " 0.0  0.0   97.0   97.0   91.0  117.0  116.0  140.0  120.0  161.0  138.0  127.0  0.0\n",
       " 0.0  0.0   73.0   69.0   65.0  102.0  117.0  117.0   86.0   97.0  123.0  125.0  0.0\n",
       " 0.0  0.0  335.0  360.0  327.0  407.0  437.0  426.0  487.0  498.0  516.0  522.0  0.0\n",
       " 0.0  0.0  364.0  376.0  398.0  427.0  557.0  525.0  457.0  527.0  564.0  577.0  0.0\n",
       " 0.0  0.0  184.0  166.0  217.0  246.0  254.0  262.0  260.0  286.0  331.0  289.0  0.0\n",
       " 0.0  0.0  161.0  148.0  158.0  212.0  215.0  196.0  225.0  279.0  262.0  289.0  0.0\n",
       " 0.0  0.0   60.0   58.0   57.0   68.0   90.0   76.0   88.0   81.0   84.0   75.0  0.0\n",
       " 0.0  0.0   71.0   72.0   84.0   94.0   92.0   94.0  104.0  108.0   96.0  102.0  0.0\n",
       " 0.0  0.0   73.0  105.0  104.0  131.0   96.0  102.0  111.0  116.0  116.0  114.0  0.0\n",
       " 0.0  0.0   11.0    8.0    5.0   11.0   11.0    6.0    9.0   11.0    9.0   12.0  0.0\n",
       " 0.0  0.0    8.0   10.0   12.0   12.0    7.0    9.0   12.0   15.0   11.0   17.0  0.0\n",
       " 0.0  0.0  242.0  264.0  295.0  337.0  395.0  376.0  402.0  406.0  447.0  434.0  0.0\n",
       " 0.0  0.0   49.0   57.0   58.0   63.0   73.0   72.0   75.0   92.0   69.0   85.0  0.0\n",
       " 0.0  0.0   40.0   51.0   53.0   79.0   73.0   66.0   70.0   81.0   72.0   84.0  0.0\n",
       " 0.0  0.0  302.0  295.0  315.0  429.0  377.0  415.0  474.0  444.0  444.0  424.0  0.0\n",
       " 0.0  0.0   31.0   34.0   31.0   26.0   38.0   25.0   36.0   40.0   48.0   35.0  0.0\n",
       " 0.0  0.0  236.0  271.0  278.0  303.0  313.0  312.0  352.0  392.0  379.0  378.0  0.0"
      ]
     },
     "execution_count": 170,
     "metadata": {},
     "output_type": "execute_result"
    }
   ],
   "source": [
    "test_s"
   ]
  },
  {
   "cell_type": "code",
   "execution_count": 171,
   "id": "43bf00bd",
   "metadata": {},
   "outputs": [
    {
     "data": {
      "text/plain": [
       "19-element Vector{Float64}:\n",
       "  185.0\n",
       "  249.0\n",
       "  330.0\n",
       "  318.0\n",
       " 1316.0\n",
       " 1307.0\n",
       "  702.0\n",
       "  607.0\n",
       "  200.0\n",
       "  266.0\n",
       "  320.0\n",
       "   33.0\n",
       "   36.0\n",
       " 1083.0\n",
       "  186.0\n",
       "  175.0\n",
       " 1072.0\n",
       "  105.0\n",
       "  982.0"
      ]
     },
     "execution_count": 171,
     "metadata": {},
     "output_type": "execute_result"
    }
   ],
   "source": [
    "nextperstartinginv = test_s[:,13] .- test_j[:,13] .+ test_x[:,13-1]"
   ]
  },
  {
   "cell_type": "code",
   "execution_count": 172,
   "id": "8d97a9d7",
   "metadata": {},
   "outputs": [
    {
     "data": {
      "text/plain": [
       "19×1 Matrix{Int64}:\n",
       "  185\n",
       "  249\n",
       "  330\n",
       "  318\n",
       " 1316\n",
       " 1307\n",
       "  702\n",
       "  607\n",
       "  200\n",
       "  266\n",
       "  320\n",
       "   33\n",
       "   36\n",
       " 1083\n",
       "  186\n",
       "  175\n",
       " 1072\n",
       "  105\n",
       "  982"
      ]
     },
     "execution_count": 172,
     "metadata": {},
     "output_type": "execute_result"
    }
   ],
   "source": [
    "Q2_startingInv"
   ]
  },
  {
   "cell_type": "markdown",
   "id": "0707af89",
   "metadata": {},
   "source": [
    "# END TEST SECTION"
   ]
  },
  {
   "cell_type": "code",
   "execution_count": 213,
   "id": "9a3d8470",
   "metadata": {},
   "outputs": [
    {
     "data": {
      "text/plain": [
       "runModelPres (generic function with 1 method)"
      ]
     },
     "execution_count": 213,
     "metadata": {},
     "output_type": "execute_result"
    }
   ],
   "source": [
    "## WITH PRESCRIPTION\n",
    "\n",
    "# model function\n",
    "function runModelPres(startingCap, startingInv, nextQstartingInv, D, U)\n",
    "\n",
    "    model = Model(with_optimizer(Gurobi.Optimizer,TimeLimit=60, gurobi_env));\n",
    "    set_optimizer_attribute(model, \"OutputFlag\", 0)\n",
    "    \n",
    "    if isa(U, Vector) == true\n",
    "        K = size(U)[1]\n",
    "    else\n",
    "        K = 1\n",
    "    end\n",
    "    \n",
    "    neighborWeight = zeros(K)\n",
    "    neighborWeight .= 1/K\n",
    "    \n",
    "    P = size(D)[1]\n",
    "    T = size(D)[2]\n",
    "\n",
    "    @variable(model, x[i=1:P, t=1:T] >= 0) # Main decision\n",
    "    @variable(model, j[i=1:P, t=1:T, k=1:K] >= 0) \n",
    "    @variable(model, s[i=1:P, t=1:T, k=1:K] >= 0) \n",
    "    @variable(model, m[t=1:T, k=1:K]) # can be in debt\n",
    "    @variable(model, lambda[t=1:T, k=1:K] >= 0)\n",
    "\n",
    "    # profit (capital) in every week = last week's + 2 weeks ago's sales - this weeks cost\n",
    "    @constraint(model, [t=1:T-2, k=1:K], m[t+2,k] == m[t+1,k] + sum(j[i,t,k]*(r[i] - f[i]) for i=1:P) - lambda[t+1,k])\n",
    "    @constraint(model, [k=1:K], m[1,k] == startingCap)\n",
    "    @constraint(model, [k=1:K], m[2,k] == m[1,k] - lambda[1,k])\n",
    "    # cost in week is equal to purchasing cost + trans cost + storage cost\n",
    "    @constraint(model, [t=1:T,k=1:K], lambda[t,k] == sum(x[i,t]*c[i] for i=1:P) + U[k]*sum(x[i,t]*w[i] for i=1:P) + sum(s[i,t,k]*FBA[i] for i=1:P))\n",
    "    # sales capped by storage and demand\n",
    "    @constraint(model, [i=1:P,t=1:T,k=1:K], j[i,t,k] <= s[i,t,k])\n",
    "    @constraint(model, [i=1:P,t=1:T,k=1:K], j[i,t,k] <= D[i,t])\n",
    "    # cannot spend more than we have in capital at beginning of week\n",
    "    #@constraint(model, [t=1:T,k=1:K], lambda[t,k] <= m[t,k])   # capital no longer constrained\n",
    "    # inventory in week is equal to prev week inv - what we sold last week + what we ordered two weeks ago\n",
    "    @constraint(model, [i=1:P,t=leadtime:T-1,k=1:K], s[i,t+1,k] == s[i,t,k] - j[i,t,k] + x[i,t-1])\n",
    "    @constraint(model, [i=1:P,k=1:K], s[i,2,k] == s[i,1,k] - j[i,1,k])\n",
    "    @constraint(model, [i=1:P,k=1:K], s[i,1,k] == startingInv[i])\n",
    "    # starting Inv (T=14) must be enough to start next quarter (whatever is left after last week\n",
    "    # + what we ordered in second to last week)\n",
    "    @constraint(model, [i=1:P,k=1:K], s[i,T,k] - j[i,T,k] + x[i,T-1] >= nextQstartingInv[i])\n",
    "    \n",
    "    @objective(model, Max, sum(neighborWeight[k]*(m[T,k] + sum(j[i,t,k]*(r[i] - f[i]) for i=1:P,t=T-1) - lambda[T,k]) for k=1:K))\n",
    "\n",
    "    optimize!(model)\n",
    "\n",
    "    #termination_status(model)\n",
    "    return objective_value(model), value.(x)\n",
    "    \n",
    "end"
   ]
  },
  {
   "cell_type": "code",
   "execution_count": 195,
   "id": "b3f71b15",
   "metadata": {},
   "outputs": [
    {
     "data": {
      "text/plain": [
       "findKNN (generic function with 1 method)"
      ]
     },
     "execution_count": 195,
     "metadata": {},
     "output_type": "execute_result"
    }
   ],
   "source": [
    "function findKNN(cass_data_in, test_point_in, k)\n",
    "   \n",
    "    cass_data = deepcopy(cass_data_in)\n",
    "    test_point = deepcopy(test_point_in)\n",
    "    \n",
    "    cass_mean = mean(cass_data[!, :avgCASS]) \n",
    "    cass_std = std(cass_data[!, :avgCASS])\n",
    "     \n",
    "    #select!(cass_data, Not(:Column1))\n",
    "    cass_data = append!(cass_data, test_point)\n",
    "\n",
    "    # normalize columns (except for year and quarter)\n",
    "    for col in names(cass_data)\n",
    "        if col == \"Year\" || col == \"Quarter\"\n",
    "            continue\n",
    "        end\n",
    "        cass_data[!, col] = (cass_data[!, col] .- mean(cass_data[!, col])) ./ std(cass_data[!, col])\n",
    "        #test_point[!, col] = (test_point[!, col] .- mean(test_point[!, col])) ./ std(test_point[!, col])\n",
    "    end\n",
    "    \n",
    "    test_point = DataFrame(cass_data[size(cass_data)[1], :])\n",
    "    X = Array(select(cass_data[1:(size(cass_data)[1]-1), :], Not(:avgCASS)))'\n",
    "    kd_tree = KDTree(X)\n",
    "    test_point = Array(select(test_point, Not(:avgCASS)))'\n",
    "    \n",
    "    id, dist = knn(kd_tree, test_point, k)\n",
    "    knn_predictions = cass_data[id[1],:].avgCASS\n",
    "    knn_predictions = knn_predictions .* cass_std .+ cass_mean\n",
    "    return knn_predictions\n",
    "end"
   ]
  },
  {
   "cell_type": "code",
   "execution_count": 196,
   "id": "ce3b3858",
   "metadata": {},
   "outputs": [
    {
     "data": {
      "text/plain": [
       "checkPlan (generic function with 1 method)"
      ]
     },
     "execution_count": 196,
     "metadata": {},
     "output_type": "execute_result"
    }
   ],
   "source": [
    "# HOW TO CHECK PRESCRIPTION AGAINST REALITY\n",
    "# should theoretically be able to set x = x_planned in the opt model\n",
    "# would be true U\n",
    "\n",
    "function checkPlan(startingCap, startingInv, nextQstartingInv, D, U, planned_x)\n",
    "\n",
    "    P = size(D)[1]\n",
    "    T = size(D)[2]\n",
    "\n",
    "    modelReality = Model(with_optimizer(Gurobi.Optimizer,TimeLimit=60, gurobi_env));\n",
    "    set_optimizer_attribute(modelReality, \"OutputFlag\", 0)\n",
    "\n",
    "    @variable(modelReality, x[i=1:P, t=1:T] >= 0) # main decision\n",
    "    @variable(modelReality, j[i=1:P, t=1:T] >= 0) \n",
    "    @variable(modelReality, s[i=1:P, t=1:T] >= 0) \n",
    "    @variable(modelReality, m[t=1:T])\n",
    "    @variable(modelReality, lambda[t=1:T] >= 0)\n",
    "\n",
    "    # set x = planned x\n",
    "    @constraint(modelReality, [i=1:P,t=1:T], x[i,t] == planned_x[i,t])\n",
    "    \n",
    "    # profit (capital) in every week = last week's + 2 weeks ago's sales - this weeks cost\n",
    "    @constraint(modelReality, [t=1:T-2], m[t+2] == m[t+1] + sum(j[i,t]*(r[i] - f[i]) for i=1:P) - lambda[t+1])\n",
    "    @constraint(modelReality, m[1] == startingCap)\n",
    "    @constraint(modelReality, m[2] == m[1] - lambda[1])\n",
    "    # cost in week is equal to purchasing cost + trans cost + storage cost\n",
    "    @constraint(modelReality, [t=1:T], lambda[t] == sum(x[i,t]*c[i] for i=1:P) + U*sum(x[i,t]*w[i] for i=1:P) + sum(s[i,t]*FBA[i] for i=1:P))\n",
    "    # sales capped by storage and demand\n",
    "    @constraint(modelReality, [i=1:P,t=1:T], j[i,t] <= s[i,t])\n",
    "    @constraint(modelReality, [i=1:P,t=1:T], j[i,t] <= D[i,t])\n",
    "    # cannot spend more than we have in capital at beginning of week\n",
    "    #@constraint(modelNoPres, [t=1:T], lambda[t] <= m[t])\n",
    "    # inventory in week is equal to prev week inv - what we sold last week + what we ordered two weeks ago\n",
    "    @constraint(modelReality, [i=1:P,t=leadtime:T-1], s[i,t+1] == s[i,t] - j[i,t] + x[i,t-1])\n",
    "    @constraint(modelReality, [i=1:P], s[i,2] == s[i,1] - j[i,1])\n",
    "    @constraint(modelReality, [i=1:P], s[i,1] == startingInv[i])\n",
    "    # ending inventory (T=14) must be enough to start next quarter (whatever is left after last week\n",
    "    # + what we ordered in the second to last week)\n",
    "    @constraint(modelReality, [i=1:P], s[i,T] - j[i,T] + x[i,T-1] >= nextQstartingInv[i])\n",
    "    \n",
    "    @objective(modelReality, Max, m[T] + sum(j[i,T-1]*(r[i] - f[i]) for i=1:P) - lambda[T])\n",
    "    #@objective(modelNoPres, Max, m[T])\n",
    "    \n",
    "    optimize!(modelReality)\n",
    "\n",
    "    #termination_status(model)\n",
    "    return objective_value(modelReality)\n",
    "    \n",
    "end"
   ]
  },
  {
   "cell_type": "markdown",
   "id": "d7bda20f",
   "metadata": {},
   "source": [
    "## Q1"
   ]
  },
  {
   "cell_type": "code",
   "execution_count": 214,
   "id": "616f1259",
   "metadata": {
    "scrolled": true
   },
   "outputs": [
    {
     "name": "stdout",
     "output_type": "stream",
     "text": [
      "Estimated Profits: \n",
      " - Prescription: $1.4886854495214005e6\n",
      " - Oracle:       $1.5056136948115781e6\n",
      " - Last Quarter: $1.500018490948422e6\n"
     ]
    }
   ],
   "source": [
    "# starting capital and inventory are 0\n",
    "startingCap1 = 0\n",
    "Q1_startingInv = zeros(19)\n",
    "\n",
    "# PRESCRIPTION\n",
    "U1_pres = findKNN(trainQ1, testQ1, 5)\n",
    "Q1Prof_pres_est, Q1_pres_x = runModelPres(startingCap1, Q1_startingInv, Q2_startingInv, d1, U1_pres);\n",
    "\n",
    "# ORACLE\n",
    "U1_true = testQ1[1,7]\n",
    "Q1Prof_oracle_est, Q1_oracle_x = runModelPres(startingCap1, Q1_startingInv, Q2_startingInv, d1, U1_true);\n",
    "\n",
    "# LAST Q\n",
    "U1_lastQ = trainQ1[end,7]\n",
    "Q1Prof_lastQ_est, Q1_lastQ_x = runModelPres(startingCap1, Q1_startingInv, Q2_startingInv, d1, U1_lastQ);\n",
    "\n",
    "\n",
    "println(\"Estimated Profits: \")\n",
    "println(\" - Prescription: \\$\", Q1Prof_pres_est)\n",
    "println(\" - Oracle:       \\$\", Q1Prof_oracle_est)\n",
    "println(\" - Last Quarter: \\$\", Q1Prof_lastQ_est)"
   ]
  },
  {
   "cell_type": "markdown",
   "id": "4a7f6042",
   "metadata": {},
   "source": [
    "### Q1. Check how plans perform in reality"
   ]
  },
  {
   "cell_type": "code",
   "execution_count": 215,
   "id": "34e68bb1",
   "metadata": {},
   "outputs": [
    {
     "name": "stdout",
     "output_type": "stream",
     "text": [
      "Realized Profits: \n",
      " - Prescription: $1.505613694811578e6\n",
      " - Oracle:       $1.505613694811578e6\n",
      " - Last Quarter: $1.505613694811578e6\n"
     ]
    }
   ],
   "source": [
    "Q1Prof_pres_real = checkPlan(startingCap1, Q1_startingInv, Q2_startingInv, d1, U1_true, Q1_pres_x)\n",
    "Q1Prof_oracle_real = checkPlan(startingCap1, Q1_startingInv, Q2_startingInv, d1, U1_true, Q1_oracle_x)\n",
    "Q1Prof_lastQ_real = checkPlan(startingCap1, Q1_startingInv, Q2_startingInv, d1, U1_true, Q1_lastQ_x)\n",
    "\n",
    "println(\"Realized Profits: \")\n",
    "println(\" - Prescription: \\$\", Q1Prof_pres_real)\n",
    "println(\" - Oracle:       \\$\", Q1Prof_oracle_real)\n",
    "println(\" - Last Quarter: \\$\", Q1Prof_lastQ_real)"
   ]
  },
  {
   "cell_type": "markdown",
   "id": "f8a3faa5",
   "metadata": {},
   "source": [
    "## Q2"
   ]
  },
  {
   "cell_type": "code",
   "execution_count": 118,
   "id": "4b555c47",
   "metadata": {},
   "outputs": [
    {
     "name": "stdout",
     "output_type": "stream",
     "text": [
      "Estimated Profits: \n",
      " - Prescription: $5.384191656107818e6\n",
      " - Oracle:       $5.430483524186049e6\n",
      " - Last Quarter: $5.408877475546335e6\n"
     ]
    }
   ],
   "source": [
    "# PRESCRIPTION\n",
    "startingCap2_pres = Q1Prof_pres_real\n",
    "U2_pres = findKNN(trainQ2, testQ2, 5)\n",
    "Q2Prof_pres_est, Q2_pres_x = runModelPres(startingCap2_pres, Q2_startingInv, Q3_startingInv, d2, U2_pres);\n",
    "\n",
    "# ORACLE\n",
    "startingCap2_oracle = Q1Prof_oracle_real\n",
    "U2_true = testQ2[1,7]\n",
    "Q2Prof_oracle_est, Q2_oracle_x = runModel(startingCap2_oracle, Q2_startingInv, Q3_startingInv, d2, U2_true);\n",
    "\n",
    "# LAST Q\n",
    "startingCap2_lastQ = Q1Prof_lastQ_real\n",
    "U2_lastQ = trainQ2[end,7]\n",
    "Q2Prof_lastQ_est, Q2_lastQ_x = runModel(startingCap2_lastQ, Q2_startingInv, Q3_startingInv, d2, U2_lastQ);\n",
    "\n",
    "\n",
    "println(\"Estimated Profits: \")\n",
    "println(\" - Prescription: \\$\", Q2Prof_pres_est)\n",
    "println(\" - Oracle:       \\$\", Q2Prof_oracle_est)\n",
    "println(\" - Last Quarter: \\$\", Q2Prof_lastQ_est)"
   ]
  },
  {
   "cell_type": "markdown",
   "id": "62a63058",
   "metadata": {},
   "source": [
    "### Q2. Check how plans perform in reality"
   ]
  },
  {
   "cell_type": "code",
   "execution_count": 119,
   "id": "37aedde7",
   "metadata": {},
   "outputs": [
    {
     "name": "stdout",
     "output_type": "stream",
     "text": [
      "Realized Profits: \n",
      " - Prescription: $5.419515856030204e6\n",
      " - Oracle:       $5.43048352418605e6\n",
      " - Last Quarter: $5.427998424199156e6\n"
     ]
    }
   ],
   "source": [
    "Q2Prof_pres_real = checkPlan(startingCap2_pres, Q2_startingInv, Q3_startingInv, d2, U2_true, Q2_pres_x)\n",
    "Q2Prof_oracle_real = checkPlan(startingCap2_oracle, Q2_startingInv, Q3_startingInv, d2, U2_true, Q2_oracle_x)\n",
    "Q2Prof_lastQ_real = checkPlan(startingCap2_lastQ, Q2_startingInv, Q3_startingInv, d2, U2_true, Q2_lastQ_x)\n",
    "\n",
    "println(\"Realized Profits: \")\n",
    "println(\" - Prescription: \\$\", Q2Prof_pres_real)\n",
    "println(\" - Oracle:       \\$\", Q2Prof_oracle_real)\n",
    "println(\" - Last Quarter: \\$\", Q2Prof_lastQ_real)"
   ]
  },
  {
   "cell_type": "markdown",
   "id": "e4846231",
   "metadata": {},
   "source": [
    "## Q3"
   ]
  },
  {
   "cell_type": "code",
   "execution_count": 120,
   "id": "358af23e",
   "metadata": {},
   "outputs": [
    {
     "name": "stdout",
     "output_type": "stream",
     "text": [
      "Estimated Profits: \n",
      " - Prescription: $8.0190412060928475e6\n",
      " - Oracle:       $8.00972153324605e6\n",
      " - Last Quarter: $8.027429456879156e6\n"
     ]
    }
   ],
   "source": [
    "# PRESCRIPTION\n",
    "startingCap3_pres = Q2Prof_pres_real\n",
    "U3_pres = findKNN(trainQ3, testQ3, 5)\n",
    "Q3Prof_pres_est, Q3_pres_x = runModelPres(startingCap3_pres, Q3_startingInv, Q4_startingInv, d3, U3_pres);\n",
    "\n",
    "# ORACLE\n",
    "startingCap3_oracle = Q2Prof_oracle_real\n",
    "U3_true = testQ3[1,7]\n",
    "Q3Prof_oracle_est, Q3_oracle_x = runModel(startingCap3_oracle, Q3_startingInv, Q4_startingInv, d3, U3_true);\n",
    "\n",
    "# LAST Q\n",
    "startingCap3_lastQ = Q2Prof_lastQ_real\n",
    "U3_lastQ = trainQ3[end,7]\n",
    "Q3Prof_lastQ_est, Q3_lastQ_x = runModel(startingCap3_lastQ, Q3_startingInv, Q4_startingInv, d3, U3_lastQ);\n",
    "\n",
    "\n",
    "println(\"Estimated Profits: \")\n",
    "println(\" - Prescription: \\$\", Q3Prof_pres_est)\n",
    "println(\" - Oracle:       \\$\", Q3Prof_oracle_est)\n",
    "println(\" - Last Quarter: \\$\", Q3Prof_lastQ_est)"
   ]
  },
  {
   "cell_type": "markdown",
   "id": "6f8ce36b",
   "metadata": {},
   "source": [
    "### Q3. Check how plans perform in reality"
   ]
  },
  {
   "cell_type": "code",
   "execution_count": 124,
   "id": "64413d46",
   "metadata": {},
   "outputs": [
    {
     "name": "stdout",
     "output_type": "stream",
     "text": [
      "Realized Profits: \n",
      " - Oracle:       $8.00972153324605e6\n"
     ]
    }
   ],
   "source": [
    "#Q3Prof_pres_real = checkPlan(startingCap3_pres, Q3_startingInv, Q4_startingInv, d3, U3_true, Q3_pres_x)\n",
    "Q3Prof_oracle_real = checkPlan(startingCap3_oracle, Q3_startingInv, Q4_startingInv, d3, U3_true, Q3_oracle_x)\n",
    "#Q3Prof_lastQ_real = checkPlan(startingCap3_lastQ, Q3_startingInv, Q4_startingInv, d3, U3_true, Q3_lastQ_x)\n",
    "\n",
    "println(\"Realized Profits: \")\n",
    "#println(\" - Prescription: \\$\", Q3Prof_pres_real)\n",
    "println(\" - Oracle:       \\$\", Q3Prof_oracle_real)\n",
    "#println(\" - Last Quarter: \\$\", Q3Prof_lastQ_real)"
   ]
  },
  {
   "cell_type": "code",
   "execution_count": 92,
   "id": "c76725ca",
   "metadata": {},
   "outputs": [
    {
     "name": "stdout",
     "output_type": "stream",
     "text": [
      "Academic license - for non-commercial use only - expires 2022-08-19\r\n"
     ]
    }
   ],
   "source": [
    "# get quarter specific data\n",
    "startingCap3 = endQ2profit_real\n",
    "\n",
    "U3 = findKNN(trainQ3, testQ3, 5)\n",
    "\n",
    "# run model for q1\n",
    "endQ3profit, Q3_x = runModelPres(startingCap3, Q3_startingInv, Q4_startingInv, d3, U3);"
   ]
  },
  {
   "cell_type": "code",
   "execution_count": 93,
   "id": "09789ae2",
   "metadata": {
    "scrolled": true
   },
   "outputs": [
    {
     "data": {
      "text/plain": [
       "8.0190412060928475e6"
      ]
     },
     "execution_count": 93,
     "metadata": {},
     "output_type": "execute_result"
    }
   ],
   "source": [
    "endQ3profit_est"
   ]
  },
  {
   "cell_type": "code",
   "execution_count": 94,
   "id": "b2cd8151",
   "metadata": {},
   "outputs": [
    {
     "name": "stdout",
     "output_type": "stream",
     "text": [
      "Academic license - for non-commercial use only - expires 2022-08-19\r\n"
     ]
    }
   ],
   "source": [
    "# test against true U\n",
    "startingCap3_oracle = endQ2profit_oracle_real\n",
    "U3_true = testQ3[1,7]\n",
    "\n",
    "endQ3profit_oracle, Q3_x_oracle = runModel(startingCap3_oracle, Q3_startingInv, Q4_startingInv, d3, U3_true);"
   ]
  },
  {
   "cell_type": "code",
   "execution_count": 95,
   "id": "75495d15",
   "metadata": {},
   "outputs": [
    {
     "data": {
      "text/plain": [
       "8.00972153324605e6"
      ]
     },
     "execution_count": 95,
     "metadata": {},
     "output_type": "execute_result"
    }
   ],
   "source": [
    "endQ3profit_oracle"
   ]
  },
  {
   "cell_type": "code",
   "execution_count": 83,
   "id": "12334bc9",
   "metadata": {},
   "outputs": [
    {
     "name": "stdout",
     "output_type": "stream",
     "text": [
      "Academic license - for non-commercial use only - expires 2022-08-19\r\n"
     ]
    }
   ],
   "source": [
    "# test against prediction of U - just last quarter's U\n",
    "startingCap3_lastQ = endQ2profit_lastQ_real\n",
    "\n",
    "U3_lastQ = trainQ3[end,7]\n",
    "\n",
    "endQ3profit_lastQ, Q3_x_lastQ = runModel(startingCap3_lastQ, Q2_startingInv, Q3_startingInv, d2, U2_lastQ);"
   ]
  },
  {
   "cell_type": "code",
   "execution_count": 84,
   "id": "53cdd6cf",
   "metadata": {
    "scrolled": true
   },
   "outputs": [
    {
     "data": {
      "text/plain": [
       "5.408877475546335e6"
      ]
     },
     "execution_count": 84,
     "metadata": {},
     "output_type": "execute_result"
    }
   ],
   "source": [
    "endQ2profit_lastQ"
   ]
  },
  {
   "cell_type": "markdown",
   "id": "52709603",
   "metadata": {},
   "source": [
    "### Q3. Check how plans perform in reality"
   ]
  },
  {
   "cell_type": "code",
   "execution_count": 85,
   "id": "095918da",
   "metadata": {},
   "outputs": [
    {
     "name": "stdout",
     "output_type": "stream",
     "text": [
      "Academic license - for non-commercial use only - expires 2022-08-19\r\n"
     ]
    },
    {
     "data": {
      "text/plain": [
       "5.419515856030204e6"
      ]
     },
     "execution_count": 85,
     "metadata": {},
     "output_type": "execute_result"
    }
   ],
   "source": [
    "endQ2profit_real = checkPlan(startingCap2, Q2_startingInv, Q3_startingInv, d2, U2_true, Q2_x)"
   ]
  },
  {
   "cell_type": "code",
   "execution_count": 86,
   "id": "febe2da7",
   "metadata": {},
   "outputs": [
    {
     "name": "stdout",
     "output_type": "stream",
     "text": [
      "Academic license - for non-commercial use only - expires 2022-08-19\r\n"
     ]
    },
    {
     "data": {
      "text/plain": [
       "5.43048352418605e6"
      ]
     },
     "execution_count": 86,
     "metadata": {},
     "output_type": "execute_result"
    }
   ],
   "source": [
    "endQ2profit_oracle_real = checkPlan(startingCap2_oracle, Q2_startingInv, Q3_startingInv, d2, U2_true, Q2_x_oracle)"
   ]
  },
  {
   "cell_type": "code",
   "execution_count": 87,
   "id": "6b5a5663",
   "metadata": {
    "scrolled": true
   },
   "outputs": [
    {
     "name": "stdout",
     "output_type": "stream",
     "text": [
      "Academic license - for non-commercial use only - expires 2022-08-19\r\n"
     ]
    },
    {
     "data": {
      "text/plain": [
       "5.427998424199156e6"
      ]
     },
     "execution_count": 87,
     "metadata": {},
     "output_type": "execute_result"
    }
   ],
   "source": [
    "endQ2profit_lastQ_real = checkPlan(startingCap2_lastQ, Q2_startingInv, Q3_startingInv, d2, U2_true, Q2_x_lastQ)"
   ]
  },
  {
   "cell_type": "code",
   "execution_count": null,
   "id": "07684eb3",
   "metadata": {},
   "outputs": [],
   "source": []
  },
  {
   "cell_type": "code",
   "execution_count": null,
   "id": "8c5d9bba",
   "metadata": {},
   "outputs": [],
   "source": []
  },
  {
   "cell_type": "code",
   "execution_count": null,
   "id": "7c708e81",
   "metadata": {},
   "outputs": [],
   "source": []
  },
  {
   "cell_type": "code",
   "execution_count": null,
   "id": "5002f95f",
   "metadata": {},
   "outputs": [],
   "source": []
  },
  {
   "cell_type": "code",
   "execution_count": 255,
   "id": "9b1650c3",
   "metadata": {},
   "outputs": [
    {
     "data": {
      "text/plain": [
       "runModelPres (generic function with 2 methods)"
      ]
     },
     "execution_count": 255,
     "metadata": {},
     "output_type": "execute_result"
    }
   ],
   "source": [
    "## WITH PRESCRIPTION\n",
    "\n",
    "# model function\n",
    "function runModelPres(startingCap, startingInv, nextQstartingInv, e, D, U)\n",
    "\n",
    "    model = Model(with_optimizer(Gurobi.Optimizer,TimeLimit=60, gurobi_env));\n",
    "    set_optimizer_attribute(model, \"OutputFlag\", 0)\n",
    "    \n",
    "    if isa(U, Vector) == true\n",
    "        K = size(U)[1]\n",
    "    else\n",
    "        K = 1\n",
    "    end\n",
    "    \n",
    "    if isa(e, Vector) == true\n",
    "        L = 1\n",
    "    else\n",
    "        L = size(e)[2]\n",
    "    end\n",
    "    \n",
    "    kweight = zeros(K)\n",
    "    kweight .= 1/K\n",
    "    \n",
    "    lweight = zeros(L)\n",
    "    lweight .= 1/L\n",
    "    \n",
    "    P = size(D)[1]\n",
    "    T = size(D)[2]\n",
    "\n",
    "    @variable(model, x[i=1:P, t=1:T] >= 0) # Main decision\n",
    "    @variable(model, j[i=1:P, t=1:T, k=1:K, l=1:L] >= 0) \n",
    "    @variable(model, s[i=1:P, t=1:T, k=1:K, l=1:L] >= 0) \n",
    "    @variable(model, m[t=1:T, k=1:K, l=1:L])\n",
    "    @variable(model, lambda[t=1:T, k=1:K, l=1:L] >= 0)\n",
    "    @variable(model, notDemand[i=1:P,t=1:T,k=1:K, l=1:L] >=0)\n",
    "\n",
    "    # profit (capital) in every week = last week's + 2 weeks ago's sales - this weeks cost\n",
    "    @constraint(model, [t=1:T-2, k=1:K, l=1:L], m[t+2,k,l] == m[t+1,k,l] + sum(j[i,t,k,l]*(r[i] - f[i]) for i=1:P) - lambda[t+1,k,l])\n",
    "    @constraint(model, [k=1:K, l=1:L], m[1,k,l] == startingCap)\n",
    "    @constraint(model, [k=1:K, l=1:L], m[2,k,l] == m[1,k,l] - lambda[1,k,l])\n",
    "    # cost in week is equal to purchasing cost + trans cost + storage cost\n",
    "    @constraint(model, [t=1:T,k=1:K, l=1:L], lambda[t,k,l] == sum(x[i,t]*c[i] for i=1:P) + U[k]*sum(x[i,t]*w[i] for i=1:P) + sum(s[i,t,k,l]*FBA[i] for i=1:P) + sum(notDemand[i,t,k,l] for i=1:P))\n",
    "    # sales capped by storage and demand\n",
    "    @constraint(model, [i=1:P,t=1:T,k=1:K, l=1:L], j[i,t,k,l] <= s[i,t,k,l])\n",
    "    @constraint(model, [i=1:P,t=1:T,k=1:K, l=1:L], j[i,t,k,l] <= e[i,l]*D[i,t])\n",
    "    # cannot spend more than we have in capital at beginning of week\n",
    "    #@constraint(model, [t=1:T,k=1:K], lambda[t,k] <= m[t,k])   # capital no longer constrained\n",
    "    # inventory in week is equal to prev week inv - what we sold last week + what we ordered two weeks ago\n",
    "    @constraint(model, [i=1:P,t=leadtime:T-1,k=1:K, l=1:L], s[i,t+1,k,l] == s[i,t,k,l] - j[i,t,k,l] + x[i,t-1])\n",
    "    @constraint(model, [i=1:P,k=1:K, l=1:L], s[i,2,k,l] == s[i,1,k,l] - j[i,1,k,l])\n",
    "    @constraint(model, [i=1:P,k=1:K, l=1:L], s[i,1,k,l] == startingInv[i])\n",
    "    # starting Inv (T=14) must be enough to start next quarter (whatever is left after last week\n",
    "    # + what we ordered in second to last week)\n",
    "    @constraint(model, [i=1:P,k=1:K, l=1:L], s[i,T,k,l] - j[i,T,k,l] + x[i,T-1] >= nextQstartingInv[i])\n",
    "    @constraint(model, [i=1:P,t=1:T,k=1:K, l=1:L], notDemand[i,t,k,l] >= e[i,l]*D[i,t] - j[i,t,k,l])\n",
    "    \n",
    "    @objective(model, Max, sum(lweight[l]*sum(kweight[k]*(m[T,k,l] + sum(j[i,t,k,l]*(r[i] - f[i]) for i=1:P,t=T-1) - lambda[T,k,l]) for k=1:K) for l=1:L))\n",
    "\n",
    "    optimize!(model)\n",
    "\n",
    "    #termination_status(model)\n",
    "    return objective_value(model), value.(x), value.(notDemand)\n",
    "    \n",
    "end"
   ]
  },
  {
   "cell_type": "code",
   "execution_count": 279,
   "id": "9f71a33d",
   "metadata": {},
   "outputs": [
    {
     "data": {
      "text/plain": [
       "19-element Vector{Float64}:\n",
       " 0.655734541\n",
       " 0.86982255\n",
       " 1.2814704\n",
       " 1.249817154\n",
       " 1.463384874\n",
       " 1.440950714\n",
       " 1.118047349\n",
       " 0.631509619\n",
       " 1.229456726\n",
       " 0.934489525\n",
       " 0.704587291\n",
       " 1.240693616\n",
       " 1.372970192\n",
       " 0.955798501\n",
       " 1.479389604\n",
       " 0.929065942\n",
       " 0.871394064\n",
       " 1.151336744\n",
       " 0.961378016"
      ]
     },
     "execution_count": 279,
     "metadata": {},
     "output_type": "execute_result"
    }
   ],
   "source": [
    "e1_pres = Matrix(CSV.read(\"data/test_e_matrix.csv\", DataFrame, header=false))\n",
    "e1_true = Matrix(CSV.read(\"data/test_e_true.csv\", DataFrame, header=false))\n",
    "e1_lastQ = Vector(CSV.read(\"data/test_e_rand.csv\", DataFrame, header=false)[:,1])"
   ]
  },
  {
   "cell_type": "code",
   "execution_count": 280,
   "id": "05b570c4",
   "metadata": {
    "scrolled": true
   },
   "outputs": [
    {
     "name": "stdout",
     "output_type": "stream",
     "text": [
      "Estimated Profits: \n",
      " - Prescription: $846618.438547624\n",
      " - Oracle:       $1.4981984096115427e6\n",
      " - Last Quarter: $1.1572314482571208e6\n"
     ]
    }
   ],
   "source": [
    "# starting capital and inventory are 0\n",
    "startingCap1 = 0\n",
    "Q1_startingInv = zeros(19)\n",
    "\n",
    "# PRESCRIPTION\n",
    "U1_pres = findKNN(trainQ1, testQ1, 5)\n",
    "Q1Prof_pres_est, Q1_pres_x, Q1_pres_notD = runModelPres(startingCap1, Q1_startingInv, Q2_startingInv, e1_pres, d1, U1_pres);\n",
    "\n",
    "# ORACLE\n",
    "U1_true = testQ1[1,7]\n",
    "Q1Prof_oracle_est, Q1_oracle_x, Q1_pres_notD = runModelPres(startingCap1, Q1_startingInv, Q2_startingInv, e1_true, d1, U1_true);\n",
    "\n",
    "# LAST Q\n",
    "U1_lastQ = trainQ1[end,7]\n",
    "Q1Prof_lastQ_est, Q1_lastQ_x, Q1_pres_notD = runModelPres(startingCap1, Q1_startingInv, Q2_startingInv, e1_lastQ, d1, U1_lastQ);\n",
    "\n",
    "\n",
    "println(\"Estimated Profits: \")\n",
    "println(\" - Prescription: \\$\", Q1Prof_pres_est)\n",
    "println(\" - Oracle:       \\$\", Q1Prof_oracle_est)\n",
    "println(\" - Last Quarter: \\$\", Q1Prof_lastQ_est)"
   ]
  },
  {
   "cell_type": "code",
   "execution_count": 285,
   "id": "24e086c2",
   "metadata": {},
   "outputs": [
    {
     "data": {
      "text/plain": [
       "19×13 Matrix{Any}:\n",
       "  34   49   40   65   50   58   61   58   70   86   67   75   66\n",
       "  57   78   68   61   78  118  109   99   97  109  111  108  107\n",
       "  75   88   97   97   91  117  116  140  120  161  138  127  126\n",
       "  57   75   73   69   65  102  117  117   86   97  123  125  133\n",
       " 211  304  335  360  327  407  437  426  487  498  516  522  471\n",
       " 253  358  364  376  398  427  557  525  457  527  564  577  588\n",
       " 128  188  184  166  217  246  254  262  260  286  331  289  303\n",
       " 100  159  161  148  158  212  215  196  225  279  262  289  271\n",
       "  39   46   60   58   57   68   90   76   88   81   84   75   86\n",
       "  55   68   71   72   84   94   92   94  104  108   96  102  108\n",
       "  58   80   73  105  104  131   96  102  111  116  116  114  134\n",
       "   8    9   11    8    5   11   11    6    9   11    9   12   14\n",
       "   8    8    8   10   12   12    7    9   12   15   11   17   14\n",
       " 204  264  242  264  295  337  395  376  402  406  447  434  393\n",
       "  37   49   49   57   58   63   73   72   75   92   69   85   97\n",
       "  40   51   40   51   53   79   73   66   70   81   72   84   69\n",
       " 213  279  302  295  315  429  377  415  474  444  444  424  418\n",
       "  14   30   31   34   31   26   38   25   36   40   48   35   36\n",
       " 176  225  236  271  278  303  313  312  352  392  379  378  368"
      ]
     },
     "execution_count": 285,
     "metadata": {},
     "output_type": "execute_result"
    }
   ],
   "source": [
    "d1"
   ]
  },
  {
   "cell_type": "code",
   "execution_count": 283,
   "id": "83adb541",
   "metadata": {
    "scrolled": true
   },
   "outputs": [
    {
     "data": {
      "text/plain": [
       "19×13 Matrix{Float64}:\n",
       "  38.4551    62.4896    48.0689    55.7599    58.6441    55.7599   …   82.6785   64.4123    72.1034  0.0   185.0  0.0\n",
       "  65.3737    58.6441    74.9875   113.443    104.79      95.1764      121.867   124.103    120.749   0.0   249.0  0.0\n",
       "  92.7125    92.7125    86.9777   111.828    111.52     134.593       154.782   132.67     122.095   0.0   330.0  0.0\n",
       "  70.1806    66.3351    62.4896    98.0606   112.481    112.481        93.2537  118.249    120.172   0.0   318.0  0.0\n",
       " 429.293    461.329    419.041    521.558    560.003    584.885       683.739   708.453    716.69    0.0  1316.0  0.0\n",
       " 516.971    541.797    573.498    615.286    802.61     756.499    …  759.381   812.696    831.429   0.0  1307.0  0.0\n",
       " 205.721    185.596    242.616    275.04     283.984    292.928       319.762   370.074    323.116   0.0   702.0  0.0\n",
       " 180.006    165.471    176.651    237.026    240.38     219.137       311.935   292.928    323.116   0.0   607.0  0.0\n",
       "  57.3479    55.7599    54.7985    65.3737    86.524     73.0647       77.8716   80.7558    72.1034  0.0   200.0  0.0\n",
       "  79.3814    80.4994    93.916    105.096    102.86     105.096       120.749   107.333    114.041   0.0   266.0  0.0\n",
       "  81.6175   117.395    116.277    146.464    107.333    114.041    …  129.693   129.693    127.457   0.0   320.0  0.0\n",
       "   9.58533    6.97115    4.35697    9.58533    9.58533    5.22836      10.2197    8.36159   11.1488  0.0    33.0  0.0\n",
       "   6.95858    8.69823   10.4379    10.4379     6.08876    7.8284       13.0709    9.58533   14.8137  0.0    36.0  0.0\n",
       " 278.623    303.953    339.644    388.0      454.778    432.903       467.443   514.648    499.68    0.0  1083.0  0.0\n",
       "  54.7843    63.7287    64.8467    70.437     81.6175    80.4994      102.86     77.1453    95.034   0.0   186.0  0.0\n",
       "  44.7219    57.0204    59.2565    88.3257    81.6175    73.7911   …   90.5618   80.4994    93.916   0.0   175.0  0.0\n",
       " 347.704    339.644    362.671    493.923    434.054    477.805       511.194   511.194    488.167   0.0  1072.0  0.0\n",
       "  34.6595    38.0136    34.6595    29.0692    42.4858    27.9512       44.7219   53.6663    39.1317  0.0   105.0  0.0\n",
       " 271.715    312.012    320.072    348.855    360.368    359.217       451.324   436.357    435.205   0.0   982.0  0.0"
      ]
     },
     "execution_count": 283,
     "metadata": {},
     "output_type": "execute_result"
    }
   ],
   "source": [
    "Q1_lastQ_x"
   ]
  },
  {
   "cell_type": "code",
   "execution_count": 259,
   "id": "a034a333",
   "metadata": {},
   "outputs": [
    {
     "data": {
      "text/plain": [
       "19×13 Matrix{Float64}:\n",
       "  30.6   44.1  0.0  0.0  0.0  0.0  0.0  0.0  0.0  0.0  0.0  0.0   59.4\n",
       "  51.3   70.2  0.0  0.0  0.0  0.0  0.0  0.0  0.0  0.0  0.0  0.0   96.3\n",
       "  67.5   79.2  0.0  0.0  0.0  0.0  0.0  0.0  0.0  0.0  0.0  0.0  113.4\n",
       "  51.3   67.5  0.0  0.0  0.0  0.0  0.0  0.0  0.0  0.0  0.0  0.0  119.7\n",
       " 189.9  273.6  0.0  0.0  0.0  0.0  0.0  0.0  0.0  0.0  0.0  0.0    0.0\n",
       " 227.7  322.2  0.0  0.0  0.0  0.0  0.0  0.0  0.0  0.0  0.0  0.0    0.0\n",
       " 115.2  169.2  0.0  0.0  0.0  0.0  0.0  0.0  0.0  0.0  0.0  0.0  272.7\n",
       "  90.0  143.1  0.0  0.0  0.0  0.0  0.0  0.0  0.0  0.0  0.0  0.0  243.9\n",
       "  35.1   41.4  0.0  0.0  0.0  0.0  0.0  0.0  0.0  0.0  0.0  0.0   77.4\n",
       "  49.5   61.2  0.0  0.0  0.0  0.0  0.0  0.0  0.0  0.0  0.0  0.0   97.2\n",
       "  52.2   72.0  0.0  0.0  0.0  0.0  0.0  0.0  0.0  0.0  0.0  0.0  120.6\n",
       "   7.2    8.1  0.0  0.0  0.0  0.0  0.0  0.0  0.0  0.0  0.0  0.0   12.6\n",
       "   7.2    7.2  0.0  0.0  0.0  0.0  0.0  0.0  0.0  0.0  0.0  0.0   12.6\n",
       " 183.6  237.6  0.0  0.0  0.0  0.0  0.0  0.0  0.0  0.0  0.0  0.0  353.7\n",
       "  33.3   44.1  0.0  0.0  0.0  0.0  0.0  0.0  0.0  0.0  0.0  0.0   87.3\n",
       "  36.0   45.9  0.0  0.0  0.0  0.0  0.0  0.0  0.0  0.0  0.0  0.0   62.1\n",
       " 191.7  251.1  0.0  0.0  0.0  0.0  0.0  0.0  0.0  0.0  0.0  0.0  376.2\n",
       "  12.6   27.0  0.0  0.0  0.0  0.0  0.0  0.0  0.0  0.0  0.0  0.0   32.4\n",
       " 158.4  202.5  0.0  0.0  0.0  0.0  0.0  0.0  0.0  0.0  0.0  0.0  331.2"
      ]
     },
     "execution_count": 259,
     "metadata": {},
     "output_type": "execute_result"
    }
   ],
   "source": [
    "Q1_pres_notD[:,:,1,1]"
   ]
  },
  {
   "cell_type": "code",
   "execution_count": 281,
   "id": "26828732",
   "metadata": {},
   "outputs": [
    {
     "name": "stdout",
     "output_type": "stream",
     "text": [
      "Realized Profits: \n",
      " - Prescription: $864477.4488853998\n",
      " - Oracle:       $1.5051164096115427e6\n",
      " - Last Quarter: $1.2796134425922069e6\n"
     ]
    }
   ],
   "source": [
    "Q1Prof_pres_real = checkPlan(startingCap1, Q1_startingInv, Q2_startingInv, d1, U1_true, Q1_pres_x)\n",
    "Q1Prof_oracle_real = checkPlan(startingCap1, Q1_startingInv, Q2_startingInv, d1, U1_true, Q1_oracle_x)\n",
    "Q1Prof_lastQ_real = checkPlan(startingCap1, Q1_startingInv, Q2_startingInv, d1, U1_true, Q1_lastQ_x)\n",
    "\n",
    "println(\"Realized Profits: \")\n",
    "println(\" - Prescription: \\$\", Q1Prof_pres_real)\n",
    "println(\" - Oracle:       \\$\", Q1Prof_oracle_real)\n",
    "println(\" - Last Quarter: \\$\", Q1Prof_lastQ_real)"
   ]
  },
  {
   "cell_type": "code",
   "execution_count": null,
   "id": "ba1e9b9e",
   "metadata": {},
   "outputs": [],
   "source": []
  }
 ],
 "metadata": {
  "kernelspec": {
   "display_name": "Julia 1.6.2",
   "language": "julia",
   "name": "julia-1.6"
  },
  "language_info": {
   "file_extension": ".jl",
   "mimetype": "application/julia",
   "name": "julia",
   "version": "1.6.2"
  }
 },
 "nbformat": 4,
 "nbformat_minor": 5
}
