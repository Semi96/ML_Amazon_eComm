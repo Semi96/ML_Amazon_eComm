{
 "cells": [
  {
   "cell_type": "code",
   "execution_count": 4,
   "id": "2fe21a00",
   "metadata": {},
   "outputs": [],
   "source": [
    "using NearestNeighbors, Dates, Statistics\n",
    "using JuMP\n",
    "using Gurobi\n",
    "using CSV\n",
    "using DataFrames;"
   ]
  },
  {
   "cell_type": "code",
   "execution_count": 11,
   "id": "3aa3c51e",
   "metadata": {},
   "outputs": [
    {
     "data": {
      "text/plain": [
       "findKNN (generic function with 1 method)"
      ]
     },
     "execution_count": 11,
     "metadata": {},
     "output_type": "execute_result"
    }
   ],
   "source": [
    "function findKNN(cass_data_in, test_point_in, k)\n",
    "   \n",
    "    cass_data = deepcopy(cass_data_in)\n",
    "    test_point = deepcopy(test_point_in)\n",
    "    \n",
    "    #select!(cass_data, Not(:Column1))\n",
    "    cass_data = append!(cass_data, test_point)\n",
    "\n",
    "    # normalize columns (except for year and quarter)\n",
    "    \n",
    "    cass_mean = mean(cass_data[!, :avgCASS]) \n",
    "    cass_std = std(cass_data[!, :avgCASS])\n",
    "    \n",
    "    for col in names(cass_data)\n",
    "        if col == \"Year\" || col == \"Quarter\"\n",
    "            continue\n",
    "        end\n",
    "        cass_data[!, col] = (cass_data[!, col] .- mean(cass_data[!, col])) ./ std(cass_data[!, col])\n",
    "        #test_point[!, col] = (test_point[!, col] .- mean(test_point[!, col])) ./ std(test_point[!, col])\n",
    "    end\n",
    "    \n",
    "    test_point = DataFrame(cass_data[size(cass_data)[1], :])\n",
    "    X = Array(select(cass_data[1:(size(cass_data)[1]-1), :], Not(:avgCASS)))'\n",
    "    kd_tree = KDTree(X)\n",
    "    test_point = Array(select(test_point, Not(:avgCASS)))'\n",
    "    \n",
    "    id, dist = knn(kd_tree, test_point, k)\n",
    "    knn_predictions = cass_data[id[1],:].avgCASS\n",
    "    knn_predictions = knn_predictions .* cass_std .+ cass_mean\n",
    "    return knn_predictions\n",
    "end"
   ]
  },
  {
   "cell_type": "code",
   "execution_count": 5,
   "id": "45130ff7",
   "metadata": {},
   "outputs": [],
   "source": [
    "cass_data = CSV.read(\"data/data_final_train_Q1.csv\", DataFrame)\n",
    "test_point = CSV.read(\"data/data_final_test_Q1.csv\", DataFrame)\n",
    "select!(cass_data, Not(:Column1))\n",
    ";"
   ]
  },
  {
   "cell_type": "code",
   "execution_count": 8,
   "id": "6f4232ae",
   "metadata": {},
   "outputs": [
    {
     "data": {
      "text/html": [
       "<table class=\"data-frame\"><thead><tr><th></th><th>Year</th><th>Quarter</th><th>OilPrice</th><th>ExChUs</th><th>USCPI</th><th>USPMI</th><th>avgCASS</th><th>PrevQuarterCASS</th></tr><tr><th></th><th>Int64</th><th>Int64</th><th>Float64</th><th>Float64</th><th>Float64</th><th>Float64</th><th>Float64</th><th>Float64</th></tr></thead><tbody><p>1 rows × 8 columns</p><tr><th>1</th><td>2020</td><td>1</td><td>61.63</td><td>6.9184</td><td>258.687</td><td>50.9</td><td>1.06467</td><td>1.10933</td></tr></tbody></table>"
      ],
      "text/latex": [
       "\\begin{tabular}{r|cccccccc}\n",
       "\t& Year & Quarter & OilPrice & ExChUs & USCPI & USPMI & avgCASS & PrevQuarterCASS\\\\\n",
       "\t\\hline\n",
       "\t& Int64 & Int64 & Float64 & Float64 & Float64 & Float64 & Float64 & Float64\\\\\n",
       "\t\\hline\n",
       "\t1 & 2020 & 1 & 61.63 & 6.9184 & 258.687 & 50.9 & 1.06467 & 1.10933 \\\\\n",
       "\\end{tabular}\n"
      ],
      "text/plain": [
       "\u001b[1m1×8 DataFrame\u001b[0m\n",
       "\u001b[1m Row \u001b[0m│\u001b[1m Year  \u001b[0m\u001b[1m Quarter \u001b[0m\u001b[1m OilPrice \u001b[0m\u001b[1m ExChUs  \u001b[0m\u001b[1m USCPI   \u001b[0m\u001b[1m USPMI   \u001b[0m\u001b[1m avgCASS \u001b[0m\u001b[1m PrevQuart\u001b[0m ⋯\n",
       "\u001b[1m     \u001b[0m│\u001b[90m Int64 \u001b[0m\u001b[90m Int64   \u001b[0m\u001b[90m Float64  \u001b[0m\u001b[90m Float64 \u001b[0m\u001b[90m Float64 \u001b[0m\u001b[90m Float64 \u001b[0m\u001b[90m Float64 \u001b[0m\u001b[90m Float64  \u001b[0m ⋯\n",
       "─────┼──────────────────────────────────────────────────────────────────────────\n",
       "   1 │  2020        1     61.63   6.9184  258.687     50.9  1.06467          1 ⋯\n",
       "\u001b[36m                                                                1 column omitted\u001b[0m"
      ]
     },
     "execution_count": 8,
     "metadata": {},
     "output_type": "execute_result"
    }
   ],
   "source": [
    "test_point"
   ]
  },
  {
   "cell_type": "code",
   "execution_count": 12,
   "id": "97894e14",
   "metadata": {},
   "outputs": [
    {
     "data": {
      "text/plain": [
       "5-element Vector{Float64}:\n",
       " 1.262666667\n",
       " 1.179333333\n",
       " 1.186666667\n",
       " 1.201\n",
       " 1.166"
      ]
     },
     "execution_count": 12,
     "metadata": {},
     "output_type": "execute_result"
    }
   ],
   "source": [
    "findKNN(cass_data, test_point, 5)"
   ]
  },
  {
   "cell_type": "code",
   "execution_count": 164,
   "id": "424c7466",
   "metadata": {},
   "outputs": [],
   "source": [
    "# append both for future normalization\n",
    "append!(cass_data, test_point)\n",
    ";"
   ]
  },
  {
   "cell_type": "code",
   "execution_count": 165,
   "id": "a4297c06",
   "metadata": {},
   "outputs": [
    {
     "data": {
      "text/html": [
       "<table class=\"data-frame\"><thead><tr><th></th><th>Year</th><th>Quarter</th><th>OilPrice</th><th>ExChUs</th><th>USCPI</th><th>USPMI</th><th>avgCASS</th><th>PrevQuarterCASS</th></tr><tr><th></th><th>Int64</th><th>Int64</th><th>Float64</th><th>Float64</th><th>Float64</th><th>Float64</th><th>Float64</th><th>Float64</th></tr></thead><tbody><p>1 rows × 8 columns</p><tr><th>1</th><td>2020</td><td>1</td><td>61.63</td><td>6.9184</td><td>258.687</td><td>50.9</td><td>1.06467</td><td>1.10933</td></tr></tbody></table>"
      ],
      "text/latex": [
       "\\begin{tabular}{r|cccccccc}\n",
       "\t& Year & Quarter & OilPrice & ExChUs & USCPI & USPMI & avgCASS & PrevQuarterCASS\\\\\n",
       "\t\\hline\n",
       "\t& Int64 & Int64 & Float64 & Float64 & Float64 & Float64 & Float64 & Float64\\\\\n",
       "\t\\hline\n",
       "\t1 & 2020 & 1 & 61.63 & 6.9184 & 258.687 & 50.9 & 1.06467 & 1.10933 \\\\\n",
       "\\end{tabular}\n"
      ],
      "text/plain": [
       "\u001b[1m1×8 DataFrame\u001b[0m\n",
       "\u001b[1m Row \u001b[0m│\u001b[1m Year  \u001b[0m\u001b[1m Quarter \u001b[0m\u001b[1m OilPrice \u001b[0m\u001b[1m ExChUs  \u001b[0m\u001b[1m USCPI   \u001b[0m\u001b[1m USPMI   \u001b[0m\u001b[1m avgCASS \u001b[0m\u001b[1m PrevQuart\u001b[0m ⋯\n",
       "\u001b[1m     \u001b[0m│\u001b[90m Int64 \u001b[0m\u001b[90m Int64   \u001b[0m\u001b[90m Float64  \u001b[0m\u001b[90m Float64 \u001b[0m\u001b[90m Float64 \u001b[0m\u001b[90m Float64 \u001b[0m\u001b[90m Float64 \u001b[0m\u001b[90m Float64  \u001b[0m ⋯\n",
       "─────┼──────────────────────────────────────────────────────────────────────────\n",
       "   1 │  2020        1     61.63   6.9184  258.687     50.9  1.06467          1 ⋯\n",
       "\u001b[36m                                                                1 column omitted\u001b[0m"
      ]
     },
     "execution_count": 165,
     "metadata": {},
     "output_type": "execute_result"
    }
   ],
   "source": [
    "test_point"
   ]
  },
  {
   "cell_type": "code",
   "execution_count": 166,
   "id": "70bbb01e",
   "metadata": {
    "scrolled": true
   },
   "outputs": [
    {
     "data": {
      "text/html": [
       "<table class=\"data-frame\"><thead><tr><th></th><th>Year</th><th>Quarter</th><th>OilPrice</th><th>ExChUs</th><th>USCPI</th><th>USPMI</th><th>avgCASS</th><th>PrevQuarterCASS</th></tr><tr><th></th><th>Int64</th><th>Int64</th><th>Float64</th><th>Float64</th><th>Float64</th><th>Float64</th><th>Float64</th><th>Float64</th></tr></thead><tbody><p>5 rows × 8 columns</p><tr><th>1</th><td>2019</td><td>1</td><td>56.58</td><td>6.7863</td><td>252.441</td><td>56.6</td><td>1.166</td><td>1.176</td></tr><tr><th>2</th><td>2019</td><td>2</td><td>68.58</td><td>6.7161</td><td>255.326</td><td>53.4</td><td>1.201</td><td>1.166</td></tr><tr><th>3</th><td>2019</td><td>3</td><td>61.48</td><td>6.8775</td><td>255.925</td><td>51.3</td><td>1.18667</td><td>1.201</td></tr><tr><th>4</th><td>2019</td><td>4</td><td>57.27</td><td>7.0961</td><td>257.387</td><td>48.5</td><td>1.10933</td><td>1.18667</td></tr><tr><th>5</th><td>2020</td><td>1</td><td>61.63</td><td>6.9184</td><td>258.687</td><td>50.9</td><td>1.06467</td><td>1.10933</td></tr></tbody></table>"
      ],
      "text/latex": [
       "\\begin{tabular}{r|cccccccc}\n",
       "\t& Year & Quarter & OilPrice & ExChUs & USCPI & USPMI & avgCASS & PrevQuarterCASS\\\\\n",
       "\t\\hline\n",
       "\t& Int64 & Int64 & Float64 & Float64 & Float64 & Float64 & Float64 & Float64\\\\\n",
       "\t\\hline\n",
       "\t1 & 2019 & 1 & 56.58 & 6.7863 & 252.441 & 56.6 & 1.166 & 1.176 \\\\\n",
       "\t2 & 2019 & 2 & 68.58 & 6.7161 & 255.326 & 53.4 & 1.201 & 1.166 \\\\\n",
       "\t3 & 2019 & 3 & 61.48 & 6.8775 & 255.925 & 51.3 & 1.18667 & 1.201 \\\\\n",
       "\t4 & 2019 & 4 & 57.27 & 7.0961 & 257.387 & 48.5 & 1.10933 & 1.18667 \\\\\n",
       "\t5 & 2020 & 1 & 61.63 & 6.9184 & 258.687 & 50.9 & 1.06467 & 1.10933 \\\\\n",
       "\\end{tabular}\n"
      ],
      "text/plain": [
       "\u001b[1m5×8 DataFrame\u001b[0m\n",
       "\u001b[1m Row \u001b[0m│\u001b[1m Year  \u001b[0m\u001b[1m Quarter \u001b[0m\u001b[1m OilPrice \u001b[0m\u001b[1m ExChUs  \u001b[0m\u001b[1m USCPI   \u001b[0m\u001b[1m USPMI   \u001b[0m\u001b[1m avgCASS \u001b[0m\u001b[1m PrevQuart\u001b[0m ⋯\n",
       "\u001b[1m     \u001b[0m│\u001b[90m Int64 \u001b[0m\u001b[90m Int64   \u001b[0m\u001b[90m Float64  \u001b[0m\u001b[90m Float64 \u001b[0m\u001b[90m Float64 \u001b[0m\u001b[90m Float64 \u001b[0m\u001b[90m Float64 \u001b[0m\u001b[90m Float64  \u001b[0m ⋯\n",
       "─────┼──────────────────────────────────────────────────────────────────────────\n",
       "   1 │  2019        1     56.58   6.7863  252.441     56.6  1.166            1 ⋯\n",
       "   2 │  2019        2     68.58   6.7161  255.326     53.4  1.201            1\n",
       "   3 │  2019        3     61.48   6.8775  255.925     51.3  1.18667          1\n",
       "   4 │  2019        4     57.27   7.0961  257.387     48.5  1.10933          1\n",
       "   5 │  2020        1     61.63   6.9184  258.687     50.9  1.06467          1 ⋯\n",
       "\u001b[36m                                                                1 column omitted\u001b[0m"
      ]
     },
     "execution_count": 166,
     "metadata": {},
     "output_type": "execute_result"
    }
   ],
   "source": [
    "cass_data[110:114, :]"
   ]
  },
  {
   "cell_type": "code",
   "execution_count": 167,
   "id": "94d1bf75",
   "metadata": {},
   "outputs": [],
   "source": [
    "# normalize columns (except for year and quarter)\n",
    "for col in names(cass_data)\n",
    "    if col == \"Year\" || col == \"Quarter\"\n",
    "        continue\n",
    "    end\n",
    "    cass_data[!, col] = (cass_data[!, col] .- mean(cass_data[!, col])) ./ std(cass_data[!, col])\n",
    "    #test_point[!, col] = (test_point[!, col] .- mean(test_point[!, col])) ./ std(test_point[!, col])\n",
    "end"
   ]
  },
  {
   "cell_type": "code",
   "execution_count": 168,
   "id": "60bd17f6",
   "metadata": {},
   "outputs": [
    {
     "data": {
      "text/html": [
       "<table class=\"data-frame\"><thead><tr><th></th><th>Year</th><th>Quarter</th><th>OilPrice</th><th>ExChUs</th><th>USCPI</th><th>USPMI</th><th>avgCASS</th><th>PrevQuarterCASS</th></tr><tr><th></th><th>Int64</th><th>Int64</th><th>Float64</th><th>Float64</th><th>Float64</th><th>Float64</th><th>Float64</th><th>Float64</th></tr></thead><tbody><p>5 rows × 8 columns</p><tr><th>1</th><td>2019</td><td>1</td><td>0.21655</td><td>-0.543658</td><td>1.52114</td><td>0.859216</td><td>0.77388</td><td>0.873052</td></tr><tr><th>2</th><td>2019</td><td>2</td><td>0.594278</td><td>-0.614865</td><td>1.60103</td><td>0.176187</td><td>1.11429</td><td>0.777081</td></tr><tr><th>3</th><td>2019</td><td>3</td><td>0.370789</td><td>-0.45115</td><td>1.61761</td><td>-0.272051</td><td>0.974886</td><td>1.11298</td></tr><tr><th>4</th><td>2019</td><td>4</td><td>0.23827</td><td>-0.229415</td><td>1.6581</td><td>-0.869701</td><td>0.222734</td><td>0.975421</td></tr><tr><th>5</th><td>2020</td><td>1</td><td>0.375511</td><td>-0.409664</td><td>1.69409</td><td>-0.357429</td><td>-0.211699</td><td>0.233248</td></tr></tbody></table>"
      ],
      "text/latex": [
       "\\begin{tabular}{r|cccccccc}\n",
       "\t& Year & Quarter & OilPrice & ExChUs & USCPI & USPMI & avgCASS & PrevQuarterCASS\\\\\n",
       "\t\\hline\n",
       "\t& Int64 & Int64 & Float64 & Float64 & Float64 & Float64 & Float64 & Float64\\\\\n",
       "\t\\hline\n",
       "\t1 & 2019 & 1 & 0.21655 & -0.543658 & 1.52114 & 0.859216 & 0.77388 & 0.873052 \\\\\n",
       "\t2 & 2019 & 2 & 0.594278 & -0.614865 & 1.60103 & 0.176187 & 1.11429 & 0.777081 \\\\\n",
       "\t3 & 2019 & 3 & 0.370789 & -0.45115 & 1.61761 & -0.272051 & 0.974886 & 1.11298 \\\\\n",
       "\t4 & 2019 & 4 & 0.23827 & -0.229415 & 1.6581 & -0.869701 & 0.222734 & 0.975421 \\\\\n",
       "\t5 & 2020 & 1 & 0.375511 & -0.409664 & 1.69409 & -0.357429 & -0.211699 & 0.233248 \\\\\n",
       "\\end{tabular}\n"
      ],
      "text/plain": [
       "\u001b[1m5×8 DataFrame\u001b[0m\n",
       "\u001b[1m Row \u001b[0m│\u001b[1m Year  \u001b[0m\u001b[1m Quarter \u001b[0m\u001b[1m OilPrice \u001b[0m\u001b[1m ExChUs    \u001b[0m\u001b[1m USCPI   \u001b[0m\u001b[1m USPMI     \u001b[0m\u001b[1m avgCASS   \u001b[0m\u001b[1m Pre\u001b[0m ⋯\n",
       "\u001b[1m     \u001b[0m│\u001b[90m Int64 \u001b[0m\u001b[90m Int64   \u001b[0m\u001b[90m Float64  \u001b[0m\u001b[90m Float64   \u001b[0m\u001b[90m Float64 \u001b[0m\u001b[90m Float64   \u001b[0m\u001b[90m Float64   \u001b[0m\u001b[90m Flo\u001b[0m ⋯\n",
       "─────┼──────────────────────────────────────────────────────────────────────────\n",
       "   1 │  2019        1  0.21655   -0.543658  1.52114   0.859216   0.77388       ⋯\n",
       "   2 │  2019        2  0.594278  -0.614865  1.60103   0.176187   1.11429\n",
       "   3 │  2019        3  0.370789  -0.45115   1.61761  -0.272051   0.974886\n",
       "   4 │  2019        4  0.23827   -0.229415  1.6581   -0.869701   0.222734\n",
       "   5 │  2020        1  0.375511  -0.409664  1.69409  -0.357429  -0.211699      ⋯\n",
       "\u001b[36m                                                                1 column omitted\u001b[0m"
      ]
     },
     "execution_count": 168,
     "metadata": {},
     "output_type": "execute_result"
    }
   ],
   "source": [
    "cass_data[110:114, :]"
   ]
  },
  {
   "cell_type": "code",
   "execution_count": 169,
   "id": "6d72903d",
   "metadata": {},
   "outputs": [
    {
     "data": {
      "text/html": [
       "<table class=\"data-frame\"><thead><tr><th></th><th>Year</th><th>Quarter</th><th>OilPrice</th><th>ExChUs</th><th>USCPI</th><th>USPMI</th><th>avgCASS</th><th>PrevQuarterCASS</th></tr><tr><th></th><th>Int64</th><th>Int64</th><th>Float64</th><th>Float64</th><th>Float64</th><th>Float64</th><th>Float64</th><th>Float64</th></tr></thead><tbody><p>1 rows × 8 columns</p><tr><th>1</th><td>2020</td><td>1</td><td>0.375511</td><td>-0.409664</td><td>1.69409</td><td>-0.357429</td><td>-0.211699</td><td>0.233248</td></tr></tbody></table>"
      ],
      "text/latex": [
       "\\begin{tabular}{r|cccccccc}\n",
       "\t& Year & Quarter & OilPrice & ExChUs & USCPI & USPMI & avgCASS & PrevQuarterCASS\\\\\n",
       "\t\\hline\n",
       "\t& Int64 & Int64 & Float64 & Float64 & Float64 & Float64 & Float64 & Float64\\\\\n",
       "\t\\hline\n",
       "\t1 & 2020 & 1 & 0.375511 & -0.409664 & 1.69409 & -0.357429 & -0.211699 & 0.233248 \\\\\n",
       "\\end{tabular}\n"
      ],
      "text/plain": [
       "\u001b[1m1×8 DataFrame\u001b[0m\n",
       "\u001b[1m Row \u001b[0m│\u001b[1m Year  \u001b[0m\u001b[1m Quarter \u001b[0m\u001b[1m OilPrice \u001b[0m\u001b[1m ExChUs    \u001b[0m\u001b[1m USCPI   \u001b[0m\u001b[1m USPMI     \u001b[0m\u001b[1m avgCASS   \u001b[0m\u001b[1m Pre\u001b[0m ⋯\n",
       "\u001b[1m     \u001b[0m│\u001b[90m Int64 \u001b[0m\u001b[90m Int64   \u001b[0m\u001b[90m Float64  \u001b[0m\u001b[90m Float64   \u001b[0m\u001b[90m Float64 \u001b[0m\u001b[90m Float64   \u001b[0m\u001b[90m Float64   \u001b[0m\u001b[90m Flo\u001b[0m ⋯\n",
       "─────┼──────────────────────────────────────────────────────────────────────────\n",
       "   1 │  2020        1  0.375511  -0.409664  1.69409  -0.357429  -0.211699      ⋯\n",
       "\u001b[36m                                                                1 column omitted\u001b[0m"
      ]
     },
     "execution_count": 169,
     "metadata": {},
     "output_type": "execute_result"
    }
   ],
   "source": [
    "test_point = DataFrame(cass_data[size(cass_data)[1], :])"
   ]
  },
  {
   "cell_type": "code",
   "execution_count": 172,
   "id": "732677d4",
   "metadata": {},
   "outputs": [],
   "source": [
    "# get all data except the last test point we appended, and without y values\n",
    "X = Array(select(cass_data[1:(size(cass_data)[1]-1), :], Not(:avgCASS)))'\n",
    "#y = Array(cass_data[:, 7])\n",
    ";"
   ]
  },
  {
   "cell_type": "code",
   "execution_count": 180,
   "id": "a5c2ed26",
   "metadata": {},
   "outputs": [
    {
     "data": {
      "text/plain": [
       "7×113 adjoint(::Matrix{Float64}) with eltype Float64:\n",
       " 1991.0       1992.0      1992.0         …  2019.0       2019.0\n",
       "    4.0          1.0         2.0               3.0          4.0\n",
       "   -0.888619    -1.01736    -0.978015          0.370789     0.23827\n",
       "   -1.95826     -1.88715    -1.83846          -0.45115     -0.229415\n",
       "   -1.66984     -1.63938    -1.60893           1.61761      1.6581\n",
       "    0.112153    -1.12584     0.00542978  …    -0.272051    -0.869701\n",
       "   -1.73095     -1.60299    -1.68616           1.11298      0.975421"
      ]
     },
     "execution_count": 180,
     "metadata": {},
     "output_type": "execute_result"
    }
   ],
   "source": [
    "X"
   ]
  },
  {
   "cell_type": "code",
   "execution_count": 174,
   "id": "5877954b",
   "metadata": {},
   "outputs": [
    {
     "data": {
      "text/plain": [
       "7×1 adjoint(::Matrix{Float64}) with eltype Float64:\n",
       " 2020.0\n",
       "    1.0\n",
       "    0.3755107863964897\n",
       "   -0.40966366721981\n",
       "    1.694093418378432\n",
       "   -0.3574294010507547\n",
       "    0.23324785938813797"
      ]
     },
     "execution_count": 174,
     "metadata": {},
     "output_type": "execute_result"
    }
   ],
   "source": [
    "kd_tree = KDTree(X)\n",
    "test_point = Array(select(test_point, Not(:avgCASS)))'\n"
   ]
  },
  {
   "cell_type": "code",
   "execution_count": 181,
   "id": "d53fb85e",
   "metadata": {},
   "outputs": [
    {
     "data": {
      "text/plain": [
       "([[107, 106, 112, 111, 110]], [[2.8611965390782004, 2.7546977985765877, 2.4059941858155556, 1.636804566429695, 1.7212524939571345]])"
      ]
     },
     "execution_count": 181,
     "metadata": {},
     "output_type": "execute_result"
    }
   ],
   "source": [
    "id, dist = knn(kd_tree, test_point, 5)"
   ]
  },
  {
   "cell_type": "code",
   "execution_count": 182,
   "id": "cd5c22bf",
   "metadata": {},
   "outputs": [
    {
     "data": {
      "text/plain": [
       "5-element Vector{Int64}:\n",
       " 107\n",
       " 106\n",
       " 112\n",
       " 111\n",
       " 110"
      ]
     },
     "execution_count": 182,
     "metadata": {},
     "output_type": "execute_result"
    }
   ],
   "source": [
    "id[1]"
   ]
  },
  {
   "cell_type": "code",
   "execution_count": 185,
   "id": "000318ad",
   "metadata": {},
   "outputs": [
    {
     "data": {
      "text/html": [
       "<table class=\"data-frame\"><thead><tr><th></th><th>Year</th><th>Quarter</th><th>OilPrice</th><th>ExChUs</th><th>USCPI</th><th>USPMI</th><th>avgCASS</th><th>PrevQuarterCASS</th></tr><tr><th></th><th>Int64</th><th>Int64</th><th>Float64</th><th>Float64</th><th>Float64</th><th>Float64</th><th>Float64</th><th>Float64</th></tr></thead><tbody><p>5 rows × 8 columns</p><tr><th>1</th><td>2018</td><td>2</td><td>0.600888</td><td>-1.04028</td><td>1.46117</td><td>1.1367</td><td>1.71407</td><td>0.905042</td></tr><tr><th>2</th><td>2018</td><td>1</td><td>0.520307</td><td>-0.911864</td><td>1.41814</td><td>1.39283</td><td>0.903561</td><td>0.65232</td></tr><tr><th>3</th><td>2019</td><td>3</td><td>0.370789</td><td>-0.45115</td><td>1.61761</td><td>-0.272051</td><td>0.974886</td><td>1.11298</td></tr><tr><th>4</th><td>2019</td><td>2</td><td>0.594278</td><td>-0.614865</td><td>1.60103</td><td>0.176187</td><td>1.11429</td><td>0.777081</td></tr><tr><th>5</th><td>2019</td><td>1</td><td>0.21655</td><td>-0.543658</td><td>1.52114</td><td>0.859216</td><td>0.77388</td><td>0.873052</td></tr></tbody></table>"
      ],
      "text/latex": [
       "\\begin{tabular}{r|cccccccc}\n",
       "\t& Year & Quarter & OilPrice & ExChUs & USCPI & USPMI & avgCASS & PrevQuarterCASS\\\\\n",
       "\t\\hline\n",
       "\t& Int64 & Int64 & Float64 & Float64 & Float64 & Float64 & Float64 & Float64\\\\\n",
       "\t\\hline\n",
       "\t1 & 2018 & 2 & 0.600888 & -1.04028 & 1.46117 & 1.1367 & 1.71407 & 0.905042 \\\\\n",
       "\t2 & 2018 & 1 & 0.520307 & -0.911864 & 1.41814 & 1.39283 & 0.903561 & 0.65232 \\\\\n",
       "\t3 & 2019 & 3 & 0.370789 & -0.45115 & 1.61761 & -0.272051 & 0.974886 & 1.11298 \\\\\n",
       "\t4 & 2019 & 2 & 0.594278 & -0.614865 & 1.60103 & 0.176187 & 1.11429 & 0.777081 \\\\\n",
       "\t5 & 2019 & 1 & 0.21655 & -0.543658 & 1.52114 & 0.859216 & 0.77388 & 0.873052 \\\\\n",
       "\\end{tabular}\n"
      ],
      "text/plain": [
       "\u001b[1m5×8 DataFrame\u001b[0m\n",
       "\u001b[1m Row \u001b[0m│\u001b[1m Year  \u001b[0m\u001b[1m Quarter \u001b[0m\u001b[1m OilPrice \u001b[0m\u001b[1m ExChUs    \u001b[0m\u001b[1m USCPI   \u001b[0m\u001b[1m USPMI     \u001b[0m\u001b[1m avgCASS  \u001b[0m\u001b[1m Prev\u001b[0m ⋯\n",
       "\u001b[1m     \u001b[0m│\u001b[90m Int64 \u001b[0m\u001b[90m Int64   \u001b[0m\u001b[90m Float64  \u001b[0m\u001b[90m Float64   \u001b[0m\u001b[90m Float64 \u001b[0m\u001b[90m Float64   \u001b[0m\u001b[90m Float64  \u001b[0m\u001b[90m Floa\u001b[0m ⋯\n",
       "─────┼──────────────────────────────────────────────────────────────────────────\n",
       "   1 │  2018        2  0.600888  -1.04028   1.46117   1.1367    1.71407        ⋯\n",
       "   2 │  2018        1  0.520307  -0.911864  1.41814   1.39283   0.903561\n",
       "   3 │  2019        3  0.370789  -0.45115   1.61761  -0.272051  0.974886\n",
       "   4 │  2019        2  0.594278  -0.614865  1.60103   0.176187  1.11429\n",
       "   5 │  2019        1  0.21655   -0.543658  1.52114   0.859216  0.77388        ⋯\n",
       "\u001b[36m                                                                1 column omitted\u001b[0m"
      ]
     },
     "execution_count": 185,
     "metadata": {},
     "output_type": "execute_result"
    }
   ],
   "source": [
    "cass_data[id[1],:]"
   ]
  }
 ],
 "metadata": {
  "kernelspec": {
   "display_name": "Julia 1.6.2",
   "language": "julia",
   "name": "julia-1.6"
  },
  "language_info": {
   "file_extension": ".jl",
   "mimetype": "application/julia",
   "name": "julia",
   "version": "1.6.2"
  }
 },
 "nbformat": 4,
 "nbformat_minor": 5
}
