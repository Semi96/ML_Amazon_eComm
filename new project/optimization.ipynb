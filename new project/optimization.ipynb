{
 "cells": [
  {
   "cell_type": "markdown",
   "id": "1ea3778e",
   "metadata": {},
   "source": [
    "# Model:"
   ]
  },
  {
   "cell_type": "markdown",
   "id": "1e4d3f15",
   "metadata": {},
   "source": [
    "$$\\max  \\quad \\sum_{k=1}^{K}{{w_k(R\\sum_{j=1}^{N_C}{y_{jk}} -  \\sum_{i=1}^{N_S}{[z_iFC_i + c_iVC_i]} + \\sum_{i=1}^{N_S}{\\sum_{j=1}^{N_C}{s_{ijk}t_{ij}}}})}$$\n",
    "$$s.t.$$\n",
    "$$y_{jk} \\leq \\sum_{i=1}^{N_S}{x_{ijk}}  \\quad \\forall{j}\\quad\\quad(1)$$\n",
    "$$y_{jk} \\leq \\hat{D}_{jk}  \\quad \\forall{j}\\quad\\quad(2)$$\n",
    "$$\\sum_{j=1}^{N_C}{x_{ijk}} \\leq c_i \\quad \\forall{i}\\quad\\quad(3)$$  \n",
    "$$x_{ijk} \\leq B_is_{ijk} \\quad \\forall{i} \\forall{j}\\quad\\quad(4)$$\n",
    "$$c_i \\leq B_iz_i \\quad \\forall{i}\\quad\\quad(5)$$\n",
    "<center>$s_{ijk} \\leq z_i \\quad \\forall{i}\\forall{j}\\quad\\quad(6)$"
   ]
  },
  {
   "cell_type": "markdown",
   "id": "5814ec00",
   "metadata": {},
   "source": [
    "## Inputs:"
   ]
  },
  {
   "cell_type": "markdown",
   "id": "25d7fcda",
   "metadata": {},
   "source": [
    "- $N_S$: Total number of potential suppliers\n",
    "- $N_C$: Total number of customers\n",
    "- $FC_i$: Fixed cost for contracting supplier $i$\n",
    "- $VC_i$: Amount ordered from contracted supplier $i$\n",
    "- $T_{i,j}$: Distance from supplier $i$ to customer $j$ in miles\n",
    "- $B_i$: Maximum inventory of supplier $i$\n",
    "- $\\hat{D}_{jk}$: Uncerstain demand of county $j$ for observation $k$\n",
    "- $R$: revenue per product sold"
   ]
  },
  {
   "cell_type": "markdown",
   "id": "8a2d2a1a",
   "metadata": {},
   "source": [
    "## Decision Variables:"
   ]
  },
  {
   "cell_type": "markdown",
   "id": "6574c30f",
   "metadata": {},
   "source": [
    "- $z_i$: Indicates whether supplier $i$ is contracted (= 1 if opened, = 0 otherwise)\n",
    "- $c_i$: Inventory ordered from supplier $i$\n",
    "- $s_{ijk}$: Indicates whether customer $j$ is supplied by supplier $i$ for observation $k$\n",
    "- $x_{ijk}$: Total number of goods shipped from supplier $i$ to customer $j$ for observation $k$\n",
    "- $y_{jk}$: Total number of goods bought by customer $j$ for observation $k$"
   ]
  },
  {
   "cell_type": "code",
   "execution_count": 1,
   "id": "5fe5d2dd",
   "metadata": {
    "scrolled": false
   },
   "outputs": [
    {
     "name": "stdout",
     "output_type": "stream",
     "text": [
      "Academic license - for non-commercial use only - expires 2022-08-19\r\n"
     ]
    }
   ],
   "source": [
    "using Distances, JuMP, Gurobi, CSV, DataFrames, Formatting, Plots, Statistics, Distributions;\n",
    "gurobi_env = Gurobi.Env();\n",
    "ENV[\"COLUMNS\"]=120;"
   ]
  },
  {
   "cell_type": "code",
   "execution_count": 2,
   "id": "78b984b9",
   "metadata": {
    "scrolled": true
   },
   "outputs": [],
   "source": [
    "alldata_train = CSV.read(\"data/alldata_train.csv\", DataFrame);\n",
    "alldata_test = CSV.read(\"data/alldata_test.csv\", DataFrame);\n",
    "supplierInfo = CSV.read(\"data/supplierInfo.csv\", DataFrame)[4:end,:];\n",
    "\n",
    "# TAKES >2X AS LONG\n",
    "#alldata_train[:,:Sales] = alldata_train[:,:Sales]./10\n",
    "#alldata_test[:,:Sales] = alldata_test[:,:Sales]./10;"
   ]
  },
  {
   "cell_type": "markdown",
   "id": "6cfde0a7",
   "metadata": {},
   "source": [
    "# Functions"
   ]
  },
  {
   "cell_type": "code",
   "execution_count": 3,
   "id": "51344598",
   "metadata": {},
   "outputs": [
    {
     "data": {
      "text/plain": [
       "getDistances (generic function with 1 method)"
      ]
     },
     "execution_count": 3,
     "metadata": {},
     "output_type": "execute_result"
    }
   ],
   "source": [
    "# function to get test point from test set\n",
    "\n",
    "function getTestPoint(testSet, WeekNum)\n",
    "    \n",
    "    testWks = filter(row -> row.Week_Num == WeekNum, alldata_test)\n",
    "    \n",
    "    sort!(testWks, :custID)\n",
    "    \n",
    "    return testWks\n",
    "end    \n",
    "\n",
    "function getTestRange(testSet, WeekNum)\n",
    "    \n",
    "    testWks = filter(row -> row.Week_Num <= WeekNum, alldata_test)\n",
    "    \n",
    "    sort!(testWks, :custID)\n",
    "    \n",
    "    return testWks\n",
    "end  \n",
    "\n",
    "# function to find distances between test point and suppliers\n",
    "function getDistances(testPoint, supInfo)\n",
    "    \n",
    "    NS = size(supInfo)[1]\n",
    "    NC = size(testPoint)[1]\n",
    "    \n",
    "    distances = zeros(NS, NC);\n",
    "    for i=1:NS\n",
    "        for j=1:NC\n",
    "            distances[i,j] = haversine((supInfo[i,3],supInfo[i,4]), (testPoint[j,3],testPoint[j,4]), 3958.8)\n",
    "        end\n",
    "    end\n",
    "    \n",
    "    return distances\n",
    "    \n",
    "end"
   ]
  },
  {
   "cell_type": "code",
   "execution_count": 4,
   "id": "6747bfed",
   "metadata": {},
   "outputs": [
    {
     "data": {
      "text/plain": [
       "findKNNDemand (generic function with 1 method)"
      ]
     },
     "execution_count": 4,
     "metadata": {},
     "output_type": "execute_result"
    }
   ],
   "source": [
    "# function for finding the demand = average demand for nearest 5 neighbors for item in last 100 days\n",
    "function findKNNDemand(customer, testWeek, trainSet, KNN)\n",
    "    \n",
    "    holder = zeros(KNN)\n",
    "    oneCust = filter(row->row.custID==customer, trainSet)\n",
    "    oneCust_comps = Matrix(select(oneCust, [:Income, :Population, :Season]))\n",
    "\n",
    "    mean1=mean(oneCust_comps[:,1])\n",
    "    std1=std(oneCust_comps[:,1])\n",
    "    mean2=mean(oneCust_comps[:,2])\n",
    "    std2=std(oneCust_comps[:,2])\n",
    "    mean3=mean(oneCust_comps[:,3])\n",
    "    std3=std(oneCust_comps[:,3])\n",
    "\n",
    "    oneCust_comps[:,1] = (oneCust_comps[:,1].-mean1)./std1\n",
    "    oneCust_comps[:,2] = (oneCust_comps[:,2].-mean2)./std2\n",
    "    oneCust_comps[:,3] = (oneCust_comps[:,3].-mean3)./std3\n",
    "\n",
    "    testpoint = filter(row->row.custID==customer, testWeek)\n",
    "    testpoint_comps = Matrix(select(testpoint, [:Income, :Population, :Season]))\n",
    "    testpoint_comps[:,1] = (testpoint_comps[:,1].-mean1)./std1\n",
    "    testpoint_comps[:,2] = (testpoint_comps[:,2].-mean2)./std2\n",
    "    testpoint_comps[:,3] = (testpoint_comps[:,3].-mean3)./std3\n",
    "\n",
    "    diffs = zeros(size(oneCust)[1])\n",
    "\n",
    "    # find distance\n",
    "    for i=1:size(oneCust)[1]\n",
    "        diffs[i] = sum(((testpoint_comps[1,1]-oneCust_comps[i,1])^2)\n",
    "        +((testpoint_comps[1,2]-oneCust_comps[i,2])^2)\n",
    "        +((testpoint_comps[1,3]-oneCust_comps[i,3])^2))\n",
    "    end\n",
    "\n",
    "    # append demand\n",
    "    df = DataFrame(diff = Vector(diffs[:,1]), sales = Vector(oneCust[:,10]))\n",
    "    sort!(df)\n",
    "\n",
    "    for i=1:KNN\n",
    "        holder[i] = df[i,2]\n",
    "    end\n",
    "\n",
    "    return holder\n",
    "    \n",
    "end"
   ]
  },
  {
   "cell_type": "code",
   "execution_count": 5,
   "id": "e506c85b",
   "metadata": {},
   "outputs": [
    {
     "data": {
      "text/plain": [
       "optPres (generic function with 1 method)"
      ]
     },
     "execution_count": 5,
     "metadata": {},
     "output_type": "execute_result"
    }
   ],
   "source": [
    "# Optimization Model - With Prescription\n",
    "function optPres(Dem)\n",
    "    \n",
    "    NS = size(supplierInfo)[1]\n",
    "    NC = size(Dem)[1]\n",
    "    \n",
    "    # GET K FROM SIZE OF Dem\n",
    "    if isa(Dem, Vector) == true\n",
    "        K = 1\n",
    "    else\n",
    "        K = size(Dem)[2]\n",
    "    end\n",
    "    \n",
    "    weight = zeros(K)\n",
    "    weight .= 1/K\n",
    "    # set weights\n",
    "\n",
    "    model = Model(with_optimizer(Gurobi.Optimizer,TimeLimit=60, gurobi_env));\n",
    "\n",
    "    @variable(model, z[i=1:NS], Bin)\n",
    "    @variable(model, c[i=1:NS]>=0)\n",
    "    @variable(model, s[i=1:NS,j=1:NC,k=1:K],Bin)\n",
    "    @variable(model, x[i=1:NS,j=1:NC,k=1:K]>=0)\n",
    "    @variable(model, y[j=1:NC,k=1:K]>=0)\n",
    "\n",
    "    @constraint(model, [j=1:NC,k=1:K], y[j,k] <= sum(x[i,j,k] for i=1:NS))\n",
    "    @constraint(model, [j=1:NC,k=1:K], y[j,k] <= Dem[j,k])\n",
    "    @constraint(model, [i=1:NS,k=1:K], sum(x[i,j,k] for j=1:NC) <= c[i])\n",
    "    @constraint(model, [i=1:NS,j=1:NC,k=1:K], x[i,j,k] <= B[i]*s[i,j,k])\n",
    "    @constraint(model, [i=1:NS], c[i] <= B[i]*z[i])\n",
    "    @constraint(model, [i=1:NS,j=1:NC,k=1:K], s[i,j,k] <= z[i])\n",
    "\n",
    "    @objective(model, Max, sum(weight[k]*(R*sum(y[j,k] for j=1:NC) - sum(z[i]*FC[i] + c[i]*VC[i] for i=1:NS) - sum(shipCostperMile*s[i,j,k]*T[i,j] for i=1:NS, j=1:NC)) for k=1:K))\n",
    "\n",
    "    set_optimizer_attribute(model, \"OutputFlag\", 0)\n",
    "    optimize!(model)\n",
    "    \n",
    "    return objective_value(model), value.(c)\n",
    "    \n",
    "end"
   ]
  },
  {
   "cell_type": "code",
   "execution_count": 6,
   "id": "22d0ceab",
   "metadata": {},
   "outputs": [
    {
     "data": {
      "text/plain": [
       "optPresRes (generic function with 1 method)"
      ]
     },
     "execution_count": 6,
     "metadata": {},
     "output_type": "execute_result"
    }
   ],
   "source": [
    "# Optimization Model - With Prescription\n",
    "function optPresRes(Dem)\n",
    "    \n",
    "    NS = size(supplierInfo)[1]\n",
    "    NC = size(Dem)[1]\n",
    "    \n",
    "    # GET K FROM SIZE OF Dem\n",
    "    if isa(Dem, Vector) == true\n",
    "        K = 1\n",
    "    else\n",
    "        K = size(Dem)[2]\n",
    "    end\n",
    "    \n",
    "    weight = [0.1,0.2,0.4,0.2,0.1]\n",
    "    # set weights\n",
    "\n",
    "    model = Model(with_optimizer(Gurobi.Optimizer,TimeLimit=60, gurobi_env));\n",
    "\n",
    "    @variable(model, z[i=1:NS], Bin)\n",
    "    @variable(model, c[i=1:NS]>=0)\n",
    "    @variable(model, s[i=1:NS,j=1:NC,k=1:K],Bin)\n",
    "    @variable(model, x[i=1:NS,j=1:NC,k=1:K]>=0)\n",
    "    @variable(model, y[j=1:NC,k=1:K]>=0)\n",
    "\n",
    "    @constraint(model, [j=1:NC,k=1:K], y[j,k] <= sum(x[i,j,k] for i=1:NS))\n",
    "    @constraint(model, [j=1:NC,k=1:K], y[j,k] <= Dem[j,k])\n",
    "    @constraint(model, [i=1:NS,k=1:K], sum(x[i,j,k] for j=1:NC) <= c[i])\n",
    "    @constraint(model, [i=1:NS,j=1:NC,k=1:K], x[i,j,k] <= B[i]*s[i,j,k])\n",
    "    @constraint(model, [i=1:NS], c[i] <= B[i]*z[i])\n",
    "    @constraint(model, [i=1:NS,j=1:NC,k=1:K], s[i,j,k] <= z[i])\n",
    "\n",
    "    @objective(model, Max, sum(weight[k]*(R*sum(y[j,k] for j=1:NC) - sum(z[i]*FC[i] + c[i]*VC[i] for i=1:NS) - sum(shipCostperMile*s[i,j,k]*T[i,j] for i=1:NS, j=1:NC)) for k=1:K))\n",
    "\n",
    "    set_optimizer_attribute(model, \"OutputFlag\", 0)\n",
    "    optimize!(model)\n",
    "    \n",
    "    return objective_value(model), value.(c)\n",
    "    \n",
    "end"
   ]
  },
  {
   "cell_type": "code",
   "execution_count": 7,
   "id": "f4c8c238",
   "metadata": {},
   "outputs": [
    {
     "data": {
      "text/plain": [
       "checkReality (generic function with 1 method)"
      ]
     },
     "execution_count": 7,
     "metadata": {},
     "output_type": "execute_result"
    }
   ],
   "source": [
    "# Optimization Model - No Prescription Yet\n",
    "function checkReality(contr, trueDem)\n",
    "    \n",
    "    NS = size(supplierInfo)[1]\n",
    "    NC = size(trueDem)[1]\n",
    "\n",
    "    model = Model(with_optimizer(Gurobi.Optimizer,TimeLimit=60, gurobi_env));\n",
    "\n",
    "    @variable(model, z[i=1:NS], Bin)\n",
    "    @variable(model, c[i=1:NS]>=0)\n",
    "    @variable(model, k[i=1:NS,j=1:NC], Bin)\n",
    "    @variable(model, x[i=1:NS,j=1:NC]>=0)\n",
    "    @variable(model, y[j=1:NC]>=0)\n",
    "\n",
    "    @constraint(model, [i=1:NS], c[i] == contr[i])\n",
    "    \n",
    "    @constraint(model, [j=1:NC], y[j] <= sum(x[i,j] for i=1:NS))\n",
    "    @constraint(model, [j=1:NC], y[j] <= trueDem[j])\n",
    "    @constraint(model, [i=1:NS], sum(x[i,j] for j=1:NC) <= c[i])\n",
    "    @constraint(model, [i=1:NS,j=1:NC], x[i,j] <= B[i]*k[i,j])\n",
    "    @constraint(model, [i=1:NS], c[i] <= B[i]*z[i])\n",
    "    @constraint(model, [i=1:NS,j=1:NC], k[i,j] <= z[i])\n",
    "\n",
    "    @objective(model, Max, R*sum(y[j] for j=1:NC) - sum(z[i]*FC[i] + c[i]*VC[i] for i=1:NS) - sum(shipCostperMile*k[i,j]*T[i,j] for i=1:NS, j=1:NC))\n",
    "\n",
    "    set_optimizer_attribute(model, \"OutputFlag\", 0)\n",
    "    optimize!(model)\n",
    "    \n",
    "    return objective_value(model), value.(c)\n",
    "    \n",
    "end"
   ]
  },
  {
   "cell_type": "code",
   "execution_count": 8,
   "id": "bd991e9d",
   "metadata": {},
   "outputs": [
    {
     "data": {
      "text/plain": [
       "testApproaches (generic function with 1 method)"
      ]
     },
     "execution_count": 8,
     "metadata": {},
     "output_type": "execute_result"
    }
   ],
   "source": [
    "function testApproaches(testWkNum, KNN_K)\n",
    "    \n",
    "    # get test week and true demand\n",
    "    testWk = getTestPoint(alldata_test, testWkNum)\n",
    "    trueD = testWk[:,:Sales]\n",
    "    \n",
    "    # get num customers\n",
    "    NC = size(testWk)[1]\n",
    "    \n",
    "    trainSet = deepcopy(alldata_train)\n",
    "\n",
    "    if testWkNum != 147\n",
    "        addToTrain = getTestRange(alldata_test, testWkNum-1)\n",
    "        trainSet = [trainSet;addToTrain]\n",
    "    end\n",
    "    \n",
    "    # get neightbors\n",
    "    knnD = zeros(NC,KNN_K)\n",
    "    for i=1:NC\n",
    "        d_holder = findKNNDemand(i, testWk, trainSet, KNN_K)\n",
    "        for k=1:KNN_K\n",
    "            knnD[i,k] = d_holder[k]\n",
    "        end\n",
    "    end\n",
    "    \n",
    "    # get average sales of neighbors\n",
    "    avgD = mean(knnD, dims=2);\n",
    "    \n",
    "    # Oracle Approach\n",
    "    oracle_profEst, oracle_contr = optPres(trueD)\n",
    "    oracle_profReal, oracle_realContr = checkReality(oracle_contr, trueD)\n",
    "    \n",
    "    # KNN Approach\n",
    "    knn_profEst, knn_contr = optPres(knnD)\n",
    "    knn_profReal, knn_realContr = checkReality(knn_contr, trueD)\n",
    "    \n",
    "    # Avg KNN Sales Approach\n",
    "    avg_profEst, avg_contr = optPres(avgD)\n",
    "    avg_profReal, avg_realContr = checkReality(avg_contr, trueD)\n",
    "    \n",
    "    return oracle_profReal, knn_profReal, avg_profReal, sum(oracle_contr), sum(knn_contr), sum(avg_contr)\n",
    "    \n",
    "#     println(\"Estimated Profit:\")\n",
    "#     println(\" - Oracle Approach:         \\$\", oracle_profEst)\n",
    "#     println(\" - KNN Prescript. Approach: \\$\", knn_profEst)\n",
    "#     println(\" - KNN Average Approach:    \\$\", avg_profEst)\n",
    "#     println(\"\")\n",
    "#     println(\"Realized Profit:\")\n",
    "#     println(\" - Oracle Approach:         \\$\", oracle_profReal)\n",
    "#     println(\" - KNN Prescript. Approach: \\$\", knn_profReal)\n",
    "#     println(\" - KNN Average Approach:    \\$\", avg_profReal)\n",
    "    \n",
    "end"
   ]
  },
  {
   "cell_type": "code",
   "execution_count": 9,
   "id": "73d561d8",
   "metadata": {},
   "outputs": [
    {
     "data": {
      "text/plain": [
       "getResidualsD (generic function with 1 method)"
      ]
     },
     "execution_count": 9,
     "metadata": {},
     "output_type": "execute_result"
    }
   ],
   "source": [
    "function getResidualsD(residCustID, testPrediction)\n",
    "    \n",
    "    D = zeros(size(testPrediction)[1],5);\n",
    "    for i=1:size(testPrediction)[1]\n",
    "        residCust = filter(row -> row.custID == i, residCustID)\n",
    "        res_std = std(residCust[:,1])\n",
    "        D[i,1] = max(testPrediction[i] - 2*res_std,0)\n",
    "        D[i,2] = max(testPrediction[i] - res_std,0)\n",
    "        D[i,3] = testPrediction[i] \n",
    "        D[i,4] = testPrediction[i] + res_std\n",
    "        D[i,5] = testPrediction[i] + 2*res_std\n",
    "    end\n",
    "    \n",
    "    return D\n",
    "    \n",
    "end"
   ]
  },
  {
   "cell_type": "markdown",
   "id": "e0e1323a",
   "metadata": {},
   "source": [
    "# Get Constant Parameters"
   ]
  },
  {
   "cell_type": "code",
   "execution_count": 15,
   "id": "80623334",
   "metadata": {},
   "outputs": [],
   "source": [
    "#OLD STUFF\n",
    "\n",
    "# choose random tst day for distances - they're all the same # of customers\n",
    "testCust = getTestPoint(alldata_test, 147)\n",
    "T = getDistances(testCust, supplierInfo)\n",
    "\n",
    "FC = supplierInfo[:,5].*0\n",
    "#VC = supplierInfo[:,6]\n",
    "VC = zeros(17)\n",
    "VC .= 100\n",
    "B = supplierInfo[:,end]./100\n",
    "R = 500 # can change this\n",
    "shipCostperMile = 1;"
   ]
  },
  {
   "cell_type": "code",
   "execution_count": 139,
   "id": "d9e3bb9e",
   "metadata": {},
   "outputs": [],
   "source": [
    "# Accurate Prices\n",
    "\n",
    "# testCust = getTestPoint(alldata_test, 147)\n",
    "# T = getDistances(testCust, supplierInfo)\n",
    "\n",
    "# R = 25.99\n",
    "\n",
    "# B = supplierInfo[:,end]./10\n",
    "# VC = zeros(size(supplierInfo)[1])\n",
    "# VC .= 10.99\n",
    "# FC = zeros(size(supplierInfo)[1])\n",
    "# FC .= 0  # maybe change to 1.99\n",
    "# shipCostperMile = 2.9;\n"
   ]
  },
  {
   "cell_type": "markdown",
   "id": "05af4eb0",
   "metadata": {},
   "source": [
    "## \"Tuning\" Parameters"
   ]
  },
  {
   "cell_type": "code",
   "execution_count": 12,
   "id": "3932f746",
   "metadata": {},
   "outputs": [
    {
     "data": {
      "text/plain": [
       "5.757357426239999e7"
      ]
     },
     "execution_count": 12,
     "metadata": {},
     "output_type": "execute_result"
    }
   ],
   "source": [
    "## just take wk147 as demand\n",
    "D = testCust[:,:Sales];\n",
    "testProfit, testContr = optPres(D);\n",
    "testProfit"
   ]
  },
  {
   "cell_type": "code",
   "execution_count": 13,
   "id": "05b6af91",
   "metadata": {},
   "outputs": [],
   "source": [
    "# get test week and true demand\n",
    "testWk = getTestPoint(alldata_test, 147)\n",
    "trueD = testWk[:,:Sales]\n",
    "\n",
    "# get num customers\n",
    "NC = size(testWk)[1]\n",
    "\n",
    "trainSet = deepcopy(alldata_train)\n",
    "\n",
    "if 148 != 147\n",
    "    addToTrain = getTestRange(alldata_test, 148-1)\n",
    "    trainSet = [trainSet;addToTrain]\n",
    "end\n",
    "\n",
    "# get neightbors\n",
    "knnD = zeros(NC,5)\n",
    "for i=1:NC\n",
    "    d_holder = findKNNDemand(i, testWk, trainSet, 5)\n",
    "    for k=1:5\n",
    "        knnD[i,k] = d_holder[k]\n",
    "    end\n",
    "end\n",
    "\n",
    "# get average sales of neighbors\n",
    "avgD = mean(knnD, dims=2);\n",
    "\n",
    "# Oracle Approach\n",
    "oracle_profEst, oracle_contr = optPres(trueD)\n",
    "oracle_profReal, oracle_realContr = checkReality(oracle_contr, trueD)\n",
    "\n",
    "# KNN Approach\n",
    "knn_profEst, knn_contr = optPres(knnD)\n",
    "knn_profReal, knn_realContr = checkReality(knn_contr, trueD);"
   ]
  },
  {
   "cell_type": "code",
   "execution_count": 14,
   "id": "269a2a61",
   "metadata": {},
   "outputs": [
    {
     "data": {
      "text/plain": [
       "5.7445748751323335e7"
      ]
     },
     "execution_count": 14,
     "metadata": {},
     "output_type": "execute_result"
    }
   ],
   "source": [
    "knn_profReal"
   ]
  },
  {
   "cell_type": "markdown",
   "id": "da40b45c",
   "metadata": {},
   "source": [
    "# KNN Prescription vs. KNN Average"
   ]
  },
  {
   "cell_type": "code",
   "execution_count": 15,
   "id": "76c12c66",
   "metadata": {},
   "outputs": [
    {
     "data": {
      "text/plain": [
       "10×7 Matrix{Float64}:\n",
       " 147.0  5.75743e7  5.745e7    5.73089e7       1.4404e5   145276.0             1.43366e5\n",
       " 148.0  5.70369e7  5.67753e7  5.69925e7  142697.0             1.45311e5       1.43138e5\n",
       " 149.0  6.68157e7  5.6912e7   5.68824e7  167149.0             1.42319e5       1.42243e5\n",
       " 150.0  6.62138e7  5.69337e7  5.83449e7       1.65645e5       1.42374e5       1.45907e5\n",
       " 151.0  6.81266e7  6.53677e7  6.02345e7       1.70427e5       1.63486e5  150633.0\n",
       " 152.0  6.84365e7  6.58703e7  6.23615e7  171201.0             1.64741e5       1.5595e5\n",
       " 153.0  6.89556e7  6.72413e7  6.44835e7       1.72502e5       1.68178e5       1.61266e5\n",
       " 154.0  6.79322e7  6.75547e7  6.6811e7        1.69941e5       1.68982e5       1.67111e5\n",
       " 155.0  6.91152e7  6.75876e7  6.70324e7       1.72899e5       1.69046e5       1.67653e5\n",
       " 156.0  6.88541e7  6.80211e7  6.75829e7       1.72246e5       1.70142e5       1.69039e5"
      ]
     },
     "execution_count": 15,
     "metadata": {},
     "output_type": "execute_result"
    }
   ],
   "source": [
    "testWeekNums = [147:156;];\n",
    "knnResults = zeros(size(testWeekNums)[1],7)\n",
    "\n",
    "for i=1:size(testWeekNums)[1]\n",
    "    \n",
    "    orac, knnpres, knnavg, totalD, knnpres_contr, knnavg_contr = testApproaches(testWeekNums[i], 5)\n",
    "    \n",
    "    knnResults[i,1] = testWeekNums[i]\n",
    "    knnResults[i,2] = orac\n",
    "    knnResults[i,3] = knnpres\n",
    "    knnResults[i,4] = knnavg\n",
    "    knnResults[i,5] = totalD\n",
    "    knnResults[i,6] = knnpres_contr\n",
    "    knnResults[i,7] = knnavg_contr  \n",
    "    \n",
    "end\n",
    "\n",
    "knnResults"
   ]
  },
  {
   "cell_type": "code",
   "execution_count": 16,
   "id": "8018cccd",
   "metadata": {},
   "outputs": [],
   "source": [
    "knnResultsDF = DataFrame(knnResults, [:WeekNum, :OracleProf, :KnnPresProf, :KnnAvgProf, :OracleOrdered, :KnnPresOrdered, :KnnAvgOrdered]);"
   ]
  },
  {
   "cell_type": "code",
   "execution_count": 17,
   "id": "81b12c4e",
   "metadata": {},
   "outputs": [
    {
     "data": {
      "text/html": [
       "<table class=\"data-frame\"><thead><tr><th></th><th>WeekNum</th><th>OracleProf</th><th>KnnPresProf</th><th>KnnAvgProf</th><th>OracleOrdered</th><th>KnnPresOrdered</th><th>KnnAvgOrdered</th></tr><tr><th></th><th>Float64</th><th>Float64</th><th>Float64</th><th>Float64</th><th>Float64</th><th>Float64</th><th>Float64</th></tr></thead><tbody><p>10 rows × 7 columns</p><tr><th>1</th><td>147.0</td><td>5.75743e7</td><td>5.745e7</td><td>5.73089e7</td><td>1.4404e5</td><td>145276.0</td><td>1.43366e5</td></tr><tr><th>2</th><td>148.0</td><td>5.70369e7</td><td>5.67753e7</td><td>5.69925e7</td><td>142697.0</td><td>1.45311e5</td><td>1.43138e5</td></tr><tr><th>3</th><td>149.0</td><td>6.68157e7</td><td>5.6912e7</td><td>5.68824e7</td><td>167149.0</td><td>1.42319e5</td><td>1.42243e5</td></tr><tr><th>4</th><td>150.0</td><td>6.62138e7</td><td>5.69337e7</td><td>5.83449e7</td><td>1.65645e5</td><td>1.42374e5</td><td>1.45907e5</td></tr><tr><th>5</th><td>151.0</td><td>6.81266e7</td><td>6.53677e7</td><td>6.02345e7</td><td>1.70427e5</td><td>1.63486e5</td><td>150633.0</td></tr><tr><th>6</th><td>152.0</td><td>6.84365e7</td><td>6.58703e7</td><td>6.23615e7</td><td>171201.0</td><td>1.64741e5</td><td>1.5595e5</td></tr><tr><th>7</th><td>153.0</td><td>6.89556e7</td><td>6.72413e7</td><td>6.44835e7</td><td>1.72502e5</td><td>1.68178e5</td><td>1.61266e5</td></tr><tr><th>8</th><td>154.0</td><td>6.79322e7</td><td>6.75547e7</td><td>6.6811e7</td><td>1.69941e5</td><td>1.68982e5</td><td>1.67111e5</td></tr><tr><th>9</th><td>155.0</td><td>6.91152e7</td><td>6.75876e7</td><td>6.70324e7</td><td>1.72899e5</td><td>1.69046e5</td><td>1.67653e5</td></tr><tr><th>10</th><td>156.0</td><td>6.88541e7</td><td>6.80211e7</td><td>6.75829e7</td><td>1.72246e5</td><td>1.70142e5</td><td>1.69039e5</td></tr></tbody></table>"
      ],
      "text/latex": [
       "\\begin{tabular}{r|ccccccc}\n",
       "\t& WeekNum & OracleProf & KnnPresProf & KnnAvgProf & OracleOrdered & KnnPresOrdered & KnnAvgOrdered\\\\\n",
       "\t\\hline\n",
       "\t& Float64 & Float64 & Float64 & Float64 & Float64 & Float64 & Float64\\\\\n",
       "\t\\hline\n",
       "\t1 & 147.0 & 5.75743e7 & 5.745e7 & 5.73089e7 & 1.4404e5 & 145276.0 & 1.43366e5 \\\\\n",
       "\t2 & 148.0 & 5.70369e7 & 5.67753e7 & 5.69925e7 & 142697.0 & 1.45311e5 & 1.43138e5 \\\\\n",
       "\t3 & 149.0 & 6.68157e7 & 5.6912e7 & 5.68824e7 & 167149.0 & 1.42319e5 & 1.42243e5 \\\\\n",
       "\t4 & 150.0 & 6.62138e7 & 5.69337e7 & 5.83449e7 & 1.65645e5 & 1.42374e5 & 1.45907e5 \\\\\n",
       "\t5 & 151.0 & 6.81266e7 & 6.53677e7 & 6.02345e7 & 1.70427e5 & 1.63486e5 & 150633.0 \\\\\n",
       "\t6 & 152.0 & 6.84365e7 & 6.58703e7 & 6.23615e7 & 171201.0 & 1.64741e5 & 1.5595e5 \\\\\n",
       "\t7 & 153.0 & 6.89556e7 & 6.72413e7 & 6.44835e7 & 1.72502e5 & 1.68178e5 & 1.61266e5 \\\\\n",
       "\t8 & 154.0 & 6.79322e7 & 6.75547e7 & 6.6811e7 & 1.69941e5 & 1.68982e5 & 1.67111e5 \\\\\n",
       "\t9 & 155.0 & 6.91152e7 & 6.75876e7 & 6.70324e7 & 1.72899e5 & 1.69046e5 & 1.67653e5 \\\\\n",
       "\t10 & 156.0 & 6.88541e7 & 6.80211e7 & 6.75829e7 & 1.72246e5 & 1.70142e5 & 1.69039e5 \\\\\n",
       "\\end{tabular}\n"
      ],
      "text/plain": [
       "\u001b[1m10×7 DataFrame\u001b[0m\n",
       "\u001b[1m Row \u001b[0m│\u001b[1m WeekNum \u001b[0m\u001b[1m OracleProf \u001b[0m\u001b[1m KnnPresProf \u001b[0m\u001b[1m KnnAvgProf \u001b[0m\u001b[1m OracleOrdered  \u001b[0m\u001b[1m KnnPresOrdered \u001b[0m\u001b[1m KnnAvgOrdered  \u001b[0m\n",
       "\u001b[1m     \u001b[0m│\u001b[90m Float64 \u001b[0m\u001b[90m Float64    \u001b[0m\u001b[90m Float64     \u001b[0m\u001b[90m Float64    \u001b[0m\u001b[90m Float64        \u001b[0m\u001b[90m Float64        \u001b[0m\u001b[90m Float64        \u001b[0m\n",
       "─────┼──────────────────────────────────────────────────────────────────────────────────────────────\n",
       "   1 │   147.0   5.75743e7    5.745e7     5.73089e7       1.4404e5   145276.0             1.43366e5\n",
       "   2 │   148.0   5.70369e7    5.67753e7   5.69925e7  142697.0             1.45311e5       1.43138e5\n",
       "   3 │   149.0   6.68157e7    5.6912e7    5.68824e7  167149.0             1.42319e5       1.42243e5\n",
       "   4 │   150.0   6.62138e7    5.69337e7   5.83449e7       1.65645e5       1.42374e5       1.45907e5\n",
       "   5 │   151.0   6.81266e7    6.53677e7   6.02345e7       1.70427e5       1.63486e5  150633.0\n",
       "   6 │   152.0   6.84365e7    6.58703e7   6.23615e7  171201.0             1.64741e5       1.5595e5\n",
       "   7 │   153.0   6.89556e7    6.72413e7   6.44835e7       1.72502e5       1.68178e5       1.61266e5\n",
       "   8 │   154.0   6.79322e7    6.75547e7   6.6811e7        1.69941e5       1.68982e5       1.67111e5\n",
       "   9 │   155.0   6.91152e7    6.75876e7   6.70324e7       1.72899e5       1.69046e5       1.67653e5\n",
       "  10 │   156.0   6.88541e7    6.80211e7   6.75829e7       1.72246e5       1.70142e5       1.69039e5"
      ]
     },
     "execution_count": 17,
     "metadata": {},
     "output_type": "execute_result"
    }
   ],
   "source": [
    "knnResultsDF"
   ]
  },
  {
   "cell_type": "code",
   "execution_count": 18,
   "id": "e0003282",
   "metadata": {},
   "outputs": [
    {
     "data": {
      "text/plain": [
       "\"data/knn_results.csv\""
      ]
     },
     "execution_count": 18,
     "metadata": {},
     "output_type": "execute_result"
    }
   ],
   "source": [
    "CSV.write(\"data/knn_results.csv\", knnResultsDF)"
   ]
  },
  {
   "cell_type": "code",
   "execution_count": null,
   "id": "318f8b9c",
   "metadata": {},
   "outputs": [],
   "source": [
    "#custMet = findall(x->x>0.01, shipments);\n",
    "#contrSup = findall(x->x>0.01, contracts);\n",
    "#notContrSup = findall(x->x<0.01, contracts);"
   ]
  },
  {
   "cell_type": "code",
   "execution_count": null,
   "id": "c05b25ee",
   "metadata": {
    "scrolled": false
   },
   "outputs": [],
   "source": [
    "#scatter(test147[:,3],test147[:,2], markersize=3,format=:png)\n",
    "#scatter!(supplierInfo[contrSup,4], supplierInfo[contrSup,3],markersize=5,format=:png)\n",
    "#scatter!(supplierInfo[notContrSup,4], supplierInfo[notContrSup,3],markersize=5,format=:png)"
   ]
  },
  {
   "cell_type": "markdown",
   "id": "3532ad8c",
   "metadata": {},
   "source": [
    "# Regression Model: Getting \"neighbors\" from residuals "
   ]
  },
  {
   "cell_type": "markdown",
   "id": "bd673e20",
   "metadata": {},
   "source": [
    "### Ridge Regression"
   ]
  },
  {
   "cell_type": "code",
   "execution_count": 217,
   "id": "161f2c35",
   "metadata": {},
   "outputs": [
    {
     "data": {
      "text/plain": [
       "765×5 Matrix{Float64}:\n",
       "  56.2011   63.2342   70.2672   77.3002   84.3333\n",
       "  41.7676   51.6324   61.4972   71.362    81.2268\n",
       "  63.9996   72.5049   81.0103   89.5157   98.0211\n",
       "  57.2221   64.6353   72.0485   79.4618   86.875\n",
       " 146.7     155.462   164.224   172.986   181.748\n",
       "  70.3447   76.9636   83.5826   90.2016   96.8206\n",
       " 327.768   355.942   384.116   412.29    440.464\n",
       "  30.71     40.7093   50.7085   60.7078   70.7071\n",
       " 251.357   264.447   277.536   290.625   303.715\n",
       "  29.272    39.6177   49.9634   60.3091   70.6548\n",
       " 167.997   176.938   185.88    194.822   203.764\n",
       " 101.512   107.919   114.325   120.732   127.139\n",
       "  78.7818   84.223    89.6642   95.1054  100.547\n",
       "   ⋮                                     \n",
       " 121.245   128.485   135.725   142.966   150.206\n",
       "  56.5733   69.4178   82.2624   95.1069  107.951\n",
       "  99.427   106.645   113.864   121.082   128.3\n",
       " 729.934   794.417   858.901   923.385   987.869\n",
       "  46.8792   55.9541   65.0291   74.1041   83.1791\n",
       "  71.8228   78.4376   85.0524   91.6671   98.2819\n",
       "  60.7567   68.1044   75.452    82.7996   90.1472\n",
       "  39.5895   44.6926   49.7956   54.8987   60.0018\n",
       "  56.6532   63.2751   69.897    76.5189   83.1408\n",
       "  49.7447   57.9167   66.0887   74.2606   82.4326\n",
       " 237.564   254.938   272.311   289.685   307.058\n",
       " 406.843   448.232   489.622   531.011   572.401"
      ]
     },
     "execution_count": 217,
     "metadata": {},
     "output_type": "execute_result"
    }
   ],
   "source": [
    "# LR_res = CSV.read(\"data/LR_output.csv\", DataFrame)\n",
    "# LR_resCustID = LR_res[:,[:res,:custID]]\n",
    "# LR_preds = CSV.read(\"data/LR_output_147to156.csv\", DataFrame);\n",
    "# LR_pred147 = filter(row -> row.Week_Num == 147, LR_preds)\n",
    "# sort!(LR_pred147, :custID)\n",
    "# LR_pred147Sales = LR_pred147[:,:Sales]\n",
    "\n",
    "# LR_res_D = getResidualsD(LR_resCustID, LR_pred147Sales)"
   ]
  },
  {
   "cell_type": "code",
   "execution_count": 218,
   "id": "0a95bdd2",
   "metadata": {
    "scrolled": true
   },
   "outputs": [
    {
     "data": {
      "text/plain": [
       "2.0289158475659243e6"
      ]
     },
     "execution_count": 218,
     "metadata": {},
     "output_type": "execute_result"
    }
   ],
   "source": [
    "# # Ridge Residual Approach\n",
    "# LR_res_profEst, LR_res_contr = optPresRes(LR_res_D)\n",
    "# LR_res_profReal, LR_res_realContr = checkReality(LR_res_contr, trueD);\n",
    "# LR_res_profReal"
   ]
  },
  {
   "cell_type": "markdown",
   "id": "d6fefd85",
   "metadata": {},
   "source": [
    "### Random Forest"
   ]
  },
  {
   "cell_type": "code",
   "execution_count": 215,
   "id": "76b823e0",
   "metadata": {},
   "outputs": [
    {
     "data": {
      "text/plain": [
       "765×5 Matrix{Float64}:\n",
       "  23.4337   28.6388   33.844    39.0491   44.2542\n",
       "  27.5976   30.7208   33.844    36.9671   40.0903\n",
       "  22.1186   27.9813   33.844    39.7066   45.5693\n",
       "  23.2092   28.5266   33.844    39.1613   44.4787\n",
       "  65.9597   80.7754   95.5911  110.407   125.223\n",
       "  20.8867   27.3653   33.844    40.3226   46.8012\n",
       " 257.585   300.525   343.465   386.405   429.344\n",
       "  29.6305   31.7372   33.844    35.9507   38.0574\n",
       " 145.073   169.1     193.126   217.153   241.179\n",
       "  30.2726   32.0583   33.844    35.6296   37.4153\n",
       "  65.6921   80.6416   95.5911  110.541   125.49\n",
       "  71.7222   83.6567   95.5911  107.526   119.46\n",
       "  18.5298   26.1869   33.844    41.501    49.1581\n",
       "   ⋮                                     \n",
       "  70.9324   83.2617   95.5911  107.92    120.25\n",
       "  23.0385   28.4412   33.844    39.2467   44.6494\n",
       "  73.5708   82.3627   91.1547   99.9466  108.739\n",
       " 587.821   670.466   753.111   835.756   918.401\n",
       "  25.5675   29.7057   33.844    37.9822   42.1204\n",
       "  20.1723   27.0081   33.844    40.6798   47.5156\n",
       "  23.4132   28.6286   33.844    39.0593   44.2747\n",
       "  26.8495   30.3467   33.844    37.3412   40.8384\n",
       "  24.0304   28.9372   33.844    38.7507   43.6575\n",
       "  25.0289   29.4364   33.844    38.2515   42.659\n",
       " 136.964   165.045   193.126   221.207   249.288\n",
       " 278.973   329.052   379.132   429.211   479.29"
      ]
     },
     "execution_count": 215,
     "metadata": {},
     "output_type": "execute_result"
    }
   ],
   "source": [
    "# RF_res = CSV.read(\"data/RF_output.csv\", DataFrame)\n",
    "# RF_resCustID = RF_res[:,[:res,:custID]]\n",
    "# RF_preds = CSV.read(\"data/RF_output_147to156.csv\", DataFrame);\n",
    "# RF_pred147 = filter(row -> row.Week_Num == 147, RF_preds)\n",
    "# sort!(RF_pred147, :custID)\n",
    "# RF_pred147Sales = RF_pred147[:,:Sales]\n",
    "\n",
    "# RF_res_D = getResidualsD(RF_resCustID, RF_pred147Sales)"
   ]
  },
  {
   "cell_type": "code",
   "execution_count": 216,
   "id": "afb9a405",
   "metadata": {
    "scrolled": true
   },
   "outputs": [
    {
     "data": {
      "text/plain": [
       "1.6154596671162997e6"
      ]
     },
     "execution_count": 216,
     "metadata": {},
     "output_type": "execute_result"
    }
   ],
   "source": [
    "# # RF Residual Approach\n",
    "# RF_res_profEst, RF_res_contr = optPresRes(RF_res_D)\n",
    "# RF_res_profReal, RF_res_realContr = checkReality(RF_res_contr, trueD);\n",
    "# RF_res_profReal"
   ]
  },
  {
   "cell_type": "markdown",
   "id": "66bae02b",
   "metadata": {},
   "source": [
    "### XGBoost"
   ]
  },
  {
   "cell_type": "code",
   "execution_count": 213,
   "id": "0e5fb6df",
   "metadata": {},
   "outputs": [
    {
     "data": {
      "text/plain": [
       "765×5 Matrix{Float64}:\n",
       "  60.7322   63.6763   66.6205    69.5646    72.5088\n",
       "  32.652    35.0431   37.4342    39.8253    42.2165\n",
       "  59.6446   63.0674   66.4903    69.9131    73.336\n",
       "  46.1683   49.0019   51.8356    54.6692    57.5028\n",
       " 144.764   153.239   161.713    170.188    178.662\n",
       "  60.6071   64.6535   68.6998    72.7462    76.7926\n",
       " 420.079   443.652   467.225    490.798    514.37\n",
       "  16.6269   18.4742   20.3216    22.169     24.0164\n",
       " 244.619   257.798   270.976    284.155    297.334\n",
       "  15.5626   17.2158   18.8691    20.5223    22.1755\n",
       " 158.302   165.834   173.366    180.898    188.43\n",
       " 111.681   118.288   124.895    131.502    138.108\n",
       "  64.0048   68.3314   72.658     76.9846    81.3112\n",
       "   ⋮                                      \n",
       " 109.179   116.95    124.721    132.491    140.262\n",
       "  44.6358   47.8932   51.1506    54.408     57.6654\n",
       "  98.9717  104.285   109.599    114.912    120.225\n",
       " 867.849   917.435   967.02    1016.61    1066.19\n",
       "  41.2523   43.8289   46.4056    48.9822    51.5589\n",
       "  65.5297   69.1589   72.7882    76.4175    80.0467\n",
       "  48.4207   51.2329   54.0451    56.8573    59.6695\n",
       "  38.767    41.4815   44.196     46.9105    49.625\n",
       "  49.0268   52.0671   55.1073    58.1475    61.1877\n",
       "  43.7498   46.4105   49.0713    51.732     54.3927\n",
       " 246.729   263.323   279.917    296.511    313.106\n",
       " 484.099   516.248   548.397    580.546    612.695"
      ]
     },
     "execution_count": 213,
     "metadata": {},
     "output_type": "execute_result"
    }
   ],
   "source": [
    "# XGB_res = CSV.read(\"data/XGB_output.csv\", DataFrame)\n",
    "# XGB_resCustID = XGB_res[:,[:res,:custID]]\n",
    "# XGB_preds = CSV.read(\"data/XGB_output_147to156.csv\", DataFrame);\n",
    "# XGB_pred147 = filter(row -> row.Week_Num == 147, XGB_preds)\n",
    "# sort!(XGB_pred147, :custID)\n",
    "# XGB_pred147Sales = XGB_pred147[:,:Sales]\n",
    "\n",
    "# XGB_res_D = getResidualsD(XGB_resCustID, XGB_pred147Sales)"
   ]
  },
  {
   "cell_type": "code",
   "execution_count": 214,
   "id": "d391b32f",
   "metadata": {},
   "outputs": [
    {
     "data": {
      "text/plain": [
       "2.0480639891275358e6"
      ]
     },
     "execution_count": 214,
     "metadata": {},
     "output_type": "execute_result"
    }
   ],
   "source": [
    "# # XGBoost Residual Approach\n",
    "# XGB_res_profEst, XGB_res_contr = optPresRes(XGB_res_D)\n",
    "# XGB_res_profReal, XGB_res_realContr = checkReality(XGB_res_contr, trueD);\n",
    "# XGB_res_profReal"
   ]
  },
  {
   "cell_type": "code",
   "execution_count": null,
   "id": "8c96ddc3",
   "metadata": {},
   "outputs": [],
   "source": []
  },
  {
   "cell_type": "code",
   "execution_count": null,
   "id": "edcb3a17",
   "metadata": {},
   "outputs": [],
   "source": []
  },
  {
   "cell_type": "code",
   "execution_count": null,
   "id": "b37b35f5",
   "metadata": {},
   "outputs": [],
   "source": []
  },
  {
   "cell_type": "code",
   "execution_count": null,
   "id": "da5465b7",
   "metadata": {},
   "outputs": [],
   "source": []
  },
  {
   "cell_type": "code",
   "execution_count": null,
   "id": "71440def",
   "metadata": {},
   "outputs": [],
   "source": []
  },
  {
   "cell_type": "code",
   "execution_count": null,
   "id": "4093ba3c",
   "metadata": {},
   "outputs": [],
   "source": []
  },
  {
   "cell_type": "markdown",
   "id": "72b0c293",
   "metadata": {},
   "source": [
    "# XGBoost"
   ]
  },
  {
   "cell_type": "code",
   "execution_count": 19,
   "id": "5e08f0ae",
   "metadata": {},
   "outputs": [],
   "source": [
    "# load data\n",
    "XGB_res = CSV.read(\"data/XGB_output.csv\", DataFrame)\n",
    "XGB_resCustID = XGB_res[:,[:res,:custID]]\n",
    "XGB_preds = CSV.read(\"data/XGB_output_147to156.csv\", DataFrame);"
   ]
  },
  {
   "cell_type": "code",
   "execution_count": 25,
   "id": "3a206309",
   "metadata": {},
   "outputs": [
    {
     "data": {
      "text/plain": [
       "10×2 Matrix{Float64}:\n",
       " 5.60509e7       1.59274e5\n",
       " 5.53758e7       1.5931e5\n",
       " 6.59283e7       1.64905e5\n",
       " 6.59192e7       1.64895e5\n",
       " 6.59345e7       1.64907e5\n",
       " 6.59371e7       1.64908e5\n",
       " 6.60312e7       1.65143e5\n",
       " 6.60281e7       1.65144e5\n",
       " 6.60346e7       1.6515e5\n",
       " 6.60324e7  165147.0"
      ]
     },
     "execution_count": 25,
     "metadata": {},
     "output_type": "execute_result"
    }
   ],
   "source": [
    "testWeekNums = [147:156;];\n",
    "resApproachResults = zeros(size(testWeekNums)[1],2)\n",
    "\n",
    "for i=1:size(testWeekNums)[1]\n",
    "    \n",
    "    XGB_pred = filter(row -> row.Week_Num == testWeekNums[i], XGB_preds)\n",
    "    sort!(XGB_pred, :custID)\n",
    "    XGB_predSales = XGB_pred[:,:Sales]\n",
    "    \n",
    "    XGB_res_D = getResidualsD(XGB_resCustID, XGB_predSales)  \n",
    "    \n",
    "    XGB_res_profEst, XGB_res_contr = optPresRes(XGB_res_D)\n",
    "    \n",
    "    testWk = getTestPoint(alldata_test, testWeekNums[i])\n",
    "    trueD = testWk[:,:Sales]\n",
    "    \n",
    "    XGB_res_profReal, XGB_res_realContr = checkReality(XGB_res_contr, trueD);\n",
    "    \n",
    "    resApproachResults[i,1] = XGB_res_profReal\n",
    "    resApproachResults[i,2] = sum(XGB_res_contr)\n",
    "    \n",
    "end\n",
    "\n",
    "resApproachResults"
   ]
  },
  {
   "cell_type": "code",
   "execution_count": 32,
   "id": "ee575466",
   "metadata": {},
   "outputs": [
    {
     "data": {
      "text/html": [
       "<table class=\"data-frame\"><thead><tr><th></th><th>profit</th><th>totalcontr</th></tr><tr><th></th><th>Float64</th><th>Float64</th></tr></thead><tbody><p>10 rows × 2 columns</p><tr><th>1</th><td>5.60509e7</td><td>1.59274e5</td></tr><tr><th>2</th><td>5.53758e7</td><td>1.5931e5</td></tr><tr><th>3</th><td>6.59283e7</td><td>1.64905e5</td></tr><tr><th>4</th><td>6.59192e7</td><td>1.64895e5</td></tr><tr><th>5</th><td>6.59345e7</td><td>1.64907e5</td></tr><tr><th>6</th><td>6.59371e7</td><td>1.64908e5</td></tr><tr><th>7</th><td>6.60312e7</td><td>1.65143e5</td></tr><tr><th>8</th><td>6.60281e7</td><td>1.65144e5</td></tr><tr><th>9</th><td>6.60346e7</td><td>1.6515e5</td></tr><tr><th>10</th><td>6.60324e7</td><td>165147.0</td></tr></tbody></table>"
      ],
      "text/latex": [
       "\\begin{tabular}{r|cc}\n",
       "\t& profit & totalcontr\\\\\n",
       "\t\\hline\n",
       "\t& Float64 & Float64\\\\\n",
       "\t\\hline\n",
       "\t1 & 5.60509e7 & 1.59274e5 \\\\\n",
       "\t2 & 5.53758e7 & 1.5931e5 \\\\\n",
       "\t3 & 6.59283e7 & 1.64905e5 \\\\\n",
       "\t4 & 6.59192e7 & 1.64895e5 \\\\\n",
       "\t5 & 6.59345e7 & 1.64907e5 \\\\\n",
       "\t6 & 6.59371e7 & 1.64908e5 \\\\\n",
       "\t7 & 6.60312e7 & 1.65143e5 \\\\\n",
       "\t8 & 6.60281e7 & 1.65144e5 \\\\\n",
       "\t9 & 6.60346e7 & 1.6515e5 \\\\\n",
       "\t10 & 6.60324e7 & 165147.0 \\\\\n",
       "\\end{tabular}\n"
      ],
      "text/plain": [
       "\u001b[1m10×2 DataFrame\u001b[0m\n",
       "\u001b[1m Row \u001b[0m│\u001b[1m profit    \u001b[0m\u001b[1m totalcontr     \u001b[0m\n",
       "\u001b[1m     \u001b[0m│\u001b[90m Float64   \u001b[0m\u001b[90m Float64        \u001b[0m\n",
       "─────┼───────────────────────────\n",
       "   1 │ 5.60509e7       1.59274e5\n",
       "   2 │ 5.53758e7       1.5931e5\n",
       "   3 │ 6.59283e7       1.64905e5\n",
       "   4 │ 6.59192e7       1.64895e5\n",
       "   5 │ 6.59345e7       1.64907e5\n",
       "   6 │ 6.59371e7       1.64908e5\n",
       "   7 │ 6.60312e7       1.65143e5\n",
       "   8 │ 6.60281e7       1.65144e5\n",
       "   9 │ 6.60346e7       1.6515e5\n",
       "  10 │ 6.60324e7  165147.0"
      ]
     },
     "execution_count": 32,
     "metadata": {},
     "output_type": "execute_result"
    }
   ],
   "source": [
    "XGB_results = DataFrame(resApproachResults, [:XBG_profit, :XGBtotalcontr])"
   ]
  },
  {
   "cell_type": "code",
   "execution_count": 35,
   "id": "a060b04d",
   "metadata": {},
   "outputs": [
    {
     "data": {
      "text/plain": [
       "\"data/XGB_results.csv\""
      ]
     },
     "execution_count": 35,
     "metadata": {},
     "output_type": "execute_result"
    }
   ],
   "source": [
    "CSV.write(\"data/XGB_results.csv\", XGB_results)"
   ]
  },
  {
   "cell_type": "markdown",
   "id": "60921463",
   "metadata": {},
   "source": [
    "# Ridge Regression"
   ]
  },
  {
   "cell_type": "code",
   "execution_count": 36,
   "id": "d3b32ca8",
   "metadata": {},
   "outputs": [],
   "source": [
    "# load data\n",
    "LR_res = CSV.read(\"data/LR_output.csv\", DataFrame)\n",
    "LR_resCustID = LR_res[:,[:res,:custID]]\n",
    "LR_preds = CSV.read(\"data/LR_output_147to156.csv\", DataFrame);"
   ]
  },
  {
   "cell_type": "code",
   "execution_count": 37,
   "id": "931f7e2c",
   "metadata": {},
   "outputs": [
    {
     "data": {
      "text/plain": [
       "10×2 Matrix{Float64}:\n",
       " 5.54619e7  165164.0\n",
       " 5.47418e7       1.65649e5\n",
       " 6.54671e7  180638.0\n",
       " 6.46668e7  181123.0\n",
       " 6.69937e7       1.81759e5\n",
       " 6.73322e7       1.82245e5\n",
       " 6.79808e7       1.8225e5\n",
       " 6.66529e7       1.82736e5\n",
       " 6.80832e7       1.83222e5\n",
       " 6.76931e7       1.83859e5"
      ]
     },
     "execution_count": 37,
     "metadata": {},
     "output_type": "execute_result"
    }
   ],
   "source": [
    "testWeekNums = [147:156;];\n",
    "LR_resApproachResults = zeros(size(testWeekNums)[1],2)\n",
    "\n",
    "for i=1:size(testWeekNums)[1]\n",
    "    \n",
    "    LR_pred = filter(row -> row.Week_Num == testWeekNums[i], LR_preds)\n",
    "    sort!(LR_pred, :custID)\n",
    "    LR_predSales = LR_pred[:,:Sales]\n",
    "    \n",
    "    LR_res_D = getResidualsD(LR_resCustID, LR_predSales)  \n",
    "    \n",
    "    LR_res_profEst, LR_res_contr = optPresRes(LR_res_D)\n",
    "    \n",
    "    testWk = getTestPoint(alldata_test, testWeekNums[i])\n",
    "    trueD = testWk[:,:Sales]\n",
    "    \n",
    "    LR_res_profReal, LR_res_realContr = checkReality(LR_res_contr, trueD);\n",
    "    \n",
    "    LR_resApproachResults[i,1] = LR_res_profReal\n",
    "    LR_resApproachResults[i,2] = sum(LR_res_contr)\n",
    "    \n",
    "end\n",
    "\n",
    "LR_resApproachResults"
   ]
  },
  {
   "cell_type": "code",
   "execution_count": 38,
   "id": "930070e3",
   "metadata": {},
   "outputs": [
    {
     "data": {
      "text/html": [
       "<table class=\"data-frame\"><thead><tr><th></th><th>LR_Profit</th><th>totalcontr</th></tr><tr><th></th><th>Float64</th><th>Float64</th></tr></thead><tbody><p>10 rows × 2 columns</p><tr><th>1</th><td>5.54619e7</td><td>165164.0</td></tr><tr><th>2</th><td>5.47418e7</td><td>1.65649e5</td></tr><tr><th>3</th><td>6.54671e7</td><td>180638.0</td></tr><tr><th>4</th><td>6.46668e7</td><td>181123.0</td></tr><tr><th>5</th><td>6.69937e7</td><td>1.81759e5</td></tr><tr><th>6</th><td>6.73322e7</td><td>1.82245e5</td></tr><tr><th>7</th><td>6.79808e7</td><td>1.8225e5</td></tr><tr><th>8</th><td>6.66529e7</td><td>1.82736e5</td></tr><tr><th>9</th><td>6.80832e7</td><td>1.83222e5</td></tr><tr><th>10</th><td>6.76931e7</td><td>1.83859e5</td></tr></tbody></table>"
      ],
      "text/latex": [
       "\\begin{tabular}{r|cc}\n",
       "\t& LR\\_Profit & totalcontr\\\\\n",
       "\t\\hline\n",
       "\t& Float64 & Float64\\\\\n",
       "\t\\hline\n",
       "\t1 & 5.54619e7 & 165164.0 \\\\\n",
       "\t2 & 5.47418e7 & 1.65649e5 \\\\\n",
       "\t3 & 6.54671e7 & 180638.0 \\\\\n",
       "\t4 & 6.46668e7 & 181123.0 \\\\\n",
       "\t5 & 6.69937e7 & 1.81759e5 \\\\\n",
       "\t6 & 6.73322e7 & 1.82245e5 \\\\\n",
       "\t7 & 6.79808e7 & 1.8225e5 \\\\\n",
       "\t8 & 6.66529e7 & 1.82736e5 \\\\\n",
       "\t9 & 6.80832e7 & 1.83222e5 \\\\\n",
       "\t10 & 6.76931e7 & 1.83859e5 \\\\\n",
       "\\end{tabular}\n"
      ],
      "text/plain": [
       "\u001b[1m10×2 DataFrame\u001b[0m\n",
       "\u001b[1m Row \u001b[0m│\u001b[1m LR_Profit \u001b[0m\u001b[1m totalcontr     \u001b[0m\n",
       "\u001b[1m     \u001b[0m│\u001b[90m Float64   \u001b[0m\u001b[90m Float64        \u001b[0m\n",
       "─────┼───────────────────────────\n",
       "   1 │ 5.54619e7  165164.0\n",
       "   2 │ 5.47418e7       1.65649e5\n",
       "   3 │ 6.54671e7  180638.0\n",
       "   4 │ 6.46668e7  181123.0\n",
       "   5 │ 6.69937e7       1.81759e5\n",
       "   6 │ 6.73322e7       1.82245e5\n",
       "   7 │ 6.79808e7       1.8225e5\n",
       "   8 │ 6.66529e7       1.82736e5\n",
       "   9 │ 6.80832e7       1.83222e5\n",
       "  10 │ 6.76931e7       1.83859e5"
      ]
     },
     "execution_count": 38,
     "metadata": {},
     "output_type": "execute_result"
    }
   ],
   "source": [
    "LR_results = DataFrame(LR_resApproachResults, [:LR_Profit, :LRtotalcontr])"
   ]
  },
  {
   "cell_type": "code",
   "execution_count": 39,
   "id": "3b77fa3a",
   "metadata": {},
   "outputs": [
    {
     "data": {
      "text/plain": [
       "\"data/LR_results.csv\""
      ]
     },
     "execution_count": 39,
     "metadata": {},
     "output_type": "execute_result"
    }
   ],
   "source": [
    "CSV.write(\"data/LR_results.csv\", LR_results)"
   ]
  },
  {
   "cell_type": "markdown",
   "id": "ca9797a1",
   "metadata": {},
   "source": [
    "# Testing Ridge and XGBoost Point Predictors"
   ]
  },
  {
   "cell_type": "markdown",
   "id": "f3adf7d0",
   "metadata": {},
   "source": [
    "# XGB"
   ]
  },
  {
   "cell_type": "code",
   "execution_count": 40,
   "id": "9fb21516",
   "metadata": {},
   "outputs": [
    {
     "data": {
      "text/plain": [
       "10×2 Matrix{Float64}:\n",
       " 5.74589e7       1.43746e5\n",
       " 5.69278e7       1.43782e5\n",
       " 5.97326e7       1.49377e5\n",
       " 5.97277e7       1.49367e5\n",
       " 5.97344e7       1.49378e5\n",
       " 5.97359e7  149380.0\n",
       " 5.98296e7       1.49615e5\n",
       " 5.9828e7        1.49616e5\n",
       " 5.98327e7       1.49622e5\n",
       " 5.98313e7       1.49619e5"
      ]
     },
     "execution_count": 40,
     "metadata": {},
     "output_type": "execute_result"
    }
   ],
   "source": [
    "testWeekNums = [147:156;];\n",
    "XGBPointResults = zeros(size(testWeekNums)[1],2)\n",
    "\n",
    "for i=1:size(testWeekNums)[1]\n",
    "    \n",
    "    XGB_pred = filter(row -> row.Week_Num == testWeekNums[i], XGB_preds)\n",
    "    sort!(XGB_pred, :custID)\n",
    "    XGB_predSales = XGB_pred[:,:Sales]\n",
    "     \n",
    "    XGBPoint_profEst, XGBPoint_contr = optPresRes(XGB_predSales)\n",
    "    \n",
    "    testWk = getTestPoint(alldata_test, testWeekNums[i])\n",
    "    trueD = testWk[:,:Sales]\n",
    "    \n",
    "    XGBPoint_profReal, XGBPoint_realcontr = checkReality(XGBPoint_contr, trueD);\n",
    "    \n",
    "    XGBPointResults[i,1] = XGBPoint_profReal\n",
    "    XGBPointResults[i,2] = sum(XGBPoint_contr)\n",
    "    \n",
    "end\n",
    "\n",
    "XGBPointResults"
   ]
  },
  {
   "cell_type": "code",
   "execution_count": 41,
   "id": "a3439c9a",
   "metadata": {},
   "outputs": [
    {
     "data": {
      "text/html": [
       "<table class=\"data-frame\"><thead><tr><th></th><th>profit</th><th>XGBtotalcontr</th></tr><tr><th></th><th>Float64</th><th>Float64</th></tr></thead><tbody><p>10 rows × 2 columns</p><tr><th>1</th><td>5.74589e7</td><td>1.43746e5</td></tr><tr><th>2</th><td>5.69278e7</td><td>1.43782e5</td></tr><tr><th>3</th><td>5.97326e7</td><td>1.49377e5</td></tr><tr><th>4</th><td>5.97277e7</td><td>1.49367e5</td></tr><tr><th>5</th><td>5.97344e7</td><td>1.49378e5</td></tr><tr><th>6</th><td>5.97359e7</td><td>149380.0</td></tr><tr><th>7</th><td>5.98296e7</td><td>1.49615e5</td></tr><tr><th>8</th><td>5.9828e7</td><td>1.49616e5</td></tr><tr><th>9</th><td>5.98327e7</td><td>1.49622e5</td></tr><tr><th>10</th><td>5.98313e7</td><td>1.49619e5</td></tr></tbody></table>"
      ],
      "text/latex": [
       "\\begin{tabular}{r|cc}\n",
       "\t& profit & XGBtotalcontr\\\\\n",
       "\t\\hline\n",
       "\t& Float64 & Float64\\\\\n",
       "\t\\hline\n",
       "\t1 & 5.74589e7 & 1.43746e5 \\\\\n",
       "\t2 & 5.69278e7 & 1.43782e5 \\\\\n",
       "\t3 & 5.97326e7 & 1.49377e5 \\\\\n",
       "\t4 & 5.97277e7 & 1.49367e5 \\\\\n",
       "\t5 & 5.97344e7 & 1.49378e5 \\\\\n",
       "\t6 & 5.97359e7 & 149380.0 \\\\\n",
       "\t7 & 5.98296e7 & 1.49615e5 \\\\\n",
       "\t8 & 5.9828e7 & 1.49616e5 \\\\\n",
       "\t9 & 5.98327e7 & 1.49622e5 \\\\\n",
       "\t10 & 5.98313e7 & 1.49619e5 \\\\\n",
       "\\end{tabular}\n"
      ],
      "text/plain": [
       "\u001b[1m10×2 DataFrame\u001b[0m\n",
       "\u001b[1m Row \u001b[0m│\u001b[1m profit    \u001b[0m\u001b[1m XGBtotalcontr  \u001b[0m\n",
       "\u001b[1m     \u001b[0m│\u001b[90m Float64   \u001b[0m\u001b[90m Float64        \u001b[0m\n",
       "─────┼───────────────────────────\n",
       "   1 │ 5.74589e7       1.43746e5\n",
       "   2 │ 5.69278e7       1.43782e5\n",
       "   3 │ 5.97326e7       1.49377e5\n",
       "   4 │ 5.97277e7       1.49367e5\n",
       "   5 │ 5.97344e7       1.49378e5\n",
       "   6 │ 5.97359e7  149380.0\n",
       "   7 │ 5.98296e7       1.49615e5\n",
       "   8 │ 5.9828e7        1.49616e5\n",
       "   9 │ 5.98327e7       1.49622e5\n",
       "  10 │ 5.98313e7       1.49619e5"
      ]
     },
     "execution_count": 41,
     "metadata": {},
     "output_type": "execute_result"
    }
   ],
   "source": [
    "XGB_pt_results = DataFrame(XGBPointResults, [:XBG_pt_profit, :XGB_pt_totalcontr])"
   ]
  },
  {
   "cell_type": "code",
   "execution_count": 42,
   "id": "8ae902ff",
   "metadata": {
    "scrolled": true
   },
   "outputs": [
    {
     "data": {
      "text/plain": [
       "\"data/XBG_pt_results.csv\""
      ]
     },
     "execution_count": 42,
     "metadata": {},
     "output_type": "execute_result"
    }
   ],
   "source": [
    "CSV.write(\"data/XBG_pt_results.csv\", XGB_pt_results)"
   ]
  },
  {
   "cell_type": "markdown",
   "id": "05594382",
   "metadata": {},
   "source": [
    "# Ridge"
   ]
  },
  {
   "cell_type": "code",
   "execution_count": 43,
   "id": "ac974f71",
   "metadata": {},
   "outputs": [
    {
     "data": {
      "text/plain": [
       "10×2 Matrix{Float64}:\n",
       " 5.63795e7  141029.0\n",
       " 5.65684e7       1.41514e5\n",
       " 6.25767e7  156503.0\n",
       " 6.27692e7       1.56988e5\n",
       " 6.30268e7       1.57625e5\n",
       " 6.32225e7       1.5811e5\n",
       " 6.32248e7       1.58116e5\n",
       " 6.34164e7       1.58601e5\n",
       " 6.36128e7  159087.0\n",
       " 6.3867e7        1.59724e5"
      ]
     },
     "execution_count": 43,
     "metadata": {},
     "output_type": "execute_result"
    }
   ],
   "source": [
    "testWeekNums = [147:156;];\n",
    "LRPointResults = zeros(size(testWeekNums)[1],2)\n",
    "\n",
    "for i=1:size(testWeekNums)[1]\n",
    "    \n",
    "    LR_pred = filter(row -> row.Week_Num == testWeekNums[i], LR_preds)\n",
    "    sort!(LR_pred, :custID)\n",
    "    LR_predSales = LR_pred[:,:Sales]\n",
    "     \n",
    "    LRPoint_profEst, LRPoint_contr = optPresRes(LR_predSales)\n",
    "    \n",
    "    testWk = getTestPoint(alldata_test, testWeekNums[i])\n",
    "    trueD = testWk[:,:Sales]\n",
    "    \n",
    "    LRPoint_profReal, LRPoint_realcontr = checkReality(LRPoint_contr, trueD);\n",
    "    \n",
    "    LRPointResults[i,1] = LRPoint_profReal\n",
    "    LRPointResults[i,2] = sum(LRPoint_contr)\n",
    "    \n",
    "end\n",
    "\n",
    "LRPointResults"
   ]
  },
  {
   "cell_type": "code",
   "execution_count": 45,
   "id": "fe0e3271",
   "metadata": {
    "collapsed": true
   },
   "outputs": [
    {
     "data": {
      "text/html": [
       "<table class=\"data-frame\"><thead><tr><th></th><th>LR_pt_profit</th><th>LR_pt_totalcontr</th></tr><tr><th></th><th>Float64</th><th>Float64</th></tr></thead><tbody><p>10 rows × 2 columns</p><tr><th>1</th><td>5.63795e7</td><td>141029.0</td></tr><tr><th>2</th><td>5.65684e7</td><td>1.41514e5</td></tr><tr><th>3</th><td>6.25767e7</td><td>156503.0</td></tr><tr><th>4</th><td>6.27692e7</td><td>1.56988e5</td></tr><tr><th>5</th><td>6.30268e7</td><td>1.57625e5</td></tr><tr><th>6</th><td>6.32225e7</td><td>1.5811e5</td></tr><tr><th>7</th><td>6.32248e7</td><td>1.58116e5</td></tr><tr><th>8</th><td>6.34164e7</td><td>1.58601e5</td></tr><tr><th>9</th><td>6.36128e7</td><td>159087.0</td></tr><tr><th>10</th><td>6.3867e7</td><td>1.59724e5</td></tr></tbody></table>"
      ],
      "text/latex": [
       "\\begin{tabular}{r|cc}\n",
       "\t& LR\\_pt\\_profit & LR\\_pt\\_totalcontr\\\\\n",
       "\t\\hline\n",
       "\t& Float64 & Float64\\\\\n",
       "\t\\hline\n",
       "\t1 & 5.63795e7 & 141029.0 \\\\\n",
       "\t2 & 5.65684e7 & 1.41514e5 \\\\\n",
       "\t3 & 6.25767e7 & 156503.0 \\\\\n",
       "\t4 & 6.27692e7 & 1.56988e5 \\\\\n",
       "\t5 & 6.30268e7 & 1.57625e5 \\\\\n",
       "\t6 & 6.32225e7 & 1.5811e5 \\\\\n",
       "\t7 & 6.32248e7 & 1.58116e5 \\\\\n",
       "\t8 & 6.34164e7 & 1.58601e5 \\\\\n",
       "\t9 & 6.36128e7 & 159087.0 \\\\\n",
       "\t10 & 6.3867e7 & 1.59724e5 \\\\\n",
       "\\end{tabular}\n"
      ],
      "text/plain": [
       "\u001b[1m10×2 DataFrame\u001b[0m\n",
       "\u001b[1m Row \u001b[0m│\u001b[1m LR_pt_profit \u001b[0m\u001b[1m LR_pt_totalcontr \u001b[0m\n",
       "\u001b[1m     \u001b[0m│\u001b[90m Float64      \u001b[0m\u001b[90m Float64          \u001b[0m\n",
       "─────┼────────────────────────────────\n",
       "   1 │    5.63795e7    141029.0\n",
       "   2 │    5.65684e7         1.41514e5\n",
       "   3 │    6.25767e7    156503.0\n",
       "   4 │    6.27692e7         1.56988e5\n",
       "   5 │    6.30268e7         1.57625e5\n",
       "   6 │    6.32225e7         1.5811e5\n",
       "   7 │    6.32248e7         1.58116e5\n",
       "   8 │    6.34164e7         1.58601e5\n",
       "   9 │    6.36128e7    159087.0\n",
       "  10 │    6.3867e7          1.59724e5"
      ]
     },
     "execution_count": 45,
     "metadata": {},
     "output_type": "execute_result"
    }
   ],
   "source": [
    "LR_pt_results = DataFrame(LRPointResults, [:LR_pt_profit, :LR_pt_totalcontr])"
   ]
  },
  {
   "cell_type": "code",
   "execution_count": 46,
   "id": "373438d1",
   "metadata": {
    "scrolled": true
   },
   "outputs": [
    {
     "data": {
      "text/plain": [
       "\"data/LR_pt_results.csv\""
      ]
     },
     "execution_count": 46,
     "metadata": {},
     "output_type": "execute_result"
    }
   ],
   "source": [
    "CSV.write(\"data/LR_pt_results.csv\", LR_pt_results)"
   ]
  },
  {
   "cell_type": "markdown",
   "id": "8abf29f1",
   "metadata": {},
   "source": [
    "# SAA"
   ]
  },
  {
   "cell_type": "code",
   "execution_count": 19,
   "id": "a36bd5a2",
   "metadata": {},
   "outputs": [],
   "source": [
    "trainY_CustID = alldata_train[:,[:custID, :Week_Num, :Sales]];"
   ]
  },
  {
   "cell_type": "code",
   "execution_count": 12,
   "id": "286802ff",
   "metadata": {},
   "outputs": [],
   "source": [
    "saa_D = zeros(756,146);\n",
    "for i=1:756\n",
    "    custtrainsales = filter(row->row.custID==i,trainY_CustID)\n",
    "    sort!(custtrainsales, :Week_Num)\n",
    "    for j=1:146\n",
    "        saa_D[i,j] = custtrainsales[j,3]\n",
    "    end\n",
    "end"
   ]
  },
  {
   "cell_type": "code",
   "execution_count": 22,
   "id": "ca9ec253",
   "metadata": {},
   "outputs": [],
   "source": [
    "SAA_estProf, SAA_contr = optPres(saa_D);"
   ]
  },
  {
   "cell_type": "code",
   "execution_count": 23,
   "id": "05c99d51",
   "metadata": {},
   "outputs": [
    {
     "data": {
      "text/plain": [
       "-0.0"
      ]
     },
     "execution_count": 23,
     "metadata": {},
     "output_type": "execute_result"
    }
   ],
   "source": [
    "SAA_estProf"
   ]
  },
  {
   "cell_type": "code",
   "execution_count": 17,
   "id": "9e57d5ce",
   "metadata": {
    "scrolled": true
   },
   "outputs": [
    {
     "data": {
      "text/html": [
       "<table class=\"data-frame\"><thead><tr><th></th><th>Column1</th><th>UniqueCustomer</th><th>Latitude</th><th>Longitude</th><th>Week</th><th>Income</th><th>Population</th><th>Week_Num</th><th>Season</th><th>Sales</th><th>custID</th></tr><tr><th></th><th>Int64</th><th>String</th><th>Float64</th><th>Float64</th><th>Int64</th><th>Float64</th><th>Float64</th><th>Int64</th><th>Int64</th><th>Float64</th><th>Int64</th></tr></thead><tbody><p>7,650 rows × 11 columns</p><tr><th>1</th><td>1</td><td>Fairfield County, Connecticut</td><td>41.244</td><td>-73.363</td><td>43</td><td>1.03677e5</td><td>9.4706e5</td><td>147</td><td>11</td><td>1430.0</td><td>210</td></tr><tr><th>2</th><td>2</td><td>Fairfield County, Connecticut</td><td>41.244</td><td>-73.363</td><td>44</td><td>1.03711e5</td><td>9.4709e5</td><td>148</td><td>11</td><td>1240.0</td><td>210</td></tr><tr><th>3</th><td>3</td><td>Fairfield County, Connecticut</td><td>41.244</td><td>-73.363</td><td>45</td><td>1.03746e5</td><td>947120.0</td><td>149</td><td>12</td><td>1830.0</td><td>210</td></tr><tr><th>4</th><td>4</td><td>Fairfield County, Connecticut</td><td>41.244</td><td>-73.363</td><td>46</td><td>1.0378e5</td><td>9.4715e5</td><td>150</td><td>12</td><td>1210.0</td><td>210</td></tr><tr><th>5</th><td>5</td><td>Fairfield County, Connecticut</td><td>41.244</td><td>-73.363</td><td>47</td><td>103815.0</td><td>9.4718e5</td><td>151</td><td>12</td><td>1660.0</td><td>210</td></tr><tr><th>6</th><td>6</td><td>Fairfield County, Connecticut</td><td>41.244</td><td>-73.363</td><td>48</td><td>1.0385e5</td><td>9.4721e5</td><td>152</td><td>12</td><td>1610.0</td><td>210</td></tr><tr><th>7</th><td>7</td><td>Fairfield County, Connecticut</td><td>41.244</td><td>-73.363</td><td>49</td><td>1.03884e5</td><td>9.47241e5</td><td>153</td><td>13</td><td>1690.0</td><td>210</td></tr><tr><th>8</th><td>8</td><td>Fairfield County, Connecticut</td><td>41.244</td><td>-73.363</td><td>50</td><td>1.03919e5</td><td>9.47271e5</td><td>154</td><td>13</td><td>2110.0</td><td>210</td></tr><tr><th>9</th><td>9</td><td>Fairfield County, Connecticut</td><td>41.244</td><td>-73.363</td><td>51</td><td>1.03953e5</td><td>947301.0</td><td>155</td><td>13</td><td>1850.0</td><td>210</td></tr><tr><th>10</th><td>10</td><td>Fairfield County, Connecticut</td><td>41.244</td><td>-73.363</td><td>52</td><td>1.03988e5</td><td>9.47331e5</td><td>156</td><td>13</td><td>1580.0</td><td>210</td></tr><tr><th>11</th><td>11</td><td>Hartford County, Connecticut</td><td>41.82</td><td>-72.718</td><td>43</td><td>58191.5</td><td>8.98423e5</td><td>147</td><td>11</td><td>1190.0</td><td>298</td></tr><tr><th>12</th><td>12</td><td>Hartford County, Connecticut</td><td>41.82</td><td>-72.718</td><td>44</td><td>58228.6</td><td>898400.0</td><td>148</td><td>11</td><td>1160.0</td><td>298</td></tr><tr><th>13</th><td>13</td><td>Hartford County, Connecticut</td><td>41.82</td><td>-72.718</td><td>45</td><td>58265.8</td><td>8.98377e5</td><td>149</td><td>12</td><td>1250.0</td><td>298</td></tr><tr><th>14</th><td>14</td><td>Hartford County, Connecticut</td><td>41.82</td><td>-72.718</td><td>46</td><td>58302.9</td><td>8.98354e5</td><td>150</td><td>12</td><td>1060.0</td><td>298</td></tr><tr><th>15</th><td>15</td><td>Hartford County, Connecticut</td><td>41.82</td><td>-72.718</td><td>47</td><td>58340.1</td><td>8.98332e5</td><td>151</td><td>12</td><td>1880.0</td><td>298</td></tr><tr><th>16</th><td>16</td><td>Hartford County, Connecticut</td><td>41.82</td><td>-72.718</td><td>48</td><td>58377.3</td><td>8.98309e5</td><td>152</td><td>12</td><td>1520.0</td><td>298</td></tr><tr><th>17</th><td>17</td><td>Hartford County, Connecticut</td><td>41.82</td><td>-72.718</td><td>49</td><td>58414.6</td><td>8.98286e5</td><td>153</td><td>13</td><td>1300.0</td><td>298</td></tr><tr><th>18</th><td>18</td><td>Hartford County, Connecticut</td><td>41.82</td><td>-72.718</td><td>50</td><td>58451.9</td><td>8.98263e5</td><td>154</td><td>13</td><td>1410.0</td><td>298</td></tr><tr><th>19</th><td>19</td><td>Hartford County, Connecticut</td><td>41.82</td><td>-72.718</td><td>51</td><td>58489.1</td><td>8.98241e5</td><td>155</td><td>13</td><td>1560.0</td><td>298</td></tr><tr><th>20</th><td>20</td><td>Hartford County, Connecticut</td><td>41.82</td><td>-72.718</td><td>52</td><td>58526.5</td><td>8.98218e5</td><td>156</td><td>13</td><td>1610.0</td><td>298</td></tr><tr><th>21</th><td>21</td><td>Litchfield County, Connecticut</td><td>41.776</td><td>-73.202</td><td>43</td><td>57507.9</td><td>185180.0</td><td>147</td><td>11</td><td>255.969</td><td>399</td></tr><tr><th>22</th><td>22</td><td>Litchfield County, Connecticut</td><td>41.776</td><td>-73.202</td><td>44</td><td>57541.5</td><td>1.85156e5</td><td>148</td><td>11</td><td>270.209</td><td>399</td></tr><tr><th>23</th><td>23</td><td>Litchfield County, Connecticut</td><td>41.776</td><td>-73.202</td><td>45</td><td>57575.0</td><td>1.85132e5</td><td>149</td><td>12</td><td>383.354</td><td>399</td></tr><tr><th>24</th><td>24</td><td>Litchfield County, Connecticut</td><td>41.776</td><td>-73.202</td><td>46</td><td>57608.6</td><td>1.85109e5</td><td>150</td><td>12</td><td>401.24</td><td>399</td></tr><tr><th>25</th><td>25</td><td>Litchfield County, Connecticut</td><td>41.776</td><td>-73.202</td><td>47</td><td>57642.2</td><td>1.85085e5</td><td>151</td><td>12</td><td>422.362</td><td>399</td></tr><tr><th>26</th><td>26</td><td>Litchfield County, Connecticut</td><td>41.776</td><td>-73.202</td><td>48</td><td>57675.8</td><td>1.85061e5</td><td>152</td><td>12</td><td>315.257</td><td>399</td></tr><tr><th>27</th><td>27</td><td>Litchfield County, Connecticut</td><td>41.776</td><td>-73.202</td><td>49</td><td>57709.4</td><td>1.85037e5</td><td>153</td><td>13</td><td>329.818</td><td>399</td></tr><tr><th>28</th><td>28</td><td>Litchfield County, Connecticut</td><td>41.776</td><td>-73.202</td><td>50</td><td>57743.0</td><td>1.85014e5</td><td>154</td><td>13</td><td>374.209</td><td>399</td></tr><tr><th>29</th><td>29</td><td>Litchfield County, Connecticut</td><td>41.776</td><td>-73.202</td><td>51</td><td>57776.7</td><td>1.8499e5</td><td>155</td><td>13</td><td>303.904</td><td>399</td></tr><tr><th>30</th><td>30</td><td>Litchfield County, Connecticut</td><td>41.776</td><td>-73.202</td><td>52</td><td>57810.4</td><td>184966.0</td><td>156</td><td>13</td><td>370.413</td><td>399</td></tr><tr><th>&vellip;</th><td>&vellip;</td><td>&vellip;</td><td>&vellip;</td><td>&vellip;</td><td>&vellip;</td><td>&vellip;</td><td>&vellip;</td><td>&vellip;</td><td>&vellip;</td><td>&vellip;</td><td>&vellip;</td></tr></tbody></table>"
      ],
      "text/latex": [
       "\\begin{tabular}{r|ccccccccccc}\n",
       "\t& Column1 & UniqueCustomer & Latitude & Longitude & Week & Income & Population & Week\\_Num & Season & Sales & custID\\\\\n",
       "\t\\hline\n",
       "\t& Int64 & String & Float64 & Float64 & Int64 & Float64 & Float64 & Int64 & Int64 & Float64 & Int64\\\\\n",
       "\t\\hline\n",
       "\t1 & 1 & Fairfield County, Connecticut & 41.244 & -73.363 & 43 & 1.03677e5 & 9.4706e5 & 147 & 11 & 1430.0 & 210 \\\\\n",
       "\t2 & 2 & Fairfield County, Connecticut & 41.244 & -73.363 & 44 & 1.03711e5 & 9.4709e5 & 148 & 11 & 1240.0 & 210 \\\\\n",
       "\t3 & 3 & Fairfield County, Connecticut & 41.244 & -73.363 & 45 & 1.03746e5 & 947120.0 & 149 & 12 & 1830.0 & 210 \\\\\n",
       "\t4 & 4 & Fairfield County, Connecticut & 41.244 & -73.363 & 46 & 1.0378e5 & 9.4715e5 & 150 & 12 & 1210.0 & 210 \\\\\n",
       "\t5 & 5 & Fairfield County, Connecticut & 41.244 & -73.363 & 47 & 103815.0 & 9.4718e5 & 151 & 12 & 1660.0 & 210 \\\\\n",
       "\t6 & 6 & Fairfield County, Connecticut & 41.244 & -73.363 & 48 & 1.0385e5 & 9.4721e5 & 152 & 12 & 1610.0 & 210 \\\\\n",
       "\t7 & 7 & Fairfield County, Connecticut & 41.244 & -73.363 & 49 & 1.03884e5 & 9.47241e5 & 153 & 13 & 1690.0 & 210 \\\\\n",
       "\t8 & 8 & Fairfield County, Connecticut & 41.244 & -73.363 & 50 & 1.03919e5 & 9.47271e5 & 154 & 13 & 2110.0 & 210 \\\\\n",
       "\t9 & 9 & Fairfield County, Connecticut & 41.244 & -73.363 & 51 & 1.03953e5 & 947301.0 & 155 & 13 & 1850.0 & 210 \\\\\n",
       "\t10 & 10 & Fairfield County, Connecticut & 41.244 & -73.363 & 52 & 1.03988e5 & 9.47331e5 & 156 & 13 & 1580.0 & 210 \\\\\n",
       "\t11 & 11 & Hartford County, Connecticut & 41.82 & -72.718 & 43 & 58191.5 & 8.98423e5 & 147 & 11 & 1190.0 & 298 \\\\\n",
       "\t12 & 12 & Hartford County, Connecticut & 41.82 & -72.718 & 44 & 58228.6 & 898400.0 & 148 & 11 & 1160.0 & 298 \\\\\n",
       "\t13 & 13 & Hartford County, Connecticut & 41.82 & -72.718 & 45 & 58265.8 & 8.98377e5 & 149 & 12 & 1250.0 & 298 \\\\\n",
       "\t14 & 14 & Hartford County, Connecticut & 41.82 & -72.718 & 46 & 58302.9 & 8.98354e5 & 150 & 12 & 1060.0 & 298 \\\\\n",
       "\t15 & 15 & Hartford County, Connecticut & 41.82 & -72.718 & 47 & 58340.1 & 8.98332e5 & 151 & 12 & 1880.0 & 298 \\\\\n",
       "\t16 & 16 & Hartford County, Connecticut & 41.82 & -72.718 & 48 & 58377.3 & 8.98309e5 & 152 & 12 & 1520.0 & 298 \\\\\n",
       "\t17 & 17 & Hartford County, Connecticut & 41.82 & -72.718 & 49 & 58414.6 & 8.98286e5 & 153 & 13 & 1300.0 & 298 \\\\\n",
       "\t18 & 18 & Hartford County, Connecticut & 41.82 & -72.718 & 50 & 58451.9 & 8.98263e5 & 154 & 13 & 1410.0 & 298 \\\\\n",
       "\t19 & 19 & Hartford County, Connecticut & 41.82 & -72.718 & 51 & 58489.1 & 8.98241e5 & 155 & 13 & 1560.0 & 298 \\\\\n",
       "\t20 & 20 & Hartford County, Connecticut & 41.82 & -72.718 & 52 & 58526.5 & 8.98218e5 & 156 & 13 & 1610.0 & 298 \\\\\n",
       "\t21 & 21 & Litchfield County, Connecticut & 41.776 & -73.202 & 43 & 57507.9 & 185180.0 & 147 & 11 & 255.969 & 399 \\\\\n",
       "\t22 & 22 & Litchfield County, Connecticut & 41.776 & -73.202 & 44 & 57541.5 & 1.85156e5 & 148 & 11 & 270.209 & 399 \\\\\n",
       "\t23 & 23 & Litchfield County, Connecticut & 41.776 & -73.202 & 45 & 57575.0 & 1.85132e5 & 149 & 12 & 383.354 & 399 \\\\\n",
       "\t24 & 24 & Litchfield County, Connecticut & 41.776 & -73.202 & 46 & 57608.6 & 1.85109e5 & 150 & 12 & 401.24 & 399 \\\\\n",
       "\t25 & 25 & Litchfield County, Connecticut & 41.776 & -73.202 & 47 & 57642.2 & 1.85085e5 & 151 & 12 & 422.362 & 399 \\\\\n",
       "\t26 & 26 & Litchfield County, Connecticut & 41.776 & -73.202 & 48 & 57675.8 & 1.85061e5 & 152 & 12 & 315.257 & 399 \\\\\n",
       "\t27 & 27 & Litchfield County, Connecticut & 41.776 & -73.202 & 49 & 57709.4 & 1.85037e5 & 153 & 13 & 329.818 & 399 \\\\\n",
       "\t28 & 28 & Litchfield County, Connecticut & 41.776 & -73.202 & 50 & 57743.0 & 1.85014e5 & 154 & 13 & 374.209 & 399 \\\\\n",
       "\t29 & 29 & Litchfield County, Connecticut & 41.776 & -73.202 & 51 & 57776.7 & 1.8499e5 & 155 & 13 & 303.904 & 399 \\\\\n",
       "\t30 & 30 & Litchfield County, Connecticut & 41.776 & -73.202 & 52 & 57810.4 & 184966.0 & 156 & 13 & 370.413 & 399 \\\\\n",
       "\t$\\dots$ & $\\dots$ & $\\dots$ & $\\dots$ & $\\dots$ & $\\dots$ & $\\dots$ & $\\dots$ & $\\dots$ & $\\dots$ & $\\dots$ & $\\dots$ \\\\\n",
       "\\end{tabular}\n"
      ],
      "text/plain": [
       "\u001b[1m7650×11 DataFrame\u001b[0m\n",
       "\u001b[1m  Row \u001b[0m│\u001b[1m Column1 \u001b[0m\u001b[1m UniqueCustomer                \u001b[0m\u001b[1m Latitude \u001b[0m\u001b[1m Longitude \u001b[0m\u001b[1m Week  \u001b[0m\u001b[1m Income         \u001b[0m\u001b[1m Population     \u001b[0m\u001b[1m Week_Num \u001b[0m\u001b[1m \u001b[0m ⋯\n",
       "\u001b[1m      \u001b[0m│\u001b[90m Int64   \u001b[0m\u001b[90m String                        \u001b[0m\u001b[90m Float64  \u001b[0m\u001b[90m Float64   \u001b[0m\u001b[90m Int64 \u001b[0m\u001b[90m Float64        \u001b[0m\u001b[90m Float64        \u001b[0m\u001b[90m Int64    \u001b[0m\u001b[90m \u001b[0m ⋯\n",
       "──────┼─────────────────────────────────────────────────────────────────────────────────────────────────────────────────\n",
       "    1 │       1  Fairfield County, Connecticut    41.244    -73.363     43       1.03677e5       9.4706e5        147   ⋯\n",
       "    2 │       2  Fairfield County, Connecticut    41.244    -73.363     44       1.03711e5       9.4709e5        148\n",
       "    3 │       3  Fairfield County, Connecticut    41.244    -73.363     45       1.03746e5  947120.0             149\n",
       "    4 │       4  Fairfield County, Connecticut    41.244    -73.363     46       1.0378e5        9.4715e5        150\n",
       "    5 │       5  Fairfield County, Connecticut    41.244    -73.363     47  103815.0             9.4718e5        151   ⋯\n",
       "    6 │       6  Fairfield County, Connecticut    41.244    -73.363     48       1.0385e5        9.4721e5        152\n",
       "    7 │       7  Fairfield County, Connecticut    41.244    -73.363     49       1.03884e5       9.47241e5       153\n",
       "    8 │       8  Fairfield County, Connecticut    41.244    -73.363     50       1.03919e5       9.47271e5       154\n",
       "    9 │       9  Fairfield County, Connecticut    41.244    -73.363     51       1.03953e5  947301.0             155   ⋯\n",
       "   10 │      10  Fairfield County, Connecticut    41.244    -73.363     52       1.03988e5       9.47331e5       156\n",
       "   11 │      11  Hartford County, Connecticut     41.82     -72.718     43   58191.5             8.98423e5       147\n",
       "  ⋮   │    ⋮                   ⋮                   ⋮          ⋮        ⋮          ⋮               ⋮            ⋮       ⋱\n",
       " 7641 │    7641  Wyoming County, West Virginia    37.634    -81.539     43   28317.4         22443.5             147\n",
       " 7642 │    7642  Wyoming County, West Virginia    37.634    -81.539     44   28315.1         22435.7             148   ⋯\n",
       " 7643 │    7643  Wyoming County, West Virginia    37.634    -81.539     45   28312.8         22427.9             149\n",
       " 7644 │    7644  Wyoming County, West Virginia    37.634    -81.539     46   28310.6         22420.1             150\n",
       " 7645 │    7645  Wyoming County, West Virginia    37.634    -81.539     47   28308.3         22412.4             151\n",
       " 7646 │    7646  Wyoming County, West Virginia    37.634    -81.539     48   28306.0         22404.6             152   ⋯\n",
       " 7647 │    7647  Wyoming County, West Virginia    37.634    -81.539     49   28303.7         22396.9             153\n",
       " 7648 │    7648  Wyoming County, West Virginia    37.634    -81.539     50   28301.5         22389.1             154\n",
       " 7649 │    7649  Wyoming County, West Virginia    37.634    -81.539     51   28299.2         22381.3             155\n",
       " 7650 │    7650  Wyoming County, West Virginia    37.634    -81.539     52   28296.9         22373.6             156   ⋯\n",
       "\u001b[36m                                                                                         3 columns and 7629 rows omitted\u001b[0m"
      ]
     },
     "execution_count": 17,
     "metadata": {},
     "output_type": "execute_result"
    }
   ],
   "source": [
    "alldata_test"
   ]
  },
  {
   "cell_type": "code",
   "execution_count": null,
   "id": "b0e0bc1d",
   "metadata": {},
   "outputs": [],
   "source": []
  }
 ],
 "metadata": {
  "kernelspec": {
   "display_name": "Julia 1.6.2",
   "language": "julia",
   "name": "julia-1.6"
  },
  "language_info": {
   "file_extension": ".jl",
   "mimetype": "application/julia",
   "name": "julia",
   "version": "1.6.2"
  }
 },
 "nbformat": 4,
 "nbformat_minor": 5
}
