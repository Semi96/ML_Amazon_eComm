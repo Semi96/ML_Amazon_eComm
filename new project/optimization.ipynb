{
 "cells": [
  {
   "cell_type": "markdown",
   "id": "747455dc",
   "metadata": {},
   "source": [
    "## Model (No Prescription):"
   ]
  },
  {
   "cell_type": "markdown",
   "id": "54e5460b",
   "metadata": {},
   "source": [
    "$$\\max  \\quad R\\sum_{j=1}^{N_C}{y_j} -  \\sum_{i=1}^{N_S}{[z_iFC_i + c_iVC_i]} + \\sum_{i=1}^{N_S}{\\sum_{j=1}^{N_C}{s_{ij}T_{ij}}}$$\n",
    "$$s.t.$$\n",
    "$$y_j \\leq \\sum_{i=1}^{N_S}{x_{ij}}  \\quad \\forall{j}\\quad\\quad(1)$$\n",
    "$$y_j \\leq \\hat{D}_j  \\quad \\forall{j}\\quad\\quad(2)$$\n",
    "$$\\sum_{j=1}^{N_C}{x_{i,j}} \\leq c_i \\quad \\forall{i}\\quad\\quad(3)$$  \n",
    "$$x_{ij} \\leq B_is_{ij} \\quad \\forall{i} \\forall{j}\\quad\\quad(4)$$\n",
    "$$c_i \\leq B_iz_i \\quad \\forall{i}\\quad\\quad(5)$$\n",
    "<center>$s_{i,j} \\leq z_i \\quad \\forall{i}\\forall{j}\\quad\\quad(6)$"
   ]
  },
  {
   "cell_type": "markdown",
   "id": "aecae50e",
   "metadata": {},
   "source": [
    "## Inputs:"
   ]
  },
  {
   "cell_type": "markdown",
   "id": "5bb36014",
   "metadata": {},
   "source": [
    "- $N_S$: Total number of potential suppliers\n",
    "- $N_C$: Total number of customers\n",
    "- $FC_i$: Fixed cost for contracting supplier $i$\n",
    "- $VC_i$: Amount ordered from contracted supplier $i$\n",
    "- $T_{i,j}$: Distance from supplier $i$ to customer $j$ in miles\n",
    "- $B_i$: Maximum inventory of supplier $i$\n",
    "- $D_j$: Demand of county $j$ ---- uncertain\n",
    "- $R$: revenue per product sold"
   ]
  },
  {
   "cell_type": "markdown",
   "id": "fe68f446",
   "metadata": {},
   "source": [
    "## Decision Variables:"
   ]
  },
  {
   "cell_type": "markdown",
   "id": "dd8e5a6a",
   "metadata": {},
   "source": [
    "- $z_i$: Indicates whether supplier $i$ is contracted (= 1 if opened, = 0 otherwise)\n",
    "- $c_i$: Inventory ordered from supplier $i$\n",
    "- $s_{ij}$: Indicates whether customer $j$ is supplied by supplier $i$ (= 1 if true, = 0 otherwise)\n",
    "- $x_{ij}$: Total number of goods shipped from supplier $i$ to customer $j$ \n",
    "- $y_{j}$: Total number of goods bought by customer $j$"
   ]
  },
  {
   "cell_type": "markdown",
   "id": "1ea3778e",
   "metadata": {},
   "source": [
    "## Model (Prescription):"
   ]
  },
  {
   "cell_type": "markdown",
   "id": "1e4d3f15",
   "metadata": {},
   "source": [
    "$$\\max  \\quad R\\sum_{j=1}^{N_C}{y_{jk}} -  \\sum_{i=1}^{N_S}{[z_iFC_i + c_iVC_i]} + \\sum_{i=1}^{N_S}{\\sum_{j=1}^{N_C}{s_{ijk}t_{ij}}}$$\n",
    "$$s.t.$$\n",
    "$$y_{jk} \\leq \\sum_{i=1}^{N_S}{x_{ijk}}  \\quad \\forall{j}\\quad\\quad(1)$$\n",
    "$$y_{jk} \\leq \\hat{D}_{jk}  \\quad \\forall{j}\\quad\\quad(2)$$\n",
    "$$\\sum_{j=1}^{N_C}{x_{ijk}} \\leq c_i \\quad \\forall{i}\\quad\\quad(3)$$  \n",
    "$$x_{ijk} \\leq B_is_{ijk} \\quad \\forall{i} \\forall{j}\\quad\\quad(4)$$\n",
    "$$c_i \\leq B_iz_i \\quad \\forall{i}\\quad\\quad(5)$$\n",
    "<center>$s_{ijk} \\leq z_i \\quad \\forall{i}\\forall{j}\\quad\\quad(6)$"
   ]
  },
  {
   "cell_type": "markdown",
   "id": "5814ec00",
   "metadata": {},
   "source": [
    "## Inputs:"
   ]
  },
  {
   "cell_type": "markdown",
   "id": "25d7fcda",
   "metadata": {},
   "source": [
    "- $N_S$: Total number of potential suppliers\n",
    "- $N_C$: Total number of customers\n",
    "- $FC_i$: Fixed cost for contracting supplier $i$\n",
    "- $VC_i$: Amount ordered from contracted supplier $i$\n",
    "- $T_{i,j}$: Distance from supplier $i$ to customer $j$ in miles\n",
    "- $B_i$: Maximum inventory of supplier $i$\n",
    "- $\\hat{D}_{jk}$: Demand of county $j$ ---- uncertain\n",
    "- $R$: revenue per product sold"
   ]
  },
  {
   "cell_type": "markdown",
   "id": "8a2d2a1a",
   "metadata": {},
   "source": [
    "## Decision Variables:"
   ]
  },
  {
   "cell_type": "markdown",
   "id": "6574c30f",
   "metadata": {},
   "source": [
    "- $z_i$: Indicates whether supplier $i$ is contracted (= 1 if opened, = 0 otherwise)\n",
    "- $c_i$: Inventory ordered from supplier $i$\n",
    "- $s_{ijk}$: Indicates whether customer $j$ is supplied by supplier $i$ (= 1 if true, = 0 otherwise)\n",
    "- $x_{ijk}$: Total number of goods shipped from supplier $i$ to customer $j$ \n",
    "- $y_{jk}$: Total number of goods bought by customer $j$"
   ]
  },
  {
   "cell_type": "code",
   "execution_count": 90,
   "id": "5fe5d2dd",
   "metadata": {
    "scrolled": false
   },
   "outputs": [
    {
     "name": "stdout",
     "output_type": "stream",
     "text": [
      "Academic license - for non-commercial use only - expires 2022-08-19\r\n"
     ]
    }
   ],
   "source": [
    "using Distances, JuMP, Gurobi, CSV, DataFrames, Formatting, Plots;\n",
    "gurobi_env = Gurobi.Env();"
   ]
  },
  {
   "cell_type": "code",
   "execution_count": 49,
   "id": "78b984b9",
   "metadata": {},
   "outputs": [],
   "source": [
    "alldata_train = CSV.read(\"data/alldata_train.csv\", DataFrame);\n",
    "alldata_test = CSV.read(\"data/alldata_test.csv\", DataFrame);\n",
    "supplierInfo = CSV.read(\"data/supplierInfo.csv\", DataFrame)[4:end,:];"
   ]
  },
  {
   "cell_type": "markdown",
   "id": "6cfde0a7",
   "metadata": {},
   "source": [
    "## Functions"
   ]
  },
  {
   "cell_type": "code",
   "execution_count": 52,
   "id": "51344598",
   "metadata": {},
   "outputs": [
    {
     "data": {
      "text/plain": [
       "getDistances (generic function with 1 method)"
      ]
     },
     "execution_count": 52,
     "metadata": {},
     "output_type": "execute_result"
    }
   ],
   "source": [
    "# function to get test point from test set\n",
    "\n",
    "function getTestPoint(testSet, WeekNum)\n",
    "    \n",
    "    testPoint = filter(row -> row.Week_Num == WeekNum, alldata_test)\n",
    "    \n",
    "    sort!(testPoint, :UniqueCustomer)\n",
    "    \n",
    "    return testPoint\n",
    "end    \n",
    "\n",
    "# function to find distances between test point and suppliers\n",
    "function getDistances(testPoint, supInfo)\n",
    "    \n",
    "    NS = size(supInfo)[1]\n",
    "    NC = size(testPoint)[1]\n",
    "    \n",
    "    distances = zeros(NS, NC);\n",
    "    for i=1:NS\n",
    "        for j=1:NC\n",
    "            distances[i,j] = haversine((supInfo[i,3],supInfo[i,4]), (testPoint[j,2],testPoint[j,3]), 3958.8)\n",
    "        end\n",
    "    end\n",
    "    \n",
    "    return distances\n",
    "    \n",
    "end"
   ]
  },
  {
   "cell_type": "markdown",
   "id": "e0e1323a",
   "metadata": {},
   "source": [
    "## Get Constant Parameters"
   ]
  },
  {
   "cell_type": "code",
   "execution_count": 267,
   "id": "80623334",
   "metadata": {},
   "outputs": [
    {
     "data": {
      "text/plain": [
       "500"
      ]
     },
     "execution_count": 267,
     "metadata": {},
     "output_type": "execute_result"
    }
   ],
   "source": [
    "T = getDistances(test147, supplierInfo)\n",
    "FC = supplierInfo[:,5].*0\n",
    "#VC = supplierInfo[:,6]\n",
    "VC = zeros(17)\n",
    "VC .= 100\n",
    "B = supplierInfo[:,end]./100\n",
    "R = 500 # can change this"
   ]
  },
  {
   "cell_type": "markdown",
   "id": "15c481e8",
   "metadata": {},
   "source": [
    "## Testing Model with Week 147 Demand"
   ]
  },
  {
   "cell_type": "code",
   "execution_count": 299,
   "id": "5912be29",
   "metadata": {},
   "outputs": [],
   "source": [
    "# setting parameters - using demand from week147 as a test to see if model works\n",
    "test148 = getTestPoint(alldata_test, 148)\n",
    "\n",
    "# model run parameters\n",
    "D = test148[:,end];"
   ]
  },
  {
   "cell_type": "code",
   "execution_count": 300,
   "id": "345307ed",
   "metadata": {},
   "outputs": [
    {
     "data": {
      "text/plain": [
       "optNoPres (generic function with 1 method)"
      ]
     },
     "execution_count": 300,
     "metadata": {},
     "output_type": "execute_result"
    }
   ],
   "source": [
    "# Optimization Model - No Prescription Yet\n",
    "function optNoPres(Dem)\n",
    "    \n",
    "    NS = size(supplierInfo)[1]\n",
    "    NC = size(Dem)[1]\n",
    "\n",
    "    model = Model(with_optimizer(Gurobi.Optimizer,TimeLimit=60, gurobi_env));\n",
    "\n",
    "    @variable(model, z[i=1:NS], Bin)\n",
    "    @variable(model, c[i=1:NS]>=0)\n",
    "    @variable(model, s[i=1:NS,j=1:NC], Bin)\n",
    "    @variable(model, x[i=1:NS,j=1:NC]>=0)\n",
    "    @variable(model, y[j=1:NC]>=0)\n",
    "\n",
    "    @constraint(model, [j=1:NC], y[j] <= sum(x[i,j] for i=1:NS))\n",
    "    @constraint(model, [j=1:NC], y[j] <= Dem[j])\n",
    "    @constraint(model, [i=1:NS], sum(x[i,j] for j=1:NC) <= c[i])\n",
    "    @constraint(model, [i=1:NS,j=1:NC], x[i,j] <= B[i]*s[i,j])\n",
    "    @constraint(model, [i=1:NS], c[i] <= B[i]*z[i])\n",
    "    @constraint(model, [i=1:NS,j=1:NC], s[i,j] <= z[i])\n",
    "\n",
    "    @objective(model, Max, R*sum(y[j] for j=1:NC) - sum(z[i]*FC[i] + c[i]*VC[i] for i=1:NS) - sum(1*s[i,j]*T[i,j] for i=1:NS, j=1:NC))\n",
    "\n",
    "    set_optimizer_attribute(model, \"OutputFlag\", 0)\n",
    "    optimize!(model)\n",
    "    \n",
    "    return objective_value(model), value.(c), value.(z), value.(y)\n",
    "    \n",
    "end"
   ]
  },
  {
   "cell_type": "code",
   "execution_count": 309,
   "id": "e506c85b",
   "metadata": {},
   "outputs": [
    {
     "data": {
      "text/plain": [
       "optPres (generic function with 1 method)"
      ]
     },
     "execution_count": 309,
     "metadata": {},
     "output_type": "execute_result"
    }
   ],
   "source": [
    "# Optimization Model - With Prescription\n",
    "function optPres(Dem)\n",
    "    \n",
    "    NS = size(supplierInfo)[1]\n",
    "    NC = size(Dem)[1]\n",
    "    \n",
    "    # GET K FROM SIZE OF Dem\n",
    "    if isa(Dem, Vector) == true\n",
    "        K = 1\n",
    "    else\n",
    "        K = size(Dem)[2]\n",
    "    end\n",
    "    \n",
    "    weight = zeros(K)\n",
    "    weight .= 1/K\n",
    "    # set weights\n",
    "\n",
    "    model = Model(with_optimizer(Gurobi.Optimizer,TimeLimit=60, gurobi_env));\n",
    "\n",
    "    @variable(model, z[i=1:NS], Bin)\n",
    "    @variable(model, c[i=1:NS]>=0)\n",
    "    @variable(model, s[i=1:NS,j=1:NC,k=1:K],Bin)\n",
    "    @variable(model, x[i=1:NS,j=1:NC,k=1:K]>=0)\n",
    "    @variable(model, y[j=1:NC,k=1:K]>=0)\n",
    "\n",
    "    @constraint(model, [j=1:NC,k=1:K], y[j,k] <= sum(x[i,j,k] for i=1:NS))\n",
    "    @constraint(model, [j=1:NC,k=1:K], y[j,k] <= Dem[j,k])\n",
    "    @constraint(model, [i=1:NS,k=1:K], sum(x[i,j,k] for j=1:NC) <= c[i])\n",
    "    @constraint(model, [i=1:NS,j=1:NC,k=1:K], x[i,j,k] <= B[i]*s[i,j,k])\n",
    "    @constraint(model, [i=1:NS], c[i] <= B[i]*z[i])\n",
    "    @constraint(model, [i=1:NS,j=1:NC,k=1:K], s[i,j,k] <= z[i])\n",
    "\n",
    "    @objective(model, Max, sum(weight[k]*(R*sum(y[j,k] for j=1:NC) - sum(z[i]*FC[i] + c[i]*VC[i] for i=1:NS) - sum(1*s[i,j,k]*T[i,j] for i=1:NS, j=1:NC)) for k=1:K))\n",
    "\n",
    "    set_optimizer_attribute(model, \"OutputFlag\", 0)\n",
    "    optimize!(model)\n",
    "    \n",
    "    return objective_value(model), value.(c), value.(z), value.(y)\n",
    "    \n",
    "end"
   ]
  },
  {
   "cell_type": "code",
   "execution_count": 310,
   "id": "bfb98c3c",
   "metadata": {
    "scrolled": true
   },
   "outputs": [
    {
     "data": {
      "text/plain": [
       "5.7035210287009336e7"
      ]
     },
     "execution_count": 310,
     "metadata": {},
     "output_type": "execute_result"
    }
   ],
   "source": [
    "est_profit, contracts, supChosen, shipments = optPres(D);\n",
    "est_profit"
   ]
  },
  {
   "cell_type": "code",
   "execution_count": 293,
   "id": "92f3eb9a",
   "metadata": {},
   "outputs": [
    {
     "data": {
      "text/plain": [
       "765-element Vector{Float64}:\n",
       "   60.7922712\n",
       "   34.83167454\n",
       "   57.15406343\n",
       "   49.1730045\n",
       "  168.0637964\n",
       "   69.8277922\n",
       "  505.7504371\n",
       "   23.16940208\n",
       "  262.6561407\n",
       "   16.9355834\n",
       "  204.4297181\n",
       "  110.9077882\n",
       "   83.90416051\n",
       "    ⋮\n",
       "  163.0887855\n",
       "   61.30806777\n",
       "   94.57850117\n",
       " 1090.0\n",
       "   44.29603032\n",
       "   64.72625758\n",
       "   55.93145998\n",
       "   50.73774365\n",
       "   45.27315661\n",
       "   42.9962297\n",
       "  324.2259966\n",
       "  574.3403494"
      ]
     },
     "execution_count": 293,
     "metadata": {},
     "output_type": "execute_result"
    }
   ],
   "source": [
    "shipments"
   ]
  },
  {
   "cell_type": "code",
   "execution_count": 283,
   "id": "318f8b9c",
   "metadata": {},
   "outputs": [
    {
     "name": "stdout",
     "output_type": "stream",
     "text": [
      "Cost of Suppliers: $1.42697045259991e7\n",
      "- Contract Cost: $0.0\n",
      "- Order Cost: $1.42697045259991e7\n",
      "\n",
      "Number of suppliers: 17.0\n",
      "\n",
      "Number of customers shipped: 765\n"
     ]
    }
   ],
   "source": [
    "custMet = findall(x->x>0.01, shipments);\n",
    "contrSup = findall(x->x>0.01, contracts);\n",
    "notContrSup = findall(x->x<0.01, contracts);\n",
    "\n",
    "println(\"Cost of Suppliers: \\$\", sum(supChosen.*FC + contracts.*VC))\n",
    "println(\"- Contract Cost: \\$\", sum(supChosen.*FC))\n",
    "println(\"- Order Cost: \\$\", sum(contracts.*VC))\n",
    "println(\"\")\n",
    "println(\"Number of suppliers: \", sum(supChosen))\n",
    "println(\"\")\n",
    "println(\"Number of customers shipped: \", size(custMet)[1])"
   ]
  },
  {
   "cell_type": "code",
   "execution_count": 284,
   "id": "c05b25ee",
   "metadata": {},
   "outputs": [
    {
     "data": {
      "image/png": "[encoded data removed]"
     },
     "execution_count": 284,
     "metadata": {},
     "output_type": "execute_result"
    }
   ],
   "source": [
    "scatter(test147[custMet,3],test147[custMet,2], markersize =3,format=:png)\n",
    "scatter!(supplierInfo[contrSup,4], supplierInfo[contrSup,3],markersize=5,format=:png)\n",
    "scatter!(supplierInfo[notContrSup,4], supplierInfo[notContrSup,3],markersize=5,format=:png)"
   ]
  },
  {
   "cell_type": "code",
   "execution_count": 288,
   "id": "f4c8c238",
   "metadata": {},
   "outputs": [
    {
     "data": {
      "text/plain": [
       "checkReality (generic function with 1 method)"
      ]
     },
     "execution_count": 288,
     "metadata": {},
     "output_type": "execute_result"
    }
   ],
   "source": [
    "# Optimization Model - No Prescription Yet\n",
    "function checkReality(contr, trueDem)\n",
    "    \n",
    "    NS = size(supplierInfo)[1]\n",
    "    NC = size(trueDem)[1]\n",
    "\n",
    "    model = Model(with_optimizer(Gurobi.Optimizer,TimeLimit=60, gurobi_env));\n",
    "\n",
    "    @variable(model, z[i=1:NS], Bin)\n",
    "    @variable(model, c[i=1:NS]>=0)\n",
    "    @variable(model, k[i=1:NS,j=1:NC], Bin)\n",
    "    @variable(model, x[i=1:NS,j=1:NC]>=0)\n",
    "    @variable(model, y[j=1:NC]>=0)\n",
    "\n",
    "    @constraint(model, [i=1:NS], c[i] == contr[i])\n",
    "    \n",
    "    @constraint(model, [j=1:NC], y[j] <= sum(x[i,j] for i=1:NS))\n",
    "    @constraint(model, [j=1:NC], y[j] <= trueDem[j])\n",
    "    @constraint(model, [i=1:NS], sum(x[i,j] for j=1:NC) <= c[i])\n",
    "    @constraint(model, [i=1:NS,j=1:NC], x[i,j] <= B[i]*k[i,j])\n",
    "    @constraint(model, [i=1:NS], c[i] <= B[i]*z[i])\n",
    "    @constraint(model, [i=1:NS,j=1:NC], k[i,j] <= z[i])\n",
    "\n",
    "    @objective(model, Max, R*sum(y[j] for j=1:NC) - sum(z[i]*FC[i] + c[i]*VC[i] for i=1:NS) - sum(1*k[i,j]*T[i,j] for i=1:NS, j=1:NC))\n",
    "\n",
    "    set_optimizer_attribute(model, \"OutputFlag\", 0)\n",
    "    optimize!(model)\n",
    "    \n",
    "    return objective_value(model), value.(y)\n",
    "    \n",
    "end"
   ]
  },
  {
   "cell_type": "code",
   "execution_count": 301,
   "id": "273eb62e",
   "metadata": {},
   "outputs": [],
   "source": [
    "## ASSUMING 149 is true demand\n",
    "\n",
    "# setting parameters - using demand from week147 as a test to see if model works\n",
    "test149 = getTestPoint(alldata_test, 149)\n",
    "\n",
    "# model run parameters\n",
    "true_D = test149[:,end];"
   ]
  },
  {
   "cell_type": "code",
   "execution_count": 303,
   "id": "f47bc73e",
   "metadata": {},
   "outputs": [
    {
     "data": {
      "text/plain": [
       "5.7063249310359776e7"
      ]
     },
     "execution_count": 303,
     "metadata": {},
     "output_type": "execute_result"
    }
   ],
   "source": [
    "# check how we did using 148 as predicted demand\n",
    "simpleEst_true_profit, simpleEst_true_shipments = checkReality(contracts, true_D);\n",
    "simpleEst_true_profit"
   ]
  },
  {
   "cell_type": "code",
   "execution_count": 304,
   "id": "ee238424",
   "metadata": {},
   "outputs": [
    {
     "data": {
      "text/plain": [
       "6.681483539124811e7"
      ]
     },
     "execution_count": 304,
     "metadata": {},
     "output_type": "execute_result"
    }
   ],
   "source": [
    "# oracle profit\n",
    "est_profit, contracts, supChosen, shipments = optNoPres(true_D);\n",
    "est_profit"
   ]
  },
  {
   "cell_type": "code",
   "execution_count": 320,
   "id": "b4e655b0",
   "metadata": {},
   "outputs": [
    {
     "data": {
      "text/plain": [
       "6.070403982862243e7"
      ]
     },
     "execution_count": 320,
     "metadata": {},
     "output_type": "execute_result"
    }
   ],
   "source": [
    "# make D = 148:149 and hopefully it gives better true profit\n",
    "D148 = D\n",
    "D150 = true_D\n",
    "\n",
    "testpresDem = Matrix([D148';D149']')\n",
    "\n",
    "pres_est_profit, pres_contracts, pres_supChosen, pres_shipments = optPres(testpresDem);\n",
    "pres_est_profit"
   ]
  },
  {
   "cell_type": "code",
   "execution_count": 321,
   "id": "ecf6c58c",
   "metadata": {},
   "outputs": [
    {
     "data": {
      "text/plain": [
       "6.681616992763527e7"
      ]
     },
     "execution_count": 321,
     "metadata": {},
     "output_type": "execute_result"
    }
   ],
   "source": [
    "# check how we did using 148 and 149 in prescription\n",
    "pres_true_profit, pres_true_shipments = checkReality(pres_contracts, true_D);\n",
    "pres_true_profit"
   ]
  },
  {
   "cell_type": "code",
   "execution_count": null,
   "id": "a957d123",
   "metadata": {},
   "outputs": [],
   "source": [
    "# to do tmw - before knn\n",
    "\n",
    "# get two random test days - make matrix and try pres\n",
    "# average those two days - try that and hopefully its less than above"
   ]
  }
 ],
 "metadata": {
  "kernelspec": {
   "display_name": "Julia 1.6.2",
   "language": "julia",
   "name": "julia-1.6"
  },
  "language_info": {
   "file_extension": ".jl",
   "mimetype": "application/julia",
   "name": "julia",
   "version": "1.6.2"
  }
 },
 "nbformat": 4,
 "nbformat_minor": 5
}
