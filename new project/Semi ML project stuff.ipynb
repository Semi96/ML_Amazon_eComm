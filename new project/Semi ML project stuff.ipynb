{
 "cells": [
  {
   "cell_type": "markdown",
   "id": "62f8fea8",
   "metadata": {},
   "source": [
    "# Julia code (parts d, e)"
   ]
  },
  {
   "cell_type": "code",
   "execution_count": 1,
   "id": "da6962b1",
   "metadata": {},
   "outputs": [],
   "source": [
    "#--- load packages\n",
    "using JuMP\n",
    "using Gurobi\n",
    "using CSV\n",
    "using DataFrames;"
   ]
  },
  {
   "cell_type": "code",
   "execution_count": 9,
   "id": "439939d9",
   "metadata": {},
   "outputs": [],
   "source": [
    "dcs = CSV.read(\"Dartboard_dcs.csv\", DataFrame)\n",
    "#future = CSV.read(\"Dartboard-future-predicts.csv\", DataFrame)\n",
    "historical = CSV.read(\"Dartboard_historical-1.csv\", DataFrame) # file output from R program\n",
    ";"
   ]
  },
  {
   "cell_type": "code",
   "execution_count": 10,
   "id": "957a8a20",
   "metadata": {},
   "outputs": [],
   "source": [
    "historical[!,\"UniqueCustomer\"] = string.(historical[!,\"County.Name\"], \", \",  historical[!,\"State.Name\"])\n",
    "#future[!,\"UniqueCustomer\"] = string.(future[!,\"County.Name\"], \", \",  future[!,\"State.Name\"])\n",
    ";"
   ]
  },
  {
   "cell_type": "code",
   "execution_count": 11,
   "id": "d8237572",
   "metadata": {},
   "outputs": [
    {
     "data": {
      "text/html": [
       "<table class=\"data-frame\"><thead><tr><th></th><th>Latitude</th><th>Longitude</th><th>Week</th><th>Income</th><th>Population</th><th>Week_Num</th><th>Season</th><th>Sales</th></tr><tr><th></th><th>Float64</th><th>Float64</th><th>Int64</th><th>Float64</th><th>Float64</th><th>Int64</th><th>Int64</th><th>Float64</th></tr></thead><tbody><p>119,340 rows × 9 columns (omitted printing of 1 columns)</p><tr><th>1</th><td>41.244</td><td>-73.363</td><td>1</td><td>1.06943e5</td><td>9.33226e5</td><td>1</td><td>1</td><td>8.58471e5</td></tr><tr><th>2</th><td>41.244</td><td>-73.363</td><td>2</td><td>1.06815e5</td><td>933351.0</td><td>2</td><td>1</td><td>8.16707e5</td></tr><tr><th>3</th><td>41.244</td><td>-73.363</td><td>3</td><td>1.06686e5</td><td>9.33476e5</td><td>3</td><td>1</td><td>706033.0</td></tr><tr><th>4</th><td>41.244</td><td>-73.363</td><td>4</td><td>1.06557e5</td><td>9.336e5</td><td>4</td><td>1</td><td>6.99396e5</td></tr><tr><th>5</th><td>41.244</td><td>-73.363</td><td>5</td><td>1.06429e5</td><td>9.33725e5</td><td>5</td><td>2</td><td>6.58245e5</td></tr><tr><th>6</th><td>41.244</td><td>-73.363</td><td>6</td><td>1.06301e5</td><td>9.33849e5</td><td>6</td><td>2</td><td>6.93406e5</td></tr><tr><th>7</th><td>41.244</td><td>-73.363</td><td>7</td><td>1.06173e5</td><td>933974.0</td><td>7</td><td>2</td><td>699856.0</td></tr><tr><th>8</th><td>41.244</td><td>-73.363</td><td>8</td><td>1.06045e5</td><td>9.34099e5</td><td>8</td><td>2</td><td>520851.0</td></tr><tr><th>9</th><td>41.244</td><td>-73.363</td><td>9</td><td>1.05917e5</td><td>9.34223e5</td><td>9</td><td>3</td><td>637070.0</td></tr><tr><th>10</th><td>41.244</td><td>-73.363</td><td>10</td><td>1.05789e5</td><td>9.34348e5</td><td>10</td><td>3</td><td>6.61987e5</td></tr><tr><th>11</th><td>41.244</td><td>-73.363</td><td>11</td><td>1.05662e5</td><td>9.34473e5</td><td>11</td><td>3</td><td>6.98351e5</td></tr><tr><th>12</th><td>41.244</td><td>-73.363</td><td>12</td><td>1.05534e5</td><td>9.34597e5</td><td>12</td><td>3</td><td>882552.0</td></tr><tr><th>13</th><td>41.244</td><td>-73.363</td><td>13</td><td>1.05407e5</td><td>9.34722e5</td><td>13</td><td>4</td><td>8.71751e5</td></tr><tr><th>14</th><td>41.244</td><td>-73.363</td><td>14</td><td>1.0528e5</td><td>9.34847e5</td><td>14</td><td>4</td><td>7.70454e5</td></tr><tr><th>15</th><td>41.244</td><td>-73.363</td><td>15</td><td>1.05153e5</td><td>9.34972e5</td><td>15</td><td>4</td><td>553978.0</td></tr><tr><th>16</th><td>41.244</td><td>-73.363</td><td>16</td><td>1.05027e5</td><td>9.35096e5</td><td>16</td><td>4</td><td>7.85866e5</td></tr><tr><th>17</th><td>41.244</td><td>-73.363</td><td>17</td><td>1.049e5</td><td>9.35221e5</td><td>17</td><td>5</td><td>6.68397e5</td></tr><tr><th>18</th><td>41.244</td><td>-73.363</td><td>18</td><td>1.04774e5</td><td>9.35346e5</td><td>18</td><td>5</td><td>6.96148e5</td></tr><tr><th>19</th><td>41.244</td><td>-73.363</td><td>19</td><td>1.04647e5</td><td>9.35471e5</td><td>19</td><td>5</td><td>8.56887e5</td></tr><tr><th>20</th><td>41.244</td><td>-73.363</td><td>20</td><td>1.04521e5</td><td>9.35596e5</td><td>20</td><td>5</td><td>621703.0</td></tr><tr><th>21</th><td>41.244</td><td>-73.363</td><td>21</td><td>1.04395e5</td><td>9.3572e5</td><td>21</td><td>6</td><td>7.38928e5</td></tr><tr><th>22</th><td>41.244</td><td>-73.363</td><td>22</td><td>1.0427e5</td><td>9.35845e5</td><td>22</td><td>6</td><td>7.73029e5</td></tr><tr><th>23</th><td>41.244</td><td>-73.363</td><td>23</td><td>104144.0</td><td>9.3597e5</td><td>23</td><td>6</td><td>9.78219e5</td></tr><tr><th>24</th><td>41.244</td><td>-73.363</td><td>24</td><td>1.04019e5</td><td>9.36095e5</td><td>24</td><td>6</td><td>7.41444e5</td></tr><tr><th>25</th><td>41.244</td><td>-73.363</td><td>25</td><td>1.03893e5</td><td>9.3622e5</td><td>25</td><td>7</td><td>8.54394e5</td></tr><tr><th>26</th><td>41.244</td><td>-73.363</td><td>26</td><td>103768.0</td><td>936345.0</td><td>26</td><td>7</td><td>7.6069e5</td></tr><tr><th>27</th><td>41.244</td><td>-73.363</td><td>27</td><td>103643.0</td><td>936470.0</td><td>27</td><td>7</td><td>8.95049e5</td></tr><tr><th>28</th><td>41.244</td><td>-73.363</td><td>28</td><td>1.03518e5</td><td>9.36595e5</td><td>28</td><td>7</td><td>8.05502e5</td></tr><tr><th>29</th><td>41.244</td><td>-73.363</td><td>29</td><td>1.03393e5</td><td>9.3672e5</td><td>29</td><td>8</td><td>9.37866e5</td></tr><tr><th>30</th><td>41.244</td><td>-73.363</td><td>30</td><td>1.03269e5</td><td>9.36845e5</td><td>30</td><td>8</td><td>759985.0</td></tr><tr><th>&vellip;</th><td>&vellip;</td><td>&vellip;</td><td>&vellip;</td><td>&vellip;</td><td>&vellip;</td><td>&vellip;</td><td>&vellip;</td><td>&vellip;</td></tr></tbody></table>"
      ],
      "text/latex": [
       "\\begin{tabular}{r|ccccccccc}\n",
       "\t& Latitude & Longitude & Week & Income & Population & Week\\_Num & Season & Sales & \\\\\n",
       "\t\\hline\n",
       "\t& Float64 & Float64 & Int64 & Float64 & Float64 & Int64 & Int64 & Float64 & \\\\\n",
       "\t\\hline\n",
       "\t1 & 41.244 & -73.363 & 1 & 1.06943e5 & 9.33226e5 & 1 & 1 & 8.58471e5 & $\\dots$ \\\\\n",
       "\t2 & 41.244 & -73.363 & 2 & 1.06815e5 & 933351.0 & 2 & 1 & 8.16707e5 & $\\dots$ \\\\\n",
       "\t3 & 41.244 & -73.363 & 3 & 1.06686e5 & 9.33476e5 & 3 & 1 & 706033.0 & $\\dots$ \\\\\n",
       "\t4 & 41.244 & -73.363 & 4 & 1.06557e5 & 9.336e5 & 4 & 1 & 6.99396e5 & $\\dots$ \\\\\n",
       "\t5 & 41.244 & -73.363 & 5 & 1.06429e5 & 9.33725e5 & 5 & 2 & 6.58245e5 & $\\dots$ \\\\\n",
       "\t6 & 41.244 & -73.363 & 6 & 1.06301e5 & 9.33849e5 & 6 & 2 & 6.93406e5 & $\\dots$ \\\\\n",
       "\t7 & 41.244 & -73.363 & 7 & 1.06173e5 & 933974.0 & 7 & 2 & 699856.0 & $\\dots$ \\\\\n",
       "\t8 & 41.244 & -73.363 & 8 & 1.06045e5 & 9.34099e5 & 8 & 2 & 520851.0 & $\\dots$ \\\\\n",
       "\t9 & 41.244 & -73.363 & 9 & 1.05917e5 & 9.34223e5 & 9 & 3 & 637070.0 & $\\dots$ \\\\\n",
       "\t10 & 41.244 & -73.363 & 10 & 1.05789e5 & 9.34348e5 & 10 & 3 & 6.61987e5 & $\\dots$ \\\\\n",
       "\t11 & 41.244 & -73.363 & 11 & 1.05662e5 & 9.34473e5 & 11 & 3 & 6.98351e5 & $\\dots$ \\\\\n",
       "\t12 & 41.244 & -73.363 & 12 & 1.05534e5 & 9.34597e5 & 12 & 3 & 882552.0 & $\\dots$ \\\\\n",
       "\t13 & 41.244 & -73.363 & 13 & 1.05407e5 & 9.34722e5 & 13 & 4 & 8.71751e5 & $\\dots$ \\\\\n",
       "\t14 & 41.244 & -73.363 & 14 & 1.0528e5 & 9.34847e5 & 14 & 4 & 7.70454e5 & $\\dots$ \\\\\n",
       "\t15 & 41.244 & -73.363 & 15 & 1.05153e5 & 9.34972e5 & 15 & 4 & 553978.0 & $\\dots$ \\\\\n",
       "\t16 & 41.244 & -73.363 & 16 & 1.05027e5 & 9.35096e5 & 16 & 4 & 7.85866e5 & $\\dots$ \\\\\n",
       "\t17 & 41.244 & -73.363 & 17 & 1.049e5 & 9.35221e5 & 17 & 5 & 6.68397e5 & $\\dots$ \\\\\n",
       "\t18 & 41.244 & -73.363 & 18 & 1.04774e5 & 9.35346e5 & 18 & 5 & 6.96148e5 & $\\dots$ \\\\\n",
       "\t19 & 41.244 & -73.363 & 19 & 1.04647e5 & 9.35471e5 & 19 & 5 & 8.56887e5 & $\\dots$ \\\\\n",
       "\t20 & 41.244 & -73.363 & 20 & 1.04521e5 & 9.35596e5 & 20 & 5 & 621703.0 & $\\dots$ \\\\\n",
       "\t21 & 41.244 & -73.363 & 21 & 1.04395e5 & 9.3572e5 & 21 & 6 & 7.38928e5 & $\\dots$ \\\\\n",
       "\t22 & 41.244 & -73.363 & 22 & 1.0427e5 & 9.35845e5 & 22 & 6 & 7.73029e5 & $\\dots$ \\\\\n",
       "\t23 & 41.244 & -73.363 & 23 & 104144.0 & 9.3597e5 & 23 & 6 & 9.78219e5 & $\\dots$ \\\\\n",
       "\t24 & 41.244 & -73.363 & 24 & 1.04019e5 & 9.36095e5 & 24 & 6 & 7.41444e5 & $\\dots$ \\\\\n",
       "\t25 & 41.244 & -73.363 & 25 & 1.03893e5 & 9.3622e5 & 25 & 7 & 8.54394e5 & $\\dots$ \\\\\n",
       "\t26 & 41.244 & -73.363 & 26 & 103768.0 & 936345.0 & 26 & 7 & 7.6069e5 & $\\dots$ \\\\\n",
       "\t27 & 41.244 & -73.363 & 27 & 103643.0 & 936470.0 & 27 & 7 & 8.95049e5 & $\\dots$ \\\\\n",
       "\t28 & 41.244 & -73.363 & 28 & 1.03518e5 & 9.36595e5 & 28 & 7 & 8.05502e5 & $\\dots$ \\\\\n",
       "\t29 & 41.244 & -73.363 & 29 & 1.03393e5 & 9.3672e5 & 29 & 8 & 9.37866e5 & $\\dots$ \\\\\n",
       "\t30 & 41.244 & -73.363 & 30 & 1.03269e5 & 9.36845e5 & 30 & 8 & 759985.0 & $\\dots$ \\\\\n",
       "\t$\\dots$ & $\\dots$ & $\\dots$ & $\\dots$ & $\\dots$ & $\\dots$ & $\\dots$ & $\\dots$ & $\\dots$ &  \\\\\n",
       "\\end{tabular}\n"
      ],
      "text/plain": [
       "\u001b[1m119340×9 DataFrame\u001b[0m\n",
       "\u001b[1m    Row \u001b[0m│\u001b[1m Latitude \u001b[0m\u001b[1m Longitude \u001b[0m\u001b[1m Week  \u001b[0m\u001b[1m Income        \u001b[0m\u001b[1m Population     \u001b[0m\u001b[1m Week_Num \u001b[0m\u001b[1m\u001b[0m ⋯\n",
       "\u001b[1m        \u001b[0m│\u001b[90m Float64  \u001b[0m\u001b[90m Float64   \u001b[0m\u001b[90m Int64 \u001b[0m\u001b[90m Float64       \u001b[0m\u001b[90m Float64        \u001b[0m\u001b[90m Int64    \u001b[0m\u001b[90m\u001b[0m ⋯\n",
       "────────┼───────────────────────────────────────────────────────────────────────\n",
       "      1 │   41.244    -73.363      1      1.06943e5       9.33226e5         1  ⋯\n",
       "      2 │   41.244    -73.363      2      1.06815e5  933351.0               2\n",
       "      3 │   41.244    -73.363      3      1.06686e5       9.33476e5         3\n",
       "      4 │   41.244    -73.363      4      1.06557e5       9.336e5           4\n",
       "      5 │   41.244    -73.363      5      1.06429e5       9.33725e5         5  ⋯\n",
       "      6 │   41.244    -73.363      6      1.06301e5       9.33849e5         6\n",
       "      7 │   41.244    -73.363      7      1.06173e5  933974.0               7\n",
       "      8 │   41.244    -73.363      8      1.06045e5       9.34099e5         8\n",
       "      9 │   41.244    -73.363      9      1.05917e5       9.34223e5         9  ⋯\n",
       "     10 │   41.244    -73.363     10      1.05789e5       9.34348e5        10\n",
       "     11 │   41.244    -73.363     11      1.05662e5       9.34473e5        11\n",
       "   ⋮    │    ⋮          ⋮        ⋮          ⋮              ⋮            ⋮      ⋱\n",
       " 119331 │   37.634    -81.539     43  28317.4         22443.5             147\n",
       " 119332 │   37.634    -81.539     44  28315.1         22435.7             148  ⋯\n",
       " 119333 │   37.634    -81.539     45  28312.8         22427.9             149\n",
       " 119334 │   37.634    -81.539     46  28310.6         22420.1             150\n",
       " 119335 │   37.634    -81.539     47  28308.3         22412.4             151\n",
       " 119336 │   37.634    -81.539     48  28306.0         22404.6             152  ⋯\n",
       " 119337 │   37.634    -81.539     49  28303.7         22396.9             153\n",
       " 119338 │   37.634    -81.539     50  28301.5         22389.1             154\n",
       " 119339 │   37.634    -81.539     51  28299.2         22381.3             155\n",
       " 119340 │   37.634    -81.539     52  28296.9         22373.6             156  ⋯\n",
       "\u001b[36m                                               3 columns and 119319 rows omitted\u001b[0m"
      ]
     },
     "execution_count": 11,
     "metadata": {},
     "output_type": "execute_result"
    }
   ],
   "source": [
    "select!(historical, Not(\"State.Name\"))\n",
    "select!(historical, Not(\"County.Name\"))\n",
    "select!(historical, Not(\"Year\"))\n",
    "select!(historical, Not(\"FIPS_Code\"))"
   ]
  },
  {
   "cell_type": "code",
   "execution_count": 17,
   "id": "7f0d8590",
   "metadata": {},
   "outputs": [
    {
     "data": {
      "text/html": [
       "<table class=\"data-frame\"><thead><tr><th></th><th>Latitude</th><th>Longitude</th><th>Week</th><th>Income</th><th>Population</th><th>Week_Num</th><th>Season</th><th>Sales</th></tr><tr><th></th><th>Float64</th><th>Float64</th><th>Int64</th><th>Float64</th><th>Float64</th><th>Int64</th><th>Int64</th><th>Float64</th></tr></thead><tbody><p>111,690 rows × 9 columns (omitted printing of 1 columns)</p><tr><th>1</th><td>41.244</td><td>-73.363</td><td>1</td><td>1.06943e5</td><td>9.33226e5</td><td>1</td><td>1</td><td>8.58471e5</td></tr><tr><th>2</th><td>41.244</td><td>-73.363</td><td>2</td><td>1.06815e5</td><td>933351.0</td><td>2</td><td>1</td><td>8.16707e5</td></tr><tr><th>3</th><td>41.244</td><td>-73.363</td><td>3</td><td>1.06686e5</td><td>9.33476e5</td><td>3</td><td>1</td><td>706033.0</td></tr><tr><th>4</th><td>41.244</td><td>-73.363</td><td>4</td><td>1.06557e5</td><td>9.336e5</td><td>4</td><td>1</td><td>6.99396e5</td></tr><tr><th>5</th><td>41.244</td><td>-73.363</td><td>5</td><td>1.06429e5</td><td>9.33725e5</td><td>5</td><td>2</td><td>6.58245e5</td></tr><tr><th>6</th><td>41.244</td><td>-73.363</td><td>6</td><td>1.06301e5</td><td>9.33849e5</td><td>6</td><td>2</td><td>6.93406e5</td></tr><tr><th>7</th><td>41.244</td><td>-73.363</td><td>7</td><td>1.06173e5</td><td>933974.0</td><td>7</td><td>2</td><td>699856.0</td></tr><tr><th>8</th><td>41.244</td><td>-73.363</td><td>8</td><td>1.06045e5</td><td>9.34099e5</td><td>8</td><td>2</td><td>520851.0</td></tr><tr><th>9</th><td>41.244</td><td>-73.363</td><td>9</td><td>1.05917e5</td><td>9.34223e5</td><td>9</td><td>3</td><td>637070.0</td></tr><tr><th>10</th><td>41.244</td><td>-73.363</td><td>10</td><td>1.05789e5</td><td>9.34348e5</td><td>10</td><td>3</td><td>6.61987e5</td></tr><tr><th>11</th><td>41.244</td><td>-73.363</td><td>11</td><td>1.05662e5</td><td>9.34473e5</td><td>11</td><td>3</td><td>6.98351e5</td></tr><tr><th>12</th><td>41.244</td><td>-73.363</td><td>12</td><td>1.05534e5</td><td>9.34597e5</td><td>12</td><td>3</td><td>882552.0</td></tr><tr><th>13</th><td>41.244</td><td>-73.363</td><td>13</td><td>1.05407e5</td><td>9.34722e5</td><td>13</td><td>4</td><td>8.71751e5</td></tr><tr><th>14</th><td>41.244</td><td>-73.363</td><td>14</td><td>1.0528e5</td><td>9.34847e5</td><td>14</td><td>4</td><td>7.70454e5</td></tr><tr><th>15</th><td>41.244</td><td>-73.363</td><td>15</td><td>1.05153e5</td><td>9.34972e5</td><td>15</td><td>4</td><td>553978.0</td></tr><tr><th>16</th><td>41.244</td><td>-73.363</td><td>16</td><td>1.05027e5</td><td>9.35096e5</td><td>16</td><td>4</td><td>7.85866e5</td></tr><tr><th>17</th><td>41.244</td><td>-73.363</td><td>17</td><td>1.049e5</td><td>9.35221e5</td><td>17</td><td>5</td><td>6.68397e5</td></tr><tr><th>18</th><td>41.244</td><td>-73.363</td><td>18</td><td>1.04774e5</td><td>9.35346e5</td><td>18</td><td>5</td><td>6.96148e5</td></tr><tr><th>19</th><td>41.244</td><td>-73.363</td><td>19</td><td>1.04647e5</td><td>9.35471e5</td><td>19</td><td>5</td><td>8.56887e5</td></tr><tr><th>20</th><td>41.244</td><td>-73.363</td><td>20</td><td>1.04521e5</td><td>9.35596e5</td><td>20</td><td>5</td><td>621703.0</td></tr><tr><th>21</th><td>41.244</td><td>-73.363</td><td>21</td><td>1.04395e5</td><td>9.3572e5</td><td>21</td><td>6</td><td>7.38928e5</td></tr><tr><th>22</th><td>41.244</td><td>-73.363</td><td>22</td><td>1.0427e5</td><td>9.35845e5</td><td>22</td><td>6</td><td>7.73029e5</td></tr><tr><th>23</th><td>41.244</td><td>-73.363</td><td>23</td><td>104144.0</td><td>9.3597e5</td><td>23</td><td>6</td><td>9.78219e5</td></tr><tr><th>24</th><td>41.244</td><td>-73.363</td><td>24</td><td>1.04019e5</td><td>9.36095e5</td><td>24</td><td>6</td><td>7.41444e5</td></tr><tr><th>25</th><td>41.244</td><td>-73.363</td><td>25</td><td>1.03893e5</td><td>9.3622e5</td><td>25</td><td>7</td><td>8.54394e5</td></tr><tr><th>26</th><td>41.244</td><td>-73.363</td><td>26</td><td>103768.0</td><td>936345.0</td><td>26</td><td>7</td><td>7.6069e5</td></tr><tr><th>27</th><td>41.244</td><td>-73.363</td><td>27</td><td>103643.0</td><td>936470.0</td><td>27</td><td>7</td><td>8.95049e5</td></tr><tr><th>28</th><td>41.244</td><td>-73.363</td><td>28</td><td>1.03518e5</td><td>9.36595e5</td><td>28</td><td>7</td><td>8.05502e5</td></tr><tr><th>29</th><td>41.244</td><td>-73.363</td><td>29</td><td>1.03393e5</td><td>9.3672e5</td><td>29</td><td>8</td><td>9.37866e5</td></tr><tr><th>30</th><td>41.244</td><td>-73.363</td><td>30</td><td>1.03269e5</td><td>9.36845e5</td><td>30</td><td>8</td><td>759985.0</td></tr><tr><th>&vellip;</th><td>&vellip;</td><td>&vellip;</td><td>&vellip;</td><td>&vellip;</td><td>&vellip;</td><td>&vellip;</td><td>&vellip;</td><td>&vellip;</td></tr></tbody></table>"
      ],
      "text/latex": [
       "\\begin{tabular}{r|ccccccccc}\n",
       "\t& Latitude & Longitude & Week & Income & Population & Week\\_Num & Season & Sales & \\\\\n",
       "\t\\hline\n",
       "\t& Float64 & Float64 & Int64 & Float64 & Float64 & Int64 & Int64 & Float64 & \\\\\n",
       "\t\\hline\n",
       "\t1 & 41.244 & -73.363 & 1 & 1.06943e5 & 9.33226e5 & 1 & 1 & 8.58471e5 & $\\dots$ \\\\\n",
       "\t2 & 41.244 & -73.363 & 2 & 1.06815e5 & 933351.0 & 2 & 1 & 8.16707e5 & $\\dots$ \\\\\n",
       "\t3 & 41.244 & -73.363 & 3 & 1.06686e5 & 9.33476e5 & 3 & 1 & 706033.0 & $\\dots$ \\\\\n",
       "\t4 & 41.244 & -73.363 & 4 & 1.06557e5 & 9.336e5 & 4 & 1 & 6.99396e5 & $\\dots$ \\\\\n",
       "\t5 & 41.244 & -73.363 & 5 & 1.06429e5 & 9.33725e5 & 5 & 2 & 6.58245e5 & $\\dots$ \\\\\n",
       "\t6 & 41.244 & -73.363 & 6 & 1.06301e5 & 9.33849e5 & 6 & 2 & 6.93406e5 & $\\dots$ \\\\\n",
       "\t7 & 41.244 & -73.363 & 7 & 1.06173e5 & 933974.0 & 7 & 2 & 699856.0 & $\\dots$ \\\\\n",
       "\t8 & 41.244 & -73.363 & 8 & 1.06045e5 & 9.34099e5 & 8 & 2 & 520851.0 & $\\dots$ \\\\\n",
       "\t9 & 41.244 & -73.363 & 9 & 1.05917e5 & 9.34223e5 & 9 & 3 & 637070.0 & $\\dots$ \\\\\n",
       "\t10 & 41.244 & -73.363 & 10 & 1.05789e5 & 9.34348e5 & 10 & 3 & 6.61987e5 & $\\dots$ \\\\\n",
       "\t11 & 41.244 & -73.363 & 11 & 1.05662e5 & 9.34473e5 & 11 & 3 & 6.98351e5 & $\\dots$ \\\\\n",
       "\t12 & 41.244 & -73.363 & 12 & 1.05534e5 & 9.34597e5 & 12 & 3 & 882552.0 & $\\dots$ \\\\\n",
       "\t13 & 41.244 & -73.363 & 13 & 1.05407e5 & 9.34722e5 & 13 & 4 & 8.71751e5 & $\\dots$ \\\\\n",
       "\t14 & 41.244 & -73.363 & 14 & 1.0528e5 & 9.34847e5 & 14 & 4 & 7.70454e5 & $\\dots$ \\\\\n",
       "\t15 & 41.244 & -73.363 & 15 & 1.05153e5 & 9.34972e5 & 15 & 4 & 553978.0 & $\\dots$ \\\\\n",
       "\t16 & 41.244 & -73.363 & 16 & 1.05027e5 & 9.35096e5 & 16 & 4 & 7.85866e5 & $\\dots$ \\\\\n",
       "\t17 & 41.244 & -73.363 & 17 & 1.049e5 & 9.35221e5 & 17 & 5 & 6.68397e5 & $\\dots$ \\\\\n",
       "\t18 & 41.244 & -73.363 & 18 & 1.04774e5 & 9.35346e5 & 18 & 5 & 6.96148e5 & $\\dots$ \\\\\n",
       "\t19 & 41.244 & -73.363 & 19 & 1.04647e5 & 9.35471e5 & 19 & 5 & 8.56887e5 & $\\dots$ \\\\\n",
       "\t20 & 41.244 & -73.363 & 20 & 1.04521e5 & 9.35596e5 & 20 & 5 & 621703.0 & $\\dots$ \\\\\n",
       "\t21 & 41.244 & -73.363 & 21 & 1.04395e5 & 9.3572e5 & 21 & 6 & 7.38928e5 & $\\dots$ \\\\\n",
       "\t22 & 41.244 & -73.363 & 22 & 1.0427e5 & 9.35845e5 & 22 & 6 & 7.73029e5 & $\\dots$ \\\\\n",
       "\t23 & 41.244 & -73.363 & 23 & 104144.0 & 9.3597e5 & 23 & 6 & 9.78219e5 & $\\dots$ \\\\\n",
       "\t24 & 41.244 & -73.363 & 24 & 1.04019e5 & 9.36095e5 & 24 & 6 & 7.41444e5 & $\\dots$ \\\\\n",
       "\t25 & 41.244 & -73.363 & 25 & 1.03893e5 & 9.3622e5 & 25 & 7 & 8.54394e5 & $\\dots$ \\\\\n",
       "\t26 & 41.244 & -73.363 & 26 & 103768.0 & 936345.0 & 26 & 7 & 7.6069e5 & $\\dots$ \\\\\n",
       "\t27 & 41.244 & -73.363 & 27 & 103643.0 & 936470.0 & 27 & 7 & 8.95049e5 & $\\dots$ \\\\\n",
       "\t28 & 41.244 & -73.363 & 28 & 1.03518e5 & 9.36595e5 & 28 & 7 & 8.05502e5 & $\\dots$ \\\\\n",
       "\t29 & 41.244 & -73.363 & 29 & 1.03393e5 & 9.3672e5 & 29 & 8 & 9.37866e5 & $\\dots$ \\\\\n",
       "\t30 & 41.244 & -73.363 & 30 & 1.03269e5 & 9.36845e5 & 30 & 8 & 759985.0 & $\\dots$ \\\\\n",
       "\t$\\dots$ & $\\dots$ & $\\dots$ & $\\dots$ & $\\dots$ & $\\dots$ & $\\dots$ & $\\dots$ & $\\dots$ &  \\\\\n",
       "\\end{tabular}\n"
      ],
      "text/plain": [
       "\u001b[1m111690×9 DataFrame\u001b[0m\n",
       "\u001b[1m    Row \u001b[0m│\u001b[1m Latitude \u001b[0m\u001b[1m Longitude \u001b[0m\u001b[1m Week  \u001b[0m\u001b[1m Income        \u001b[0m\u001b[1m Population     \u001b[0m\u001b[1m Week_Num \u001b[0m\u001b[1m\u001b[0m ⋯\n",
       "\u001b[1m        \u001b[0m│\u001b[90m Float64  \u001b[0m\u001b[90m Float64   \u001b[0m\u001b[90m Int64 \u001b[0m\u001b[90m Float64       \u001b[0m\u001b[90m Float64        \u001b[0m\u001b[90m Int64    \u001b[0m\u001b[90m\u001b[0m ⋯\n",
       "────────┼───────────────────────────────────────────────────────────────────────\n",
       "      1 │   41.244    -73.363      1      1.06943e5       9.33226e5         1  ⋯\n",
       "      2 │   41.244    -73.363      2      1.06815e5  933351.0               2\n",
       "      3 │   41.244    -73.363      3      1.06686e5       9.33476e5         3\n",
       "      4 │   41.244    -73.363      4      1.06557e5       9.336e5           4\n",
       "      5 │   41.244    -73.363      5      1.06429e5       9.33725e5         5  ⋯\n",
       "      6 │   41.244    -73.363      6      1.06301e5       9.33849e5         6\n",
       "      7 │   41.244    -73.363      7      1.06173e5  933974.0               7\n",
       "      8 │   41.244    -73.363      8      1.06045e5       9.34099e5         8\n",
       "      9 │   41.244    -73.363      9      1.05917e5       9.34223e5         9  ⋯\n",
       "     10 │   41.244    -73.363     10      1.05789e5       9.34348e5        10\n",
       "     11 │   41.244    -73.363     11      1.05662e5       9.34473e5        11\n",
       "   ⋮    │    ⋮          ⋮        ⋮          ⋮              ⋮            ⋮      ⋱\n",
       " 111681 │   37.634    -81.539     33  28340.1         22521.3             137\n",
       " 111682 │   37.634    -81.539     34  28337.8         22513.5             138  ⋯\n",
       " 111683 │   37.634    -81.539     35  28335.5         22505.7             139\n",
       " 111684 │   37.634    -81.539     36  28333.3         22497.9             140\n",
       " 111685 │   37.634    -81.539     37  28331.0         22490.1             141\n",
       " 111686 │   37.634    -81.539     38  28328.7         22482.4             142  ⋯\n",
       " 111687 │   37.634    -81.539     39  28326.5         22474.6             143\n",
       " 111688 │   37.634    -81.539     40  28324.2         22466.8             144\n",
       " 111689 │   37.634    -81.539     41  28321.9         22459.0             145\n",
       " 111690 │   37.634    -81.539     42  28319.6         22451.2             146  ⋯\n",
       "\u001b[36m                                               3 columns and 111669 rows omitted\u001b[0m"
      ]
     },
     "execution_count": 17,
     "metadata": {},
     "output_type": "execute_result"
    }
   ],
   "source": [
    "#select(historical, Week_Num >= 147)\n",
    "test = filter(row -> row.Week_Num > 146, historical)\n",
    "train = filter(row -> row.Week_Num <= 146, historical)"
   ]
  },
  {
   "cell_type": "code",
   "execution_count": 18,
   "id": "738f03ea",
   "metadata": {},
   "outputs": [
    {
     "data": {
      "text/plain": [
       "\"alldata_test.csv\""
      ]
     },
     "execution_count": 18,
     "metadata": {},
     "output_type": "execute_result"
    }
   ],
   "source": [
    "CSV.write(\"alldata_train.csv\", train)\n",
    "CSV.write(\"alldata_test.csv\", test)"
   ]
  },
  {
   "cell_type": "code",
   "execution_count": 5,
   "id": "e2c99c63",
   "metadata": {},
   "outputs": [
    {
     "data": {
      "text/plain": [
       "765-element Vector{String}:\n",
       " \"Fairfield County, Connecticut\"\n",
       " \"Hartford County, Connecticut\"\n",
       " \"Litchfield County, Connecticut\"\n",
       " \"Middlesex County, Connecticut\"\n",
       " \"New Haven County, Connecticut\"\n",
       " \"New London County, Connecticut\"\n",
       " \"Tolland County, Connecticut\"\n",
       " \"Windham County, Connecticut\"\n",
       " \"Kent County, Delaware\"\n",
       " \"New Castle County, Delaware\"\n",
       " \"Sussex County, Delaware\"\n",
       " \"District of Columbia, District of Columbia\"\n",
       " \"Adams County, Indiana\"\n",
       " ⋮\n",
       " \"Roane County, West Virginia\"\n",
       " \"Summers County, West Virginia\"\n",
       " \"Taylor County, West Virginia\"\n",
       " \"Tucker County, West Virginia\"\n",
       " \"Tyler County, West Virginia\"\n",
       " \"Upshur County, West Virginia\"\n",
       " \"Wayne County, West Virginia\"\n",
       " \"Webster County, West Virginia\"\n",
       " \"Wetzel County, West Virginia\"\n",
       " \"Wirt County, West Virginia\"\n",
       " \"Wood County, West Virginia\"\n",
       " \"Wyoming County, West Virginia\""
      ]
     },
     "execution_count": 5,
     "metadata": {},
     "output_type": "execute_result"
    }
   ],
   "source": [
    "counties = unique(future.UniqueCustomer)\n"
   ]
  },
  {
   "cell_type": "code",
   "execution_count": 5,
   "id": "8d6883e2",
   "metadata": {},
   "outputs": [],
   "source": [
    "future[!,\"WeekNum\"] = (future.Year .- 2015).*52 .+ future.Week\n",
    ";"
   ]
  },
  {
   "cell_type": "code",
   "execution_count": 6,
   "id": "f241adca",
   "metadata": {},
   "outputs": [
    {
     "data": {
      "text/plain": [
       "20-element Vector{Float64}:\n",
       " 88888.0\n",
       " 88888.0\n",
       " 66666.0\n",
       " 88888.0\n",
       " 88888.0\n",
       " 88888.0\n",
       " 88888.0\n",
       " 88888.0\n",
       " 88888.0\n",
       " 88888.0\n",
       " 88888.0\n",
       " 88888.0\n",
       " 88888.0\n",
       " 88888.0\n",
       " 88888.0\n",
       " 88888.0\n",
       " 88888.0\n",
       " 88888.0\n",
       " 88888.0\n",
       " 88888.0"
      ]
     },
     "execution_count": 6,
     "metadata": {},
     "output_type": "execute_result"
    }
   ],
   "source": [
    "# q[j] > max DC j capacity (pallets)\n",
    "q = floor.(dcs.Max_Size / 13.5)"
   ]
  },
  {
   "cell_type": "code",
   "execution_count": 7,
   "id": "cca16a0d",
   "metadata": {},
   "outputs": [
    {
     "data": {
      "text/plain": [
       "20-element Vector{Int64}:\n",
       "        0\n",
       "        0\n",
       "        0\n",
       " 25000000\n",
       " 25000000\n",
       " 25000000\n",
       " 25000000\n",
       " 25000000\n",
       " 25000000\n",
       " 25000000\n",
       " 25000000\n",
       " 25000000\n",
       " 25000000\n",
       " 25000000\n",
       " 25000000\n",
       " 25000000\n",
       " 25000000\n",
       " 25000000\n",
       " 25000000\n",
       " 25000000"
      ]
     },
     "execution_count": 7,
     "metadata": {},
     "output_type": "execute_result"
    }
   ],
   "source": [
    "# f[j] > fixed dc costs ($)\n",
    "f = dcs.Fixed_Cost"
   ]
  },
  {
   "cell_type": "code",
   "execution_count": 9,
   "id": "29f81983",
   "metadata": {},
   "outputs": [
    {
     "data": {
      "text/plain": [
       "20-element Vector{Float64}:\n",
       "    0.0\n",
       "    0.0\n",
       "    0.0\n",
       " 1221.75\n",
       " 1782.0\n",
       " 1012.5\n",
       " 1244.7\n",
       " 2002.0500000000002\n",
       "  927.45\n",
       " 1387.8\n",
       " 1009.8\n",
       " 1023.3\n",
       " 1595.7\n",
       " 1242.0\n",
       " 2247.75\n",
       " 2119.5\n",
       " 1062.45\n",
       " 1188.0\n",
       "  864.0\n",
       " 1370.25"
      ]
     },
     "execution_count": 9,
     "metadata": {},
     "output_type": "execute_result"
    }
   ],
   "source": [
    "# v[j] > variable dc costs ($ per pallet)\n",
    "v = dcs.Variable_Cost * 13.5 # convert sqft to pallet"
   ]
  },
  {
   "cell_type": "code",
   "execution_count": 10,
   "id": "c5fa8bb4",
   "metadata": {},
   "outputs": [
    {
     "data": {
      "text/plain": [
       "130"
      ]
     },
     "execution_count": 10,
     "metadata": {},
     "output_type": "execute_result"
    }
   ],
   "source": [
    "j_tot = length(q)\n",
    "i_tot = length(counties)\n",
    "t_tot = length(unique(future[!,\"WeekNum\"]))"
   ]
  },
  {
   "cell_type": "code",
   "execution_count": 11,
   "id": "7e3a258f",
   "metadata": {},
   "outputs": [
    {
     "data": {
      "text/plain": [
       "765×20 Matrix{Float64}:\n",
       " 136.128   286.33    500.039   611.161   …  191.77    707.339   110.176\n",
       "  91.067   332.308   544.71    656.087      234.69    751.883    64.2279\n",
       " 124.509   299.397   511.259   622.635      201.471   718.441    97.4788\n",
       "  78.3715  343.723   557.684   668.883      248.413   764.947    53.5053\n",
       " 105.974   316.235   530.17    641.324      221.368   737.456    80.4705\n",
       "  50.7757  371.145   585.46    696.652   …  276.034   792.723    28.9082\n",
       "  62.7439  360.214   573.042   684.413      262.896   780.213    36.4287\n",
       "  42.8454  379.777   592.938   704.296      282.754   800.112    18.1702\n",
       " 284.516   137.438   357.036   466.528       79.5912  564.039   259.401\n",
       " 293.211   128.967   346.332   456.241       67.5074  553.503   267.558\n",
       " 279.824   142.77    364.102   473.15    …   89.5753  570.884   255.253\n",
       " 391.609    34.1378  249.489   358.356       91.2882  456.09    365.621\n",
       " 935.407   521.693   299.676   189.426      611.007    92.6104  907.866\n",
       "   ⋮                                     ⋱                      \n",
       " 686.596   270.868    55.6787   61.4847     364.635   160.191   659.561\n",
       " 658.118   240.242    43.7217   93.0895     338.108   191.941   631.396\n",
       " 598.952   184.652    43.316   148.622   …  277.729   246.413   571.968\n",
       " 565.787   151.078    75.4529  182.213      245.756   280.09    538.941\n",
       " 655.344   241.064    26.1694   91.9077     333.043   189.757   628.221\n",
       " 611.577   196.181    35.9465  136.448      290.692   234.608   584.662\n",
       " 763.082   346.788   129.217    18.6421     440.664    87.0262  736.002\n",
       " 626.208   209.834    31.8608  122.512   …  305.643   221.024   599.361\n",
       " 641.169   227.296    17.5494  106.033      318.89    203.665   614.039\n",
       " 690.216   275.037    57.7932   57.3418     367.907   155.851   663.116\n",
       " 698.713   283.893    65.1453   48.5778     376.12    146.946   671.56\n",
       " 703.328   285.985    74.7475   48.4813     382.218   146.877   676.462"
      ]
     },
     "execution_count": 11,
     "metadata": {},
     "output_type": "execute_result"
    }
   ],
   "source": [
    "# d[i,j] > distances from county i to DC j (miles)\n",
    "using Distances\n",
    "d = zeros(i_tot, j_tot)\n",
    "for i=1:i_tot\n",
    "    tt = filter(row -> row.LocationName in [counties[i]], future)[1,:]\n",
    "    lat_county = tt.Latitude\n",
    "    lon_county = tt.Longitude\n",
    "    for j=1:j_tot\n",
    "        lat_dc = dcs[j,:].Latitude\n",
    "        lon_dc = dcs[j,:].Longitude\n",
    "\n",
    "        r = haversine((lat_county,lon_county),(lat_dc,lon_dc), 3958.8)\n",
    "        d[i, j] = r\n",
    "    end\n",
    "end\n",
    "d"
   ]
  },
  {
   "cell_type": "code",
   "execution_count": 12,
   "id": "a1e8487c",
   "metadata": {},
   "outputs": [
    {
     "data": {
      "text/plain": [
       "765×130 Matrix{Float64}:\n",
       " 1595.88    1603.42    1604.14    …  3153.92    3168.6     3183.34\n",
       " 1726.2     1734.28    1734.96       3408.74    3424.67    3440.68\n",
       "  355.624    357.25     357.353       688.283    691.368    694.466\n",
       "  310.716    312.172    312.297       612.502    615.349    618.209\n",
       " 1711.8     1719.83    1720.53       3366.77    3382.31    3397.92\n",
       "  532.528    534.992    535.176   …  1042.54    1047.33    1052.15\n",
       "  300.909    302.297    302.396       593.074    595.858    598.655\n",
       "  242.092    243.205    243.283       475.447    477.66     479.884\n",
       "  370.973    372.754    372.947       747.137    750.764    754.408\n",
       " 1108.94    1114.26    1114.84       2202.47    2212.75    2223.08\n",
       "  436.487    438.779    439.203   …   924.921    929.753    934.609\n",
       " 1222.82    1228.94    1229.83       2499.17    2511.44    2523.77\n",
       "   76.4414    76.8053    76.8419      152.812    153.543    154.277\n",
       "    ⋮                             ⋱                        \n",
       "   32.2544    32.3966    32.4006       62.1272    62.4085    62.6911\n",
       "   29.5507    29.6866    29.696        57.7264    57.9911    58.257\n",
       "   36.8517    37.0281    37.0467  …    72.2666    72.5927    72.9202\n",
       "   15.211     15.2805    15.2848       28.8026    28.9234    29.0448\n",
       "   19.7816    19.8765    19.8868       37.907     38.0661    38.2258\n",
       "   55.2382    55.5068    55.5389      109.074    109.57     110.069\n",
       "   93.2525    93.6713    93.6907      178.543    179.327    180.115\n",
       "   20.0379    20.1334    20.1431  …    38.3582    38.5195    38.6815\n",
       "   35.4306    35.5964    35.6105       67.357     67.6381    67.9203\n",
       "   13.1491    13.2109    13.2164       26.1945    26.3196    26.4453\n",
       "  184.001    184.86     184.93        359.043    360.668    362.301\n",
       "   50.8026    51.0361    51.052        95.2673    95.653     96.0403"
      ]
     },
     "execution_count": 12,
     "metadata": {},
     "output_type": "execute_result"
    }
   ],
   "source": [
    "# n[i,t] > demand of county i for week t (pallets)\n",
    "n = zeros(i_tot, t_tot) # each stores weekly capacity needs\n",
    "for i=1:i_tot\n",
    "    tt = filter(row -> row.LocationName in [counties[i]], future).Sales\n",
    "    n[i,:] = tt / 1000 # convert $ to pallets\n",
    "end\n",
    "n"
   ]
  },
  {
   "cell_type": "code",
   "execution_count": 13,
   "id": "0e0d13e6",
   "metadata": {},
   "outputs": [
    {
     "data": {
      "text/plain": [
       "765×130 Matrix{Float64}:\n",
       " 80.0  81.0  81.0  81.0  81.0  82.0  …  157.0  157.0  158.0  159.0  160.0\n",
       " 87.0  87.0  87.0  88.0  88.0  88.0     170.0  170.0  171.0  172.0  173.0\n",
       " 18.0  18.0  18.0  18.0  19.0  19.0      35.0   35.0   35.0   35.0   35.0\n",
       " 16.0  16.0  16.0  16.0  16.0  16.0      31.0   31.0   31.0   31.0   31.0\n",
       " 86.0  86.0  87.0  87.0  87.0  88.0     168.0  168.0  169.0  170.0  170.0\n",
       " 27.0  27.0  27.0  27.0  28.0  28.0  …   52.0   52.0   53.0   53.0   53.0\n",
       " 16.0  16.0  16.0  16.0  16.0  16.0      30.0   30.0   30.0   30.0   30.0\n",
       " 13.0  13.0  13.0  13.0  13.0  13.0      24.0   24.0   24.0   24.0   24.0\n",
       " 19.0  19.0  19.0  19.0  19.0  19.0      38.0   38.0   38.0   38.0   38.0\n",
       " 56.0  56.0  56.0  57.0  57.0  57.0     110.0  110.0  111.0  111.0  112.0\n",
       " 22.0  22.0  22.0  23.0  23.0  23.0  …   46.0   47.0   47.0   47.0   47.0\n",
       " 62.0  62.0  62.0  62.0  63.0  63.0     124.0  125.0  125.0  126.0  127.0\n",
       "  4.0   4.0   4.0   4.0   4.0   4.0       8.0    8.0    8.0    8.0    8.0\n",
       "  ⋮                             ⋮    ⋱    ⋮                         \n",
       "  2.0   2.0   2.0   2.0   2.0   2.0       4.0    4.0    4.0    4.0    4.0\n",
       "  2.0   2.0   2.0   2.0   2.0   2.0       3.0    3.0    3.0    3.0    3.0\n",
       "  2.0   2.0   2.0   2.0   2.0   2.0  …    4.0    4.0    4.0    4.0    4.0\n",
       "  1.0   1.0   1.0   1.0   1.0   1.0       2.0    2.0    2.0    2.0    2.0\n",
       "  1.0   1.0   1.0   1.0   2.0   2.0       2.0    2.0    2.0    2.0    2.0\n",
       "  3.0   3.0   3.0   3.0   3.0   3.0       6.0    6.0    6.0    6.0    6.0\n",
       "  5.0   5.0   5.0   5.0   5.0   5.0       9.0    9.0    9.0    9.0   10.0\n",
       "  2.0   2.0   2.0   2.0   2.0   2.0  …    2.0    2.0    2.0    2.0    2.0\n",
       "  2.0   2.0   2.0   2.0   2.0   2.0       4.0    4.0    4.0    4.0    4.0\n",
       "  1.0   1.0   1.0   1.0   1.0   1.0       2.0    2.0    2.0    2.0    2.0\n",
       " 10.0  10.0  10.0  10.0  10.0  10.0      18.0   18.0   18.0   19.0   19.0\n",
       "  3.0   3.0   3.0   3.0   3.0   3.0       5.0    5.0    5.0    5.0    5.0"
      ]
     },
     "execution_count": 13,
     "metadata": {},
     "output_type": "execute_result"
    }
   ],
   "source": [
    "# tr[i,t] > demand of county i for week t (trucks)\n",
    "tr = ceil.(n / 20) "
   ]
  },
  {
   "cell_type": "code",
   "execution_count": 14,
   "id": "7382aa8c",
   "metadata": {},
   "outputs": [
    {
     "data": {
      "text/plain": [
       "765-element Vector{Float64}:\n",
       " 25073.75951672689\n",
       " 27098.67496628126\n",
       "  5473.234040172787\n",
       "  4869.432446850307\n",
       " 26767.384557885092\n",
       "  8288.93262657163\n",
       "  4714.653161489682\n",
       "  3779.795321982008\n",
       "  5937.999783555015\n",
       " 17509.2146529355\n",
       "  7346.979544313601\n",
       " 19860.97409201947\n",
       "  1214.6249817856103\n",
       "     ⋮\n",
       "   494.00315\n",
       "   458.97065000000003\n",
       "   574.63995\n",
       "   229.13484\n",
       "   301.56412\n",
       "   867.2682\n",
       "  1419.9581\n",
       "   305.1487\n",
       "   535.8682\n",
       "   208.20829\n",
       "  2854.9215000000004\n",
       "   758.05057"
      ]
     },
     "execution_count": 14,
     "metadata": {},
     "output_type": "execute_result"
    }
   ],
   "source": [
    "# w[i] > max 8-week demand of county i (pallets)\n",
    "week8_cap = zeros(i_tot)\n",
    "for i=1:i_tot\n",
    "    maxi=0\n",
    "    for t=1:t_tot\n",
    "        week8_tot = sum(n[i,t:min(t_tot,(t+7))]) # what each county i needs for next 8 weeks\n",
    "        maxi = max(week8_tot, maxi)\n",
    "    end\n",
    "    week8_cap[i] = maxi\n",
    "end\n",
    "w = week8_cap"
   ]
  },
  {
   "cell_type": "code",
   "execution_count": null,
   "id": "4470a787",
   "metadata": {},
   "outputs": [],
   "source": []
  },
  {
   "cell_type": "code",
   "execution_count": 15,
   "id": "af6cb34e",
   "metadata": {},
   "outputs": [
    {
     "name": "stdout",
     "output_type": "stream",
     "text": [
      "Academic license - for non-commercial use only - expires 2022-08-19\r\n"
     ]
    },
    {
     "data": {
      "text/plain": [
       "0"
      ]
     },
     "execution_count": 15,
     "metadata": {},
     "output_type": "execute_result"
    }
   ],
   "source": [
    "model = Model(with_optimizer(Gurobi.Optimizer))\n",
    "set_optimizer_attribute(model, \"OutputFlag\", 0)"
   ]
  },
  {
   "cell_type": "code",
   "execution_count": 16,
   "id": "653c9d39",
   "metadata": {},
   "outputs": [],
   "source": [
    "@variable(model, k[1:j_tot] >= 0, Int) # dc capacity\n",
    "@variable(model, z[1:j_tot], Bin) # which dc to select\n",
    "@variable(model, x[1:i_tot, 1:j_tot], Bin) # which county i is serviced by DC j\n",
    ";"
   ]
  },
  {
   "cell_type": "code",
   "execution_count": 17,
   "id": "5a683d69",
   "metadata": {},
   "outputs": [],
   "source": [
    "@constraint(model, [j in 1:j_tot], k[j] <= q[j]*z[j]) # each DC j must have no more than max DC j capacity\n",
    "#@constraint(model, [j in 1:j_tot], 5*sum(k[j] for j=1:j_tot) >= Q) # total DC j capacity >= maximum forecasted 8-week capacity\n",
    "@constraint(model, [j in 1:j_tot], sum(w[i] * x[i,j] for i=1:i_tot) <= 5*k[j]) # each DC j must have enough 8-week capacity for the i counties it services\n",
    "@constraint(model, [i in 1:i_tot], sum(x[i,j] for j in 1:j_tot) == 1) # each county i must be serviced by 1 single DC j\n",
    "\n",
    "@constraint(model, z[1] == 1)\n",
    "@constraint(model, z[2] == 1)\n",
    "@constraint(model, z[3] == 1)\n",
    "\n",
    "@constraint(model, k[1] == q[1])\n",
    "@constraint(model, k[2] == q[2])\n",
    "@constraint(model, k[3] == q[3])\n",
    ";"
   ]
  },
  {
   "cell_type": "code",
   "execution_count": 18,
   "id": "63de57ad",
   "metadata": {},
   "outputs": [],
   "source": [
    "@objective(model, Min, sum(z[j]*f[j] + k[j]*v[j] for j = 1:j_tot) + 1.55*sum((x[i,j]*d[i,j]*tr[i,t]) for i = 1:i_tot, j = 1:j_tot, t = 1:t_tot))\n",
    "optimize!(model)\n",
    ";"
   ]
  },
  {
   "cell_type": "code",
   "execution_count": 19,
   "id": "24d7a8f6",
   "metadata": {},
   "outputs": [],
   "source": [
    "cost = objective_value(model)\n",
    "dc_used = value.(z)\n",
    "county_dc_mapping = value.(x)\n",
    "dc_capacities = value.(k)\n",
    ";"
   ]
  },
  {
   "cell_type": "code",
   "execution_count": 20,
   "id": "4c0dd2c6",
   "metadata": {},
   "outputs": [
    {
     "data": {
      "text/plain": [
       "7.585953200767107e8"
      ]
     },
     "execution_count": 20,
     "metadata": {},
     "output_type": "execute_result"
    }
   ],
   "source": [
    "cost"
   ]
  },
  {
   "cell_type": "code",
   "execution_count": 21,
   "id": "11adc9fc",
   "metadata": {},
   "outputs": [
    {
     "data": {
      "text/plain": [
       "20-element Vector{Float64}:\n",
       " 1.0\n",
       " 1.0\n",
       " 1.0\n",
       " 0.0\n",
       " 0.0\n",
       " 0.0\n",
       " 0.0\n",
       " 0.0\n",
       " 0.0\n",
       " 0.0\n",
       " 1.0\n",
       " 0.0\n",
       " 0.0\n",
       " 1.0\n",
       " 0.0\n",
       " 0.0\n",
       " 1.0\n",
       " 1.0\n",
       " 1.0\n",
       " 0.0"
      ]
     },
     "execution_count": 21,
     "metadata": {},
     "output_type": "execute_result"
    }
   ],
   "source": [
    "dc_used"
   ]
  },
  {
   "cell_type": "code",
   "execution_count": 22,
   "id": "78ca6a28",
   "metadata": {},
   "outputs": [
    {
     "data": {
      "text/plain": [
       "765×20 Matrix{Float64}:\n",
       " 0.0  0.0  0.0  0.0  0.0  0.0  0.0  0.0  …  0.0  0.0  0.0  0.0  1.0  0.0  0.0\n",
       " 1.0  0.0  0.0  0.0  0.0  0.0  0.0  0.0     0.0  0.0  0.0  0.0  0.0  0.0  0.0\n",
       " 0.0  0.0  0.0  0.0  0.0  0.0  0.0  0.0     0.0  0.0  0.0  0.0  1.0  0.0  0.0\n",
       " 1.0  0.0  0.0  0.0  0.0  0.0  0.0  0.0     0.0  0.0  0.0  0.0  0.0  0.0  0.0\n",
       " 1.0  0.0  0.0  0.0  0.0  0.0  0.0  0.0     0.0  0.0  0.0  0.0  0.0  0.0  0.0\n",
       " 1.0  0.0  0.0  0.0  0.0  0.0  0.0  0.0  …  0.0  0.0  0.0  0.0  0.0  0.0  0.0\n",
       " 1.0  0.0  0.0  0.0  0.0  0.0  0.0  0.0     0.0  0.0  0.0  0.0  0.0  0.0  0.0\n",
       " 1.0  0.0  0.0  0.0  0.0  0.0  0.0  0.0     0.0  0.0  0.0  0.0  0.0  0.0  0.0\n",
       " 0.0  0.0  0.0  0.0  0.0  0.0  0.0  0.0     1.0  0.0  0.0  0.0  0.0  0.0  0.0\n",
       " 0.0  0.0  0.0  0.0  0.0  0.0  0.0  0.0     1.0  0.0  0.0  0.0  0.0  0.0  0.0\n",
       " 0.0  0.0  0.0  0.0  0.0  0.0  0.0  0.0  …  1.0  0.0  0.0  0.0  0.0  0.0  0.0\n",
       " 0.0  1.0  0.0  0.0  0.0  0.0  0.0  0.0     0.0  0.0  0.0  0.0  0.0  0.0  0.0\n",
       " 0.0  0.0  0.0  0.0  0.0  0.0  0.0  0.0     0.0  0.0  0.0  0.0  0.0  0.0  0.0\n",
       " ⋮                        ⋮              ⋱            ⋮                   \n",
       " 0.0  0.0  1.0  0.0  0.0  0.0  0.0  0.0     0.0  0.0  0.0  0.0  0.0  0.0  0.0\n",
       " 0.0  0.0  1.0  0.0  0.0  0.0  0.0  0.0     0.0  0.0  0.0  0.0  0.0  0.0  0.0\n",
       " 0.0  0.0  1.0  0.0  0.0  0.0  0.0  0.0  …  0.0  0.0  0.0  0.0  0.0  0.0  0.0\n",
       " 0.0  0.0  1.0  0.0  0.0  0.0  0.0  0.0     0.0  0.0  0.0  0.0  0.0  0.0  0.0\n",
       " 0.0  0.0  1.0  0.0  0.0  0.0  0.0  0.0     0.0  0.0  0.0  0.0  0.0  0.0  0.0\n",
       " 0.0  0.0  1.0  0.0  0.0  0.0  0.0  0.0     0.0  0.0  0.0  0.0  0.0  0.0  0.0\n",
       " 0.0  0.0  1.0  0.0  0.0  0.0  0.0  0.0     0.0  0.0  0.0  0.0  0.0  0.0  0.0\n",
       " 0.0  0.0  1.0  0.0  0.0  0.0  0.0  0.0  …  0.0  0.0  0.0  0.0  0.0  0.0  0.0\n",
       " 0.0  0.0  1.0  0.0  0.0  0.0  0.0  0.0     0.0  0.0  0.0  0.0  0.0  0.0  0.0\n",
       " 0.0  0.0  1.0  0.0  0.0  0.0  0.0  0.0     0.0  0.0  0.0  0.0  0.0  0.0  0.0\n",
       " 0.0  0.0  1.0  0.0  0.0  0.0  0.0  0.0     0.0  0.0  0.0  0.0  0.0  0.0  0.0\n",
       " 0.0  0.0  1.0  0.0  0.0  0.0  0.0  0.0     0.0  0.0  0.0  0.0  0.0  0.0  0.0"
      ]
     },
     "execution_count": 22,
     "metadata": {},
     "output_type": "execute_result"
    }
   ],
   "source": [
    "county_dc_mapping"
   ]
  },
  {
   "cell_type": "code",
   "execution_count": 23,
   "id": "c2e0d0ca",
   "metadata": {},
   "outputs": [
    {
     "data": {
      "text/plain": [
       "20-element Vector{Float64}:\n",
       " 88888.0\n",
       " 88888.0\n",
       " 66666.0\n",
       "     0.0\n",
       "     0.0\n",
       "     0.0\n",
       "     0.0\n",
       "     0.0\n",
       "     0.0\n",
       "     0.0\n",
       " 88884.0\n",
       "     0.0\n",
       "     0.0\n",
       " 51901.0\n",
       "     0.0\n",
       "     0.0\n",
       " 88885.0\n",
       " 88888.0\n",
       " 88886.0\n",
       "     0.0"
      ]
     },
     "execution_count": 23,
     "metadata": {},
     "output_type": "execute_result"
    }
   ],
   "source": [
    "dc_capacities"
   ]
  },
  {
   "cell_type": "markdown",
   "id": "467890ac",
   "metadata": {},
   "source": [
    "# d)"
   ]
  },
  {
   "cell_type": "code",
   "execution_count": 24,
   "id": "a1e05cd7",
   "metadata": {},
   "outputs": [
    {
     "name": "stdout",
     "output_type": "stream",
     "text": [
      "New DC: Providence\n",
      "New DC: Richmond\n",
      "New DC: Youngstown\n",
      "New DC: Kalamazoo\n",
      "New DC: Lancaster\n",
      "New DC: Scranton\n",
      "New DC: Syracuse\n",
      "New DC: Toledo\n"
     ]
    }
   ],
   "source": [
    "# i)\n",
    "\n",
    "p=1\n",
    "for num in dc_used\n",
    "    if num == 1\n",
    "        println(\"New DC: \", dcs.Location[p])\n",
    "    end\n",
    "    p=p+1\n",
    "end"
   ]
  },
  {
   "cell_type": "code",
   "execution_count": 25,
   "id": "1c8b9b30",
   "metadata": {},
   "outputs": [
    {
     "name": "stdout",
     "output_type": "stream",
     "text": [
      "DC: Providence\n",
      "Counties served: 57.0\n",
      "DC: Richmond\n",
      "Counties served: 118.0\n",
      "DC: Youngstown\n",
      "Counties served: 121.0\n",
      "DC: Kalamazoo\n",
      "Counties served: 222.0\n",
      "DC: Lancaster\n",
      "Counties served: 42.0\n",
      "DC: Scranton\n",
      "Counties served: 27.0\n",
      "DC: Syracuse\n",
      "Counties served: 59.0\n",
      "DC: Toledo\n",
      "Counties served: 119.0\n"
     ]
    }
   ],
   "source": [
    "# ii)\n",
    "\n",
    "p=1\n",
    "for num in dc_used\n",
    "    if num == 1\n",
    "        println(\"DC: \", dcs.Location[p])\n",
    "        println(\"Counties served: \", sum(county_dc_mapping[:,p]))\n",
    "    end\n",
    "    p=p+1\n",
    "end"
   ]
  },
  {
   "cell_type": "code",
   "execution_count": 26,
   "id": "519b1cb5",
   "metadata": {},
   "outputs": [
    {
     "name": "stdout",
     "output_type": "stream",
     "text": [
      "Total Construction Cost = 5.5604842145e8\n"
     ]
    }
   ],
   "source": [
    "# iii)\n",
    "\n",
    "fixed_cost = 0\n",
    "var_cost = 0\n",
    "p=1\n",
    "for num in dc_used\n",
    "    if num == 1\n",
    "        #println(\"DC: \", dcs.Location[p], \" | Fixed Cost: \", dcs.Fixed_Cost[p], \" | Var Cost: \", dcs.Variable_Cost[p]*dc_capacities[p])\n",
    "        fixed_cost += f[p]\n",
    "        var_cost += v[p]*dc_capacities[p]\n",
    "    end\n",
    "    p=p+1\n",
    "end\n",
    "\n",
    "constr_cost = fixed_cost+var_cost\n",
    "println(\"Total Construction Cost = \", constr_cost)"
   ]
  },
  {
   "cell_type": "code",
   "execution_count": 27,
   "id": "c6998a40",
   "metadata": {},
   "outputs": [
    {
     "name": "stdout",
     "output_type": "stream",
     "text": [
      "Total Transportation Cost = 2.025468986267158e8\n"
     ]
    }
   ],
   "source": [
    "trans_cost = 1.55*sum((county_dc_mapping[i,j]*d[i,j]*tr[i,t]) for i = 1:i_tot, j = 1:j_tot, t = 1:t_tot)\n",
    "println(\"Total Transportation Cost = \", trans_cost)"
   ]
  },
  {
   "cell_type": "code",
   "execution_count": 28,
   "id": "7a5fc54d",
   "metadata": {},
   "outputs": [
    {
     "data": {
      "text/plain": [
       "7.585953200767158e8"
      ]
     },
     "execution_count": 28,
     "metadata": {},
     "output_type": "execute_result"
    }
   ],
   "source": [
    "trans_cost + constr_cost"
   ]
  },
  {
   "cell_type": "code",
   "execution_count": null,
   "id": "cef9d21a",
   "metadata": {},
   "outputs": [],
   "source": []
  },
  {
   "cell_type": "markdown",
   "id": "9737105e",
   "metadata": {},
   "source": [
    "# e)"
   ]
  },
  {
   "cell_type": "code",
   "execution_count": 29,
   "id": "ab1bdeef",
   "metadata": {},
   "outputs": [
    {
     "name": "stdout",
     "output_type": "stream",
     "text": [
      "Academic license - for non-commercial use only - expires 2022-08-19\r\n"
     ]
    }
   ],
   "source": [
    "# Optimize for construction cost first\n",
    "\n",
    "model = Model(with_optimizer(Gurobi.Optimizer))\n",
    "set_optimizer_attribute(model, \"OutputFlag\", 0)\n",
    "\n",
    "@variable(model, z[j = 1:j_tot], Bin)\n",
    "@variable(model, k[i = 1:j_tot] >=0, Int)\n",
    "\n",
    "@constraint(model, [j = 1:j_tot], k[j] <= q[j]*z[j])\n",
    "@constraint(model, [i = 1:i_tot, j = 1:j_tot], 5*sum(k[j] for j = 1:j_tot) >= sum(w[i] for i = 1:i_tot))\n",
    "\n",
    "@objective(model, Min, sum(z[j] * (f[j] + (v[j]*k[j])) for j = 1:j_tot))\n",
    "\n",
    "optimize!(model)\n",
    "\n",
    "cost_e = objective_value(model)\n",
    "dc_cheapest = value.(z)\n",
    "dc_cheapest_cap = value.(k)\n",
    ";"
   ]
  },
  {
   "cell_type": "code",
   "execution_count": 30,
   "id": "7b923210",
   "metadata": {},
   "outputs": [
    {
     "data": {
      "text/plain": [
       "5.170813208e8"
      ]
     },
     "execution_count": 30,
     "metadata": {},
     "output_type": "execute_result"
    }
   ],
   "source": [
    "cost_e"
   ]
  },
  {
   "cell_type": "code",
   "execution_count": 31,
   "id": "63f854d3",
   "metadata": {},
   "outputs": [
    {
     "data": {
      "text/plain": [
       "20-element Vector{Float64}:\n",
       "  1.0\n",
       "  1.0\n",
       "  1.0\n",
       " -0.0\n",
       " -0.0\n",
       "  1.0\n",
       " -0.0\n",
       " -0.0\n",
       "  1.0\n",
       " -0.0\n",
       "  1.0\n",
       "  1.0\n",
       " -0.0\n",
       " -0.0\n",
       " -0.0\n",
       " -0.0\n",
       " -0.0\n",
       " -0.0\n",
       "  1.0\n",
       " -0.0"
      ]
     },
     "execution_count": 31,
     "metadata": {},
     "output_type": "execute_result"
    }
   ],
   "source": [
    "dc_cheapest"
   ]
  },
  {
   "cell_type": "code",
   "execution_count": 33,
   "id": "4612a310",
   "metadata": {},
   "outputs": [
    {
     "data": {
      "text/plain": [
       "20-element Vector{Float64}:\n",
       " 88888.0\n",
       " 88888.0\n",
       " 66666.0\n",
       "     0.0\n",
       "    -0.0\n",
       " 88888.0\n",
       "     0.0\n",
       "    -0.0\n",
       " 88888.0\n",
       "    -0.0\n",
       " 88888.0\n",
       " 51876.0\n",
       "    -0.0\n",
       "     0.0\n",
       "    -0.0\n",
       "    -0.0\n",
       "     0.0\n",
       "     0.0\n",
       " 88888.0\n",
       "    -0.0"
      ]
     },
     "execution_count": 33,
     "metadata": {},
     "output_type": "execute_result"
    }
   ],
   "source": [
    "dc_cheapest_cap"
   ]
  },
  {
   "cell_type": "code",
   "execution_count": 34,
   "id": "77b41d73",
   "metadata": {},
   "outputs": [
    {
     "name": "stdout",
     "output_type": "stream",
     "text": [
      "DC: Providence | Fixed Cost: 0 | Var Cost: 0.0\n",
      "DC: Richmond | Fixed Cost: 0 | Var Cost: 0.0\n",
      "DC: Youngstown | Fixed Cost: 0 | Var Cost: 0.0\n",
      "DC: Bangor | Fixed Cost: 25000000 | Var Cost: 6.6666e6\n",
      "DC: Chillicothe | Fixed Cost: 25000000 | Var Cost: 6.106605600000001e6\n",
      "DC: Kalamazoo | Fixed Cost: 25000000 | Var Cost: 6.648822399999999e6\n",
      "DC: Knoxville | Fixed Cost: 25000000 | Var Cost: 3.9322008e6\n",
      "DC: Toledo | Fixed Cost: 25000000 | Var Cost: 5.688832e6\n",
      " \n",
      "Total Construction Cost = 5.170813208e8\n"
     ]
    }
   ],
   "source": [
    "# i)\n",
    "\n",
    "fixed_cost = 0\n",
    "var_cost = 0\n",
    "p=1\n",
    "for num in dc_cheapest\n",
    "    if num == 1\n",
    "        println(\"DC: \", dcs.Location[p], \" | Fixed Cost: \", dcs.Fixed_Cost[p], \" | Var Cost: \", dcs.Variable_Cost[p]*dc_cheapest_cap[p])\n",
    "        fixed_cost += f[p]\n",
    "        var_cost += v[p]*dc_cheapest_cap[p]\n",
    "    end\n",
    "    p=p+1\n",
    "end\n",
    "\n",
    "constr_cost = fixed_cost+var_cost\n",
    "println(\" \")\n",
    "println(\"Total Construction Cost = \", constr_cost)"
   ]
  },
  {
   "cell_type": "code",
   "execution_count": 35,
   "id": "f1cd62f9",
   "metadata": {},
   "outputs": [
    {
     "data": {
      "text/plain": [
       "20-element BitVector:\n",
       " 1\n",
       " 1\n",
       " 1\n",
       " 0\n",
       " 0\n",
       " 1\n",
       " 0\n",
       " 0\n",
       " 1\n",
       " 0\n",
       " 1\n",
       " 1\n",
       " 0\n",
       " 0\n",
       " 0\n",
       " 0\n",
       " 0\n",
       " 0\n",
       " 1\n",
       " 0"
      ]
     },
     "execution_count": 35,
     "metadata": {},
     "output_type": "execute_result"
    }
   ],
   "source": [
    "dc_cheapest_bin = dc_cheapest .== 1"
   ]
  },
  {
   "cell_type": "code",
   "execution_count": null,
   "id": "a00ca1f0",
   "metadata": {},
   "outputs": [],
   "source": [
    "model = Model(with_optimizer(Gurobi.Optimizer))\n",
    "set_optimizer_attribute(model, \"OutputFlag\", 0)\n",
    "\n",
    "@variable(model, x[1:i_tot, 1:j_tot], Bin) # which county i is serviced by DC j\n",
    "\n",
    "\n",
    "@constraint(model, [j in 1:j_tot], sum(w[i] * x[i,j] for i=1:i_tot) <= 5*dc_cheapest_cap[j]) # each DC j must have enough 8-week capacity for the i counties it services\n",
    "@constraint(model, [i in 1:i_tot], sum(x[i,j] for j in 1:j_tot) == 1) # each county i must be serviced by 1 single DC j\n",
    "\n",
    "@objective(model, Min, 1.55*sum((x[i,j]*d[i,j]*tr[i,t]) for i = 1:i_tot, j = 1:j_tot, t = 1:t_tot))\n",
    "optimize!(model)\n",
    "\n",
    "county_dc_mapping = value.(x)\n",
    "trans_cost2 = objective_value(model)"
   ]
  },
  {
   "cell_type": "code",
   "execution_count": null,
   "id": "49f50e9f",
   "metadata": {},
   "outputs": [],
   "source": []
  }
 ],
 "metadata": {
  "kernelspec": {
   "display_name": "Julia 1.6.2",
   "language": "julia",
   "name": "julia-1.6"
  },
  "language_info": {
   "file_extension": ".jl",
   "mimetype": "application/julia",
   "name": "julia",
   "version": "1.6.2"
  }
 },
 "nbformat": 4,
 "nbformat_minor": 5
}
