{
 "cells": [
  {
   "cell_type": "markdown",
   "id": "1ea3778e",
   "metadata": {},
   "source": [
    "# Model:"
   ]
  },
  {
   "cell_type": "markdown",
   "id": "1e4d3f15",
   "metadata": {},
   "source": [
    "$$\\max  \\quad \\sum_{k=1}^{K}{{w_k(R\\sum_{j=1}^{N_C}{y_{jk}} -  \\sum_{i=1}^{N_S}{[z_iFC_i + c_iVC_i]} + \\sum_{i=1}^{N_S}{\\sum_{j=1}^{N_C}{s_{ijk}t_{ij}}}})}$$\n",
    "$$s.t.$$\n",
    "$$y_{jk} \\leq \\sum_{i=1}^{N_S}{x_{ijk}}  \\quad \\forall{j}\\quad\\quad(1)$$\n",
    "$$y_{jk} \\leq \\hat{D}_{jk}  \\quad \\forall{j}\\quad\\quad(2)$$\n",
    "$$\\sum_{j=1}^{N_C}{x_{ijk}} \\leq c_i \\quad \\forall{i}\\quad\\quad(3)$$  \n",
    "$$x_{ijk} \\leq B_is_{ijk} \\quad \\forall{i} \\forall{j}\\quad\\quad(4)$$\n",
    "$$c_i \\leq B_iz_i \\quad \\forall{i}\\quad\\quad(5)$$\n",
    "<center>$s_{ijk} \\leq z_i \\quad \\forall{i}\\forall{j}\\quad\\quad(6)$"
   ]
  },
  {
   "cell_type": "markdown",
   "id": "5814ec00",
   "metadata": {},
   "source": [
    "## Inputs:"
   ]
  },
  {
   "cell_type": "markdown",
   "id": "25d7fcda",
   "metadata": {},
   "source": [
    "- $N_S$: Total number of potential suppliers\n",
    "- $N_C$: Total number of customers\n",
    "- $FC_i$: Fixed cost for contracting supplier $i$\n",
    "- $VC_i$: Amount ordered from contracted supplier $i$\n",
    "- $T_{i,j}$: Distance from supplier $i$ to customer $j$ in miles\n",
    "- $B_i$: Maximum inventory of supplier $i$\n",
    "- $\\hat{D}_{jk}$: Uncerstain demand of county $j$ for observation $k$\n",
    "- $R$: revenue per product sold"
   ]
  },
  {
   "cell_type": "markdown",
   "id": "8a2d2a1a",
   "metadata": {},
   "source": [
    "## Decision Variables:"
   ]
  },
  {
   "cell_type": "markdown",
   "id": "6574c30f",
   "metadata": {},
   "source": [
    "- $z_i$: Indicates whether supplier $i$ is contracted (= 1 if opened, = 0 otherwise)\n",
    "- $c_i$: Inventory ordered from supplier $i$\n",
    "- $s_{ijk}$: Indicates whether customer $j$ is supplied by supplier $i$ for observation $k$\n",
    "- $x_{ijk}$: Total number of goods shipped from supplier $i$ to customer $j$ for observation $k$\n",
    "- $y_{jk}$: Total number of goods bought by customer $j$ for observation $k$"
   ]
  },
  {
   "cell_type": "code",
   "execution_count": 1,
   "id": "5fe5d2dd",
   "metadata": {
    "scrolled": false
   },
   "outputs": [
    {
     "name": "stdout",
     "output_type": "stream",
     "text": [
      "Academic license - for non-commercial use only - expires 2022-08-19\r\n"
     ]
    }
   ],
   "source": [
    "using Distances, JuMP, Gurobi, CSV, DataFrames, Formatting, Plots, Statistics;\n",
    "gurobi_env = Gurobi.Env();\n",
    "ENV[\"COLUMNS\"]=120;"
   ]
  },
  {
   "cell_type": "code",
   "execution_count": 2,
   "id": "78b984b9",
   "metadata": {},
   "outputs": [],
   "source": [
    "alldata_train = CSV.read(\"data/alldata_train.csv\", DataFrame);\n",
    "alldata_test = CSV.read(\"data/alldata_test.csv\", DataFrame);\n",
    "supplierInfo = CSV.read(\"data/supplierInfo.csv\", DataFrame)[4:end,:];"
   ]
  },
  {
   "cell_type": "markdown",
   "id": "6cfde0a7",
   "metadata": {},
   "source": [
    "# Functions"
   ]
  },
  {
   "cell_type": "code",
   "execution_count": 39,
   "id": "51344598",
   "metadata": {},
   "outputs": [
    {
     "data": {
      "text/plain": [
       "getDistances (generic function with 1 method)"
      ]
     },
     "execution_count": 39,
     "metadata": {},
     "output_type": "execute_result"
    }
   ],
   "source": [
    "# function to get test point from test set\n",
    "\n",
    "function getTestPoint(testSet, WeekNum)\n",
    "    \n",
    "    testWks = filter(row -> row.Week_Num == WeekNum, alldata_test)\n",
    "    \n",
    "    sort!(testWks, :custID)\n",
    "    \n",
    "    return testWks\n",
    "end    \n",
    "\n",
    "function getTestRange(testSet, WeekNum)\n",
    "    \n",
    "    testWks = filter(row -> row.Week_Num <= WeekNum, alldata_test)\n",
    "    \n",
    "    sort!(testWks, :custID)\n",
    "    \n",
    "    return testWks\n",
    "end  \n",
    "\n",
    "# function to find distances between test point and suppliers\n",
    "function getDistances(testPoint, supInfo)\n",
    "    \n",
    "    NS = size(supInfo)[1]\n",
    "    NC = size(testPoint)[1]\n",
    "    \n",
    "    distances = zeros(NS, NC);\n",
    "    for i=1:NS\n",
    "        for j=1:NC\n",
    "            distances[i,j] = haversine((supInfo[i,3],supInfo[i,4]), (testPoint[j,3],testPoint[j,4]), 3958.8)\n",
    "        end\n",
    "    end\n",
    "    \n",
    "    return distances\n",
    "    \n",
    "end"
   ]
  },
  {
   "cell_type": "code",
   "execution_count": 46,
   "id": "b22addd5",
   "metadata": {},
   "outputs": [
    {
     "data": {
      "text/plain": [
       "findKNNDemand (generic function with 2 methods)"
      ]
     },
     "execution_count": 46,
     "metadata": {},
     "output_type": "execute_result"
    }
   ],
   "source": [
    "# function for finding the demand = average demand for nearest 5 neighbors for item in last 100 days\n",
    "function findKNNDemand(customer, testWeek, trainSet, KNN)\n",
    "    \n",
    "    holder = zeros(KNN)\n",
    "    oneCust = filter(row->row.custID==customer, trainSet)\n",
    "    oneCust_comps = Matrix(select(oneCust, [:Income, :Population, :Season]))\n",
    "\n",
    "    mean1=mean(oneCust_comps[:,1])\n",
    "    std1=std(oneCust_comps[:,1])\n",
    "    mean2=mean(oneCust_comps[:,2])\n",
    "    std2=std(oneCust_comps[:,2])\n",
    "    mean3=mean(oneCust_comps[:,3])\n",
    "    std3=std(oneCust_comps[:,3])\n",
    "\n",
    "    oneCust_comps[:,1] = (oneCust_comps[:,1].-mean1)./std1\n",
    "    oneCust_comps[:,2] = (oneCust_comps[:,2].-mean2)./std2\n",
    "    oneCust_comps[:,3] = (oneCust_comps[:,3].-mean3)./std3\n",
    "\n",
    "    testpoint = filter(row->row.custID==customer, testWeek)\n",
    "    testpoint_comps = Matrix(select(testpoint, [:Income, :Population, :Season]))\n",
    "    testpoint_comps[:,1] = (testpoint_comps[:,1].-mean1)./std1\n",
    "    testpoint_comps[:,2] = (testpoint_comps[:,2].-mean2)./std2\n",
    "    testpoint_comps[:,3] = (testpoint_comps[:,3].-mean3)./std3\n",
    "\n",
    "    diffs = zeros(size(oneCust)[1])\n",
    "\n",
    "    # find distance\n",
    "    for i=1:size(oneCust)[1]\n",
    "        diffs[i] = sum(((testpoint_comps[1,1]-oneCust_comps[i,1])^2)\n",
    "        +((testpoint_comps[1,2]-oneCust_comps[i,2])^2)\n",
    "        +((testpoint_comps[1,3]-oneCust_comps[i,3])^2))\n",
    "    end\n",
    "\n",
    "    # append demand\n",
    "    df = DataFrame(diff = Vector(diffs[:,1]), sales = Vector(oneCust[:,10]))\n",
    "    sort!(df)\n",
    "\n",
    "    for i=1:KNN\n",
    "        holder[i] = df[i,2]\n",
    "    end\n",
    "\n",
    "    return holder\n",
    "    \n",
    "end"
   ]
  },
  {
   "cell_type": "code",
   "execution_count": 18,
   "id": "e506c85b",
   "metadata": {},
   "outputs": [
    {
     "data": {
      "text/plain": [
       "optPres (generic function with 1 method)"
      ]
     },
     "execution_count": 18,
     "metadata": {},
     "output_type": "execute_result"
    }
   ],
   "source": [
    "# Optimization Model - With Prescription\n",
    "function optPres(Dem)\n",
    "    \n",
    "    NS = size(supplierInfo)[1]\n",
    "    NC = size(Dem)[1]\n",
    "    \n",
    "    # GET K FROM SIZE OF Dem\n",
    "    if isa(Dem, Vector) == true\n",
    "        K = 1\n",
    "    else\n",
    "        K = size(Dem)[2]\n",
    "    end\n",
    "    \n",
    "    weight = zeros(K)\n",
    "    weight .= 1/K\n",
    "    # set weights\n",
    "\n",
    "    model = Model(with_optimizer(Gurobi.Optimizer,TimeLimit=60, gurobi_env));\n",
    "\n",
    "    @variable(model, z[i=1:NS], Bin)\n",
    "    @variable(model, c[i=1:NS]>=0)\n",
    "    @variable(model, s[i=1:NS,j=1:NC,k=1:K],Bin)\n",
    "    @variable(model, x[i=1:NS,j=1:NC,k=1:K]>=0)\n",
    "    @variable(model, y[j=1:NC,k=1:K]>=0)\n",
    "\n",
    "    @constraint(model, [j=1:NC,k=1:K], y[j,k] <= sum(x[i,j,k] for i=1:NS))\n",
    "    @constraint(model, [j=1:NC,k=1:K], y[j,k] <= Dem[j,k])\n",
    "    @constraint(model, [i=1:NS,k=1:K], sum(x[i,j,k] for j=1:NC) <= c[i])\n",
    "    @constraint(model, [i=1:NS,j=1:NC,k=1:K], x[i,j,k] <= B[i]*s[i,j,k])\n",
    "    @constraint(model, [i=1:NS], c[i] <= B[i]*z[i])\n",
    "    @constraint(model, [i=1:NS,j=1:NC,k=1:K], s[i,j,k] <= z[i])\n",
    "\n",
    "    @objective(model, Max, sum(weight[k]*(R*sum(y[j,k] for j=1:NC) - sum(z[i]*FC[i] + c[i]*VC[i] for i=1:NS) - sum(1*s[i,j,k]*T[i,j] for i=1:NS, j=1:NC)) for k=1:K))\n",
    "\n",
    "    set_optimizer_attribute(model, \"OutputFlag\", 0)\n",
    "    optimize!(model)\n",
    "    \n",
    "    return objective_value(model), value.(c)\n",
    "    \n",
    "end"
   ]
  },
  {
   "cell_type": "code",
   "execution_count": 19,
   "id": "f4c8c238",
   "metadata": {},
   "outputs": [
    {
     "data": {
      "text/plain": [
       "checkReality (generic function with 1 method)"
      ]
     },
     "execution_count": 19,
     "metadata": {},
     "output_type": "execute_result"
    }
   ],
   "source": [
    "# Optimization Model - No Prescription Yet\n",
    "function checkReality(contr, trueDem)\n",
    "    \n",
    "    NS = size(supplierInfo)[1]\n",
    "    NC = size(trueDem)[1]\n",
    "\n",
    "    model = Model(with_optimizer(Gurobi.Optimizer,TimeLimit=60, gurobi_env));\n",
    "\n",
    "    @variable(model, z[i=1:NS], Bin)\n",
    "    @variable(model, c[i=1:NS]>=0)\n",
    "    @variable(model, k[i=1:NS,j=1:NC], Bin)\n",
    "    @variable(model, x[i=1:NS,j=1:NC]>=0)\n",
    "    @variable(model, y[j=1:NC]>=0)\n",
    "\n",
    "    @constraint(model, [i=1:NS], c[i] == contr[i])\n",
    "    \n",
    "    @constraint(model, [j=1:NC], y[j] <= sum(x[i,j] for i=1:NS))\n",
    "    @constraint(model, [j=1:NC], y[j] <= trueDem[j])\n",
    "    @constraint(model, [i=1:NS], sum(x[i,j] for j=1:NC) <= c[i])\n",
    "    @constraint(model, [i=1:NS,j=1:NC], x[i,j] <= B[i]*k[i,j])\n",
    "    @constraint(model, [i=1:NS], c[i] <= B[i]*z[i])\n",
    "    @constraint(model, [i=1:NS,j=1:NC], k[i,j] <= z[i])\n",
    "\n",
    "    @objective(model, Max, R*sum(y[j] for j=1:NC) - sum(z[i]*FC[i] + c[i]*VC[i] for i=1:NS) - sum(1*k[i,j]*T[i,j] for i=1:NS, j=1:NC))\n",
    "\n",
    "    set_optimizer_attribute(model, \"OutputFlag\", 0)\n",
    "    optimize!(model)\n",
    "    \n",
    "    return objective_value(model), value.(c)\n",
    "    \n",
    "end"
   ]
  },
  {
   "cell_type": "code",
   "execution_count": 73,
   "id": "537bdf7c",
   "metadata": {},
   "outputs": [
    {
     "data": {
      "text/plain": [
       "testApproaches (generic function with 1 method)"
      ]
     },
     "execution_count": 73,
     "metadata": {},
     "output_type": "execute_result"
    }
   ],
   "source": [
    "function testApproaches(testWkNum, KNN_K)\n",
    "    \n",
    "    # get test week and true demand\n",
    "    testWk = getTestPoint(alldata_test, testWkNum)\n",
    "    trueD = testWk[:,:Sales]\n",
    "    \n",
    "    # get num customers\n",
    "    NC = size(testWk)[1]\n",
    "    \n",
    "    trainSet = deepcopy(alldata_train)\n",
    "\n",
    "    if testWkNum != 147\n",
    "        addToTrain = getTestRange(alldata_test, testWkNum-1)\n",
    "        trainSet = [trainSet;addToTrain]\n",
    "    end\n",
    "    \n",
    "    # get neightbors\n",
    "    knnD = zeros(NC,KNN_K)\n",
    "    for i=1:NC\n",
    "        d_holder = findKNNDemand(i, testWk, trainSet, KNN_K)\n",
    "        for k=1:KNN_K\n",
    "            knnD[i,k] = d_holder[k]\n",
    "        end\n",
    "    end\n",
    "    \n",
    "    # get average sales of neighbors\n",
    "    avgD = mean(knnD, dims=2);\n",
    "    \n",
    "    # Oracle Approach\n",
    "    oracle_profEst, oracle_contr = optPres(trueD)\n",
    "    oracle_profReal, oracle_realContr = checkReality(oracle_contr, trueD)\n",
    "    \n",
    "    # KNN Approach\n",
    "    knn_profEst, knn_contr = optPres(knnD)\n",
    "    knn_profReal, knn_realContr = checkReality(knn_contr, trueD)\n",
    "    \n",
    "    # Avg KNN Sales Approach\n",
    "    avg_profEst, avg_contr = optPres(avgD)\n",
    "    avg_profReal, avg_realContr = checkReality(avg_contr, trueD)\n",
    "    \n",
    "    return oracle_profReal, knn_profReal, avg_profReal, sum(oracle_contr), sum(knn_contr), sum(avg_contr)\n",
    "    \n",
    "#     println(\"Estimated Profit:\")\n",
    "#     println(\" - Oracle Approach:         \\$\", oracle_profEst)\n",
    "#     println(\" - KNN Prescript. Approach: \\$\", knn_profEst)\n",
    "#     println(\" - KNN Average Approach:    \\$\", avg_profEst)\n",
    "#     println(\"\")\n",
    "#     println(\"Realized Profit:\")\n",
    "#     println(\" - Oracle Approach:         \\$\", oracle_profReal)\n",
    "#     println(\" - KNN Prescript. Approach: \\$\", knn_profReal)\n",
    "#     println(\" - KNN Average Approach:    \\$\", avg_profReal)\n",
    "    \n",
    "end"
   ]
  },
  {
   "cell_type": "markdown",
   "id": "e0e1323a",
   "metadata": {},
   "source": [
    "# Get Constant Parameters"
   ]
  },
  {
   "cell_type": "code",
   "execution_count": 48,
   "id": "80623334",
   "metadata": {},
   "outputs": [
    {
     "data": {
      "text/plain": [
       "500"
      ]
     },
     "execution_count": 48,
     "metadata": {},
     "output_type": "execute_result"
    }
   ],
   "source": [
    "# choose random tst day for distances - they're all the same # of customers\n",
    "testCust = getTestPoint(alldata_test, 147)\n",
    "T = getDistances(test147, supplierInfo)\n",
    "\n",
    "FC = supplierInfo[:,5].*0\n",
    "#VC = supplierInfo[:,6]\n",
    "VC = zeros(17)\n",
    "VC .= 100\n",
    "B = supplierInfo[:,end]./100\n",
    "R = 500 # can change this"
   ]
  },
  {
   "cell_type": "markdown",
   "id": "c0c7365b",
   "metadata": {},
   "source": [
    "# KNN Prescription vs. KNN Average"
   ]
  },
  {
   "cell_type": "code",
   "execution_count": 75,
   "id": "6a55080e",
   "metadata": {},
   "outputs": [
    {
     "data": {
      "text/plain": [
       "10×7 Matrix{Float64}:\n",
       " 147.0  5.75743e7  5.745e7    5.73089e7       1.4404e5   145276.0             1.43366e5\n",
       " 148.0  5.70369e7  5.67753e7  5.69925e7  142697.0             1.45311e5       1.43138e5\n",
       " 149.0  6.68157e7  5.6912e7   5.68824e7  167149.0             1.42319e5       1.42243e5\n",
       " 150.0  6.62138e7  5.69337e7  5.83449e7       1.65645e5       1.42374e5       1.45907e5\n",
       " 151.0  6.81266e7  6.53677e7  6.02345e7       1.70427e5       1.63486e5  150633.0\n",
       " 152.0  6.84365e7  6.58703e7  6.23615e7  171201.0             1.64741e5       1.5595e5\n",
       " 153.0  6.89556e7  6.72413e7  6.44835e7       1.72502e5       1.68178e5       1.61266e5\n",
       " 154.0  6.79322e7  6.75547e7  6.6811e7        1.69941e5       1.68982e5       1.67111e5\n",
       " 155.0  6.91152e7  6.75876e7  6.70324e7       1.72899e5       1.69046e5       1.67653e5\n",
       " 156.0  6.88541e7  6.80211e7  6.75829e7       1.72246e5       1.70142e5       1.69039e5"
      ]
     },
     "execution_count": 75,
     "metadata": {},
     "output_type": "execute_result"
    }
   ],
   "source": [
    "testWeekNums = [147:156;];\n",
    "knnResults = zeros(size(testWeekNums)[1],7)\n",
    "\n",
    "for i=1:size(testWeekNums)[1]\n",
    "    \n",
    "    orac, knnpres, knnavg, totalD, knnpres_contr, knnavg_contr = testApproaches(testWeekNums[i], 5)\n",
    "    \n",
    "    knnResults[i,1] = testWeekNums[i]\n",
    "    knnResults[i,2] = orac\n",
    "    knnResults[i,3] = knnpres\n",
    "    knnResults[i,4] = knnavg\n",
    "    knnResults[i,5] = totalD\n",
    "    knnResults[i,6] = knnpres_contr\n",
    "    knnResults[i,7] = knnavg_contr  \n",
    "    \n",
    "end\n",
    "\n",
    "knnResults"
   ]
  },
  {
   "cell_type": "code",
   "execution_count": 81,
   "id": "48efdca5",
   "metadata": {},
   "outputs": [],
   "source": [
    "knnResultsDF = DataFrame(knnResults, [:WeekNum, :OracleProf, :KnnPresProf, :KnnAvgProf, :OracleOrdered, :KnnPresOrdered, :KnnAvgOrdered]);"
   ]
  },
  {
   "cell_type": "code",
   "execution_count": 80,
   "id": "7d8f6a93",
   "metadata": {},
   "outputs": [
    {
     "data": {
      "text/plain": [
       "\"data/initial_knn_results.csv\""
      ]
     },
     "execution_count": 80,
     "metadata": {},
     "output_type": "execute_result"
    }
   ],
   "source": [
    "CSV.write(\"data/initial_knn_results.csv\", knnResultsDF)"
   ]
  },
  {
   "cell_type": "code",
   "execution_count": 82,
   "id": "318f8b9c",
   "metadata": {},
   "outputs": [],
   "source": [
    "#custMet = findall(x->x>0.01, shipments);\n",
    "#contrSup = findall(x->x>0.01, contracts);\n",
    "#notContrSup = findall(x->x<0.01, contracts);"
   ]
  },
  {
   "cell_type": "code",
   "execution_count": 83,
   "id": "c05b25ee",
   "metadata": {
    "scrolled": false
   },
   "outputs": [],
   "source": [
    "#scatter(test147[:,3],test147[:,2], markersize=3,format=:png)\n",
    "#scatter!(supplierInfo[contrSup,4], supplierInfo[contrSup,3],markersize=5,format=:png)\n",
    "#scatter!(supplierInfo[notContrSup,4], supplierInfo[notContrSup,3],markersize=5,format=:png)"
   ]
  }
 ],
 "metadata": {
  "kernelspec": {
   "display_name": "Julia 1.6.2",
   "language": "julia",
   "name": "julia-1.6"
  },
  "language_info": {
   "file_extension": ".jl",
   "mimetype": "application/julia",
   "name": "julia",
   "version": "1.6.2"
  }
 },
 "nbformat": 4,
 "nbformat_minor": 5
}
