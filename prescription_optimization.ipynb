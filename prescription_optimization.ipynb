{
 "cells": [
  {
   "cell_type": "markdown",
   "id": "c12c4649",
   "metadata": {},
   "source": [
    "# ML Project: eCommerce Inventory Prescription"
   ]
  },
  {
   "cell_type": "markdown",
   "id": "a4216485",
   "metadata": {},
   "source": [
    "## Sources:\n",
    "\n",
    "1. Getting cass index: https://fred.stlouisfed.org/series/FRGSHPUSM649NCIS\n",
    "2. Insight into potential predictive features: https://dspace.mit.edu/bitstream/handle/1721.1/126484/scm2020-huang-a-predictive-model-for-transpacific-eastbound-ocean-freight-pricing-capstone.pdf?sequence=1&isAllowed=y\n",
    "3. crude oil prices: https://www.indexmundi.com/commodities/?commodity=crude-oil&months=360\n",
    "4. OLD: exchange rate: https://fred.stlouisfed.org/series/EXCHUS\n",
    "5. US CPI: https://fred.stlouisfed.org/series/CPIAUCSL\n",
    "6. US PMI: https://data.nasdaq.com/data/ISM/MAN_PMI-pmi-composite-index\n",
    "7. OLD: China PMI:\n"
   ]
  },
  {
   "cell_type": "markdown",
   "id": "4ffe8885",
   "metadata": {},
   "source": [
    "## Question for Semi: Should we change the data from 2019 to 2020? Gives us more train data - I'm doing it lol\n",
    "\n",
    "## Data / Methodolgy\n",
    "\n",
    "We need to predict the average US freight cost for a three month horizon. For the purposes of our problem, all items travel the same distance from the manufacturer to the warehouse. Since we are assuming that we are shipping less-than-truckload (LTL) shipments, cost is determined solely by weight of shipped items. We are using the CASS index to determine historical freight prices in the US. (insert explanation of CASS index). We can then estimate transportation costs accordingly: find average shipping cost per pound for the last month of our training set ($\\text{\\$/lb}_{N}$), associated with $\\text{CASS Index}_{N}$, and back-compute all prior shipping costs per pound using the relationship between $\\text{CASS Index}_{N}$ and the CASS index of the prior months.\n",
    "\n",
    "To \"predict\" shipping rate, we will use the following features:\n",
    "- oil price\n",
    "- exchange rate (CH/US)   (might not need this one)\n",
    "- US CPI\n",
    "- US PMI\n",
    "- Year\n",
    "- Month\n",
    "\n",
    "We got the above data from (sources). We found our other data (demand and individual item costs) from... (Semi)\n",
    "\n",
    "Simple linear regression of the non-aggregated data shows that there is explanability in these features (in-sample R^2 of 0.5). \n",
    "\n",
    "Since we have a year of data, we can run the optimization 4 times, since our horizon is 1 quarter. Thus, we need 4 test periods, with each period correponding to 13 weeks of data. \n",
    "\n",
    "We'll break down the demand into 4 chunks of 13 weeks each (13 x 4 = 52). We can accordingly group the CASS data (response and features) into 3 month periods (quarters, thus 4 for each year), with the features being:\n",
    "- Year\n",
    "- Quarter\n",
    "- Following features for the beginning of the quarter (taken from first month of quarter)\n",
    "    - oil price\n",
    "    - exchange rate (CH/US)   (might not need this one)\n",
    "    - US CPI\n",
    "    - US PMI \n",
    "    \n",
    "This will let us find the neighbors of the 4 test quarters, since at the beginning of these quarters we will know the values of all the features. \n",
    "\n",
    "Simple linear regression of aggregated (quarterized) data leads to train R-squared of 0.5511. \n",
    "\n",
    "Essentially our analysis is by quarter, so we'll have projected profit (using prescription), baseline profit (simply using predicted avg CASS for quater), and ideal profit (oracle approach) for all four quarters.\n",
    "\n",
    "\n",
    "Thus, work to do right now is:\n",
    "- break down predicted demand into 4 matrices (19 x 13) each (we'll have to throw a week out, or include it in the last quarter or something)\n",
    "- rewrite model to incorporate shipping costs per pound estimate and to account for change in horizon (change lead time to two weeks) \n",
    "- find simple prediction and oracle profits"
   ]
  },
  {
   "cell_type": "markdown",
   "id": "54658630",
   "metadata": {},
   "source": [
    "## OLD\n",
    "We can use the CASS Index to determine how much the rates have changed Y/Y. A paper (citation 2) studied shipping costs from China to US and found that there are 6 features which play a role:\n",
    "- oil price\n",
    "- exchange rate (CH/US)\n",
    "- US CPI\n",
    "- US PMI\n",
    "- China PMI\n",
    "\n",
    "## END OLD"
   ]
  },
  {
   "cell_type": "code",
   "execution_count": 2,
   "id": "63e45336",
   "metadata": {},
   "outputs": [],
   "source": [
    "using JuMP\n",
    "using Gurobi\n",
    "using CSV\n",
    "using DataFrames\n",
    "using Random;"
   ]
  },
  {
   "cell_type": "code",
   "execution_count": 55,
   "id": "2afe5847",
   "metadata": {},
   "outputs": [],
   "source": [
    "# load data\n",
    "demand = CSV.read(\"data/salesByWeek.csv\", DataFrame)\n",
    "prices = CSV.read(\"data/prices.csv\", DataFrame)\n",
    "costs = CSV.read(\"data/costEstimates.csv\", DataFrame) # placeholders\n",
    "d = Matrix(demand[:,3:end])\n",
    "r = Vector(prices[:,3]) \n",
    "c = Vector(costs[:,2]) # placeholders\n",
    "tr = Vector(costs[:,3]) # placeholders\n",
    "fba = 19\n",
    "leadtime = 8\n",
    "\n",
    "items_tot = size(d)[1]\n",
    "time_tot = size(d)[2];\n",
    "\n",
    "# uncertain shipping cost by weight - creating random set for now\n",
    "S = zeros(time_tot)\n",
    "for i=1:\n",
    "\n",
    "starting_inv = sum(d[:,1:8], dims=2) .+ 10; # starting inv at week 1"
   ]
  },
  {
   "cell_type": "markdown",
   "id": "9198ce44",
   "metadata": {},
   "source": [
    "#### decision vars ####\n",
    "x[i,t] --> inventory order from Supplier of product i at time t\n",
    "\n",
    "j[i,t] --> how much we are selling of product i in time t\n",
    "\n",
    "\n",
    "#### technically decision vars but not really decisions ####\n",
    "s[i,t] --> inventory available for sale (at AMZ warehouse) for product i at time t\n",
    "\n",
    "m[t] --> capital (money) available to purchase inventory at time t\n",
    "\n",
    "#### params ####\n",
    "d[i,t] --> demand for product i at time t\n",
    "\n",
    "r[i] --> sales price for product i\n",
    "\n",
    "c[i] --> manufacturing cost for product i\n",
    "\n",
    "tr[i] --> transportation cost for product i\n",
    "\n",
    "\n",
    "we'll incorporate volume later - for initial, lets assume fixed unit costs\n",
    "\n",
    "v[i] --> volume (size) of product i\n",
    "\n",
    "fba --> AMZ storage fee: $19/cbm per month\n",
    "\n",
    "\n",
    "\n",
    "revenue = 0.70 * sum( d[i,t]*r[i] for i=1:items_tot, t=1:time_tot ) --> amazon takes 30% cut\n",
    "\n",
    "cost = sum( x[i,t]*(c[i]+tr[i]) for i=1:items_tot, t=1:time_tot ) + sum( fba*s[i,t] for i=1:items_tot, t=1:time_tot:4 )\n",
    "\n",
    "    --> manu + transport cost of orders + monthly inventory fee for whatever inventory we have\n"
   ]
  },
  {
   "cell_type": "markdown",
   "id": "cd0ad4ac",
   "metadata": {},
   "source": [
    "Transportation cost is something that we want to predict -- \n",
    "\n",
    "w[t] = total weight of items being shipped in week t\n",
    "    \n",
    "$\\hat{S}$[m] = uncertain shipping cost in month m - found using CASS index\n",
    "    \n",
    " \n",
    " Thus, total trans cost for week t = \n",
    " \n",
    " w[t] * S[m(t)]"
   ]
  },
  {
   "cell_type": "markdown",
   "id": "fefbd914",
   "metadata": {},
   "source": [
    "## OLD MODEL"
   ]
  },
  {
   "cell_type": "code",
   "execution_count": 2,
   "id": "ae0536a4",
   "metadata": {},
   "outputs": [
    {
     "ename": "LoadError",
     "evalue": "UndefVarError: Gurobi not defined",
     "output_type": "error",
     "traceback": [
      "UndefVarError: Gurobi not defined",
      "",
      "Stacktrace:",
      " [1] top-level scope",
      "   @ In[2]:1",
      " [2] eval",
      "   @ .\\boot.jl:360 [inlined]",
      " [3] include_string(mapexpr::typeof(REPL.softscope), mod::Module, code::String, filename::String)",
      "   @ Base .\\loading.jl:1116"
     ]
    }
   ],
   "source": [
    "model = Model(with_optimizer(Gurobi.Optimizer))\n",
    "set_optimizer_attribute(model, \"OutputFlag\", 0)\n",
    "\n",
    "@variable(model, x[i=1:items_tot, t=1:time_tot] >= 0) # keeping it at not Int for now\n",
    "@variable(model, j[i=1:items_tot, t=1:time_tot] >= 0) # keeping it at not Int for now\n",
    "\n",
    "@variable(model, s[i=1:items_tot, t=1:time_tot] >= 0) # keeping it at not Int for now\n",
    "@variable(model, m[t=1:time_tot] >= 0)\n",
    "\n",
    "# how much we sell is bounded by inventory and demand\n",
    "@constraint(model, [i=1:items_tot, t=1:time_tot], j[i,t] <= s[i,t])\n",
    "@constraint(model, [i=1:items_tot, t=1:time_tot], j[i,t] <= d[i,t])\n",
    "# capital is available 2 weeks after a product's sale\n",
    "@constraint(model, [t=1:(time_tot-2)], m[t+2] == m[t+1] + 0.7*sum(j[i,t]*r[i] for i=1:items_tot))\n",
    "# the cost of inventory orders at time t must be less than our available capital\n",
    "@constraint(model, [t=1:time_tot], sum(x[i,t]*(c[i]+tr[i]) for i=1:items_tot) <= m[t])\n",
    "# sales at time t reduce inventory at warehouse, \n",
    "# inventory orders at time t are available for sale (arrive at warehouse) 8 weeks later\n",
    "@constraint(model, [i=1:items_tot, t=leadtime:(time_tot-1)], s[i,t+1] == s[i,t] - j[i,t] + x[i,t-(leadtime-1)])\n",
    "\n",
    "# address the first 1:leadtime weeks of supply\n",
    "@constraint(model, [i=1:items_tot, t=1:leadtime-1], s[i,t+1] == s[i,t] - j[i,t])\n",
    "@constraint(model, [i=1:items_tot], s[i,1] == starting_inv[i] - j[i,1])\n",
    "\n",
    "@objective(model, Max, 0.7*sum(j[i,t]*r[i] - x[i,t]*(c[i]+tr[i]) - 0.25*fba*s[i,t] for i=1:items_tot, t=1:time_tot))\n",
    "\n",
    "optimize!(model)\n",
    "\n",
    "objective_value(model)"
   ]
  },
  {
   "cell_type": "markdown",
   "id": "30cc76d4",
   "metadata": {},
   "source": [
    "## NEW MODEL"
   ]
  },
  {
   "cell_type": "code",
   "execution_count": null,
   "id": "798807b0",
   "metadata": {},
   "outputs": [],
   "source": [
    "model = Model(with_optimizer(Gurobi.Optimizer))\n",
    "set_optimizer_attribute(model, \"OutputFlag\", 0)\n",
    "\n",
    "@variable(model, x[i=1:items_tot, t=1:time_tot] >= 0) # keeping it at not Int for now\n",
    "@variable(model, j[i=1:items_tot, t=1:time_tot] >= 0) # keeping it at not Int for now\n",
    "\n",
    "@variable(model, s[i=1:items_tot, t=1:time_tot] >= 0) # keeping it at not Int for now\n",
    "@variable(model, m[t=1:time_tot] >= 0)\n",
    "\n",
    "# how much we sell is bounded by inventory and demand\n",
    "@constraint(model, [i=1:items_tot, t=1:time_tot], j[i,t] <= s[i,t])\n",
    "@constraint(model, [i=1:items_tot, t=1:time_tot], j[i,t] <= d[i,t])\n",
    "# capital is available 2 weeks after a product's sale\n",
    "@constraint(model, [t=1:(time_tot-2)], m[t+2] == 0.7*sum(j[i,t]*r[i] for i=1:items_tot))\n",
    "# the cost of inventory orders at time t must be less than our available capital\n",
    "@constraint(model, [t=1:time_tot], sum(x[i,t]*(c[i]+tr[i]) for i=1:items_tot) <= m[t])\n",
    "# sales at time t reduce inventory at warehouse, \n",
    "# inventory orders at time t are available for sale (arrive at warehouse) 8 weeks later\n",
    "@constraint(model, [i=1:items_tot, t=leadtime:(time_tot-1)], s[i,t+1] == s[i,t] - j[i,t] + x[i,t-(leadtime-1)])\n",
    "\n",
    "# address the first 1:leadtime weeks of supply\n",
    "@constraint(model, [i=1:items_tot, t=1:leadtime-1], s[i,t+1] == s[i,t] - j[i,t])\n",
    "@constraint(model, [i=1:items_tot], s[i,1] == starting_inv[i] - j[i,1])\n",
    "\n",
    "@objective(model, Max, 0.7*sum(j[i,t]*r[i] - x[i,t]*(c[i]+tr[i]) - 0.25*fba*s[i,t] for i=1:items_tot, t=1:time_tot))\n",
    "\n",
    "optimize!(model)\n",
    "\n",
    "objective_value(model)"
   ]
  }
 ],
 "metadata": {
  "kernelspec": {
   "display_name": "Julia 1.6.2",
   "language": "julia",
   "name": "julia-1.6"
  },
  "language_info": {
   "file_extension": ".jl",
   "mimetype": "application/julia",
   "name": "julia",
   "version": "1.6.2"
  }
 },
 "nbformat": 4,
 "nbformat_minor": 5
}
