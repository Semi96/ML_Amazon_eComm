{
 "cells": [
  {
   "cell_type": "markdown",
   "id": "c12c4649",
   "metadata": {},
   "source": [
    "# ML Project: eCommerce Inventory Prescription"
   ]
  },
  {
   "cell_type": "markdown",
   "id": "a4216485",
   "metadata": {},
   "source": [
    "## Sources:\n",
    "\n",
    "1. Getting cass index: https://fred.stlouisfed.org/series/FRGSHPUSM649NCIS\n",
    "2. Insight into potential predictive features: https://dspace.mit.edu/bitstream/handle/1721.1/126484/scm2020-huang-a-predictive-model-for-transpacific-eastbound-ocean-freight-pricing-capstone.pdf?sequence=1&isAllowed=y\n",
    "3. crude oil prices: https://www.indexmundi.com/commodities/?commodity=crude-oil&months=360\n",
    "4. OLD: exchange rate: https://fred.stlouisfed.org/series/EXCHUS\n",
    "5. US CPI: https://fred.stlouisfed.org/series/CPIAUCSL\n",
    "6. US PMI: https://data.nasdaq.com/data/ISM/MAN_PMI-pmi-composite-index\n",
    "7. OLD: China PMI:\n"
   ]
  },
  {
   "cell_type": "markdown",
   "id": "4ffe8885",
   "metadata": {},
   "source": [
    "## Question for Semi: Should we change the data from 2019 to 2020? Gives us more train data - I'm doing it lol\n",
    "\n",
    "## Data / Methodolgy\n",
    "\n",
    "We need to predict the average US freight cost for a three month horizon. For the purposes of our problem, all items travel the same distance from the manufacturer to the warehouse. Since we are assuming that we are shipping less-than-truckload (LTL) shipments, cost is determined solely by weight of shipped items. We are using the CASS index to determine historical freight prices in the US. (insert explanation of CASS index). We can then estimate transportation costs accordingly: find average shipping cost per pound for the last month of our training set ($\\text{\\$/lb}_{N}$), associated with $\\text{CASS Index}_{N}$, and back-compute all prior shipping costs per pound using the relationship between $\\text{CASS Index}_{N}$ and the CASS index of the prior months.\n",
    "\n",
    "To \"predict\" shipping rate, we will use the following features:\n",
    "- oil price\n",
    "- exchange rate (CH/US)   (might not need this one)\n",
    "- US CPI\n",
    "- US PMI\n",
    "- Year\n",
    "- Month\n",
    "\n",
    "We got the above data from (sources). We found our other data (demand and individual item costs) from... (Semi)\n",
    "\n",
    "Simple linear regression of the non-aggregated data shows that there is explanability in these features (in-sample R^2 of 0.5). \n",
    "\n",
    "Since we have a year of data, we can run the optimization 4 times, since our horizon is 1 quarter. Thus, we need 4 test periods, with each period correponding to 13 weeks of data. \n",
    "\n",
    "We'll break down the demand into 4 chunks of 13 weeks each (13 x 4 = 52). We can accordingly group the CASS data (response and features) into 3 month periods (quarters, thus 4 for each year), with the features being:\n",
    "- Year\n",
    "- Quarter\n",
    "- Following features for the beginning of the quarter (taken from first month of quarter)\n",
    "    - oil price\n",
    "    - exchange rate (CH/US)   (might not need this one)\n",
    "    - US CPI\n",
    "    - US PMI \n",
    "    \n",
    "This will let us find the neighbors of the 4 test quarters, since at the beginning of these quarters we will know the values of all the features. \n",
    "\n",
    "Simple linear regression of aggregated (quarterized) data leads to train R-squared of 0.5511. \n",
    "\n",
    "Essentially our analysis is by quarter, so we'll have projected profit (using prescription), baseline profit (simply using predicted avg CASS for quater), and ideal profit (oracle approach) for all four quarters.\n",
    "\n",
    "\n",
    "Thus, work to do right now is:\n",
    "- break down predicted demand into 4 matrices (19 x 13) each (we'll have to throw a week out, or include it in the last quarter or something)\n",
    "- rewrite model to incorporate shipping costs per pound estimate and to account for change in horizon (change lead time to two weeks) \n",
    "- find simple prediction and oracle profits"
   ]
  },
  {
   "cell_type": "code",
   "execution_count": 159,
   "id": "63e45336",
   "metadata": {},
   "outputs": [],
   "source": [
    "using JuMP\n",
    "using Gurobi\n",
    "using CSV\n",
    "using DataFrames\n",
    "using Random, Statistics\n",
    "using NearestNeighbors, Dates\n",
    "ENV[\"COLUMNS\"]=120;"
   ]
  },
  {
   "cell_type": "markdown",
   "id": "9198ce44",
   "metadata": {},
   "source": [
    "#### decision vars ####\n",
    "x[i,t] --> inventory order from Supplier of product i at time t\n",
    "\n",
    "j[i,t] --> how much we are selling of product i in time t\n",
    "\n",
    "\n",
    "#### technically decision vars but not really decisions ####\n",
    "s[i,t] --> inventory available for sale (at AMZ warehouse) for product i at time t\n",
    "\n",
    "m[t] --> capital (money) available to purchase inventory at time t\n",
    "\n",
    "#### params ####\n",
    "d[i,t] --> demand for product i at time t\n",
    "\n",
    "r[i] --> sales price for product i\n",
    "\n",
    "c[i] --> manufacturing cost for product i\n",
    "\n",
    "tr[i] --> transportation cost for product i\n",
    "\n",
    "\n",
    "we'll incorporate volume later - for initial, lets assume fixed unit costs\n",
    "\n",
    "v[i] --> volume (size) of product i\n",
    "\n",
    "fba --> AMZ storage fee: $19/cbm per month\n",
    "\n",
    "\n",
    "\n",
    "revenue = 0.70 * sum( d[i,t]*r[i] for i=1:items_tot, t=1:time_tot ) --> amazon takes 30% cut\n",
    "\n",
    "cost = sum( x[i,t]*(c[i]+tr[i]) for i=1:items_tot, t=1:time_tot ) + sum( fba*s[i,t] for i=1:items_tot, t=1:time_tot:4 )\n",
    "\n",
    "    --> manu + transport cost of orders + monthly inventory fee for whatever inventory we have\n"
   ]
  },
  {
   "cell_type": "markdown",
   "id": "cd0ad4ac",
   "metadata": {},
   "source": [
    "Transportation cost is something that we want to predict -- \n",
    "\n",
    "w[t] = total weight of items being shipped in week t\n",
    "    \n",
    "$\\hat{S}$[m] = uncertain shipping cost in month m - found using CASS index\n",
    "    \n",
    " \n",
    " Thus, total trans cost for week t = \n",
    " \n",
    " w[t] * S[m(t)]"
   ]
  },
  {
   "cell_type": "markdown",
   "id": "87699f79",
   "metadata": {},
   "source": [
    "## RUNNING MODEL"
   ]
  },
  {
   "cell_type": "code",
   "execution_count": 152,
   "id": "e989a004",
   "metadata": {
    "scrolled": true
   },
   "outputs": [],
   "source": [
    "#### load data ####\n",
    "\n",
    "# train/tests for finding KNN\n",
    "trainQ1 = CSV.read(\"data/data_final_train_Q1.csv\", DataFrame)\n",
    "testQ1 = CSV.read(\"data/data_final_test_Q1.csv\", DataFrame)\n",
    "trainQ2 = CSV.read(\"data/data_final_train_Q2.csv\", DataFrame)\n",
    "testQ2 = CSV.read(\"data/data_final_test_Q2.csv\", DataFrame)\n",
    "trainQ3 = CSV.read(\"data/data_final_train_Q3.csv\", DataFrame)\n",
    "testQ3 = CSV.read(\"data/data_final_test_Q3.csv\", DataFrame)\n",
    "trainQ4 = CSV.read(\"data/data_final_train_Q4.csv\", DataFrame)\n",
    "testQ4 = CSV.read(\"data/data_final_test_Q4.csv\", DataFrame)\n",
    "\n",
    "\n",
    "# demands\n",
    "demand_Q1 = CSV.read(\"data/salesByWeek_Q1.csv\", DataFrame)\n",
    "demand_Q2 = CSV.read(\"data/salesByWeek_Q2.csv\", DataFrame)\n",
    "demand_Q3 = CSV.read(\"data/salesByWeek_Q3.csv\", DataFrame)\n",
    "demand_Q4 = CSV.read(\"data/salesByWeek_Q4.csv\", DataFrame)\n",
    "d1 = Matrix(demand_Q1)[:,3:end]\n",
    "d2 = Matrix(demand_Q2)[:,3:end]\n",
    "d3 = Matrix(demand_Q3)[:,3:end]\n",
    "d4 = Matrix(demand_Q4)[:,3:end]\n",
    "Q1_startingInv = sum(d1[:,1:2], dims=2);\n",
    "Q2_startingInv = sum(d2[:,1:2], dims=2);\n",
    "Q3_startingInv = sum(d3[:,1:2], dims=2);\n",
    "Q4_startingInv = sum(d4[:,1:2], dims=2);\n",
    "\n",
    "\n",
    "# fixed item prices and fees\n",
    "prices = CSV.read(\"data/prices.csv\", DataFrame)\n",
    "itemInfo = CSV.read(\"data/costEstimates.csv\", DataFrame)\n",
    "\n",
    "# set lead time\n",
    "leadtime=2\n",
    "\n",
    "# get constant vectors from data\n",
    "r = itemInfo[:,2]\n",
    "c = itemInfo[:,3]\n",
    "f = itemInfo[:,5]\n",
    "FBA = itemInfo[:,7]\n",
    "w = itemInfo[:,10];"
   ]
  },
  {
   "cell_type": "code",
   "execution_count": 132,
   "id": "9a3d8470",
   "metadata": {},
   "outputs": [
    {
     "data": {
      "text/plain": [
       "runModel (generic function with 3 methods)"
      ]
     },
     "execution_count": 132,
     "metadata": {},
     "output_type": "execute_result"
    }
   ],
   "source": [
    "# model function\n",
    "function runModel(startingCap, startingInv, nextQstartingInv, D, U)\n",
    "\n",
    "   P = size(d1)[1]\n",
    "    T = size(d1)[2]\n",
    "\n",
    "    model = Model(with_optimizer(Gurobi.Optimizer))\n",
    "    set_optimizer_attribute(model, \"OutputFlag\", 0)\n",
    "\n",
    "    @variable(model, x[i=1:P, t=1:T] >= 0) # keeping it at not Int for now\n",
    "    @variable(model, j[i=1:P, t=1:T] >= 0) # keeping it at not Int for now\n",
    "    @variable(model, s[i=1:P, t=1:T] >= 0) # keeping it at not Int for now\n",
    "    @variable(model, m[t=1:T] >= 0)\n",
    "    @variable(model, lambda[t=1:T] >= 0)\n",
    "\n",
    "    # profit (capital) in every week = last week's + 2 weeks ago's sales - this weeks cost\n",
    "    @constraint(model, [t=1:T-2], m[t+2] == m[t+1] + sum(j[i,t]*(r[i] - f[i]) for i=1:P) - lambda[t+1])\n",
    "    @constraint(model, m[1] == startingCap)\n",
    "    @constraint(model, m[2] == m[1] - lambda[1])\n",
    "    # cost in week is equal to purchasing cost + trans cost + storage cost\n",
    "    @constraint(model, [t=1:T], lambda[t] == sum(x[i,t]*c[i] for i=1:P) + U*sum(x[i,t]*w[i] for i=1:P) + sum(s[i,t]*FBA[i] for i=1:P))\n",
    "    # sales capped by storage and demand\n",
    "    @constraint(model, [i=1:P,t=1:T], j[i,t] <= s[i,t])\n",
    "    @constraint(model, [i=1:P,t=1:T], j[i,t] <= d[i,t])\n",
    "    # cannot spend more than we have in capital at beginning of week\n",
    "    @constraint(model, [t=1:T], lambda[t] <= m[t])\n",
    "    # inventory in week is equal to prev week inv - what we sold last week + what we ordered two weeks ago\n",
    "    @constraint(model, [i=1:P,t=leadtime:T-1], s[i,t+1] == s[i,t] - j[i,t] + x[i,t-1])\n",
    "    @constraint(model, [i=1:P], s[i,2] == s[i,1] - j[i,1])\n",
    "    @constraint(model, [i=1:P], s[i,1] == startingInv[i])\n",
    "    # ending inventory must be enough to start next quarter\n",
    "    @constraint(model, [i=1:P], s[i,T] - j[i,T] >= nextQstartingInv[i])\n",
    "    \n",
    "    @objective(model, Max, m[T] + sum(j[i,t]*(r[i] - f[i]) for i=1:P,t=T-1:T))\n",
    "\n",
    "    optimize!(model)\n",
    "\n",
    "    #termination_status(model)\n",
    "    return objective_value(model), value.(x), value.(s), value.(j), value.(m), value.(lambda)\n",
    "    \n",
    "end"
   ]
  },
  {
   "cell_type": "code",
   "execution_count": 157,
   "id": "b3f71b15",
   "metadata": {},
   "outputs": [
    {
     "data": {
      "text/plain": [
       "findKNN (generic function with 1 method)"
      ]
     },
     "execution_count": 157,
     "metadata": {},
     "output_type": "execute_result"
    }
   ],
   "source": [
    "function findKNN(cass_data, test_point, k)\n",
    "   \n",
    "    #select!(cass_data, Not(:Column1))\n",
    "    append!(cass_data, test_point)\n",
    "\n",
    "    # normalize columns (except for year and quarter)\n",
    "    for col in names(cass_data)\n",
    "        if col == \"Year\" || col == \"Quarter\"\n",
    "            continue\n",
    "        end\n",
    "        cass_data[!, col] = (cass_data[!, col] .- mean(cass_data[!, col])) ./ std(cass_data[!, col])\n",
    "        #test_point[!, col] = (test_point[!, col] .- mean(test_point[!, col])) ./ std(test_point[!, col])\n",
    "    end\n",
    "    \n",
    "    test_point = DataFrame(cass_data[size(cass_data)[1], :])\n",
    "    X = Array(select(cass_data[1:(size(cass_data)[1]-1), :], Not(:avgCASS)))'\n",
    "    kd_tree = KDTree(X)\n",
    "    test_point = Array(select(test_point, Not(:avgCASS)))'\n",
    "    \n",
    "    id, dist = knn(kd_tree, test_point, k)\n",
    "    knn_predictions = cass_data[id[1],:].avgCASS\n",
    "    return knn_predictions\n",
    "end"
   ]
  },
  {
   "cell_type": "markdown",
   "id": "d7bda20f",
   "metadata": {},
   "source": [
    "## Q1"
   ]
  },
  {
   "cell_type": "code",
   "execution_count": 160,
   "id": "616f1259",
   "metadata": {},
   "outputs": [
    {
     "name": "stdout",
     "output_type": "stream",
     "text": [
      "Academic license - for non-commercial use only - expires 2022-08-19\r\n"
     ]
    }
   ],
   "source": [
    "# get quarter specific data\n",
    "startingCap1 = 3000\n",
    "\n",
    "U_test = findKNN(trainQ1, testQ1, 5)\n",
    "U1 = 1;\n",
    "\n",
    "# run model for q1\n",
    "endQ1profit, Q1_x, Q1_s, Q1_j, Q1_m, Q1_lambda = runModel(startingCap1, Q1_startingInv, Q2_startingInv, d1, U1);"
   ]
  },
  {
   "cell_type": "code",
   "execution_count": 161,
   "id": "281ae24b",
   "metadata": {},
   "outputs": [
    {
     "data": {
      "text/plain": [
       "5-element Vector{Float64}:\n",
       "  0.909220624236676\n",
       "  0.9808462437285825\n",
       " -0.21074349949226198\n",
       "  0.7789922402551342\n",
       "  1.1208417567529192"
      ]
     },
     "execution_count": 161,
     "metadata": {},
     "output_type": "execute_result"
    }
   ],
   "source": [
    "U_test"
   ]
  },
  {
   "cell_type": "code",
   "execution_count": 134,
   "id": "4c1d7614",
   "metadata": {},
   "outputs": [
    {
     "data": {
      "text/plain": [
       "1.4683242606312935e6"
      ]
     },
     "execution_count": 134,
     "metadata": {},
     "output_type": "execute_result"
    }
   ],
   "source": [
    "endQ1profit"
   ]
  },
  {
   "cell_type": "markdown",
   "id": "dfb106d4",
   "metadata": {},
   "source": [
    "## Q2"
   ]
  },
  {
   "cell_type": "code",
   "execution_count": 135,
   "id": "8a0e562f",
   "metadata": {},
   "outputs": [
    {
     "name": "stdout",
     "output_type": "stream",
     "text": [
      "Academic license - for non-commercial use only - expires 2022-08-19\r\n"
     ]
    }
   ],
   "source": [
    "# start Q2 with profit from Q1\n",
    "startingCap2 = endQ1profit\n",
    "\n",
    "# U2 = findKNN(data_final_train_Q2, data_final_test_Q2)\n",
    "U2 = 1;\n",
    "\n",
    "# run model for q3\n",
    "endQ2profit, Q2_x, Q2_s, Q2_j, Q2_m, Q2_lambda = runModel(startingCap2, Q2_startingInv, Q3_startingInv, d2, U2);"
   ]
  },
  {
   "cell_type": "code",
   "execution_count": 136,
   "id": "8d46e321",
   "metadata": {},
   "outputs": [
    {
     "data": {
      "text/plain": [
       "4.265743284631293e6"
      ]
     },
     "execution_count": 136,
     "metadata": {},
     "output_type": "execute_result"
    }
   ],
   "source": [
    "endQ2profit"
   ]
  },
  {
   "cell_type": "markdown",
   "id": "6ae733b9",
   "metadata": {},
   "source": [
    "## Q3"
   ]
  },
  {
   "cell_type": "code",
   "execution_count": 137,
   "id": "f86fa78f",
   "metadata": {},
   "outputs": [
    {
     "name": "stdout",
     "output_type": "stream",
     "text": [
      "Academic license - for non-commercial use only - expires 2022-08-19\r\n"
     ]
    }
   ],
   "source": [
    "# start Q2 with profit from Q1\n",
    "startingCap3 = endQ2profit\n",
    "\n",
    "# get U uncertain parameters\n",
    "# U3 = findKNN(data_final_train_Q3, data_final_test_Q3)\n",
    "U3 = 1;\n",
    "\n",
    "# run model for q3\n",
    "endQ3profit, Q3_x, Q3_s, Q3_j, Q3_m, Q3_lambda = runModel(startingCap3, Q3_startingInv, Q4_startingInv, d3, U3);"
   ]
  },
  {
   "cell_type": "code",
   "execution_count": 138,
   "id": "cf86d5bc",
   "metadata": {
    "scrolled": true
   },
   "outputs": [
    {
     "data": {
      "text/plain": [
       "6.783722839631295e6"
      ]
     },
     "execution_count": 138,
     "metadata": {},
     "output_type": "execute_result"
    }
   ],
   "source": [
    "endQ3profit"
   ]
  },
  {
   "cell_type": "markdown",
   "id": "e543f597",
   "metadata": {},
   "source": [
    "## Q4"
   ]
  },
  {
   "cell_type": "code",
   "execution_count": 140,
   "id": "360141b8",
   "metadata": {},
   "outputs": [
    {
     "name": "stdout",
     "output_type": "stream",
     "text": [
      "Academic license - for non-commercial use only - expires 2022-08-19\r\n"
     ]
    }
   ],
   "source": [
    "# start Q2 with profit from Q1\n",
    "startingCap4 = endQ3profit\n",
    "\n",
    "# get U uncertain parameters\n",
    "# U4 = findKNN(data_final_train_Q4, data_final_test_Q4)\n",
    "U4 = 1;\n",
    "\n",
    "# assuming we dont need inventory for start of 2021 - ending business at end of 2020\n",
    "Q4_endingInv = zeros(size(d4)[1])\n",
    "\n",
    "# run model for q4\n",
    "endQ4profit, Q4_x, Q4_s, Q4_j, Q4_m, Q4_lambda = runModel(startingCap4, Q4_startingInv, Q4_endingInv, d4, U4);"
   ]
  },
  {
   "cell_type": "code",
   "execution_count": 141,
   "id": "70b0a0c0",
   "metadata": {},
   "outputs": [
    {
     "data": {
      "text/plain": [
       "1.0095518856631296e7"
      ]
     },
     "execution_count": 141,
     "metadata": {},
     "output_type": "execute_result"
    }
   ],
   "source": [
    "endQ4profit"
   ]
  },
  {
   "cell_type": "code",
   "execution_count": null,
   "id": "2edb2b59",
   "metadata": {},
   "outputs": [],
   "source": []
  }
 ],
 "metadata": {
  "kernelspec": {
   "display_name": "Julia 1.6.2",
   "language": "julia",
   "name": "julia-1.6"
  },
  "language_info": {
   "file_extension": ".jl",
   "mimetype": "application/julia",
   "name": "julia",
   "version": "1.6.2"
  }
 },
 "nbformat": 4,
 "nbformat_minor": 5
}
