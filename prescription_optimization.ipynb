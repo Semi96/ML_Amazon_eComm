{
 "cells": [
  {
   "cell_type": "markdown",
   "id": "c12c4649",
   "metadata": {},
   "source": [
    "# ML Project: eCommerce Inventory Prescription"
   ]
  },
  {
   "cell_type": "markdown",
   "id": "a4216485",
   "metadata": {},
   "source": [
    "## Sources:\n",
    "\n",
    "1. Getting cass index: https://fred.stlouisfed.org/series/FRGSHPUSM649NCIS\n",
    "2. Insight into potential predictive features: https://dspace.mit.edu/bitstream/handle/1721.1/126484/scm2020-huang-a-predictive-model-for-transpacific-eastbound-ocean-freight-pricing-capstone.pdf?sequence=1&isAllowed=y\n",
    "3. crude oil prices: https://www.indexmundi.com/commodities/?commodity=crude-oil&months=360\n",
    "4. OLD: exchange rate: https://fred.stlouisfed.org/series/EXCHUS\n",
    "5. US CPI: https://fred.stlouisfed.org/series/CPIAUCSL\n",
    "6. US PMI: https://data.nasdaq.com/data/ISM/MAN_PMI-pmi-composite-index\n",
    "7. OLD: China PMI:\n"
   ]
  },
  {
   "cell_type": "markdown",
   "id": "4ffe8885",
   "metadata": {},
   "source": [
    "## Question for Semi: Should we change the data from 2019 to 2020? Gives us more train data - I'm doing it lol\n",
    "\n",
    "## Data / Methodolgy\n",
    "\n",
    "We need to predict the average US freight cost for a three month horizon. For the purposes of our problem, all items travel the same distance from the manufacturer to the warehouse. Since we are assuming that we are shipping less-than-truckload (LTL) shipments, cost is determined solely by weight of shipped items. We are using the CASS index to determine historical freight prices in the US. (insert explanation of CASS index). We can then estimate transportation costs accordingly: find average shipping cost per pound for the last month of our training set ($\\text{\\$/lb}_{N}$), associated with $\\text{CASS Index}_{N}$, and back-compute all prior shipping costs per pound using the relationship between $\\text{CASS Index}_{N}$ and the CASS index of the prior months.\n",
    "\n",
    "To \"predict\" shipping rate, we will use the following features:\n",
    "- oil price\n",
    "- exchange rate (CH/US)   (might not need this one)\n",
    "- US CPI\n",
    "- US PMI\n",
    "- Year\n",
    "- Month\n",
    "\n",
    "We got the above data from (sources). We found our other data (demand and individual item costs) from... (Semi)\n",
    "\n",
    "Simple linear regression of the non-aggregated data shows that there is explanability in these features (in-sample R^2 of 0.5). \n",
    "\n",
    "Since we have a year of data, we can run the optimization 4 times, since our horizon is 1 quarter. Thus, we need 4 test periods, with each period correponding to 13 weeks of data. \n",
    "\n",
    "We'll break down the demand into 4 chunks of 13 weeks each (13 x 4 = 52). We can accordingly group the CASS data (response and features) into 3 month periods (quarters, thus 4 for each year), with the features being:\n",
    "- Year\n",
    "- Quarter\n",
    "- Following features for the beginning of the quarter (taken from first month of quarter)\n",
    "    - oil price\n",
    "    - exchange rate (CH/US)   (might not need this one)\n",
    "    - US CPI\n",
    "    - US PMI \n",
    "    \n",
    "This will let us find the neighbors of the 4 test quarters, since at the beginning of these quarters we will know the values of all the features. \n",
    "\n",
    "Simple linear regression of aggregated (quarterized) data leads to train R-squared of 0.5511. \n",
    "\n",
    "Essentially our analysis is by quarter, so we'll have projected profit (using prescription), baseline profit (simply using predicted avg CASS for quater), and ideal profit (oracle approach) for all four quarters.\n",
    "\n",
    "\n",
    "Thus, work to do right now is:\n",
    "- break down predicted demand into 4 matrices (19 x 13) each (we'll have to throw a week out, or include it in the last quarter or something)\n",
    "- rewrite model to incorporate shipping costs per pound estimate and to account for change in horizon (change lead time to two weeks) \n",
    "- find simple prediction and oracle profits"
   ]
  },
  {
   "cell_type": "markdown",
   "id": "3497d757",
   "metadata": {},
   "source": [
    "## OLD\n",
    "We can use the CASS Index to determine how much the rates have changed Y/Y. A paper (citation 2) studied shipping costs from China to US and found that there are 6 features which play a role:\n",
    "- oil price\n",
    "- exchange rate (CH/US)\n",
    "- US CPI\n",
    "- US PMI\n",
    "- China PMI\n",
    "\n",
    "## END OLD"
   ]
  },
  {
   "cell_type": "code",
   "execution_count": 3,
   "id": "63e45336",
   "metadata": {},
   "outputs": [],
   "source": [
    "using JuMP\n",
    "using Gurobi\n",
    "using CSV\n",
    "using DataFrames\n",
    "using Random;"
   ]
  },
  {
   "cell_type": "code",
   "execution_count": 55,
   "id": "2afe5847",
   "metadata": {},
   "outputs": [],
   "source": [
    "# load data\n",
    "demand = CSV.read(\"data/salesByWeek.csv\", DataFrame)\n",
    "prices = CSV.read(\"data/prices.csv\", DataFrame)\n",
    "costs = CSV.read(\"data/costEstimates.csv\", DataFrame) # placeholders\n",
    "d = Matrix(demand[:,3:end])\n",
    "r = Vector(prices[:,3]) \n",
    "c = Vector(costs[:,2]) # placeholders\n",
    "tr = Vector(costs[:,3]) # placeholders\n",
    "fba = 19\n",
    "leadtime = 8\n",
    "\n",
    "items_tot = size(d)[1]\n",
    "time_tot = size(d)[2];\n",
    "\n",
    "# uncertain shipping cost by weight - creating random set for now\n",
    "S = zeros(time_tot)\n",
    "for i=1:\n",
    "\n",
    "starting_inv = sum(d[:,1:8], dims=2) .+ 10; # starting inv at week 1"
   ]
  },
  {
   "cell_type": "markdown",
   "id": "9198ce44",
   "metadata": {},
   "source": [
    "#### decision vars ####\n",
    "x[i,t] --> inventory order from Supplier of product i at time t\n",
    "\n",
    "j[i,t] --> how much we are selling of product i in time t\n",
    "\n",
    "\n",
    "#### technically decision vars but not really decisions ####\n",
    "s[i,t] --> inventory available for sale (at AMZ warehouse) for product i at time t\n",
    "\n",
    "m[t] --> capital (money) available to purchase inventory at time t\n",
    "\n",
    "#### params ####\n",
    "d[i,t] --> demand for product i at time t\n",
    "\n",
    "r[i] --> sales price for product i\n",
    "\n",
    "c[i] --> manufacturing cost for product i\n",
    "\n",
    "tr[i] --> transportation cost for product i\n",
    "\n",
    "\n",
    "we'll incorporate volume later - for initial, lets assume fixed unit costs\n",
    "\n",
    "v[i] --> volume (size) of product i\n",
    "\n",
    "fba --> AMZ storage fee: $19/cbm per month\n",
    "\n",
    "\n",
    "\n",
    "revenue = 0.70 * sum( d[i,t]*r[i] for i=1:items_tot, t=1:time_tot ) --> amazon takes 30% cut\n",
    "\n",
    "cost = sum( x[i,t]*(c[i]+tr[i]) for i=1:items_tot, t=1:time_tot ) + sum( fba*s[i,t] for i=1:items_tot, t=1:time_tot:4 )\n",
    "\n",
    "    --> manu + transport cost of orders + monthly inventory fee for whatever inventory we have\n"
   ]
  },
  {
   "cell_type": "markdown",
   "id": "cd0ad4ac",
   "metadata": {},
   "source": [
    "Transportation cost is something that we want to predict -- \n",
    "\n",
    "w[t] = total weight of items being shipped in week t\n",
    "    \n",
    "$\\hat{S}$[m] = uncertain shipping cost in month m - found using CASS index\n",
    "    \n",
    " \n",
    " Thus, total trans cost for week t = \n",
    " \n",
    " w[t] * S[m(t)]"
   ]
  },
  {
   "cell_type": "markdown",
   "id": "840862fd",
   "metadata": {},
   "source": [
    "## OLD MODEL"
   ]
  },
  {
   "cell_type": "code",
   "execution_count": 2,
   "id": "ae0536a4",
   "metadata": {
    "collapsed": true
   },
   "outputs": [
    {
     "ename": "LoadError",
     "evalue": "UndefVarError: Gurobi not defined",
     "output_type": "error",
     "traceback": [
      "UndefVarError: Gurobi not defined",
      "",
      "Stacktrace:",
      " [1] top-level scope",
      "   @ In[2]:1",
      " [2] eval",
      "   @ .\\boot.jl:360 [inlined]",
      " [3] include_string(mapexpr::typeof(REPL.softscope), mod::Module, code::String, filename::String)",
      "   @ Base .\\loading.jl:1116"
     ]
    }
   ],
   "source": [
    "model = Model(with_optimizer(Gurobi.Optimizer))\n",
    "set_optimizer_attribute(model, \"OutputFlag\", 0)\n",
    "\n",
    "@variable(model, x[i=1:items_tot, t=1:time_tot] >= 0) # keeping it at not Int for now\n",
    "@variable(model, j[i=1:items_tot, t=1:time_tot] >= 0) # keeping it at not Int for now\n",
    "\n",
    "@variable(model, s[i=1:items_tot, t=1:time_tot] >= 0) # keeping it at not Int for now\n",
    "@variable(model, m[t=1:time_tot] >= 0)\n",
    "\n",
    "# how much we sell is bounded by inventory and demand\n",
    "@constraint(model, [i=1:items_tot, t=1:time_tot], j[i,t] <= s[i,t])\n",
    "@constraint(model, [i=1:items_tot, t=1:time_tot], j[i,t] <= d[i,t])\n",
    "# capital is available 2 weeks after a product's sale\n",
    "@constraint(model, [t=1:(time_tot-2)], m[t+2] == m[t+1] + 0.7*sum(j[i,t]*r[i] for i=1:items_tot))\n",
    "# the cost of inventory orders at time t must be less than our available capital\n",
    "@constraint(model, [t=1:time_tot], sum(x[i,t]*(c[i]+tr[i]) for i=1:items_tot) <= m[t])\n",
    "# sales at time t reduce inventory at warehouse, \n",
    "# inventory orders at time t are available for sale (arrive at warehouse) 8 weeks later\n",
    "@constraint(model, [i=1:items_tot, t=leadtime:(time_tot-1)], s[i,t+1] == s[i,t] - j[i,t] + x[i,t-(leadtime-1)])\n",
    "\n",
    "# address the first 1:leadtime weeks of supply\n",
    "@constraint(model, [i=1:items_tot, t=1:leadtime-1], s[i,t+1] == s[i,t] - j[i,t])\n",
    "@constraint(model, [i=1:items_tot], s[i,1] == starting_inv[i] - j[i,1])\n",
    "\n",
    "@objective(model, Max, 0.7*sum(j[i,t]*r[i] - x[i,t]*(c[i]+tr[i]) - 0.25*fba*s[i,t] for i=1:items_tot, t=1:time_tot))\n",
    "\n",
    "optimize!(model)\n",
    "\n",
    "objective_value(model)"
   ]
  },
  {
   "cell_type": "markdown",
   "id": "487b9a41",
   "metadata": {},
   "source": [
    "## NEW MODEL"
   ]
  },
  {
   "cell_type": "code",
   "execution_count": 4,
   "id": "a66e2664",
   "metadata": {},
   "outputs": [
    {
     "data": {
      "text/html": [
       "<table class=\"data-frame\"><thead><tr><th></th><th>Column1</th><th>Product</th><th>1</th><th>2</th><th>3</th><th>4</th><th>5</th><th>6</th><th>7</th></tr><tr><th></th><th>Int64</th><th>String</th><th>Int64</th><th>Int64</th><th>Int64</th><th>Int64</th><th>Int64</th><th>Int64</th><th>Int64</th></tr></thead><tbody><p>19 rows × 15 columns (omitted printing of 6 columns)</p><tr><th>1</th><td>1</td><td>20in Monitor</td><td>100</td><td>98</td><td>96</td><td>98</td><td>89</td><td>90</td><td>92</td></tr><tr><th>2</th><td>2</td><td>27in 4K Gaming Monitor</td><td>137</td><td>180</td><td>154</td><td>158</td><td>160</td><td>152</td><td>113</td></tr><tr><th>3</th><td>3</td><td>27in FHD Monitor</td><td>143</td><td>185</td><td>174</td><td>182</td><td>189</td><td>172</td><td>149</td></tr><tr><th>4</th><td>4</td><td>34in Ultrawide Monitor</td><td>124</td><td>149</td><td>154</td><td>157</td><td>154</td><td>136</td><td>128</td></tr><tr><th>5</th><td>5</td><td>AA Batteries (4-pack)</td><td>571</td><td>672</td><td>704</td><td>698</td><td>583</td><td>611</td><td>607</td></tr><tr><th>6</th><td>6</td><td>AAA Batteries (4-pack)</td><td>706</td><td>711</td><td>770</td><td>726</td><td>760</td><td>803</td><td>701</td></tr><tr><th>7</th><td>7</td><td>Apple Airpods Headphones</td><td>353</td><td>381</td><td>358</td><td>386</td><td>369</td><td>344</td><td>351</td></tr><tr><th>8</th><td>8</td><td>Bose SoundSport Headphones</td><td>298</td><td>334</td><td>303</td><td>353</td><td>319</td><td>284</td><td>280</td></tr><tr><th>9</th><td>9</td><td>Flatscreen TV</td><td>107</td><td>122</td><td>111</td><td>133</td><td>114</td><td>97</td><td>109</td></tr><tr><th>10</th><td>10</td><td>Google Phone</td><td>140</td><td>121</td><td>141</td><td>137</td><td>126</td><td>116</td><td>101</td></tr><tr><th>11</th><td>11</td><td>iPhone</td><td>154</td><td>151</td><td>149</td><td>164</td><td>182</td><td>141</td><td>137</td></tr><tr><th>12</th><td>12</td><td>LG Dryer</td><td>10</td><td>18</td><td>9</td><td>9</td><td>9</td><td>13</td><td>10</td></tr><tr><th>13</th><td>13</td><td>LG Washing Machine</td><td>9</td><td>14</td><td>21</td><td>12</td><td>10</td><td>11</td><td>13</td></tr><tr><th>14</th><td>14</td><td>Lightning Charging Cable</td><td>508</td><td>567</td><td>573</td><td>611</td><td>561</td><td>528</td><td>522</td></tr><tr><th>15</th><td>15</td><td>Macbook Pro Laptop</td><td>89</td><td>116</td><td>125</td><td>127</td><td>113</td><td>102</td><td>99</td></tr><tr><th>16</th><td>16</td><td>ThinkPad Laptop</td><td>96</td><td>110</td><td>106</td><td>92</td><td>105</td><td>81</td><td>97</td></tr><tr><th>17</th><td>17</td><td>USB-C Charging Cable</td><td>507</td><td>586</td><td>621</td><td>618</td><td>612</td><td>536</td><td>474</td></tr><tr><th>18</th><td>18</td><td>Vareebadd Phone</td><td>40</td><td>37</td><td>39</td><td>49</td><td>58</td><td>38</td><td>42</td></tr><tr><th>19</th><td>19</td><td>Wired Headphones</td><td>485</td><td>463</td><td>501</td><td>551</td><td>483</td><td>412</td><td>458</td></tr></tbody></table>"
      ],
      "text/latex": [
       "\\begin{tabular}{r|cccccccccc}\n",
       "\t& Column1 & Product & 1 & 2 & 3 & 4 & 5 & 6 & 7 & \\\\\n",
       "\t\\hline\n",
       "\t& Int64 & String & Int64 & Int64 & Int64 & Int64 & Int64 & Int64 & Int64 & \\\\\n",
       "\t\\hline\n",
       "\t1 & 1 & 20in Monitor & 100 & 98 & 96 & 98 & 89 & 90 & 92 & $\\dots$ \\\\\n",
       "\t2 & 2 & 27in 4K Gaming Monitor & 137 & 180 & 154 & 158 & 160 & 152 & 113 & $\\dots$ \\\\\n",
       "\t3 & 3 & 27in FHD Monitor & 143 & 185 & 174 & 182 & 189 & 172 & 149 & $\\dots$ \\\\\n",
       "\t4 & 4 & 34in Ultrawide Monitor & 124 & 149 & 154 & 157 & 154 & 136 & 128 & $\\dots$ \\\\\n",
       "\t5 & 5 & AA Batteries (4-pack) & 571 & 672 & 704 & 698 & 583 & 611 & 607 & $\\dots$ \\\\\n",
       "\t6 & 6 & AAA Batteries (4-pack) & 706 & 711 & 770 & 726 & 760 & 803 & 701 & $\\dots$ \\\\\n",
       "\t7 & 7 & Apple Airpods Headphones & 353 & 381 & 358 & 386 & 369 & 344 & 351 & $\\dots$ \\\\\n",
       "\t8 & 8 & Bose SoundSport Headphones & 298 & 334 & 303 & 353 & 319 & 284 & 280 & $\\dots$ \\\\\n",
       "\t9 & 9 & Flatscreen TV & 107 & 122 & 111 & 133 & 114 & 97 & 109 & $\\dots$ \\\\\n",
       "\t10 & 10 & Google Phone & 140 & 121 & 141 & 137 & 126 & 116 & 101 & $\\dots$ \\\\\n",
       "\t11 & 11 & iPhone & 154 & 151 & 149 & 164 & 182 & 141 & 137 & $\\dots$ \\\\\n",
       "\t12 & 12 & LG Dryer & 10 & 18 & 9 & 9 & 9 & 13 & 10 & $\\dots$ \\\\\n",
       "\t13 & 13 & LG Washing Machine & 9 & 14 & 21 & 12 & 10 & 11 & 13 & $\\dots$ \\\\\n",
       "\t14 & 14 & Lightning Charging Cable & 508 & 567 & 573 & 611 & 561 & 528 & 522 & $\\dots$ \\\\\n",
       "\t15 & 15 & Macbook Pro Laptop & 89 & 116 & 125 & 127 & 113 & 102 & 99 & $\\dots$ \\\\\n",
       "\t16 & 16 & ThinkPad Laptop & 96 & 110 & 106 & 92 & 105 & 81 & 97 & $\\dots$ \\\\\n",
       "\t17 & 17 & USB-C Charging Cable & 507 & 586 & 621 & 618 & 612 & 536 & 474 & $\\dots$ \\\\\n",
       "\t18 & 18 & Vareebadd Phone & 40 & 37 & 39 & 49 & 58 & 38 & 42 & $\\dots$ \\\\\n",
       "\t19 & 19 & Wired Headphones & 485 & 463 & 501 & 551 & 483 & 412 & 458 & $\\dots$ \\\\\n",
       "\\end{tabular}\n"
      ],
      "text/plain": [
       "\u001b[1m19×15 DataFrame\u001b[0m\n",
       "\u001b[1m Row \u001b[0m│\u001b[1m Column1 \u001b[0m\u001b[1m Product                    \u001b[0m\u001b[1m 1     \u001b[0m\u001b[1m 2     \u001b[0m\u001b[1m 3     \u001b[0m\u001b[1m 4     \u001b[0m\u001b[1m 5     \u001b[0m\u001b[1m\u001b[0m ⋯\n",
       "\u001b[1m     \u001b[0m│\u001b[90m Int64   \u001b[0m\u001b[90m String                     \u001b[0m\u001b[90m Int64 \u001b[0m\u001b[90m Int64 \u001b[0m\u001b[90m Int64 \u001b[0m\u001b[90m Int64 \u001b[0m\u001b[90m Int64 \u001b[0m\u001b[90m\u001b[0m ⋯\n",
       "─────┼──────────────────────────────────────────────────────────────────────────\n",
       "   1 │       1  20in Monitor                  100     98     96     98     89  ⋯\n",
       "   2 │       2  27in 4K Gaming Monitor        137    180    154    158    160\n",
       "   3 │       3  27in FHD Monitor              143    185    174    182    189\n",
       "   4 │       4  34in Ultrawide Monitor        124    149    154    157    154\n",
       "   5 │       5  AA Batteries (4-pack)         571    672    704    698    583  ⋯\n",
       "   6 │       6  AAA Batteries (4-pack)        706    711    770    726    760\n",
       "   7 │       7  Apple Airpods Headphones      353    381    358    386    369\n",
       "   8 │       8  Bose SoundSport Headphones    298    334    303    353    319\n",
       "   9 │       9  Flatscreen TV                 107    122    111    133    114  ⋯\n",
       "  10 │      10  Google Phone                  140    121    141    137    126\n",
       "  11 │      11  iPhone                        154    151    149    164    182\n",
       "  12 │      12  LG Dryer                       10     18      9      9      9\n",
       "  13 │      13  LG Washing Machine              9     14     21     12     10  ⋯\n",
       "  14 │      14  Lightning Charging Cable      508    567    573    611    561\n",
       "  15 │      15  Macbook Pro Laptop             89    116    125    127    113\n",
       "  16 │      16  ThinkPad Laptop                96    110    106     92    105\n",
       "  17 │      17  USB-C Charging Cable          507    586    621    618    612  ⋯\n",
       "  18 │      18  Vareebadd Phone                40     37     39     49     58\n",
       "  19 │      19  Wired Headphones              485    463    501    551    483\n",
       "\u001b[36m                                                               8 columns omitted\u001b[0m"
      ]
     },
     "execution_count": 4,
     "metadata": {},
     "output_type": "execute_result"
    }
   ],
   "source": [
    "#### load data\n",
    "\n",
    "# demands\n",
    "demand_Q1 = CSV.read(\"data/salesByWeek_Q1.csv\", DataFrame)\n",
    "demand_Q2 = CSV.read(\"data/salesByWeek_Q2.csv\", DataFrame)\n",
    "demand_Q3 = CSV.read(\"data/salesByWeek_Q3.csv\", DataFrame)\n",
    "demand_Q4 = CSV.read(\"data/salesByWeek_Q4.csv\", DataFrame)\n",
    "\n",
    "D_Q1 = "
   ]
  },
  {
   "cell_type": "code",
   "execution_count": null,
   "id": "a4ac04e7",
   "metadata": {},
   "outputs": [],
   "source": [
    "\n",
    "\n",
    "prices = CSV.read(\"data/prices.csv\", DataFrame)\n",
    "costs = CSV.read(\"data/costEstimates.csv\", DataFrame) # placeholders\n",
    "d = Matrix(demand[:,3:end])\n",
    "r = Vector(prices[:,3]) \n",
    "c = Vector(costs[:,2]) # placeholders\n",
    "tr = Vector(costs[:,3]) # placeholders\n",
    "fba = 19\n",
    "leadtime = 8\n",
    "\n",
    "items_tot = size(d)[1]\n",
    "time_tot = size(d)[2];\n",
    "\n",
    "# uncertain shipping cost by weight - creating random set for now\n",
    "S = zeros(time_tot)\n",
    "for i=1:\n",
    "\n",
    "starting_inv = sum(d[:,1:8], dims=2) .+ 10; # starting inv at week 1"
   ]
  },
  {
   "cell_type": "code",
   "execution_count": null,
   "id": "aad1ac8d",
   "metadata": {},
   "outputs": [],
   "source": [
    "\n",
    "\n",
    "model = Model(with_optimizer(Gurobi.Optimizer))\n",
    "set_optimizer_attribute(model, \"OutputFlag\", 0)\n",
    "\n",
    "@variable(model, x[i=1:items_tot, t=1:time_tot] >= 0) # keeping it at not Int for now\n",
    "@variable(model, j[i=1:items_tot, t=1:time_tot] >= 0) # keeping it at not Int for now\n",
    "\n",
    "@variable(model, s[i=1:items_tot, t=1:time_tot] >= 0) # keeping it at not Int for now\n",
    "@variable(model, m[t=1:time_tot] >= 0)\n",
    "\n",
    "# how much we sell is bounded by inventory and demand\n",
    "@constraint(model, [i=1:items_tot, t=1:time_tot], j[i,t] <= s[i,t])\n",
    "@constraint(model, [i=1:items_tot, t=1:time_tot], j[i,t] <= d[i,t])\n",
    "# capital is available 2 weeks after a product's sale\n",
    "@constraint(model, [t=1:(time_tot-2)], m[t+2] == 0.7*sum(j[i,t]*r[i] for i=1:items_tot))\n",
    "# the cost of inventory orders at time t must be less than our available capital\n",
    "@constraint(model, [t=1:time_tot], sum(x[i,t]*(c[i]+tr[i]) for i=1:items_tot) <= m[t])\n",
    "# sales at time t reduce inventory at warehouse, \n",
    "# inventory orders at time t are available for sale (arrive at warehouse) 8 weeks later\n",
    "@constraint(model, [i=1:items_tot, t=leadtime:(time_tot-1)], s[i,t+1] == s[i,t] - j[i,t] + x[i,t-(leadtime-1)])\n",
    "\n",
    "# address the first 1:leadtime weeks of supply\n",
    "@constraint(model, [i=1:items_tot, t=1:leadtime-1], s[i,t+1] == s[i,t] - j[i,t])\n",
    "@constraint(model, [i=1:items_tot], s[i,1] == starting_inv[i] - j[i,1])\n",
    "\n",
    "@objective(model, Max, 0.7*sum(j[i,t]*r[i] - x[i,t]*(c[i]+tr[i]) - 0.25*fba*s[i,t] for i=1:items_tot, t=1:time_tot))\n",
    "\n",
    "optimize!(model)\n",
    "\n",
    "objective_value(model)"
   ]
  }
 ],
 "metadata": {
  "kernelspec": {
   "display_name": "Julia 1.6.2",
   "language": "julia",
   "name": "julia-1.6"
  },
  "language_info": {
   "file_extension": ".jl",
   "mimetype": "application/julia",
   "name": "julia",
   "version": "1.6.2"
  }
 },
 "nbformat": 4,
 "nbformat_minor": 5
}
