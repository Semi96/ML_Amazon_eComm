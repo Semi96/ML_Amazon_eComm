{
 "cells": [
  {
   "cell_type": "markdown",
   "id": "c12c4649",
   "metadata": {},
   "source": [
    "# ML Project: eCommerce Inventory Prescription"
   ]
  },
  {
   "cell_type": "code",
   "execution_count": 25,
   "id": "63e45336",
   "metadata": {},
   "outputs": [],
   "source": [
    "using JuMP\n",
    "using Gurobi\n",
    "using CSV\n",
    "using DataFrames;"
   ]
  },
  {
   "cell_type": "code",
   "execution_count": 55,
   "id": "2afe5847",
   "metadata": {},
   "outputs": [],
   "source": [
    "# load data\n",
    "demand = CSV.read(\"data/salesByWeek.csv\", DataFrame)\n",
    "prices = CSV.read(\"data/prices.csv\", DataFrame)\n",
    "costs = CSV.read(\"data/costEstimates.csv\", DataFrame) # placeholders\n",
    "d = Matrix(demand[:,3:end])\n",
    "r = Vector(prices[:,3]) \n",
    "c = Vector(costs[:,2]) # placeholders\n",
    "tr = Vector(costs[:,3]) # placeholders\n",
    "fba = 19\n",
    "leadtime = 8\n",
    "\n",
    "items_tot = size(d)[1]\n",
    "time_tot = size(d)[2];\n",
    "\n",
    "starting_inv = sum(d[:,1:8], dims=2) .+ 10; # starting inv at week 1"
   ]
  },
  {
   "cell_type": "markdown",
   "id": "9198ce44",
   "metadata": {},
   "source": [
    "#### decision vars ####\n",
    "x[i,t] --> inventory order from Supplier of product i at time t\n",
    "\n",
    "j[i,t] --> how much we are selling of product i in time t\n",
    "\n",
    "\n",
    "#### technically decision vars but not really decisions ####\n",
    "s[i,t] --> inventory available for sale (at AMZ warehouse) for product i at time t\n",
    "\n",
    "m[t] --> capital (money) available to purchase inventory at time t\n",
    "\n",
    "#### params ####\n",
    "d[i,t] --> demand for product i at time t\n",
    "\n",
    "r[i] --> sales price for product i\n",
    "\n",
    "c[i] --> manufacturing cost for product i\n",
    "\n",
    "tr[i] --> transportation cost for product i\n",
    "\n",
    "\n",
    "we'll incorporate volume later - for initial, lets assume fixed unit costs\n",
    "\n",
    "v[i] --> volume (size) of product i\n",
    "\n",
    "fba --> AMZ storage fee: $19/cbm per month\n",
    "\n",
    "\n",
    "\n",
    "revenue = 0.70 * sum( d[i,t]*r[i] for i=1:items_tot, t=1:time_tot ) --> amazon takes 30% cut\n",
    "\n",
    "cost = sum( x[i,t]*(c[i]+tr[i]) for i=1:items_tot, t=1:time_tot ) + sum( fba*s[i,t] for i=1:items_tot, t=1:time_tot:4 )\n",
    "\n",
    "    --> manu + transport cost of orders + monthly inventory fee for whatever inventory we have\n"
   ]
  },
  {
   "cell_type": "code",
   "execution_count": 56,
   "id": "ae0536a4",
   "metadata": {},
   "outputs": [
    {
     "name": "stdout",
     "output_type": "stream",
     "text": [
      "Academic license - for non-commercial use only - expires 2022-08-19\r\n"
     ]
    }
   ],
   "source": [
    "model = Model(with_optimizer(Gurobi.Optimizer))\n",
    "set_optimizer_attribute(model, \"OutputFlag\", 0)\n",
    "\n",
    "@variable(model, x[i=1:items_tot, t=1:time_tot] >= 0) # keeping it at not Int for now\n",
    "@variable(model, j[i=1:items_tot, t=1:time_tot] >= 0) # keeping it at not Int for now\n",
    "\n",
    "@variable(model, s[i=1:items_tot, t=1:time_tot] >= 0) # keeping it at not Int for now\n",
    "@variable(model, m[t=1:time_tot] >= 0)\n",
    "\n",
    "# how much we sell is bounded by inventory and demand\n",
    "@constraint(model, [i=1:items_tot, t=1:time_tot], j[i,t] <= s[i,t])\n",
    "@constraint(model, [i=1:items_tot, t=1:time_tot], j[i,t] <= d[i,t])\n",
    "# capital is available 2 weeks after a product's sale\n",
    "@constraint(model, [t=1:(time_tot-2)], m[t+2] == 0.7*sum(j[i,t]*r[i] for i=1:items_tot))\n",
    "# the cost of inventory orders at time t must be less than our available capital\n",
    "@constraint(model, [t=1:time_tot], sum(x[i,t]*(c[i]+tr[i]) for i=1:items_tot) <= m[t])\n",
    "# sales at time t reduce inventory at warehouse, \n",
    "# inventory orders at time t are available for sale (arrive at warehouse) 8 weeks later\n",
    "@constraint(model, [i=1:items_tot, t=leadtime:(time_tot-1)], s[i,t+1] == s[i,t] - j[i,t] + x[i,t-(leadtime-1)])\n",
    "\n",
    "# address the first 1-8 weeks of supply\n",
    "@constraint(model, [i=1:items_tot, t=1:leadtime-1], s[i,t+1] == s[i,t] - j[i,t])\n",
    "@constraint(model, [i=1:items_tot], s[i,1] == starting_inv[i] - j[i,1])\n",
    "\n",
    "@objective(model, Max, 0.7*sum(j[i,t]*r[i] - x[i,t]*(c[i]+tr[i]) - 0.25*fba*s[i,t] for i=1:items_tot, t=1:time_tot))\n",
    "\n",
    "optimize!(model)"
   ]
  },
  {
   "cell_type": "code",
   "execution_count": 57,
   "id": "bb30ecd9",
   "metadata": {},
   "outputs": [
    {
     "data": {
      "text/plain": [
       "1.4866173800522264e7"
      ]
     },
     "execution_count": 57,
     "metadata": {},
     "output_type": "execute_result"
    }
   ],
   "source": [
    "objective_value(model)"
   ]
  },
  {
   "cell_type": "code",
   "execution_count": 58,
   "id": "107d6a77",
   "metadata": {},
   "outputs": [
    {
     "data": {
      "text/plain": [
       "19×11 Matrix{Float64}:\n",
       "  76.0   84.0   59.0   71.0   65.0   49.0   55.0   59.0   64.0   63.0   72.0\n",
       " 118.0  113.0  105.0   90.0  112.0   92.0  101.0  102.0   93.0   92.0   82.0\n",
       " 149.0  125.0  145.0  114.0  106.0  102.0  126.0  111.0  119.0  110.0  101.0\n",
       " 105.0  109.0  103.0   89.0   93.0   79.0   85.0   91.0   66.0   91.0   96.0\n",
       "   0.0    0.0    0.0    0.0    0.0    0.0    0.0    0.0    0.0    0.0    0.0\n",
       "   0.0    0.0    0.0    0.0    0.0    0.0    0.0    0.0    0.0    0.0    0.0\n",
       " 280.0  270.0  262.0  234.0  223.0  240.0  222.0  242.0  222.0  240.0  211.0\n",
       " 212.0  241.0  247.0  223.0  202.0  190.0  192.0  215.0  186.0  200.0  184.0\n",
       "  91.0   86.0   98.0   86.0   76.0   69.0   75.0   74.0   70.0   66.0   79.0\n",
       "  87.0   89.0  106.0  105.0   80.0   88.0   68.0   79.0   80.0   83.0   74.0\n",
       "  99.0  114.0  105.0  122.0  112.0   94.0   94.0   89.0   80.0   99.0  102.0\n",
       "  15.0   12.0   14.0   14.0   12.0   12.0    6.0   11.0    8.0    9.0    5.0\n",
       "  13.0   12.0   13.0    6.0   14.0   14.0    8.0    9.0    9.0   14.0   15.0\n",
       "   0.0    0.0    0.0    0.0    0.0    0.0    0.0    0.0    0.0    0.0    0.0\n",
       "  81.0   87.0   74.0   73.0   77.0   62.0   64.0   70.0   72.0   82.0   50.0\n",
       "  71.0   75.0   66.0   70.0   67.0   78.0   46.0   56.0   59.0   57.0   54.0\n",
       "   0.0    0.0    0.0    0.0    0.0    0.0    0.0    0.0    0.0    0.0    0.0\n",
       "  32.0   32.0   37.0   29.0   26.0   40.0   33.0   31.0   30.0   33.0   29.0\n",
       "   0.0    0.0    0.0    0.0    0.0    0.0    0.0    0.0    0.0    0.0    0.0"
      ]
     },
     "execution_count": 58,
     "metadata": {},
     "output_type": "execute_result"
    }
   ],
   "source": [
    "value.(x)[:,20:30]"
   ]
  },
  {
   "cell_type": "code",
   "execution_count": 59,
   "id": "ff7a37b6",
   "metadata": {},
   "outputs": [
    {
     "data": {
      "text/plain": [
       "19×11 Matrix{Float64}:\n",
       "  71.0   74.0   70.0   71.0   64.0   77.0   86.0   81.0   76.0   84.0   59.0\n",
       " 127.0  139.0  111.0  120.0  109.0  102.0   96.0  103.0  118.0  113.0  105.0\n",
       " 157.0  167.0  136.0  140.0  137.0  143.0  111.0  142.0  149.0  125.0  145.0\n",
       " 117.0  113.0  132.0  103.0  105.0   97.0  121.0   99.0  105.0  109.0  103.0\n",
       "   0.0    0.0    0.0    0.0    0.0    0.0    0.0    0.0    0.0    0.0    0.0\n",
       "   0.0    0.0    0.0    0.0    0.0    0.0    0.0    0.0    0.0    0.0    0.0\n",
       " 328.0  324.0  275.0  266.0  272.0  265.0  285.0  295.0  280.0  270.0  262.0\n",
       " 288.0  246.0  257.0  212.0  225.0  234.0  241.0  260.0  212.0  241.0  247.0\n",
       "  84.0   95.0   80.0   90.0   82.0   78.0   94.0   90.0   91.0   86.0   98.0\n",
       " 105.0  120.0  104.0   86.0   90.0   94.0   83.0   86.0   87.0   89.0  106.0\n",
       " 144.0  137.0  153.0  113.0  122.0  132.0  126.0  132.0   99.0  114.0  105.0\n",
       "  17.0   18.0   17.0   12.0    9.0    8.0   12.0    5.0   15.0   12.0   14.0\n",
       "  11.0   13.0   12.0   13.0   11.0   18.0   12.0   11.0   13.0   12.0   13.0\n",
       "   0.0    0.0    0.0    0.0    0.0    0.0    0.0    0.0    0.0    0.0    0.0\n",
       " 101.0  100.0  104.0   88.0   89.0   84.0   71.0   89.0   81.0   87.0   74.0\n",
       "  73.0   79.0   77.0   71.0   85.0   68.0   73.0   74.0   71.0   75.0   66.0\n",
       "   0.0    0.0    0.0    0.0    0.0    0.0    0.0    0.0    0.0    0.0    0.0\n",
       "  42.0   40.0   51.0   42.0   33.0   31.0   38.0   35.0   32.0   32.0   37.0\n",
       "   0.0    0.0    0.0    0.0    0.0    0.0    0.0    0.0    0.0    0.0    0.0"
      ]
     },
     "execution_count": 59,
     "metadata": {},
     "output_type": "execute_result"
    }
   ],
   "source": [
    "value.(s)[:,20:30]"
   ]
  },
  {
   "cell_type": "code",
   "execution_count": 60,
   "id": "bb566db3",
   "metadata": {},
   "outputs": [
    {
     "data": {
      "text/plain": [
       "19×11 Matrix{Float64}:\n",
       "  71.0   74.0   70.0   71.0   64.0   77.0   86.0   81.0   76.0   84.0   59.0\n",
       " 127.0  139.0  111.0  120.0  109.0  102.0   96.0  103.0  118.0  113.0  105.0\n",
       " 157.0  167.0  136.0  140.0  137.0  143.0  111.0  142.0  149.0  125.0  145.0\n",
       " 117.0  113.0  132.0  103.0  105.0   97.0  121.0   99.0  105.0  109.0  103.0\n",
       "   0.0    0.0    0.0    0.0    0.0    0.0    0.0    0.0    0.0    0.0    0.0\n",
       "   0.0    0.0    0.0    0.0    0.0    0.0    0.0    0.0    0.0    0.0    0.0\n",
       " 328.0  324.0  275.0  266.0  272.0  265.0  285.0  295.0  280.0  270.0  262.0\n",
       " 288.0  246.0  257.0  212.0  225.0  234.0  241.0  260.0  212.0  241.0  247.0\n",
       "  84.0   95.0   80.0   90.0   82.0   78.0   94.0   90.0   91.0   86.0   98.0\n",
       " 105.0  120.0  104.0   86.0   90.0   94.0   83.0   86.0   87.0   89.0  106.0\n",
       " 144.0  137.0  153.0  113.0  122.0  132.0  126.0  132.0   99.0  114.0  105.0\n",
       "  17.0   18.0   17.0   12.0    9.0    8.0   12.0    5.0   15.0   12.0   14.0\n",
       "  11.0   13.0   12.0   13.0   11.0   18.0   12.0   11.0   13.0   12.0   13.0\n",
       "   0.0    0.0    0.0    0.0    0.0    0.0    0.0    0.0    0.0    0.0    0.0\n",
       " 101.0  100.0  104.0   88.0   89.0   84.0   71.0   89.0   81.0   87.0   74.0\n",
       "  73.0   79.0   77.0   71.0   85.0   68.0   73.0   74.0   71.0   75.0   66.0\n",
       "   0.0    0.0    0.0    0.0    0.0    0.0    0.0    0.0    0.0    0.0    0.0\n",
       "  42.0   40.0   51.0   42.0   33.0   31.0   38.0   35.0   32.0   32.0   37.0\n",
       "   0.0    0.0    0.0    0.0    0.0    0.0    0.0    0.0    0.0    0.0    0.0"
      ]
     },
     "execution_count": 60,
     "metadata": {},
     "output_type": "execute_result"
    }
   ],
   "source": [
    "value.(j)[:,20:30]"
   ]
  },
  {
   "cell_type": "code",
   "execution_count": null,
   "id": "f74c18eb",
   "metadata": {},
   "outputs": [],
   "source": []
  }
 ],
 "metadata": {
  "kernelspec": {
   "display_name": "Julia 1.6.2",
   "language": "julia",
   "name": "julia-1.6"
  },
  "language_info": {
   "file_extension": ".jl",
   "mimetype": "application/julia",
   "name": "julia",
   "version": "1.6.2"
  }
 },
 "nbformat": 4,
 "nbformat_minor": 5
}
